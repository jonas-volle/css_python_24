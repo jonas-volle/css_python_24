{
 "cells": [
  {
   "cell_type": "markdown",
   "id": "da02068b-b578-4234-a47e-ebdd7d8642e5",
   "metadata": {},
   "source": [
    "# Session 06 - Übung 1"
   ]
  },
  {
   "cell_type": "code",
   "execution_count": null,
   "id": "a8882ddd-03cd-4d8e-ac53-b719138668d8",
   "metadata": {},
   "outputs": [],
   "source": []
  },
  {
   "cell_type": "markdown",
   "id": "30783073-86b8-4e66-96e1-5557bec83b91",
   "metadata": {},
   "source": [
    "**Aufgabe 1**: Laden Sie Ihre mitgebrachten Textdaten (Wenn Ihre Daten zu umfangreich sind, ziehen Sie ein Sample!)"
   ]
  },
  {
   "cell_type": "code",
   "execution_count": null,
   "id": "31aba751-7370-4464-a740-62986ec76804",
   "metadata": {},
   "outputs": [],
   "source": []
  },
  {
   "cell_type": "code",
   "execution_count": null,
   "id": "6eb29216-4cbd-488c-84b3-990f0eb6f9a2",
   "metadata": {},
   "outputs": [],
   "source": []
  },
  {
   "cell_type": "markdown",
   "id": "177802be-a9a5-4551-ac96-42efaa5dd67b",
   "metadata": {},
   "source": [
    "**Aufgabe 2**: Erstellen Sie eine Preprocessing Pipeline um Ihre Textdaten zu bereinigen.\n",
    "\n",
    "- Text säubern (Leerzeichen, Sonderzeichen etc.)\n",
    "- Tokenisierung\n",
    "- Stopwords (fallen Ihnen schon typische Stopwords für Ihr Thema ein? Dann fügen Sie diese der stopword Liste hinzu)\n",
    "- bigrams\n",
    "- stemmen oder lemmatisieren"
   ]
  },
  {
   "cell_type": "code",
   "execution_count": null,
   "id": "cc0aaa5a-666b-4916-8c0c-c418305d9256",
   "metadata": {},
   "outputs": [],
   "source": []
  },
  {
   "cell_type": "code",
   "execution_count": null,
   "id": "3454a670-9bab-4f13-ba24-cd4a41f2057c",
   "metadata": {},
   "outputs": [],
   "source": []
  },
  {
   "cell_type": "code",
   "execution_count": null,
   "id": "6cc00b92-ed03-4a23-8820-e2f910b25490",
   "metadata": {},
   "outputs": [],
   "source": []
  },
  {
   "cell_type": "code",
   "execution_count": null,
   "id": "89bed45e-fa92-4841-9f14-b53cbf082589",
   "metadata": {},
   "outputs": [],
   "source": []
  },
  {
   "cell_type": "code",
   "execution_count": null,
   "id": "f4dc7a02-e59c-4c64-9f6c-8de6e3589ad1",
   "metadata": {},
   "outputs": [],
   "source": []
  },
  {
   "cell_type": "markdown",
   "id": "ac5f2ca1-528a-4e83-b0b2-485c20d6de1b",
   "metadata": {},
   "source": [
    "**Aufgabe 3**: Erstellen Sie mit gensim ein dictionary und prunen Sie dieses. Schauen Sie sich die Wortverteilung vor und nach dem prunen an. Welche Wörter tauchen sehr oft und welche sehr selten auf? Haben diese Begriffe in Ihrem Kontext eine Bedeutung? Wählen Sie für Ihre Texte passende Pruning Parameter."
   ]
  },
  {
   "cell_type": "code",
   "execution_count": null,
   "id": "3ceb4290-2d4b-4bad-bf0e-98a44acdf253",
   "metadata": {},
   "outputs": [],
   "source": []
  },
  {
   "cell_type": "code",
   "execution_count": null,
   "id": "cdd83eaf-9dc8-4ec9-a6ec-367117e53af7",
   "metadata": {},
   "outputs": [],
   "source": []
  },
  {
   "cell_type": "code",
   "execution_count": null,
   "id": "3556f710-19ed-4450-9200-6e2fc44df8ff",
   "metadata": {},
   "outputs": [],
   "source": []
  },
  {
   "cell_type": "code",
   "execution_count": null,
   "id": "8858ee0c-04f1-418e-abde-015d5cee412a",
   "metadata": {},
   "outputs": [],
   "source": []
  },
  {
   "cell_type": "markdown",
   "id": "b40419e9-6803-437e-b935-0b62b6e6a505",
   "metadata": {},
   "source": [
    "**Aufgabe 4**: Erstellen Sie eine Document-Term-Matrix."
   ]
  },
  {
   "cell_type": "code",
   "execution_count": null,
   "id": "00a7854e-10b2-4e11-992a-066ff8ea83a6",
   "metadata": {},
   "outputs": [],
   "source": []
  },
  {
   "cell_type": "code",
   "execution_count": null,
   "id": "628f352b-0d5b-4f42-afb9-5a74f18bd63e",
   "metadata": {},
   "outputs": [],
   "source": []
  },
  {
   "cell_type": "code",
   "execution_count": null,
   "id": "09b1839f-36a1-465f-8723-2c206591478e",
   "metadata": {},
   "outputs": [],
   "source": []
  },
  {
   "cell_type": "markdown",
   "id": "e8f23288-0a86-4eb3-ae94-6cb183230858",
   "metadata": {},
   "source": [
    "**Aufgabe 5**: Exportieren Sie Ihren Dataframe, Ihren gensim corpus und Ihre DTM."
   ]
  },
  {
   "cell_type": "code",
   "execution_count": null,
   "id": "b9e9c9f7-6728-4574-8395-1ade97ab071d",
   "metadata": {},
   "outputs": [],
   "source": []
  },
  {
   "cell_type": "code",
   "execution_count": null,
   "id": "b8350d57-b4a4-420f-8802-8fcc74dfee7c",
   "metadata": {},
   "outputs": [],
   "source": []
  },
  {
   "cell_type": "code",
   "execution_count": null,
   "id": "4a4429d9-15ce-4d32-8812-36291a3a99b6",
   "metadata": {},
   "outputs": [],
   "source": []
  },
  {
   "cell_type": "markdown",
   "id": "a260ad04-5d28-4144-8941-ced52550de29",
   "metadata": {},
   "source": [
    "**Extra Aufgabe**: Welche Entitäten tauchen in Ihren Texten auf? Nutzen Sie dafür die NER von spacy."
   ]
  },
  {
   "cell_type": "code",
   "execution_count": null,
   "id": "ee23e759-a96b-4896-92e3-876d8925b0e9",
   "metadata": {},
   "outputs": [],
   "source": []
  },
  {
   "cell_type": "code",
   "execution_count": null,
   "id": "1c4d8975-8f21-490e-89c2-0565d9945a8c",
   "metadata": {},
   "outputs": [],
   "source": []
  },
  {
   "cell_type": "code",
   "execution_count": null,
   "id": "0ab22c4f-a07f-4705-8cce-a25609bc46a4",
   "metadata": {},
   "outputs": [],
   "source": []
  },
  {
   "cell_type": "code",
   "execution_count": null,
   "id": "a6d25afb-a501-4aba-9b2b-fa41e5199bca",
   "metadata": {},
   "outputs": [],
   "source": []
  }
 ],
 "metadata": {
  "kernelspec": {
   "display_name": "Python [conda env:python_course]",
   "language": "python",
   "name": "conda-env-python_course-py"
  },
  "language_info": {
   "codemirror_mode": {
    "name": "ipython",
    "version": 3
   },
   "file_extension": ".py",
   "mimetype": "text/x-python",
   "name": "python",
   "nbconvert_exporter": "python",
   "pygments_lexer": "ipython3",
   "version": "3.9.19"
  }
 },
 "nbformat": 4,
 "nbformat_minor": 5
}
