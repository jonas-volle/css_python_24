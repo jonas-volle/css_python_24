{
 "cells": [
  {
   "cell_type": "markdown",
   "id": "ef40e8be-02f2-400c-b512-9700377b4116",
   "metadata": {},
   "source": [
    "# Session 06 - Übung 02"
   ]
  },
  {
   "cell_type": "markdown",
   "id": "3085d3fd-3f81-45ef-a798-6ad38a4a2dca",
   "metadata": {},
   "source": [
    "**Aufgabe 1**: Laden Sie Ihren DataFrame, dictionary und DTM. "
   ]
  },
  {
   "cell_type": "code",
   "execution_count": null,
   "id": "6d458276-0ee7-4946-b31a-ff9618d8b05f",
   "metadata": {},
   "outputs": [],
   "source": []
  },
  {
   "cell_type": "markdown",
   "id": "63744526-c07e-4e1f-a7ad-180b72236aef",
   "metadata": {},
   "source": [
    "**Aufgabe 2**: Bestimmen Sie die optimale Anzahl an Topics anhand des Kohärenz-Scores."
   ]
  },
  {
   "cell_type": "code",
   "execution_count": null,
   "id": "f7df8149-ac90-4374-8aec-447a4868e617",
   "metadata": {},
   "outputs": [],
   "source": []
  },
  {
   "cell_type": "code",
   "execution_count": null,
   "id": "6e66c3af-cebc-4d85-b1dc-078a5384d7a4",
   "metadata": {},
   "outputs": [],
   "source": []
  },
  {
   "cell_type": "code",
   "execution_count": null,
   "id": "c649172d-e2ff-4ae9-b210-9ea06c8018f9",
   "metadata": {},
   "outputs": [],
   "source": []
  },
  {
   "cell_type": "code",
   "execution_count": null,
   "id": "2062dcda-0490-4275-9603-73f30b8d54a3",
   "metadata": {},
   "outputs": [],
   "source": []
  },
  {
   "cell_type": "markdown",
   "id": "9f4dfdac-5bbc-430d-a735-8704ddd3727b",
   "metadata": {},
   "source": [
    "**Aufgabe 3**: Berechnen Sie ein Topic Model mit dem optimalen Kohärenz-Score."
   ]
  },
  {
   "cell_type": "code",
   "execution_count": null,
   "id": "b0852af6-8eac-4b24-818a-acd1d16d8289",
   "metadata": {},
   "outputs": [],
   "source": []
  },
  {
   "cell_type": "code",
   "execution_count": null,
   "id": "e0392a77-2ff6-45c1-a03b-d39663b1c220",
   "metadata": {},
   "outputs": [],
   "source": []
  },
  {
   "cell_type": "code",
   "execution_count": null,
   "id": "4bb52b37-a2c6-4297-ba12-d54af3a00d78",
   "metadata": {},
   "outputs": [],
   "source": []
  },
  {
   "cell_type": "code",
   "execution_count": null,
   "id": "446d462a-ce1e-49a1-a31c-bd8053f9539a",
   "metadata": {},
   "outputs": [],
   "source": []
  },
  {
   "cell_type": "markdown",
   "id": "21546616-6ca6-4259-9546-ffc6cd481f8a",
   "metadata": {},
   "source": [
    "**Aufgabe 4**: Interpretieren Sie die Topics in Ihrem Topic-Model und verteilen sie passende Label."
   ]
  },
  {
   "cell_type": "code",
   "execution_count": null,
   "id": "fe649cd7-2a46-4441-a807-0e439aed3575",
   "metadata": {},
   "outputs": [],
   "source": []
  },
  {
   "cell_type": "code",
   "execution_count": null,
   "id": "cdb9db1b-7691-4875-8f95-4df59d87a0f8",
   "metadata": {},
   "outputs": [],
   "source": []
  },
  {
   "cell_type": "code",
   "execution_count": null,
   "id": "c5d0acb1-5ac7-4219-8812-25983cc8f1d7",
   "metadata": {},
   "outputs": [],
   "source": []
  },
  {
   "cell_type": "code",
   "execution_count": null,
   "id": "d76ef678-1af6-460d-8586-fad540f7583d",
   "metadata": {},
   "outputs": [],
   "source": []
  },
  {
   "cell_type": "code",
   "execution_count": null,
   "id": "4b5e9abf-fd82-437e-bd00-d55b338916fd",
   "metadata": {},
   "outputs": [],
   "source": []
  },
  {
   "cell_type": "markdown",
   "id": "1d505fe6-e16a-4bd3-9224-4bd04163fdef",
   "metadata": {},
   "source": [
    "**Hinweis**: Lassen Sie manche Topics nur schwer interpretieren? Tauchen Wörter ohne große Bedeutung auf? Dann passien Sie nochmal Ihre Preprocessing Pipeline an! "
   ]
  },
  {
   "cell_type": "code",
   "execution_count": null,
   "id": "a1689adf-60ca-4164-87fe-18a461f3de0a",
   "metadata": {},
   "outputs": [],
   "source": []
  },
  {
   "cell_type": "code",
   "execution_count": null,
   "id": "f48dcb94-2670-4634-85f2-ef7eb179836d",
   "metadata": {},
   "outputs": [],
   "source": []
  }
 ],
 "metadata": {
  "kernelspec": {
   "display_name": "Python [conda env:python_course]",
   "language": "python",
   "name": "conda-env-python_course-py"
  },
  "language_info": {
   "codemirror_mode": {
    "name": "ipython",
    "version": 3
   },
   "file_extension": ".py",
   "mimetype": "text/x-python",
   "name": "python",
   "nbconvert_exporter": "python",
   "pygments_lexer": "ipython3",
   "version": "3.9.19"
  }
 },
 "nbformat": 4,
 "nbformat_minor": 5
}
