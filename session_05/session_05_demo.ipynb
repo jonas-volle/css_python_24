{
 "cells": [
  {
   "cell_type": "markdown",
   "id": "82f730a8",
   "metadata": {},
   "source": [
    "# Einführung in Python für die Computational Social Science (CSS)\n",
    "\n",
    "## Jonas Volle\n",
    "Wissenschaftlicher Mitarbeiter  \n",
    "Chair of Methodology and Empirical Social Research  \n",
    "Otto-von-Guericke-Universität\n",
    "\n",
    "[jonas.volle@ovgu.de](mailto:jonas.volle@ovgu.de)\n",
    "\n",
    "**Sprechstunde**: individuell nach vorheriger Anmeldung per [Mail](mailto:jonas.volle@ovgu.de)\n",
    "\n",
    "Donnerstag, 20.06.2024"
   ]
  },
  {
   "cell_type": "markdown",
   "id": "c0e01ee4",
   "metadata": {},
   "source": [
    "**Quelle:** Ich orientiere mich für diese Sitzung teils an den Kapiteln 4 und 5 aus dem Buch:  \n",
    "\n",
    "McLevey, John. 2021. Doing Computational Social Science: A Practical Introduction. 1st ed. Thousand Oaks: SAGE Publications."
   ]
  },
  {
   "cell_type": "markdown",
   "id": "f278555f",
   "metadata": {},
   "source": [
    "# Session 5: APIs"
   ]
  },
  {
   "cell_type": "markdown",
   "id": "6877dff4",
   "metadata": {},
   "source": [
    "## Inhalt\n",
    "\n",
    "- Besprechung der Übung 2 von letzter Woche\n",
    "- API"
   ]
  },
  {
   "cell_type": "markdown",
   "id": "2d687809",
   "metadata": {},
   "source": [
    "## Application Programming Interfaces"
   ]
  },
  {
   "cell_type": "markdown",
   "id": "970a3725",
   "metadata": {},
   "source": [
    "### Was ist ein API?\n",
    "\n",
    "- **I**nterface (Benutzeroberfläche): Interaktion zwischen Mensch und Computer, um bestimmte Aufgaben zu erledigen, ohne dass er verstehen muss, wie diese Aufgabe tatsächlich ausgeführt wird.  \n",
    "- Wie Benutzeroberflächen machen APIs schwierige Dinge einfacher, indem sie eine Menge von Prozessen auf niedriger Ebene abstrahieren. APIs bündeln Funktionen damit diese besonders leicht zu verstehen und zu verwenden sind.\n",
    "\n",
    "### RESTful APIs\n",
    "- Besondere Art von APIs, die auf dem REST (Representational State Transfer) Prinzip basieren.\n",
    "- RESTful APIs ermöglichen die Kommunikation und den Datenaustausch zwischen verschiedenen Anwendungen über das Internet.\n",
    "- RESTful APIs arbeiten nach dem Client-Server-Modell, wobei der Client Anfragen (Requests) an den Server sendet und der Server entsprechend antwortet.\n",
    "- Die Daten werden normalerweise im JSON- oder XML-Format übertragen.\n",
    "- RESTful APIs sind zustandslos, was bedeutet, dass jede Anfrage unabhängig ist und der Server keine Informationen über vergangene Anfragen speichert.\n",
    "- Zugriff über Endpunkte (Endpoints)\n",
    "\n",
    "### Requests mit Python\n",
    "- Requests werden an einen bestimmten Endpunkt (Endpoint) gesendet in Form einer URL (APIs können verschiedene Enpoints haben!)\n",
    "- Diese URL besteht aus verschiedenen Teilen, die wir so spezifizieren können (Suchbegriffe, Filter, Parameter etc.), sodass wir den gewünschten Inhalt zurück bekommen.\n",
    "- Die meisten APIs haben *rate limits*, also Obergrenzen für Anfragen in einer bestimmten Zeitspanne. \n",
    "\n",
    "### API keys oder tokens\n",
    "- Um Anfragen an einen API zu senden, benötigen wir in den meisten Fällen einen API key oder API token.\n",
    "- API keys oder tokens funktionieren wie Benutzername und Passwort die uns identifizieren.\n",
    "- Diese keys können auf der jeweiligen Webseite des APIs beantragt werden und werden uns dann zugewiesen.\n",
    "- Es ist wichtig, dass wir diese Zugangsdaten nicht teilen, das heißt auch nicht direkt in unser Script schreiben.\n",
    "\n",
    "### Responses\n",
    "- Wenn wir eine GET-Anfrage an den API senden, bekommen wir im Gegenzug eine Antwort (response)\n",
    "- In den meisten Fällen bekommen wir die Daten im `json`-Format zurück. Das steht für *JavaScript Object Notation*.\n",
    "- `json` ist eine genestete Datenstruktur, die aussieht wie ein *dictionary* in Python und in der die Daten in *key-value* Paaren gespeichert sind.\n",
    "- Mit dem Python Paket `json` können wir diese Datenstrukturen wie ein `dictionary` behandeln.\n",
    "- Mit `pandas` Methode `.read_json()` können wir dieses Datenformat auch direkt in einen Dataframe umwandeln."
   ]
  },
  {
   "cell_type": "markdown",
   "id": "eca053de",
   "metadata": {},
   "source": [
    "## The Guardian API\n",
    "\n",
    "Die Zeitung 'The Guardian' bietet fünf verschiedene Endpunkte:\n",
    "\n",
    "1. Der content-Endpoint liefert den Text und die Metadaten für veröffentlichte Artikel. Es ist möglich, die Ergebnisse mittels Suchanfragen abzufragen und zu filtern. Dieser Endpunkt ist wahrscheinlich der nützlichste für Forscher:innen. \n",
    "2. Der tags-Endpunkt liefert API-Tags für mehr als 50.000 Ergebnisse, die in anderen API-Abfragen verwendet werden können. \n",
    "3. Der sections-Emdpunkt liefert Informationen über die Gruppierung veröffentlichter Artikel in Sektionen. \n",
    "4. Der editions-Endpunkt liefert Inhalte für jede der regionalen Hauptseiten: USA UK, Australien und International. \n",
    "5. Der single-Endpunkt Punkt liefert Daten für einzelne Elemente, einschließlich Inhalt, Tags und Abschnitte."
   ]
  },
  {
   "cell_type": "markdown",
   "id": "81f968dc",
   "metadata": {},
   "source": [
    "In vielen Fällen gibt es in Python schon Clients für einschlägige APIs. Diese Clients sind Pakete und beinhalten eine Reihe an Funktionen, die die Arbeit mit dem API erleichtert. In diesem Fall arbeiten wir aber mit dem `requests` Paket direkt mit dem API um die Logik hinter den API-Anfragen und Antworten zu verstehen."
   ]
  },
  {
   "cell_type": "markdown",
   "id": "505710f6",
   "metadata": {},
   "source": [
    "### Zugriff auf den Guardian API\n",
    "\n",
    "Zunächst müssen wir uns für einen API-key registrieren. Das geht hier: https://bonobo.capi.gutools.co.uk/register/developer\n",
    "\n",
    "Nach der erfolgreichen Registrierung bekommen wir einen key zugesendet, den wir speichern müssen. Dafür erstellen wir eine Datei mit dem Namen `cred.py` im gleichen Ordner wie dieses Notebook. In dieser Datei weisen wir der Variable `GUARDIAN_KEY` den zugesendeten Key zu. Wenn wir git zur Versionskontrolle nutzen, können wir diese Datei der `.gitignore` Liste hinzufügen. Dann wird unser Key nicht synchronisiert."
   ]
  },
  {
   "cell_type": "code",
   "execution_count": null,
   "id": "d9173c62",
   "metadata": {},
   "outputs": [],
   "source": [
    "GUARDIAN_KEY = 'paste_your_key_here'"
   ]
  },
  {
   "cell_type": "markdown",
   "id": "544ab1c5",
   "metadata": {},
   "source": [
    "Diese Datei können wir dann in unser Script importieren:"
   ]
  },
  {
   "cell_type": "code",
   "execution_count": null,
   "id": "50f4da56",
   "metadata": {},
   "outputs": [],
   "source": []
  },
  {
   "cell_type": "code",
   "execution_count": null,
   "id": "5e585ce4",
   "metadata": {},
   "outputs": [],
   "source": []
  },
  {
   "cell_type": "markdown",
   "id": "0069f991",
   "metadata": {},
   "source": [
    "Wir verwenden ein Paket namens `requests`, um unsere API-Anfragen zu stellen. Sobald das Paket importiert wurde, können wir dies tun, indem wir die Methode `.get()` mit der Basis-API-URL für den Inhaltsendpunkt versehen. Außerdem erstellen wir ein Wörterbuch namens `PARAMS`, das ein Key-Values-Paar für unseren API-Schlüssel enthält. Später werden wir diesem Wörterbuch weitere Key-Values-Paare hinzufügen, um zu ändern, was die API zurückgibt."
   ]
  },
  {
   "cell_type": "code",
   "execution_count": null,
   "id": "e7a9b32f",
   "metadata": {},
   "outputs": [],
   "source": []
  },
  {
   "cell_type": "code",
   "execution_count": null,
   "id": "e7b4c403",
   "metadata": {},
   "outputs": [],
   "source": [
    "# API Endpoint\n",
    "API_ENDPOINT = 'http://content.guardianapis.com/search' \n",
    "\n",
    "# API Parameter\n",
    "PARAMS = "
   ]
  },
  {
   "cell_type": "code",
   "execution_count": null,
   "id": "afe0b1b0",
   "metadata": {},
   "outputs": [],
   "source": [
    "# GET request\n",
    "\n",
    "\n",
    "# json Datei als dictionary speichern\n"
   ]
  },
  {
   "cell_type": "code",
   "execution_count": null,
   "id": "3d1d8317",
   "metadata": {},
   "outputs": [],
   "source": [
    "# Unsere Anfrage besteht aus dieser URL:\n"
   ]
  },
  {
   "cell_type": "code",
   "execution_count": null,
   "id": "1245c6fb",
   "metadata": {
    "scrolled": true
   },
   "outputs": [],
   "source": [
    "pp.pprint(response_dict)"
   ]
  },
  {
   "cell_type": "code",
   "execution_count": null,
   "id": "16fe975f",
   "metadata": {},
   "outputs": [],
   "source": [
    "# Was sind die keys des dictionaries?\n"
   ]
  },
  {
   "cell_type": "markdown",
   "id": "ce81a7b2",
   "metadata": {},
   "source": [
    "Die Ergebnisse sind dem key `'results'` zugewiesen. Results besteht aus einem dictionary je Eintrag. Diese dictonaries befinden sich in einer Liste."
   ]
  },
  {
   "cell_type": "code",
   "execution_count": null,
   "id": "e0fc8440",
   "metadata": {
    "scrolled": true
   },
   "outputs": [],
   "source": []
  },
  {
   "cell_type": "code",
   "execution_count": null,
   "id": "a34f3c32",
   "metadata": {},
   "outputs": [],
   "source": []
  },
  {
   "cell_type": "code",
   "execution_count": null,
   "id": "eff299f9",
   "metadata": {},
   "outputs": [],
   "source": []
  },
  {
   "cell_type": "code",
   "execution_count": null,
   "id": "16e39e7b",
   "metadata": {},
   "outputs": [],
   "source": []
  },
  {
   "cell_type": "markdown",
   "id": "6e0cc7e4",
   "metadata": {},
   "source": [
    "### Ergebnisse filtern\n",
    "Wir können unserer API Anfrage noch weitere Parameter hinzufügen. Diese Parameter können wir der Dokumentation entnehmen: https://open-platform.theguardian.com/documentation/search"
   ]
  },
  {
   "cell_type": "code",
   "execution_count": null,
   "id": "6e9dc537",
   "metadata": {},
   "outputs": [],
   "source": [
    "PARAMS = { \n",
    "    'api-key': GUARDIAN_KEY\n",
    "}"
   ]
  },
  {
   "cell_type": "code",
   "execution_count": null,
   "id": "adf07ca3",
   "metadata": {},
   "outputs": [],
   "source": [
    "response = requests.get(API_ENDPOINT, params=PARAMS)\n",
    "response_dict = response.json()['response']"
   ]
  },
  {
   "cell_type": "markdown",
   "id": "abb31484",
   "metadata": {},
   "source": [
    "Unsere Anfrage besteht aus dieser URL. Die Antwort können wir uns auch im Browser anschauen. Hierbei bietet sich eine json Erweiterung an, die das Ergebnis schön formatiert. Für Chrome z.B. JSONVue (https://chrome.google.com/webstore/detail/jsonvue/chklaanhfefbnpoihckbnefhakgolnmc)"
   ]
  },
  {
   "cell_type": "code",
   "execution_count": null,
   "id": "59007791",
   "metadata": {},
   "outputs": [],
   "source": [
    "# Unsere Anfrage besteht aus dieser URL.\n",
    "response.url"
   ]
  },
  {
   "cell_type": "markdown",
   "id": "488209ff",
   "metadata": {},
   "source": [
    "Damit wir auch die Texte der Artikel mit ausgegeben bekommen, müssen wir unsere Parameter ändern und Felder hinzufügen:"
   ]
  },
  {
   "cell_type": "code",
   "execution_count": null,
   "id": "8865fb2f",
   "metadata": {},
   "outputs": [],
   "source": [
    "PARAMS = {\n",
    "    'api-key': GUARDIAN_KEY,\n",
    "    'from-date': '2024-06-14',\n",
    "    'to-date': '2024-06-19',\n",
    "    'lang': 'en',\n",
    "    'production-office': 'uk',\n",
    "    'q': 'germany'\n",
    "} "
   ]
  },
  {
   "cell_type": "code",
   "execution_count": null,
   "id": "9492e680",
   "metadata": {},
   "outputs": [],
   "source": [
    "response = requests.get(API_ENDPOINT, params=PARAMS) \n",
    "response_dict = response.json()['response']"
   ]
  },
  {
   "cell_type": "code",
   "execution_count": null,
   "id": "f156d360",
   "metadata": {},
   "outputs": [],
   "source": [
    "# response.url"
   ]
  },
  {
   "cell_type": "code",
   "execution_count": null,
   "id": "28e92e63",
   "metadata": {
    "scrolled": true
   },
   "outputs": [],
   "source": [
    "response_dict['results']"
   ]
  },
  {
   "cell_type": "code",
   "execution_count": null,
   "id": "0f6a31ce",
   "metadata": {
    "scrolled": true
   },
   "outputs": [],
   "source": []
  },
  {
   "cell_type": "code",
   "execution_count": null,
   "id": "903028ee",
   "metadata": {
    "scrolled": true
   },
   "outputs": [],
   "source": []
  },
  {
   "cell_type": "code",
   "execution_count": null,
   "id": "29829bbc",
   "metadata": {},
   "outputs": [],
   "source": []
  },
  {
   "cell_type": "markdown",
   "id": "ea55cc29",
   "metadata": {},
   "source": [
    "### Größere Anfragen senden\n",
    "\n",
    "Bis jetzt haben wir nur Daten für 10 Artikel erhalten. Wenn wir mehr Artikel bekommen wollen, müssen wir ein weiteres Konzept von APIs verstehen:  \n",
    "Jede Antwort enhält neben den results auch Metadaten:\n",
    "- `response_dict['total']` --> Anzahl der Artikel\n",
    "- `response_dict['pages']` --> Anzahl der Seiten\n",
    "- `response_dict['pageSize']` --> Anzahl der Artikel je Seite\n",
    "- `response_dict['currentPage']` --> Aktuelle Seite\n",
    "\n",
    "APIs funktionieren wie Suchmaschinen, sie geben die Ergebnisse auf verschiedenen Seiten zurück. Wir können die oben genannten Parameter mit in unsere API-Anfrage aufnehmen, um etwa auf eine bestimmte Seite zu navigieren, oder die Größe der jeweiligen Seiten zu bestimmen. Wenn wir alle Ergebnisse haben möchten, müssen wir mit einem Loop über alle Seiten loopen."
   ]
  },
  {
   "cell_type": "code",
   "execution_count": null,
   "id": "dcffaf4a",
   "metadata": {},
   "outputs": [],
   "source": []
  },
  {
   "cell_type": "code",
   "execution_count": null,
   "id": "519cc703",
   "metadata": {},
   "outputs": [],
   "source": []
  },
  {
   "cell_type": "code",
   "execution_count": null,
   "id": "a961cada",
   "metadata": {},
   "outputs": [],
   "source": []
  },
  {
   "cell_type": "code",
   "execution_count": null,
   "id": "c31477a4",
   "metadata": {},
   "outputs": [],
   "source": []
  },
  {
   "cell_type": "code",
   "execution_count": null,
   "id": "9007d1c5",
   "metadata": {},
   "outputs": [],
   "source": []
  },
  {
   "cell_type": "markdown",
   "id": "710d4c1e",
   "metadata": {},
   "source": [
    "Wir vergrößern die Anzahl der Artikel je Seite, indem wir den Parameter `page-size` erhöhen:"
   ]
  },
  {
   "cell_type": "code",
   "execution_count": null,
   "id": "00531d42",
   "metadata": {},
   "outputs": [],
   "source": [
    "PARAMS = {\n",
    "    'api-key': GUARDIAN_KEY,\n",
    "    'from-date': '2024-06-14',\n",
    "    'to-date': '2024-06-19',\n",
    "    'lang': 'en',\n",
    "    'production-office': 'uk',\n",
    "    'q': 'germany',\n",
    "    'show-fields': 'wordcount,body,byline'\n",
    "} \n",
    "\n",
    "response = requests.get(API_ENDPOINT, params=PARAMS) \n",
    "response_dict = response.json()['response']"
   ]
  },
  {
   "cell_type": "markdown",
   "id": "19275bc5",
   "metadata": {},
   "source": [
    "Mit einem `while`-Loop können wir uns jede Seite des Ergbisses anzeigen lassen. Die Ergebnisse jeder Seite speichern wir in der List `all_results`. Damit wir nicht über die `rate-limits` des APIs kommen, können wir `time.sleep()` benutzen um, in jeder Runde ein bisschen zu warten."
   ]
  },
  {
   "cell_type": "code",
   "execution_count": null,
   "id": "8c49252f",
   "metadata": {},
   "outputs": [],
   "source": [
    "import time"
   ]
  },
  {
   "cell_type": "code",
   "execution_count": null,
   "id": "acb9f7b4",
   "metadata": {},
   "outputs": [],
   "source": []
  },
  {
   "cell_type": "code",
   "execution_count": null,
   "id": "07d485e3",
   "metadata": {
    "scrolled": true
   },
   "outputs": [],
   "source": []
  },
  {
   "cell_type": "code",
   "execution_count": null,
   "id": "72396eca",
   "metadata": {},
   "outputs": [],
   "source": []
  },
  {
   "cell_type": "markdown",
   "id": "044446fe",
   "metadata": {},
   "source": [
    "### Ergebnisse speichern\n",
    "\n",
    "Nun sollten wir unsere Daten auf unserer Festplatte speichern, um später auf sie zurückgreifen zu können, ohne den API überflüssig benutzen zu müssen. Es bietet sich auch an den Code für die Datenerhebung und Analyse zu trennen.  \n",
    "\n",
    "Wir können unsere Daten mit dem `json` Modul auf unsere Festplatte schreiben:"
   ]
  },
  {
   "cell_type": "code",
   "execution_count": null,
   "id": "56c32a80-8e54-4626-a223-273b168b7f6a",
   "metadata": {},
   "outputs": [],
   "source": [
    "import json"
   ]
  },
  {
   "cell_type": "code",
   "execution_count": null,
   "id": "1ba4e49a",
   "metadata": {},
   "outputs": [],
   "source": [
    "FILE_PATH = '../data/guardian_api_results.json'\n",
    "\n",
    "with open(FILE_PATH, 'w') as outfile:\n",
    "    json.dump(all_results, outfile)"
   ]
  },
  {
   "cell_type": "markdown",
   "id": "e0fbcf51",
   "metadata": {},
   "source": [
    "So können wir die Daten dann wieder lesen:"
   ]
  },
  {
   "cell_type": "code",
   "execution_count": null,
   "id": "df14008d",
   "metadata": {},
   "outputs": [],
   "source": [
    "FILE_PATH = '../data/guardian_api_results.json'\n",
    "\n",
    "with open(FILE_PATH) as f:\n",
    "    guardian_results = json.load(f)"
   ]
  },
  {
   "cell_type": "code",
   "execution_count": null,
   "id": "6f0c232c",
   "metadata": {
    "scrolled": true
   },
   "outputs": [],
   "source": [
    "guardian_results[0:5]"
   ]
  },
  {
   "cell_type": "code",
   "execution_count": null,
   "id": "ec0560bf",
   "metadata": {},
   "outputs": [],
   "source": []
  },
  {
   "cell_type": "markdown",
   "id": "cbe10210",
   "metadata": {},
   "source": [
    "### Ergebnisse in einem DataFrame speichern:"
   ]
  },
  {
   "cell_type": "code",
   "execution_count": null,
   "id": "4aaab748",
   "metadata": {},
   "outputs": [],
   "source": [
    "import pandas as pd"
   ]
  },
  {
   "cell_type": "code",
   "execution_count": null,
   "id": "0c0ebb20",
   "metadata": {},
   "outputs": [],
   "source": []
  },
  {
   "cell_type": "code",
   "execution_count": null,
   "id": "48260a4f",
   "metadata": {},
   "outputs": [],
   "source": []
  },
  {
   "cell_type": "markdown",
   "id": "7ac47b7b-051e-4f94-9080-18f32bf39ea4",
   "metadata": {},
   "source": [
    "### Dataframe aufräumen"
   ]
  },
  {
   "cell_type": "markdown",
   "id": "858eb052",
   "metadata": {},
   "source": [
    "Mit dem Paket `BeautifulSoup` können wir aus dem html-body den reinen Text extrahieren."
   ]
  },
  {
   "cell_type": "code",
   "execution_count": null,
   "id": "e13328c7",
   "metadata": {},
   "outputs": [],
   "source": [
    "from bs4 import BeautifulSoup"
   ]
  },
  {
   "cell_type": "code",
   "execution_count": null,
   "id": "caab31d1",
   "metadata": {},
   "outputs": [],
   "source": [
    "all_results_df['text'] = [BeautifulSoup(i, \"html.parser\").text for i in all_results_df['fields.body']]"
   ]
  },
  {
   "cell_type": "code",
   "execution_count": null,
   "id": "61753327",
   "metadata": {},
   "outputs": [],
   "source": [
    "all_results_df[['webTitle','fields.body', 'text']].head()"
   ]
  },
  {
   "cell_type": "code",
   "execution_count": null,
   "id": "916953bb",
   "metadata": {
    "scrolled": true
   },
   "outputs": [],
   "source": [
    "all_results_df['text'][0]"
   ]
  },
  {
   "cell_type": "markdown",
   "id": "677384c8",
   "metadata": {},
   "source": [
    "Die Date Variabel können wir in eine Pandas Datumsvariable verwandeln."
   ]
  },
  {
   "cell_type": "code",
   "execution_count": null,
   "id": "982e8a7f",
   "metadata": {},
   "outputs": [],
   "source": []
  },
  {
   "cell_type": "code",
   "execution_count": null,
   "id": "3a82e86b",
   "metadata": {},
   "outputs": [],
   "source": []
  },
  {
   "cell_type": "markdown",
   "id": "5db89def",
   "metadata": {},
   "source": [
    "Wir können Spalten umbenennen:"
   ]
  },
  {
   "cell_type": "code",
   "execution_count": null,
   "id": "7387e673",
   "metadata": {},
   "outputs": [],
   "source": [
    "# rename columns\n"
   ]
  },
  {
   "cell_type": "markdown",
   "id": "dd9b68f0",
   "metadata": {},
   "source": [
    "... und Spalten auswählen."
   ]
  },
  {
   "cell_type": "code",
   "execution_count": null,
   "id": "0f95ff70",
   "metadata": {},
   "outputs": [],
   "source": [
    "all_results_df_f = all_results_df[['id', 'article_date', 'section_name', 'pillar_name',\n",
    "                                   'article_title', 'article_url', \n",
    "                                   'article_author', 'text']].copy()"
   ]
  },
  {
   "cell_type": "code",
   "execution_count": null,
   "id": "74ada86d",
   "metadata": {},
   "outputs": [],
   "source": [
    "all_results_df_f.head()"
   ]
  },
  {
   "cell_type": "code",
   "execution_count": null,
   "id": "8534b8c6-3e38-4b9b-b677-90f194d2dbd8",
   "metadata": {},
   "outputs": [],
   "source": []
  },
  {
   "cell_type": "markdown",
   "id": "83968625-9eee-4646-99fd-a7b4c0fa4c6e",
   "metadata": {},
   "source": [
    "### Arbeiten mit Zeireihendaten"
   ]
  },
  {
   "cell_type": "code",
   "execution_count": null,
   "id": "7525fbcc-e8e2-4f42-8791-2f1afc60c523",
   "metadata": {},
   "outputs": [],
   "source": [
    "all_results_df_f[['article_title', 'article_author', 'article_date']].head()"
   ]
  },
  {
   "cell_type": "markdown",
   "id": "15658b8d-bf2e-4c5e-9671-f5b191b9e995",
   "metadata": {},
   "source": [
    "Die Felder des Datetime-Objekts lauten der Reihe nach wie folgt: Jahr-Monat-Tag Stunde:Minute: Sekunde:Mikrosekunde. Zum Abrufen einer ganzen Zahl, die dem Monat entspricht, in dem der Artikel veröffentlicht wurde:"
   ]
  },
  {
   "cell_type": "code",
   "execution_count": null,
   "id": "0585f43f-90f3-4fd3-bebc-dc8270929821",
   "metadata": {},
   "outputs": [],
   "source": []
  },
  {
   "cell_type": "markdown",
   "id": "8a1aa954-eb26-4ae8-8bb9-c160ea826a15",
   "metadata": {},
   "source": [
    "Erstellen wir neue Variablen für das Jahr, den Monat und den Tag, an dem die einzelnen Tweets erstellt wurden. Dazu können wir die Attribute \"Jahr\", \"Monat\" und \"Tag\" des datetime-Objekts verwenden:"
   ]
  },
  {
   "cell_type": "code",
   "execution_count": null,
   "id": "a4c1b73e-e317-4ab8-b3f3-8928f16f04b5",
   "metadata": {},
   "outputs": [],
   "source": [
    "all_results_df_f['Year'] = \n",
    "all_results_df_f['Month'] = \n",
    "all_results_df_f['Day'] = "
   ]
  },
  {
   "cell_type": "code",
   "execution_count": null,
   "id": "b665f6ed-a1b4-4188-bfca-b6b2a3f7e7c0",
   "metadata": {},
   "outputs": [],
   "source": []
  },
  {
   "cell_type": "markdown",
   "id": "1c96dede-cde5-41e1-b326-391677422bb1",
   "metadata": {},
   "source": [
    "Wenn unsere Datums- und Zeitvariablen als datetime-Objekte gespeichert werden, können wir auf viele zeitspezifische Attribute mit der Punktnotation zugreifen. Die Pandas-Dokumentation enthält viele Beispiele für die Arten von zeitlichen Einheiten und andere Funktionen. Wir können unseren dataframe auch auf der Grundlage von publish_date sortieren, da Pandas weiß, dass es mit datetime-Objekten arbeitet:"
   ]
  },
  {
   "cell_type": "code",
   "execution_count": null,
   "id": "22008390-cad3-4910-bbd9-f6ae9eb505a1",
   "metadata": {},
   "outputs": [],
   "source": []
  },
  {
   "cell_type": "code",
   "execution_count": null,
   "id": "cd91c795-9258-459a-add7-41d447db3497",
   "metadata": {},
   "outputs": [],
   "source": []
  },
  {
   "cell_type": "markdown",
   "id": "87a01878-bb34-422d-9dbf-8bcde8d66508",
   "metadata": {},
   "source": [
    "Pandas bietet spezielle Werkzeuge für die Gruppierung von Daten in verschiedene Zeitsegmente. Dies beinhaltet die Konvertierung einer Zeitserie von einer Ebene in eine andere (z. B. von Tagen in Wochen) und wird als Resampling bezeichnet. Im Rahmen des Resamplings aggregiert das Upsampling Daten/Zeiten und das Downsampling disaggregiert Daten/Zeiten. Nehmen wir ein Upsampling unserer Daten vor, um die Anzahl der Artikel pro Tag darzustellen.  \n",
    "\n",
    "Als Erstes verwenden wir das datetime-Objekt article_date als Index. Auf diese Weise können wir die Beobachtungen leicht nach dem Datumgruppieren."
   ]
  },
  {
   "cell_type": "code",
   "execution_count": null,
   "id": "eb88f8ca-0d36-48c2-9fb7-0e13efaafe4d",
   "metadata": {},
   "outputs": [],
   "source": []
  },
  {
   "cell_type": "markdown",
   "id": "4a1d354e-b158-4f36-bee5-730cac472817",
   "metadata": {},
   "source": [
    "Wir können nun die Methode .resample() mit dem Argument D verwenden, um anzugeben, dass wir nach Tagen gruppieren wollen. Tabelle 6.2 enthält einige weitere Optionen, die Sie bei der erneuten Stichprobenziehung von Daten verwenden können."
   ]
  },
  {
   "cell_type": "code",
   "execution_count": null,
   "id": "876395a2-c4bf-46c5-8378-3e529c9011e5",
   "metadata": {},
   "outputs": [],
   "source": [
    "# B         business day frequency\n",
    "# C         custom business day frequency (experimental)\n",
    "# D         calendar day frequency\n",
    "# W         weekly frequency\n",
    "# M         month end frequency\n",
    "# SM        semi-month end frequency (15th and end of month)\n",
    "# BM        business month end frequency\n",
    "# CBM       custom business month end frequency\n",
    "# MS        month start frequency\n",
    "# SMS       semi-month start frequency (1st and 15th)\n",
    "# BMS       business month start frequency\n",
    "# CBMS      custom business month start frequency\n",
    "# Q         quarter end frequency\n",
    "# BQ        business quarter endfrequency\n",
    "# QS        quarter start frequency\n",
    "# BQS       business quarter start frequency\n",
    "# A         year end frequency\n",
    "# BA, BY    business year end frequency\n",
    "# AS, YS    year start frequency\n",
    "# BAS, BYS  business year start frequency\n",
    "# BH        business hour frequency\n",
    "# H         hourly frequency\n",
    "# T, min    minutely frequency\n",
    "# S         secondly frequency\n",
    "# L, ms     milliseconds\n",
    "# U, us     microseconds\n",
    "# N         nanoseconds"
   ]
  },
  {
   "cell_type": "markdown",
   "id": "b565c2e5-1a75-4b45-b7da-6105d69dae02",
   "metadata": {},
   "source": [
    "Wir werden auch die Methode .size() verwenden, um die Anzahl der Artikel zu bestimmen, die jeden Tag veröffentlicht wurden:"
   ]
  },
  {
   "cell_type": "code",
   "execution_count": null,
   "id": "7b0d4938-48cf-48f4-8aba-3af06ff813cd",
   "metadata": {},
   "outputs": [],
   "source": []
  },
  {
   "cell_type": "markdown",
   "id": "4ae4aa3f-738b-4ca2-9050-8f2b6638f9e7",
   "metadata": {},
   "source": [
    "An dieser Stelle werden wir die Ergebnisse unserer Arbeit mit einem Liniendiagramm visualisieren. Dazu verwenden wir die Pakete Seaborn und Matplotlib."
   ]
  },
  {
   "cell_type": "code",
   "execution_count": null,
   "id": "92f4d56f-2b43-4f08-ad7b-24f2e6d9dd3e",
   "metadata": {},
   "outputs": [],
   "source": []
  },
  {
   "cell_type": "code",
   "execution_count": null,
   "id": "1c476015-1a84-4308-bf4f-5d423dfb53e7",
   "metadata": {},
   "outputs": [],
   "source": []
  },
  {
   "cell_type": "markdown",
   "id": "665f4f4d-fe5f-41eb-a40c-37fdb4601c2d",
   "metadata": {},
   "source": [
    "### Wie können wir die Daten noch analysieren?"
   ]
  },
  {
   "cell_type": "code",
   "execution_count": null,
   "id": "295978ca-88d7-4f8c-8d0f-71a3cb28f4d0",
   "metadata": {},
   "outputs": [],
   "source": []
  },
  {
   "cell_type": "code",
   "execution_count": null,
   "id": "78934f32-d852-428a-a04f-25c429f0fe95",
   "metadata": {},
   "outputs": [],
   "source": []
  },
  {
   "cell_type": "code",
   "execution_count": null,
   "id": "5b867968-a0c6-47d5-be40-7dbef822b01f",
   "metadata": {},
   "outputs": [],
   "source": []
  },
  {
   "cell_type": "code",
   "execution_count": null,
   "id": "96f2cb9d-5118-4460-b707-7ad449a6b89b",
   "metadata": {},
   "outputs": [],
   "source": []
  },
  {
   "cell_type": "code",
   "execution_count": null,
   "id": "c713c03f-c5e5-421e-847a-0d09fa2fd96b",
   "metadata": {},
   "outputs": [],
   "source": []
  },
  {
   "cell_type": "code",
   "execution_count": null,
   "id": "73c3e181-904d-4139-b2ce-31f6ee1ca80e",
   "metadata": {},
   "outputs": [],
   "source": []
  },
  {
   "cell_type": "code",
   "execution_count": null,
   "id": "5b9b8c24-c4ad-42b0-bc85-a2234ef2f663",
   "metadata": {},
   "outputs": [],
   "source": []
  },
  {
   "cell_type": "markdown",
   "id": "e42fab90-6aa7-4d66-949e-4c1553fa3c5c",
   "metadata": {},
   "source": [
    "### Zum Schluss: Daten exportieren"
   ]
  },
  {
   "cell_type": "code",
   "execution_count": null,
   "id": "db0af595",
   "metadata": {},
   "outputs": [],
   "source": []
  }
 ],
 "metadata": {
  "kernelspec": {
   "display_name": "Python [conda env:python_course]",
   "language": "python",
   "name": "conda-env-python_course-py"
  },
  "language_info": {
   "codemirror_mode": {
    "name": "ipython",
    "version": 3
   },
   "file_extension": ".py",
   "mimetype": "text/x-python",
   "name": "python",
   "nbconvert_exporter": "python",
   "pygments_lexer": "ipython3",
   "version": "3.9.19"
  }
 },
 "nbformat": 4,
 "nbformat_minor": 5
}
