{
 "cells": [
  {
   "cell_type": "markdown",
   "id": "0069f9e0-a92f-4a4f-826f-88293d232adf",
   "metadata": {},
   "source": [
    "# Session 5 - Übung 2"
   ]
  },
  {
   "cell_type": "markdown",
   "id": "a2ac9858-9bf0-4a4f-a389-76ee3314c41e",
   "metadata": {},
   "source": [
    "1) Verschaffen Sie sich einen Überblick über verfügbare APIs auf dieser Webseite: [https://bookdown.org/paul/apis_for_social_scientists/](https://bookdown.org/paul/apis_for_social_scientists/)\n",
    "2) Suchen Sie sich einen für Sie interessanten und verfügbaren API aus (Die Daten sollten irgendwie Text enthalten, den wir in der nächsten Sitzung dann analysieren wollen)\n",
    "3) Schauen Sie sich die Dokumentation des APIs an\n",
    "4) Stellen Sie eine Anfrage an das API (Benutzen Sie Filter und Suchparameter)\n",
    "5) Speichern Sie die Daten in einem DataFrame\n",
    "6) Räumen Sie den DataFrame auf\n",
    "7) Welche Einsichten können Sie gewinnen?\n",
    "8) Exportieren Sie die Daten als csv Datei\n"
   ]
  },
  {
   "cell_type": "code",
   "execution_count": null,
   "id": "6b093c88-1e24-47e7-9288-8b77a350e840",
   "metadata": {},
   "outputs": [],
   "source": []
  },
  {
   "cell_type": "code",
   "execution_count": null,
   "id": "02bf8d0e-1fc8-4932-abbd-06ce5da1c800",
   "metadata": {},
   "outputs": [],
   "source": []
  },
  {
   "cell_type": "code",
   "execution_count": null,
   "id": "c60d089c-88dd-4cea-9be0-2175ecdfee52",
   "metadata": {},
   "outputs": [],
   "source": []
  },
  {
   "cell_type": "code",
   "execution_count": null,
   "id": "dfba2bc2-a0da-4b99-8fab-cbfec32ccb6b",
   "metadata": {},
   "outputs": [],
   "source": []
  },
  {
   "cell_type": "code",
   "execution_count": null,
   "id": "e47999b2-c597-47df-984b-0273eeff9cc0",
   "metadata": {},
   "outputs": [],
   "source": []
  }
 ],
 "metadata": {
  "kernelspec": {
   "display_name": "Python [conda env:python_course]",
   "language": "python",
   "name": "conda-env-python_course-py"
  },
  "language_info": {
   "codemirror_mode": {
    "name": "ipython",
    "version": 3
   },
   "file_extension": ".py",
   "mimetype": "text/x-python",
   "name": "python",
   "nbconvert_exporter": "python",
   "pygments_lexer": "ipython3",
   "version": "3.9.19"
  }
 },
 "nbformat": 4,
 "nbformat_minor": 5
}
