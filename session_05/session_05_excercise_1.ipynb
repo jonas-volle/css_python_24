{
 "cells": [
  {
   "cell_type": "markdown",
   "id": "6a21203e",
   "metadata": {},
   "source": [
    "# Session 5 - Übung 1"
   ]
  },
  {
   "cell_type": "code",
   "execution_count": null,
   "id": "68c52000",
   "metadata": {},
   "outputs": [],
   "source": [
    "import pandas as pd\n",
    "import requests\n",
    "import pprint as pp\n",
    "import time"
   ]
  },
  {
   "cell_type": "code",
   "execution_count": null,
   "id": "ab5df266",
   "metadata": {},
   "outputs": [],
   "source": [
    "import cred \n",
    "GUARDIAN_KEY = cred.GUARDIAN_KEY"
   ]
  },
  {
   "cell_type": "code",
   "execution_count": null,
   "id": "e93b083e",
   "metadata": {},
   "outputs": [],
   "source": [
    "# API Endpoint\n",
    "API_ENDPOINT = 'http://content.guardianapis.com/search' "
   ]
  },
  {
   "cell_type": "markdown",
   "id": "9d1458e3",
   "metadata": {},
   "source": [
    "**Aufgabe 1:** Stellen Sie eine Anfrage an den Guardian API mit beliebigen Suchwörtern. Benutzen Sie dabei auch Suchoperatoren wie AND OR oder NOT. Begrenzen Sie den Suchzeitraum auf die letzten drei Monate. Informationen zu der Formulierung von 'search strings' finden Sie in der Dokumentation unter: https://open-platform.theguardian.com/documentation/"
   ]
  },
  {
   "cell_type": "code",
   "execution_count": null,
   "id": "da168489",
   "metadata": {},
   "outputs": [],
   "source": [
    "PARAMS = {\n",
    "    'api-key': GUARDIAN_KEY,\n",
    "    'from-date': '####', \n",
    "    'to-date': '####', \n",
    "    'lang': 'en', \n",
    "    'production-office': 'uk', \n",
    "    'q': '#####', \n",
    "    'show-fields': 'wordcount,body,byline' \n",
    "} "
   ]
  },
  {
   "cell_type": "code",
   "execution_count": null,
   "id": "86ded29b",
   "metadata": {},
   "outputs": [],
   "source": [
    "# GET request\n",
    "\n",
    "\n",
    "# json Datei als dictionary speichern\n"
   ]
  },
  {
   "cell_type": "markdown",
   "id": "3452cf39",
   "metadata": {},
   "source": [
    "Wie sieht die URL der API Anfrage aus?"
   ]
  },
  {
   "cell_type": "code",
   "execution_count": null,
   "id": "ff5d25b9",
   "metadata": {},
   "outputs": [],
   "source": []
  },
  {
   "cell_type": "markdown",
   "id": "75c8c6d5",
   "metadata": {},
   "source": [
    "Wie viele Artikel umfasst die Suchanfrage?"
   ]
  },
  {
   "cell_type": "code",
   "execution_count": null,
   "id": "651db8b4",
   "metadata": {},
   "outputs": [],
   "source": []
  },
  {
   "cell_type": "markdown",
   "id": "6f4dce16",
   "metadata": {},
   "source": [
    "Auf wie vielen Seiten ist das Ergebnis aufgeteilt?"
   ]
  },
  {
   "cell_type": "code",
   "execution_count": null,
   "id": "9227c614",
   "metadata": {},
   "outputs": [],
   "source": []
  },
  {
   "cell_type": "markdown",
   "id": "ad383a45",
   "metadata": {},
   "source": [
    "Extrahieren Sie nun alle Artikel Ihrer Suchanfrage. Vergrößern Sie dafür `page-size` auf 50."
   ]
  },
  {
   "cell_type": "code",
   "execution_count": null,
   "id": "ba18db35",
   "metadata": {},
   "outputs": [],
   "source": [
    "PARAMS = {\n",
    "    'api-key': GUARDIAN_KEY,\n",
    "    'from-date': '####', \n",
    "    'to-date': '####', \n",
    "    'lang': 'en', \n",
    "    'production-office': 'uk', \n",
    "    'q': '####', \n",
    "    'show-fields': 'wordcount,body,byline'\n",
    "} \n"
   ]
  },
  {
   "cell_type": "markdown",
   "id": "efe083e3",
   "metadata": {},
   "source": [
    "Wie viele Seiten haben Sie jetzt?"
   ]
  },
  {
   "cell_type": "code",
   "execution_count": null,
   "id": "f8992221",
   "metadata": {},
   "outputs": [],
   "source": []
  },
  {
   "cell_type": "markdown",
   "id": "1582183a",
   "metadata": {},
   "source": [
    "Extrahiern Sie alle Artikel mit einem while Loop. Orientieren Sie sich dabei an dem Script aus dem Manuscript"
   ]
  },
  {
   "cell_type": "code",
   "execution_count": null,
   "id": "74cbe25e",
   "metadata": {},
   "outputs": [],
   "source": []
  },
  {
   "cell_type": "markdown",
   "id": "bf7008e1",
   "metadata": {},
   "source": [
    "Speichern Sie die Ergebnisse in einem DataFrame"
   ]
  },
  {
   "cell_type": "code",
   "execution_count": null,
   "id": "1d2d647b",
   "metadata": {},
   "outputs": [],
   "source": []
  },
  {
   "cell_type": "code",
   "execution_count": null,
   "id": "29146344-1e19-4fa8-bf37-cd08d7f7eede",
   "metadata": {},
   "outputs": [],
   "source": []
  }
 ],
 "metadata": {
  "kernelspec": {
   "display_name": "Python 3 (ipykernel)",
   "language": "python",
   "name": "python3"
  },
  "language_info": {
   "codemirror_mode": {
    "name": "ipython",
    "version": 3
   },
   "file_extension": ".py",
   "mimetype": "text/x-python",
   "name": "python",
   "nbconvert_exporter": "python",
   "pygments_lexer": "ipython3",
   "version": "3.10.13"
  }
 },
 "nbformat": 4,
 "nbformat_minor": 5
}
