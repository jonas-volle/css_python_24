{
 "cells": [
  {
   "cell_type": "markdown",
   "id": "96cceb18-3c3d-49e6-8e3d-26c79570f697",
   "metadata": {
    "editable": true,
    "slideshow": {
     "slide_type": "slide"
    },
    "tags": []
   },
   "source": [
    "# Einführung in Python für die Computational Social Science (CSS)\n",
    "## Session 04 - Pandas\n",
    "\n",
    "\n",
    "\n",
    "## Jonas Volle\n",
    "Wissenschaftlicher Mitarbeiter  \n",
    "Chair of Methodology and Empirical Social Research  \n",
    "Otto-von-Guericke-Universität  \n",
    "\n",
    "[jonas.volle@ovgu.de](mailto:jonas.volle@ovgu.de)\n",
    "\n",
    "**Sprechstunde**: individuell nach vorheriger Anmeldung per [Mail](mailto:jonas.volle@ovgu.de)\n",
    "\n",
    "Donnerstag, 06.06.2023"
   ]
  },
  {
   "cell_type": "markdown",
   "id": "9bee7974-dbec-4873-b9c1-03ae5bbb08de",
   "metadata": {},
   "source": [
    "**Quelle:** Ich orientiere mich für diese Sitzung an den Kapiteln 3 und 6 aus dem Buch:  \n",
    "\n",
    "McLevey, John. 2021. Doing Computational Social Science: A Practical Introduction. 1st ed. Thousand Oaks: SAGE Publications.\n"
   ]
  },
  {
   "cell_type": "markdown",
   "id": "f35724eb-2bc7-4473-a286-d561f3ecc4e7",
   "metadata": {},
   "source": [
    "## Inhalt\n",
    "\n",
    "- Datenmanagement mit pandas\n"
   ]
  },
  {
   "cell_type": "markdown",
   "id": "db891724-c23b-4999-a01b-467ee197db64",
   "metadata": {},
   "source": [
    "## 1. Datenmanagement mit Pandas"
   ]
  },
  {
   "cell_type": "markdown",
   "id": "1d9be2c4-c283-46d7-bb4a-767d3e0bdbc9",
   "metadata": {},
   "source": [
    "Nun verwenden wir Python nicht mehr als allgemeine Programmiersprache, sondern zur Verarbeitung von Daten mit Hilfe spezieller Datenverwaltungs- und -analysepakete. Wir werden uns in erster Linie auf ein Paket namens *Pandas* stützen. Pandas wurde von Wes McKinney für die Analyse von Paneldaten entwickelt (daher der Name). Es verfügt über spezielle Datenstrukturen, Funktionen und Methoden, mit denen Sie die meisten Datenverarbeitungsvorgänge für strukturierte quantitative Daten erledigen können."
   ]
  },
  {
   "cell_type": "markdown",
   "id": "539eee3d-21fa-4442-8b75-81456308b64f",
   "metadata": {},
   "source": [
    "Pandas Dokumentation: https://pandas.pydata.org/docs/reference/index.html"
   ]
  },
  {
   "cell_type": "markdown",
   "id": "c535d97f-5482-483c-b515-07c456c1608a",
   "metadata": {},
   "source": [
    "### Import"
   ]
  },
  {
   "cell_type": "code",
   "execution_count": null,
   "id": "a3792c2b-68ac-4f4e-91a4-4a32a1f73707",
   "metadata": {},
   "outputs": [],
   "source": []
  },
  {
   "cell_type": "markdown",
   "id": "d933aa8b-6a55-4d87-a3c3-bf0cde71883d",
   "metadata": {},
   "source": [
    "### Datenimport mit pandas"
   ]
  },
  {
   "cell_type": "markdown",
   "id": "ca64e403-fd6e-4503-9066-fe71d8315995",
   "metadata": {},
   "source": [
    "Das Pandas-Paket macht es einfach, Daten aus einer externen Datei direkt in ein Dataframe-Objekt zu laden."
   ]
  },
  {
   "cell_type": "markdown",
   "id": "35f8f50d-516c-4e0b-9005-f463094fa145",
   "metadata": {},
   "source": [
    "| Datentyp | Reader | Writer |\n",
    "|----------|----------|----------|\n",
    "| CSV    | `read_csv()`   | `to_csv()`   |\n",
    "| JSON    | `read_json()`   | `to_json()`   |\n",
    "| Stata   | `read_stata()`   | `to_stata()`   |\n",
    "| SAS   | `read_sas()`   | NA   |\n",
    "| SPSS   | `read_spss()`   | NA   |\n"
   ]
  },
  {
   "cell_type": "markdown",
   "id": "e863a46b-ca70-4ee5-867a-250416c7f3f9",
   "metadata": {},
   "source": [
    "In diesem Kapitel werden Daten aus dem VDEM-Datensatz (Varieties of Democracy) verwendet. VDEM ist ein laufendes Forschungsprojekt zur Messung des Niveaus der Demokratie in Regierungen auf der ganzen Welt, und es werden laufend aktualisierte Versionen des Datensatzes veröffentlicht. Die Forschung wird von einem Team aus mehr als 50 Sozialwissenschaftlern geleitet, die die Sammlung und Analyse von Experteneinschätzungen von mehr als 3200 Historikern und Länderexperten koordinieren. Auf der Grundlage dieser Einschätzungen hat das VDEM-Projekt eine bemerkenswert komplexe Reihe von Indikatoren entwickelt, die sich an fünf übergeordneten Facetten der Demokratie orientieren: Wahldemokratie, liberale Demokratie, partizipative Demokratie, deliberative Demokratie und egalitäre Demokratie. Der Datensatz reicht bis ins Jahr 1789 zurück und gilt als Goldstandard für quantitative Daten über globale demokratische Entwicklungen.  \n",
    "\n",
    "Das Codebuch finden Sie hier: https://v-dem.net/documents/24/codebook_v13.pdf"
   ]
  },
  {
   "cell_type": "code",
   "execution_count": null,
   "id": "06502fab-a5e8-444f-9f84-8fea3d5690b0",
   "metadata": {
    "scrolled": true
   },
   "outputs": [],
   "source": []
  },
  {
   "cell_type": "code",
   "execution_count": null,
   "id": "a6d2c349-849c-4de9-b450-9f51df0886db",
   "metadata": {},
   "outputs": [],
   "source": []
  },
  {
   "cell_type": "markdown",
   "id": "a34513fb-f73d-4d63-83a7-59bb2d330418",
   "metadata": {},
   "source": [
    "Wie viele Zeilen und Spalten? Das geht mit der `.shape` Methode."
   ]
  },
  {
   "cell_type": "code",
   "execution_count": null,
   "id": "1453c9d8-6c6a-4de3-86fc-6202ad29d28b",
   "metadata": {},
   "outputs": [],
   "source": []
  },
  {
   "cell_type": "markdown",
   "id": "375438d1-55b7-495a-8421-383c4ec4e39f",
   "metadata": {},
   "source": [
    "Welche Variablen benötigen wir? Wir wählen Spalten in einem DataFrame aus, indem wir den DataFrame aufrufen gefolt mit einer Liste in eckigen Klammern, die die Namen der Spalten enthält."
   ]
  },
  {
   "cell_type": "markdown",
   "id": "f4be09ba-5077-42be-8a66-3b370d25d800",
   "metadata": {},
   "source": [
    "Wir können die Namen der Spalten (columns) mithilfe des Attributs `.columns` für den DataFrame ausdrucken:"
   ]
  },
  {
   "cell_type": "code",
   "execution_count": null,
   "id": "e683712a-6a83-4bd9-a1ae-f6dbd82a86cf",
   "metadata": {},
   "outputs": [],
   "source": []
  },
  {
   "cell_type": "markdown",
   "id": "9431dd3b-b1fc-4b93-94b2-a325e82f763f",
   "metadata": {},
   "source": [
    "In diesem Fall möchten wir die folgenden Variablen behalten: \n",
    "\n",
    "1. den Ländernamen \n",
    "2. die Länder-ID \n",
    "3. die geografische Region \n",
    "4. Die Länder-ID \n",
    "3. die geographische Region \n",
    "4. Das Jahr 5. Der Polyarchie-Index \n",
    "6. Der Index der liberalen Demokratie\n",
    "7. Der Index der partizipativen Demokratie \n",
    "8. Der Index der deliberativen Demokratie \n",
    "9. Der Index der egalitären Demokratie \n",
    "10. Ob die Privatsphäre der Internetnutzer und ihre Daten rechtlich geschützt sind \n",
    "11. Wie polarisiert das Land in politischen Fragen ist \n",
    "12. Ausmaß der politischen Gewalt \n",
    "13. Ob das Land eine Demokratie ist oder nicht \n"
   ]
  },
  {
   "cell_type": "code",
   "execution_count": null,
   "id": "f531eed1-ca07-478c-8480-99e060d9de09",
   "metadata": {},
   "outputs": [],
   "source": [
    "# ['country_name', 'country_text_id', 'e_regiongeo', 'year', 'v2x_polyarchy', 'v2x_libdem', 'v2x_partipdem', 'v2x_delibdem', 'v2x_egaldem', 'v2smprivex', 'v2smpolsoc', 'v2caviol', 'e_boix_regime']\n",
    "\n"
   ]
  },
  {
   "cell_type": "code",
   "execution_count": null,
   "id": "f22650fd-08d5-4b77-b3d8-5b2410c6ae8c",
   "metadata": {},
   "outputs": [],
   "source": []
  },
  {
   "cell_type": "code",
   "execution_count": null,
   "id": "46665d88-57be-4e00-9d8e-e45f6678c175",
   "metadata": {},
   "outputs": [],
   "source": []
  },
  {
   "cell_type": "markdown",
   "id": "bb99c474-a749-46ee-993f-f51418c8f68c",
   "metadata": {},
   "source": [
    "### Was ist im DataFrame?\n",
    "\n",
    "Mit der Methode `.info()` können wir die Gesamtzahl der Beobachtungen, die Gesamtzahl der Spalten, die Namen der Spalten, die Anzahl der nicht fehlenden Beobachtungen für jede Variable, den Datentyp für jede Variable, die Anzahl der Variablen, die Daten jedes Typs enthalten (z. B. Ganzzahlen und Fließkommazahlen), und die Gesamtmenge des vom DataFrame verwendeten Speichers anzeigen:"
   ]
  },
  {
   "cell_type": "code",
   "execution_count": null,
   "id": "8f03981e-3079-4985-a9b6-929373f9daf9",
   "metadata": {},
   "outputs": [],
   "source": []
  },
  {
   "cell_type": "markdown",
   "id": "2fcfbf4b-72c9-4cc1-8031-13419052cae6",
   "metadata": {},
   "source": [
    "Die Datentypen in diesem Datenrahmen sind float64 (Zahlen mit Nachkommastellen), int64 (Ganzzahlen) und object. In Pandas bezieht sich object auf Spalten, die Strings oder gemischte Typen wie Strings und Integers enthalten (object umfasst auch viele andere Dinge: es ist eine Sammelkategorie). Pandas kann auch mit Booleans (Wahr oder Falsch), kategorischen Variablen und einigen speziellen Datetime-Objekten arbeiten. Erinnern Sie sich daran, wie wir die Spalten für unser Dataset ausgewählt haben. Im folgenden Code verwende ich dieselbe Idee, um nur einige wenige Variablen anzuzeigen. Wir werden dies später in diesem Kapitel noch etwas genauer erklären."
   ]
  },
  {
   "cell_type": "markdown",
   "id": "115ca60a-a2a7-45fe-9480-3f388ce084d7",
   "metadata": {},
   "source": [
    "Wir können auch die Methode `.describe()` verwenden, um zusammenfassende Informationen über die quantitativen Variablen in unserem Datensatz zu erhalten, einschließlich der Anzahl der nicht fehlenden Informationen, des Mittelwerts und der Standardabweichung.\n"
   ]
  },
  {
   "cell_type": "code",
   "execution_count": null,
   "id": "e53107fc-34e6-49fd-91da-870eb03bcecd",
   "metadata": {},
   "outputs": [],
   "source": []
  },
  {
   "cell_type": "markdown",
   "id": "69176d08-57e0-46ba-a59e-3382e6eac81b",
   "metadata": {},
   "source": [
    "### Heads, tails, and samples"
   ]
  },
  {
   "cell_type": "markdown",
   "id": "89fb425a-800f-49f5-9053-4daa6aeed105",
   "metadata": {},
   "source": [
    "Wir können auch den \"Kopf\" oder das \"Ende\" unseres Datenrahmens mit den Methoden `.head() ` und `.tail()` untersuchen, die standardmäßig die ersten oder letzten fünf Zeilen in einem DataFrame verwenden, es sei denn, Sie geben eine andere Zahl als Argument an, wie z. B. `.head(10)`:"
   ]
  },
  {
   "cell_type": "code",
   "execution_count": null,
   "id": "ebce73cf-4a18-480c-8998-1e17703a276d",
   "metadata": {},
   "outputs": [],
   "source": [
    "# 'country_name', 'year', 'v2x_libdem'\n",
    "\n"
   ]
  },
  {
   "cell_type": "code",
   "execution_count": null,
   "id": "b3b58c99-a99c-4c56-acf6-34a3d64bab23",
   "metadata": {},
   "outputs": [],
   "source": [
    "sdf[['country_name', 'year', 'v2x_libdem']]"
   ]
  },
  {
   "cell_type": "markdown",
   "id": "2e392366-c98c-4c33-81bc-78efa65f4270",
   "metadata": {},
   "source": [
    "Wenn Sie eine Zufallsstichprobe von Zeilen bevorzugen, können Sie die Methode `.sample()` verwenden, bei der Sie die Anzahl der Zeilen angeben müssen, die Sie abfragen möchten:"
   ]
  },
  {
   "cell_type": "code",
   "execution_count": null,
   "id": "c866c43b-0f6e-4baf-a7e6-d777026f4eb0",
   "metadata": {},
   "outputs": [],
   "source": [
    "sdf[['country_name', 'year', 'v2x_libdem']]"
   ]
  },
  {
   "cell_type": "markdown",
   "id": "416db6a2-de43-4f60-869d-27a53bf378be",
   "metadata": {},
   "source": [
    "### Zeilen filtern"
   ]
  },
  {
   "cell_type": "markdown",
   "id": "94a8d2ae-d93d-4dda-b58d-6b82ac5e8040",
   "metadata": {},
   "source": [
    "Bei der Ausführung der Methode `.describe()` haben Sie vielleicht bemerkt, dass der Bereich für die Jahresvariable 1789-2019 ist. Angenommen, wir haben einen guten Grund, uns auf die Jahre von 1900 bis 2019 zu konzentrieren. Dann müssen wir die Daten filtern, um nur die Zeilen zu erhalten, die unseren Anforderungen entsprechen. Es gibt mehrere Möglichkeiten, Zeilen zu filtern, einschließlich Slices (z. B. alle Beobachtungen zwischen Index i und Index j) oder nach einer expliziten Bedingung, wie z. B. \"Zeilen, in denen das Jahr >= 1900\". Beachten Sie, dass, wenn wir einen DataFrame filtern oder zerschneiden, das neue Objekt nur eine Ansicht des Originals ist und sich immer noch auf die gleichen Daten bezieht. Pandas warnt uns, wenn wir versuchen, das gefilterte Objekt zu verändern, so dass es in den meisten Fällen einfacher ist, eine neue Kopie zu erstellen."
   ]
  },
  {
   "cell_type": "code",
   "execution_count": null,
   "id": "03f114c9-94c6-468c-bd1b-f63087672d48",
   "metadata": {},
   "outputs": [],
   "source": []
  },
  {
   "cell_type": "code",
   "execution_count": null,
   "id": "fa386c54-6a82-4fcf-a51d-3a1345f3bda6",
   "metadata": {},
   "outputs": [],
   "source": []
  },
  {
   "cell_type": "markdown",
   "id": "b736466e-450f-4d27-a87a-e089540432df",
   "metadata": {},
   "source": [
    "### Schreiben von Dateien"
   ]
  },
  {
   "cell_type": "markdown",
   "id": "522d29d1-4ab0-4c10-a9bd-a237b2a8c439",
   "metadata": {},
   "source": [
    "So wie wir unsere ursprüngliche CSV-Datei mit der Funktion `read_csv()` in Pandas eingelesen habe, können wir diesen neuen Dataframe mit der Methode `to_csv()` auch wieder schreiben:"
   ]
  },
  {
   "cell_type": "code",
   "execution_count": null,
   "id": "6e4904a9-6cd4-4a98-a596-40e555b9cedb",
   "metadata": {},
   "outputs": [],
   "source": []
  },
  {
   "cell_type": "markdown",
   "id": "080de2b6-7bf8-4136-bcf2-19539666c3f6",
   "metadata": {},
   "source": [
    "<div class='alert alert-block alert-success'>\n",
    "\n",
    "### Aufgabe 1\n",
    "\n",
    "--> session_04_excercise_1.ipynb\n",
    "\n",
    "</div>"
   ]
  },
  {
   "cell_type": "markdown",
   "id": "64e61e8a-9e14-4803-8a96-142736510828",
   "metadata": {},
   "source": [
    "## Pandas Datenstruktur"
   ]
  },
  {
   "cell_type": "markdown",
   "id": "a686342e-abe0-4299-b5f7-e9d31ac26777",
   "metadata": {},
   "source": [
    "### The series\n",
    "\n",
    "Jede Spalte in einem dataframe ist ein Objekt namens Series. Eine Series ist ein eindimensionales Objekt (z. B. ein Zahlenvektor) mit einem Index, der selbst ein Vektor oder ein Array von Bezeichnungen ist."
   ]
  },
  {
   "cell_type": "markdown",
   "id": "50d342b9-7d9b-406f-bc79-b1e638c0bd6e",
   "metadata": {},
   "source": [
    "Zum Beispiel ist die Spalte *v2x_delibdem* in fsdf eine Series, die Floats und die Indexbezeichnung für jede Beobachtung enthält. Wenn ich eine Stichprobe von 15 Beobachtungen ausdrucke, erhalte ich einen numerischen Index für jede Beobachtung auf der linken Seite und den tatsächlichen Wert auf der rechten Seite. Die Indexwerte sind in der Series selbst geordnet, aber hier sind sie nicht in der richtigen Reihenfolge, weil wir eine Zufallsstichprobe gezogen haben. Da dies nur zu Demonstrationszwecken dient, habe ich einen random_state-Wert eingefügt, um sicherzustellen, dass Sie die gleiche Stichprobe erhalten wie ich, wenn Sie diesen Block erneut ausführen."
   ]
  },
  {
   "cell_type": "code",
   "execution_count": null,
   "id": "162cbc97-73b8-4a3b-affc-2fd25d6988dc",
   "metadata": {},
   "outputs": [],
   "source": []
  },
  {
   "cell_type": "code",
   "execution_count": null,
   "id": "c1c7644a-bbf9-4aaa-a49a-4ea8a1c9d5f1",
   "metadata": {},
   "outputs": [],
   "source": []
  },
  {
   "cell_type": "markdown",
   "id": "57e2b484-2982-47c4-92df-b32e05a6761e",
   "metadata": {},
   "source": [
    "In den meisten Fällen ist der Standardindex für eine Series oder einen DataFrame ein unveränderlicher Vektor aus ganzen Zahlen:"
   ]
  },
  {
   "cell_type": "code",
   "execution_count": null,
   "id": "276de776-38d3-4dbd-9cf8-31e7ee02c36b",
   "metadata": {},
   "outputs": [],
   "source": []
  },
  {
   "cell_type": "markdown",
   "id": "898f3113-b986-4458-aa82-3c306b242fae",
   "metadata": {},
   "source": [
    "Wir können einen Index leicht so ändern, dass er stattdessen aus einem anderen Vektortyp besteht, z. B. einem string. Überraschenderweise müssen Indexwerte nicht eindeutig sein. Dies ermöglicht einige leistungsfähige Techniken, aber die meiste Zeit sollten Sie vermeiden, Indizes manuell zu ändern."
   ]
  },
  {
   "cell_type": "markdown",
   "id": "44778b10-9153-4416-a2db-cace9001389e",
   "metadata": {},
   "source": [
    "### Zugriff auf eine bestimmte Zeile über ihren Index"
   ]
  },
  {
   "cell_type": "markdown",
   "id": "8baba3ee-27ba-4bcb-9ce9-8b2a548e6fad",
   "metadata": {},
   "source": [
    "Wir können den Index verwenden, um bestimmte Zeilen aus einem dataframe oder bestimmte Werte aus einer series abzurufen, ganz so, als ob wir ein Element aus einer Liste, einem Tupel oder einem Array auswählen würden. Am einfachsten geht das, indem man den Indexwert (z. B. 202) an `.loc[]` übergibt. Wie Sie unten sehen können, ist das Ergebnis der beobachtungsspezifische Wert für jede Variable im dataframe:"
   ]
  },
  {
   "cell_type": "code",
   "execution_count": null,
   "id": "bcf1de2b-bf4c-47f0-a083-00b8bf05d9d6",
   "metadata": {},
   "outputs": [],
   "source": []
  },
  {
   "cell_type": "markdown",
   "id": "65ea1510-81c8-42fb-9088-4966dadaf84e",
   "metadata": {},
   "source": [
    "Beachten Sie, dass sich `.loc` nicht auf die 202. Zeile des dataframe bezieht. Wenn Sie sich den obigen `.index`-Befehl genau angesehen haben, ist Ihnen vielleicht aufgefallen, dass der dataframe nur 18.787 Zeilen enthält, aber `.loc` immer noch Zeile 20.000 zurückgeben kann - der Index hat sich nicht geändert, als Sie eine Reihe von Zeilen aus dem dataframe entfernt haben. Stellen Sie sich `.loc` als Zugriff auf ein Wörterbuch der Indexwerte vor - es gibt sogar einen KeyError, wenn Sie nach einem Element fragen, das nicht existiert."
   ]
  },
  {
   "cell_type": "markdown",
   "id": "b65db475-be58-4ddf-8d07-7c28432978df",
   "metadata": {},
   "source": [
    "Wenn wir stattdessen auf die n-te Zeile eines dataframe zugreifen wollen, können wir `.iloc[n]` verwenden. Stellen Sie sich den Index als eine Liste vor, und Sie beziehen sich auf ein Element dieser Liste durch seinen Listenindex. Verwenden wir `.iloc`, um das letzte Element im dataframe auszuwählen. Beachten Sie, dass die Indexposition für das letzte Element 18.786 sein wird, obwohl die Länge des dataframe 18.787 beträgt, da Python-Datenstrukturen fast immer mit einem Null-Index versehen sind. Hier sehen Sie den Index der Zeile, der früher die Zeilennummer war, als Name am unteren Rand:"
   ]
  },
  {
   "cell_type": "code",
   "execution_count": null,
   "id": "be6c63f7-0397-4986-885c-3000b00e2e56",
   "metadata": {},
   "outputs": [],
   "source": []
  },
  {
   "cell_type": "code",
   "execution_count": null,
   "id": "c8de00b0-6c3a-4570-8ef0-a0e05d562dbc",
   "metadata": {},
   "outputs": [],
   "source": []
  },
  {
   "cell_type": "code",
   "execution_count": null,
   "id": "f36c4522-9104-40c4-810f-c880eae52215",
   "metadata": {},
   "outputs": [],
   "source": []
  },
  {
   "cell_type": "code",
   "execution_count": null,
   "id": "53b4e53a-6d5e-4db0-a313-e00acb6f12c8",
   "metadata": {},
   "outputs": [],
   "source": []
  },
  {
   "cell_type": "markdown",
   "id": "46bd2a93-1501-4026-83f9-c2bb137e7389",
   "metadata": {},
   "source": [
    "Wenn es keinen Grund gibt, die ursprüngliche Indizierung des ungefilterten dataframe beizubehalten, ist es in der Regel eine gute Idee, den Index zurückzusetzen:"
   ]
  },
  {
   "cell_type": "code",
   "execution_count": null,
   "id": "9b0a88e5-2961-419b-8483-276f19991369",
   "metadata": {},
   "outputs": [],
   "source": []
  },
  {
   "cell_type": "markdown",
   "id": "b9fff89f-3876-46b2-a499-34df54b85d64",
   "metadata": {},
   "source": [
    "Danach werden `.loc` und `.iloc` ziemlich austauschbar, mit ein paar Ausnahmen: `.loc` hat wörterbuchähnliche Fähigkeiten, während `.iloc` eher listenähnlich ist. Schauen wir uns nun den dataframe genauer an."
   ]
  },
  {
   "cell_type": "markdown",
   "id": "ce26a086-985d-4c99-b490-fb8029dc1ecf",
   "metadata": {},
   "source": [
    "### Dataframes"
   ]
  },
  {
   "cell_type": "markdown",
   "id": "1690be60-53e6-40ea-b994-1eca4c08ea3d",
   "metadata": {},
   "source": [
    "Dataframes in Pandas sind eigentlich nur Sammlungen von Series, die an denselben Indexwerten ausgerichtet sind. Mit anderen Worten: Die Serien, mit denen wir zuvor gearbeitet haben, haben ihre eigenen Indizes, wenn wir mit ihnen als eigenständige Serien arbeiten, aber im fsdf dataframe teilen sie sich einen Index.  \n",
    "Wie Sie bereits gesehen haben, sind dataframes mit Variablen in den Spalten und Beobachtungen in den Zeilen organisiert, und Sie können eine einzelne series aus einem dataframe mit eckigen Klammern holen - lassen Sie uns das jetzt mit dem fsdf dataframe tun:"
   ]
  },
  {
   "cell_type": "code",
   "execution_count": null,
   "id": "2ebf22b2-d54a-4f17-a6c4-b21e01332c16",
   "metadata": {},
   "outputs": [],
   "source": []
  },
  {
   "cell_type": "markdown",
   "id": "5c4355b9-631d-4bf3-9739-3d33f0a4f7f6",
   "metadata": {},
   "source": [
    "Beachten Sie, dass wir auch die Punktnotation verwenden können, um Spalten auszuwählen. `fsdf.v2x_delibdem` ist funktional gleichwertig mit `fsdf['v2x_delibdem']` und kann austauschbar verwendet werden."
   ]
  },
  {
   "cell_type": "code",
   "execution_count": null,
   "id": "5184d023-7c55-440d-9fe1-2f1bfa3c4078",
   "metadata": {},
   "outputs": [],
   "source": []
  },
  {
   "cell_type": "markdown",
   "id": "19ca9b6d-f00e-410a-8e69-52f714521a26",
   "metadata": {},
   "source": [
    "Wir sind nicht darauf beschränkt, Spalten auszuwählen, die bereits in unserem Datensatz vorhanden sind. Sie können auch neue Spalten erstellen und hinzufügen. Sie können beispielsweise eine neue Spalte mit der Bezeichnung \"21. Jahrhundert\" erstellen und einen booleschen Wert zuweisen, der darauf basiert, ob die Beobachtung in den 2000er Jahren liegt:"
   ]
  },
  {
   "cell_type": "code",
   "execution_count": null,
   "id": "edb091bc-f937-40f8-81e2-9f9391f44cd2",
   "metadata": {},
   "outputs": [],
   "source": []
  },
  {
   "cell_type": "markdown",
   "id": "6ba0070b-0e0d-4782-95de-3273d28e41ac",
   "metadata": {},
   "source": [
    "Manchmal handelt es sich bei den neu erstellten Spalten um Umwandlungen einer bereits im dataframe vorhandenen series. Sie können beispielsweise eine neue Spalte \"missing_political_violence_data\" erstellen, die den Wert \"True\" annimmt, wenn die Serie \"v2caviol\" (Ausmaß der politischen Gewalt) leer ist, und andernfalls \"False\":"
   ]
  },
  {
   "cell_type": "code",
   "execution_count": null,
   "id": "43b84872-d210-4960-a4ce-99989a17d14c",
   "metadata": {},
   "outputs": [],
   "source": [
    "fsdf['missing_political_violence_data']"
   ]
  },
  {
   "cell_type": "markdown",
   "id": "610bc20c-b336-46b0-bba4-6ee3b5f3f9a0",
   "metadata": {},
   "source": [
    "Wie Sie bei der Ausführung von value_counts() sehen können, fehlen für 6042 Beobachtungen Daten zum Ausmaß der politischen Gewalt."
   ]
  },
  {
   "cell_type": "markdown",
   "id": "507c2a43-6a48-417e-9b13-7369d912e267",
   "metadata": {},
   "source": [
    "### Missing data"
   ]
  },
  {
   "cell_type": "markdown",
   "id": "302d7dbf-9b51-447a-bee9-68a84fb7fa6f",
   "metadata": {},
   "source": [
    "Es ist wichtig zu verstehen, wie mit fehlenden Daten umgegangen wird. Fehlende Daten kommen in realen Datensätzen häufig vor, und sie können aus mehreren Gründen fehlen! Im Allgemeinen verwendet Pandas den Wert np.nan, um fehlende Daten darzustellen. Der np.nan-Wert von NumPy ist ein Spezialfall einer Fließkommazahl, die einen nicht darstellbaren Wert darstellt. Diese Art von Werten werden NaNs (Not a Number) genannt."
   ]
  },
  {
   "cell_type": "code",
   "execution_count": null,
   "id": "0a1d656a-eec7-4684-80e6-1b1aed8a0537",
   "metadata": {},
   "outputs": [],
   "source": []
  },
  {
   "cell_type": "markdown",
   "id": "05cea3e7-2782-414b-9770-a0f777fa5109",
   "metadata": {},
   "source": [
    "np.nan kann nicht in Gleichheitstests verwendet werden, da jeder Vergleich mit einem np.nan-Wert als Falsch ausgewertet wird. Dies schließt den Vergleich von np.nan mit sich selbst ein.  \n",
    "\n",
    "np.nan-Werte werden nicht zu False oder None ausgewertet. Dies kann es schwierig machen, fehlende Werte zu unterscheiden. Zu diesem Zweck können Sie die Funktion np.isnan() verwenden, die besonders im Kontrollfluss nützlich ist."
   ]
  },
  {
   "cell_type": "code",
   "execution_count": null,
   "id": "193964e3-0a89-4b25-8798-9c435b02a965",
   "metadata": {},
   "outputs": [],
   "source": []
  },
  {
   "cell_type": "code",
   "execution_count": null,
   "id": "9f5f6b27-807b-4e44-9729-5cfd649fa4fd",
   "metadata": {},
   "outputs": [],
   "source": []
  },
  {
   "cell_type": "code",
   "execution_count": null,
   "id": "c87c372f-85fc-4a9b-9b25-acf7181f9995",
   "metadata": {},
   "outputs": [],
   "source": []
  },
  {
   "cell_type": "code",
   "execution_count": null,
   "id": "1231a900-f9e7-4d7f-9558-8f1d60f8cfd4",
   "metadata": {},
   "outputs": [],
   "source": [
    "fsdf[['country_name', 'year', 'v2caviol']]"
   ]
  },
  {
   "cell_type": "code",
   "execution_count": null,
   "id": "98599902-9bef-4a6b-9a33-abbf8b2864d6",
   "metadata": {},
   "outputs": [],
   "source": [
    "fsdf[['country_name', 'year', 'v2caviol']]"
   ]
  },
  {
   "cell_type": "markdown",
   "id": "609c5a77-0e11-4d25-8e62-86c28a644470",
   "metadata": {},
   "source": [
    "Außerdem werden np.nan-Werte im Allgemeinen von Pandas-Funktionen ausgeschlossen, die Berechnungen über dataframes, Zeilen oder Spalten durchführen. In der Dokumentation wird zum Beispiel oft angegeben, dass eine Berechnung über alle Werte durchgeführt wird, wobei NaN- oder NULL-Werte ausgeschlossen werden."
   ]
  },
  {
   "cell_type": "code",
   "execution_count": null,
   "id": "edd7b5ef-5de0-4140-be6d-9774a03e53e9",
   "metadata": {},
   "outputs": [],
   "source": [
    "total = len(fsdf['v2caviol']) \n",
    "count = fsdf['v2caviol'].count() \n",
    "print(f'Total: {total}') \n",
    "print(f'Count: {count}') \n",
    "print(f'Diff: {total-count}')"
   ]
  },
  {
   "cell_type": "markdown",
   "id": "2b9c6f95-bedf-4701-bbbf-d3db04b48a37",
   "metadata": {},
   "source": [
    "Die Gesamtzahl der Elemente in der Spalte v2caviol (politische Gewalt) ist viel höher als die von der Funktion `count()` erhaltene Anzahl. Wenn das, was wir oben gelernt haben, richtig ist, sollte dieser Unterschied berücksichtigt werden, wenn wir herausfinden, wie viele Elemente in dieser Spalte NaNs sind."
   ]
  },
  {
   "cell_type": "code",
   "execution_count": null,
   "id": "75312968-039a-42a8-bfee-78e42c5295a0",
   "metadata": {},
   "outputs": [],
   "source": [
    "nans = fsdf['v2caviol'].isna().sum()\n",
    "print(' NaNs: {}'.format(nans))"
   ]
  },
  {
   "cell_type": "markdown",
   "id": "ff62c4c8-63a0-4c9e-a918-570e0d0b309b",
   "metadata": {},
   "source": [
    "Wie Sie wahrscheinlich wissen, kann die Methode `.isna()`, die der Methode `np.isnan()` ähnelt, aber zusätzliche Fälle abdeckt, beim Transformieren und Filtern von Daten sehr nützlich sein."
   ]
  },
  {
   "cell_type": "markdown",
   "id": "65e7d763-2fb4-428c-90e1-beb94b7539df",
   "metadata": {},
   "source": [
    "### Aggregieren und Gruppieren"
   ]
  },
  {
   "cell_type": "markdown",
   "id": "4fdcdf4b-f5c8-4264-8f28-82deca5d4a9e",
   "metadata": {},
   "source": [
    "Datenanalyseprojekte beinhalten oft Aggregations- oder Gruppierungsoperationen. So kann es beispielsweise erforderlich sein, zusammenfassende Statistiken für Beobachtungen zu berechnen und zu vergleichen, die unterschiedliche Werte für eine kategoriale Variable annehmen. Es kann hilfreich sein, den Datensatz selbst aufzuschlüsseln und Operationen auf verschiedenen Teilmengen von Daten durchzuführen. Dazu verwenden wir die Methode `.groupby()`, die den dataframe auf der Grundlage der Werte einer bestimmten Variable in Gruppen unterteilt. Anschließend können wir Operationen mit den resultierenden Gruppen durchführen. Wir gruppieren unsere Länder in geografische Regionen, indem wir die Variable *e_regiongeo* verwenden:"
   ]
  },
  {
   "cell_type": "code",
   "execution_count": null,
   "id": "90a67f41-6b25-47f8-98cf-f172ee211c0c",
   "metadata": {},
   "outputs": [],
   "source": []
  },
  {
   "cell_type": "markdown",
   "id": "d32ae3bd-024c-4ca3-a5a5-ddc2a0e6a976",
   "metadata": {},
   "source": [
    "Der obige Code gibt ein gruppiertes Objekt zurück, mit dem wir arbeiten können. Nehmen wir an, wir wollen eine bestimmte Gruppe herausziehen, z. B. Südostasien, die in den Daten mit der numerischen ID 13 dargestellt wird. Ich weiß das, weil die entsprechenden Informationen im VDEM-Codebuch zu finden sind, das Sie bei Ihrer Arbeit mit den VDEM-Daten immer geöffnet halten sollten."
   ]
  },
  {
   "cell_type": "markdown",
   "id": "f0075556-3051-498c-9282-c4731898993e",
   "metadata": {},
   "source": [
    "Wir können die Methode get_group() verwenden, um eine Gruppe aus dem gruppierten Objekt zu ziehen. (Beachten Sie, dass der nachstehende Code .get_group() fsdf[fsdf['e_regiongeo'] == 13] entspricht)."
   ]
  },
  {
   "cell_type": "code",
   "execution_count": null,
   "id": "31f7f25f-bcb9-4b50-8dd1-1c9f512990d9",
   "metadata": {},
   "outputs": [],
   "source": []
  },
  {
   "cell_type": "code",
   "execution_count": null,
   "id": "6d79272d-61d7-450e-b213-55d1d42979ad",
   "metadata": {},
   "outputs": [],
   "source": []
  },
  {
   "cell_type": "markdown",
   "id": "b6a35810-2cf3-4f8b-8afc-12b1c538a340",
   "metadata": {},
   "source": [
    "Bei den in south_east_asia gespeicherten Daten handelt es sich um alle Beobachtungen der südostasiatischen Länder in den VDEM-Daten, die nun in einem eigenen dataframe gespeichert sind. .get_group() ist eine weitere Möglichkeit, eine Teilmenge eines dataframes zu extrahieren (mit Hilfe eines groupby-Objekts), und ist besonders nützlich, wenn die Teilmenge der Daten, mit der Sie arbeiten möchten, nur Beobachtungen mit einem bestimmten Wert für eine kategoriale Variable in Ihren Daten sind. Wenn wir einen Datensatz auf diese Weise gruppieren, geschieht dies im Allgemeinen, weil wir etwas für eine Gruppe innerhalb des Datensatzes oder für mehrere Gruppen, die wir vergleichen möchten, berechnen möchten. Dazu geben wir das gruppierte Objekt, die Serie, für die wir eine Operation durchführen möchten, und schließlich die Operation, die wir durchführen möchten, an. Berechnen wir zum Beispiel den Median des Polyarchie-Scores für Länder in jeder der Regionen im Datensatz:"
   ]
  },
  {
   "cell_type": "code",
   "execution_count": null,
   "id": "f5c26b1f-9ab3-4002-a959-445a1e523229",
   "metadata": {},
   "outputs": [],
   "source": []
  },
  {
   "cell_type": "markdown",
   "id": "570f4e9f-a7d7-4253-9d9a-d545732df286",
   "metadata": {},
   "source": [
    "Es wäre nützlicher, den Namen der Region zu sehen als ihre numerische Bezeichnung. Wir können dies erreichen, indem wir ein Wörterbuch erstellen, das die numerischen IDs auf den Regionsnamen abbildet, und dann die Methode .map() verwenden, um Pandas mitzuteilen, wo es die Werte nachschlagen soll, die es benötigt, um eine neue Spalte mit den Ländernamen zu erstellen. Zuerst das Wörterbuch:"
   ]
  },
  {
   "cell_type": "code",
   "execution_count": null,
   "id": "87cf7d13-ae06-4d61-b924-1bc8c14c6574",
   "metadata": {},
   "outputs": [],
   "source": [
    "regions = { 1:'Western Europe', \n",
    "           2:'Northern Europe', \n",
    "           3:'Southern Europe', \n",
    "           4:'Eastern Europe', \n",
    "           5:'Northern Africa',\n",
    "           6:'Western Africa', \n",
    "           7:'Middle Africa', \n",
    "           8:'Eastern Africa', \n",
    "           9:'Southern Africa', \n",
    "           10:'Western Asia', \n",
    "           11:'Central Asia', \n",
    "           12:'East Asia', \n",
    "           13:'South-East Asia', \n",
    "           14:'South Asia', \n",
    "           15:'Oceania', # (including Australia and the Pacific) \n",
    "           16:'North America', \n",
    "           17:'Central America', \n",
    "           18:'South America', \n",
    "           19:'Caribbean' # (including Belize Cuba Haiti Dominican Republic) \n",
    "          }"
   ]
  },
  {
   "cell_type": "markdown",
   "id": "e9c642b9-4d60-4d8d-99ed-900506d48fd0",
   "metadata": {},
   "source": [
    "Nun können wir dieses Wörterbuch an die Methode `.map()` übergeben, die auf die Serie `fsdf['e_regiongeo']` angewendet wird, und so eine neue Serie namens `fsdf['Region']` erstellen:"
   ]
  },
  {
   "cell_type": "code",
   "execution_count": null,
   "id": "d630dfc8-2e66-4f6f-8305-5005af9977f1",
   "metadata": {},
   "outputs": [],
   "source": []
  },
  {
   "cell_type": "markdown",
   "id": "63bc1d54-1c11-47e6-a6de-2bc56b710c1f",
   "metadata": {},
   "source": [
    "Es ist auch möglich, nach mehreren Variablen zu gruppieren, z. B. nach geografischer Region und Jahr, und dann eine Operation an diesen etwas feineren Gruppen durchzuführen. Auf diese Weise ergeben sich 2211 Gruppen, so dass wir eine Zufallsstichprobe von 10 Gruppen ansehen werden:"
   ]
  },
  {
   "cell_type": "code",
   "execution_count": null,
   "id": "c1ba3803-666e-4599-9892-4f829cba4d04",
   "metadata": {},
   "outputs": [],
   "source": []
  },
  {
   "cell_type": "markdown",
   "id": "5d09f4d6-58a9-438d-87d5-5ef0a0acba32",
   "metadata": {},
   "source": [
    "Für das gruppierte Objekt selbst können andere Operationen durchgeführt werden, z. B. die Berechnung der Anzahl der Beobachtungen in jeder Gruppe (entspricht value_counts()):"
   ]
  },
  {
   "cell_type": "code",
   "execution_count": null,
   "id": "16186283-964f-49a4-a25d-ed819caae305",
   "metadata": {},
   "outputs": [],
   "source": []
  },
  {
   "cell_type": "code",
   "execution_count": null,
   "id": "69004cfc-0b3d-49cb-ac42-2344b893a786",
   "metadata": {},
   "outputs": [],
   "source": []
  },
  {
   "cell_type": "markdown",
   "id": "8b6c8f5d-6c5d-44fa-86ec-ce5693fcd5c8",
   "metadata": {},
   "source": [
    "Schließlich können wir mit der Methode `agg()` mehrere Operationen auf ein gruppiertes Objekt anwenden. Die `agg()`-Methode wendet eine oder mehrere Aggregatfunktionen auf ein gruppiertes Objekt an und gibt die Ergebnisse der einzelnen Funktionen zurück:"
   ]
  },
  {
   "cell_type": "code",
   "execution_count": null,
   "id": "857ba193-1ccb-4207-bf67-af099af6eec7",
   "metadata": {},
   "outputs": [],
   "source": []
  },
  {
   "cell_type": "markdown",
   "id": "27bd216e-258d-484e-bcea-ab5ad91289a8",
   "metadata": {},
   "source": [
    "Wir können sogar unsere eigene Funktion definieren, die agg() verwenden soll! Wenn wir bereit sind, ein Wörterbuch zu übergeben, können wir mit .agg() auch verschiedene Funktionen auf mehrere Variablen gleichzeitig anwenden! Anstatt eine Liste pro Funktion zu übergeben, können Sie ein Wörterbuch verwenden, in dem die Spaltennamen die Schlüssel und die Funktionen die Werte sind (Sie können auch eine Liste von Funktionen übergeben), um eine wirklich komplexe Aggregation in einer einzigen Codezeile durchzuführen."
   ]
  },
  {
   "cell_type": "markdown",
   "id": "ce665d34-c18d-4a95-a49a-e95b7ada8897",
   "metadata": {},
   "source": [
    "## Kombinierung von DataFrames"
   ]
  },
  {
   "cell_type": "markdown",
   "id": "0328ab2f-8474-497e-8290-17a5678b39f0",
   "metadata": {},
   "source": [
    "Das Kombinieren von dataframes ist eine sehr häufige Aufgabe. Auch wenn es nicht offensichtlich erscheint, ist das Kombinieren von Datensätzen eine der wertvollsten Fähigkeiten, die man in der rechnergestützten Sozialwissenschaft haben kann. Im Folgenden werden einige der gebräuchlichsten Ansätze betrachtet, nämlich die Verkettung und Zusammenführung, und es wird kurz eine fortgeschrittenere Reihe von Methoden beschrieben, die gemeinhin als Datensatzverknüpfung bezeichnet werden.  \n",
    "\n",
    "Die Verkettung eines dataframes ist konzeptionell recht einfach - stellen Sie sich vor, Sie hängen die Zeilen oder Spalten eines dataframes unter oder rechts von der letzten Zeile oder Spalte eines anderen dataframes an. Damit dies sinnvoll ist, sollten die beiden dataframes mindestens eine Zeile oder Spalte gemeinsam haben."
   ]
  },
  {
   "cell_type": "code",
   "execution_count": null,
   "id": "9f417708-1d74-463a-973b-33db186f1486",
   "metadata": {},
   "outputs": [],
   "source": [
    "full_df = pd.read_csv(\"../data/vdem/filtered_subset.csv\") \n",
    "df_australia = full_df[full_df.country_name == \"Australia\"].copy()\n",
    "len(df_australia)"
   ]
  },
  {
   "cell_type": "code",
   "execution_count": null,
   "id": "6ee55d85-c06f-431a-81d5-8b7257582d02",
   "metadata": {},
   "outputs": [],
   "source": [
    "df_australia.head()"
   ]
  },
  {
   "cell_type": "code",
   "execution_count": null,
   "id": "9f27042b-51c6-410b-9bec-95f1cdff993e",
   "metadata": {},
   "outputs": [],
   "source": [
    "df_sa = full_df[full_df.country_name == \"South Africa\"].copy()\n",
    "len(df_sa)"
   ]
  },
  {
   "cell_type": "code",
   "execution_count": null,
   "id": "880c3e9e-dcda-485d-a2bd-251299de9aac",
   "metadata": {},
   "outputs": [],
   "source": [
    "df_sa.head()"
   ]
  },
  {
   "cell_type": "markdown",
   "id": "0e3dbe2f-e670-492c-9126-f074e4aeb83a",
   "metadata": {},
   "source": [
    "Standardmäßig führt pd.concat() eine zeilenweise Verknüpfung durch, die als Achse=0 bezeichnet wird. Diese Vorgabe kann durch die Angabe von Achse=1 außer Kraft gesetzt werden, wodurch eine spaltenweise Verknüpfung erfolgt:"
   ]
  },
  {
   "cell_type": "code",
   "execution_count": null,
   "id": "1c91a6db-9f28-48e2-9c09-6de985cf0d50",
   "metadata": {},
   "outputs": [],
   "source": []
  },
  {
   "cell_type": "code",
   "execution_count": null,
   "id": "fe8bb68f-2fa2-49dc-a410-1c4a4e500462",
   "metadata": {},
   "outputs": [],
   "source": []
  },
  {
   "cell_type": "code",
   "execution_count": null,
   "id": "673be647-d98d-42e1-9cd9-88be6754d9cd",
   "metadata": {},
   "outputs": [],
   "source": []
  },
  {
   "cell_type": "markdown",
   "id": "9f656aed-8f0e-4514-a4fa-86b80e83b5eb",
   "metadata": {},
   "source": [
    "Wenn wir die beiden dataframes verketten, bleibt die Anzahl der Spalten gleich, aber die Anzahl der Zeilen erhöht sich, da die Zeilen in beiden ursprünglichen dataframes berücksichtigt werden. Normalerweise würde diese Art der Verkettung zu einer unterschiedlichen Anzahl von Spalten führen, aber in diesem Fall hatten die beiden Dataframes, die wir zusammengefügt haben, genau die gleichen Spalten (was sinnvoll ist, da sie beide aus demselben übergeordneten Dataframe extrahiert wurden)."
   ]
  },
  {
   "cell_type": "markdown",
   "id": "70bd6bcf-227b-4179-9e1e-8da63d816d4e",
   "metadata": {},
   "source": [
    "### Merging"
   ]
  },
  {
   "cell_type": "markdown",
   "id": "70869d0c-ae40-4ae3-9caf-be16809b731b",
   "metadata": {},
   "source": [
    "Eine andere Möglichkeit, Datensätze zu kombinieren, ist ihre Zusammenführung. Wenn Sie einen dataframe erstellen möchten, der Spalten aus mehreren Datensätzen enthält, aber in den Zeilen nach einer bestimmten Spalte (oder einem Satz von Spalten) ausgerichtet ist, sollten Sie die Funktion merge() verwenden. Um dies zu veranschaulichen, werden wir mit Daten aus zwei verschiedenen Quellen arbeiten. Die erste Quelle sind die VDEM-Daten, die wir im ersten Teil dieses Kapitels verwendet haben (fsdf). Die zweite ist ein Datensatz von Freedom House über den Grad der Internetfreiheit in 65 Ländern. Weitere Informationen finden Sie unter https://freedomhouse.org/countries/freedom-net/scores."
   ]
  },
  {
   "cell_type": "code",
   "execution_count": null,
   "id": "489b6676-844b-48c2-b242-62e25e67c0d9",
   "metadata": {},
   "outputs": [],
   "source": [
    "freedom_df = pd.read_csv( \"../data/freedom_house/internet_freedoms_2020.csv\")"
   ]
  },
  {
   "cell_type": "markdown",
   "id": "fd22314a-3e1b-45d9-8bdd-2c0832ad4bcd",
   "metadata": {},
   "source": [
    "Um diese dataframes zusammenzuführen, müssen wir eine Spalte finden, mit der wir die Zeilen des einen dataframes mit den Zeilen des anderen abgleichen können. Die Spalten müssen nicht den gleichen Namen haben, sondern nur Werte, die einander zugeordnet werden können. Die von uns gewählten Spalten werden in unserer Zusammenführung als \"Schlüssel\" bezeichnet. In unserem Fall sind dies die Spalten mit den Ländernamen aus jedem Datensatz."
   ]
  },
  {
   "cell_type": "code",
   "execution_count": null,
   "id": "8dd5491a-446d-4710-a2fd-7d827a1cd8d3",
   "metadata": {},
   "outputs": [],
   "source": [
    "list(fsdf.columns)"
   ]
  },
  {
   "cell_type": "code",
   "execution_count": null,
   "id": "9e9777c0-1b1c-43e9-a45f-1e1167dafbba",
   "metadata": {},
   "outputs": [],
   "source": [
    "list(freedom_df.columns)"
   ]
  },
  {
   "cell_type": "markdown",
   "id": "8c969fdc-3d61-44a7-bb1c-adfbb7050207",
   "metadata": {},
   "source": [
    "Wir verwenden die Funktion \"Zusammenführen\", um diese beiden dataframes mit \"country_name\" und \"Country\" zu kombinieren. Wir führen einen inner-join durch, was der Standard ist, wenn die Option nicht gesetzt ist, und behalten nur die Schlüssel (d. h. Länder), die in beiden dataframes erscheinen:"
   ]
  },
  {
   "cell_type": "code",
   "execution_count": null,
   "id": "fa12ba52-c2c9-4308-9481-abf7ddd5925c",
   "metadata": {},
   "outputs": [],
   "source": []
  },
  {
   "cell_type": "code",
   "execution_count": null,
   "id": "72663093-419f-418b-b472-273b598555be",
   "metadata": {},
   "outputs": [],
   "source": [
    "len(merged), len(merged.columns)"
   ]
  },
  {
   "cell_type": "code",
   "execution_count": null,
   "id": "557ae06e-bdf6-49ea-be1e-66d1b4b1c3df",
   "metadata": {},
   "outputs": [],
   "source": [
    "len(freedom_df), len(freedom_df.columns)"
   ]
  },
  {
   "cell_type": "code",
   "execution_count": null,
   "id": "1dfd3470-3cfc-47c2-883f-98fe5d691ea9",
   "metadata": {},
   "outputs": [],
   "source": [
    "len(fsdf), len(fsdf.columns)"
   ]
  },
  {
   "cell_type": "markdown",
   "id": "cfa4ecae-f1bd-4ad5-b546-33f092a7603b",
   "metadata": {},
   "source": [
    "Sie sollten fünf neue Spalten in dem zusammengeführten dataframe im Vergleich zu dem fsdf-Dataframe sehen. Beachten Sie, wie viele Zeilen jeder der beiden dataframes hat: viel weniger Zeilen als der ursprüngliche VDEM dataframe, aber viel mehr als der Freedom House dataframe. Wenn also in unserem Fall das Land einer Zeile in dem anderen Datensatz nicht vorkommt, wird diese Zeile nicht in den zusammengeführten dataframe aufgenommen.  \n",
    "\n",
    "Dies kann mit dem Parameter how angepasst werden. Es gibt fünf Möglichkeiten, dataframes in Pandas zusammenzuführen: left, right, outer, inner und cross. In der Dokumentation können Sie nachlesen, wie die anderen vier Methoden funktionieren.  "
   ]
  },
  {
   "cell_type": "markdown",
   "id": "0c3be949-0bd9-4a1f-b379-2aa1c47d6584",
   "metadata": {},
   "source": [
    "![Pandas merge](fig/pandas_merge_venn.png)"
   ]
  },
  {
   "cell_type": "markdown",
   "id": "24a0c97a-7b2f-4c24-bff0-cc4d688f573f",
   "metadata": {},
   "source": [
    "<div class='alert alert-block alert-success'>\n",
    "\n",
    "### Aufgabe 2\n",
    "\n",
    "--> session_04_excercise_2.ipynb\n",
    "\n",
    "</div>"
   ]
  }
 ],
 "metadata": {
  "kernelspec": {
   "display_name": "Python [conda env:python_course]",
   "language": "python",
   "name": "conda-env-python_course-py"
  },
  "language_info": {
   "codemirror_mode": {
    "name": "ipython",
    "version": 3
   },
   "file_extension": ".py",
   "mimetype": "text/x-python",
   "name": "python",
   "nbconvert_exporter": "python",
   "pygments_lexer": "ipython3",
   "version": "3.9.19"
  }
 },
 "nbformat": 4,
 "nbformat_minor": 5
}
