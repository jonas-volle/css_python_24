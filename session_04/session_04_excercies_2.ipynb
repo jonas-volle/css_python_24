{
 "cells": [
  {
   "cell_type": "markdown",
   "id": "38ae06f2-92df-47fd-ae31-625eb786c01c",
   "metadata": {},
   "source": [
    "# Session 4 - Übung 2"
   ]
  },
  {
   "cell_type": "code",
   "execution_count": null,
   "id": "7d143463-3c18-4c4a-b201-2cb17265d917",
   "metadata": {},
   "outputs": [],
   "source": [
    "import pandas as pd"
   ]
  },
  {
   "cell_type": "markdown",
   "id": "12e558f7-63ad-4bd7-8a3e-4c18c4a7cf35",
   "metadata": {},
   "source": [
    "**Aufgabe 1:** Laden Sie die csv Datei sdf_ger.csv und speichern Sie diese in `sdf`. Schauen Sie sich die ersten 7 Zeilen an."
   ]
  },
  {
   "cell_type": "code",
   "execution_count": null,
   "id": "d72f13d6-82b4-4138-9433-a77a3077535d",
   "metadata": {},
   "outputs": [],
   "source": []
  },
  {
   "cell_type": "markdown",
   "id": "94049b7b-f5e1-4769-a008-f7b4549e3628",
   "metadata": {},
   "source": [
    "**Aufgabe 2:** Berechnen Sie den Mittelwert der Variable v2x_partipdem zwischen 1900 und 1950 und zwischen 1990 und 2018. Wie groß ist die Differenz dieser beiden Werte?"
   ]
  },
  {
   "cell_type": "code",
   "execution_count": null,
   "id": "6a59bdba-82b9-483b-bd0e-a9e0645ced05",
   "metadata": {},
   "outputs": [],
   "source": []
  },
  {
   "cell_type": "code",
   "execution_count": null,
   "id": "9b52cee3-d5d8-4252-beaf-064a09ceeea5",
   "metadata": {},
   "outputs": [],
   "source": []
  },
  {
   "cell_type": "markdown",
   "id": "83fd2744-85d4-49ce-acff-61b1847cbfcc",
   "metadata": {},
   "source": [
    "**Aufgabe 3:** Wählen Sie die 5. bis 30. Zeile in sdf mit `.loc` aus und speicher Sie diese Daten in sub_sdf. Schauen Sie sich den Index an. Reseten Sie den index."
   ]
  },
  {
   "cell_type": "code",
   "execution_count": null,
   "id": "1b1114e8-e017-4836-990e-c189addf1e0d",
   "metadata": {},
   "outputs": [],
   "source": []
  },
  {
   "cell_type": "code",
   "execution_count": null,
   "id": "7488be60-0011-41db-a86f-9195662d108d",
   "metadata": {},
   "outputs": [],
   "source": []
  },
  {
   "cell_type": "code",
   "execution_count": null,
   "id": "685b0fa4-40e5-446a-afba-c0aee42c82cc",
   "metadata": {},
   "outputs": [],
   "source": []
  },
  {
   "cell_type": "code",
   "execution_count": null,
   "id": "1034ec83-0de0-4eb5-aa6f-0d0fd8e8a76c",
   "metadata": {},
   "outputs": [],
   "source": []
  },
  {
   "cell_type": "code",
   "execution_count": null,
   "id": "7094d679-d08b-4175-979b-d3ec41e566c7",
   "metadata": {},
   "outputs": [],
   "source": []
  },
  {
   "cell_type": "code",
   "execution_count": null,
   "id": "67263bd1-b0d9-4b23-82a2-5dcd9e98caa8",
   "metadata": {},
   "outputs": [],
   "source": []
  },
  {
   "cell_type": "markdown",
   "id": "1f8dc17e-f539-460d-9274-830088ee1808",
   "metadata": {},
   "source": [
    "**Aufgabe 4**: Erstellen Sie eine neue Spalte in sub_sdf mit dem Namen `'delibdem_egaldem'`. In dieser Spalte soll die Summe von delibdem und egaldem stehen."
   ]
  },
  {
   "cell_type": "code",
   "execution_count": null,
   "id": "e9a1bf4b-2594-4f51-9d82-ac8790dd566e",
   "metadata": {},
   "outputs": [],
   "source": []
  },
  {
   "cell_type": "code",
   "execution_count": null,
   "id": "72627d5c-dcff-4db7-aea2-6afd6be5fa86",
   "metadata": {},
   "outputs": [],
   "source": []
  },
  {
   "cell_type": "markdown",
   "id": "fb39dfac-b33c-4413-8819-0122acb2fc7c",
   "metadata": {},
   "source": [
    "**Aufgabe 5:** Berechnen Sie den Mittelwert von v2x_libdem für jedes Land ab 2000 in `df`. Verwenden Sie dabei die `.groupby()` und `.mean()` Methode. Speichern Sie das Ergebnis in `libdem_2000`. \n",
    "\n",
    "- Welchen Typ hat dieses Objekt? "
   ]
  },
  {
   "cell_type": "code",
   "execution_count": null,
   "id": "630f1a85-9fd5-431b-bc7d-22ba5538cd00",
   "metadata": {},
   "outputs": [],
   "source": [
    "df = pd.read_csv('../data/vdem/filtered_subset.csv')"
   ]
  },
  {
   "cell_type": "code",
   "execution_count": null,
   "id": "974c168c-bf92-449f-a792-519e02bf2cc9",
   "metadata": {},
   "outputs": [],
   "source": [
    "df.head()"
   ]
  },
  {
   "cell_type": "code",
   "execution_count": null,
   "id": "e4e08b00-3004-4ad6-b65a-98ac8f2cf65e",
   "metadata": {},
   "outputs": [],
   "source": []
  },
  {
   "cell_type": "code",
   "execution_count": null,
   "id": "433bb22f-f4f3-4fc7-99cb-2ec269b30154",
   "metadata": {},
   "outputs": [],
   "source": []
  },
  {
   "cell_type": "code",
   "execution_count": null,
   "id": "a605c8b7-2f85-419b-8b21-5266bfe5951f",
   "metadata": {},
   "outputs": [],
   "source": []
  },
  {
   "cell_type": "markdown",
   "id": "ab865273-f1f8-4e8e-b0a0-1dd2fd34ebdc",
   "metadata": {},
   "source": [
    "**Aufgabe 6:** Wandeln Sie libdem_2000 mit `.reset_index()` in eine DataFrame mit dem Name `libdem_2000_df` um. "
   ]
  },
  {
   "cell_type": "code",
   "execution_count": null,
   "id": "bf38ed2f-05bc-4b87-a577-34a664e357bb",
   "metadata": {},
   "outputs": [],
   "source": []
  },
  {
   "cell_type": "code",
   "execution_count": null,
   "id": "d089e807-f88b-4872-b29c-9bd77366f449",
   "metadata": {},
   "outputs": [],
   "source": []
  },
  {
   "cell_type": "markdown",
   "id": "727e439b-387f-4ca1-9621-b94dc83a5fa3",
   "metadata": {},
   "source": [
    "**Aufgabe 7:** Welchen Wert hat Bangladesh?"
   ]
  },
  {
   "cell_type": "code",
   "execution_count": null,
   "id": "7e064bad-d9fe-45f0-8422-e7d656bbe8fa",
   "metadata": {},
   "outputs": [],
   "source": []
  },
  {
   "cell_type": "markdown",
   "id": "aefd8ad9-1217-4822-8cff-06fe3df8f1dc",
   "metadata": {},
   "source": [
    "**Aufgabe 8:** Welches Land hat den geringsten Wert? (`.sort_values()`)"
   ]
  },
  {
   "cell_type": "code",
   "execution_count": null,
   "id": "0c865d4a-508c-46b2-9a73-b9b46a2dc052",
   "metadata": {},
   "outputs": [],
   "source": []
  },
  {
   "cell_type": "markdown",
   "id": "58a4ec87-e5b6-44b2-a1fe-5fa147c2b407",
   "metadata": {},
   "source": [
    "**Aufgabe 9**: Berechnen Sie für jedes Land das minimum, maximum, Standardabweichung und Mittelwert. Arbeiten Sie dabei mit dem Datafram `df`.\n",
    "\n",
    "1. Gruppieren\n",
    "2. Variable auswählen\n",
    "3. Aggregieren\n",
    "\n",
    "Alle Schritte können verkettet werden."
   ]
  },
  {
   "cell_type": "code",
   "execution_count": null,
   "id": "fc2bfffd-470c-4cfc-933d-2ff8f81cfe44",
   "metadata": {},
   "outputs": [],
   "source": []
  },
  {
   "cell_type": "markdown",
   "id": "f9d20bf2-0716-4f04-aece-321ddd4789dd",
   "metadata": {},
   "source": [
    "**Aufgabe 10:** Welches Land weist die meisten Missings in der Variable `v2x_partipdem` im datafram `df` auf? \n",
    "\n",
    "1. Filtern der nan Zeilen\n",
    "2. Gruppieren\n",
    "3. Größe\n",
    "4. Values sortieren\n"
   ]
  },
  {
   "cell_type": "code",
   "execution_count": null,
   "id": "426027bf-faa1-47a5-b273-e9fe6a0ded4e",
   "metadata": {},
   "outputs": [],
   "source": []
  }
 ],
 "metadata": {
  "kernelspec": {
   "display_name": "Python [conda env:python_course]",
   "language": "python",
   "name": "conda-env-python_course-py"
  },
  "language_info": {
   "codemirror_mode": {
    "name": "ipython",
    "version": 3
   },
   "file_extension": ".py",
   "mimetype": "text/x-python",
   "name": "python",
   "nbconvert_exporter": "python",
   "pygments_lexer": "ipython3",
   "version": "3.9.19"
  }
 },
 "nbformat": 4,
 "nbformat_minor": 5
}
