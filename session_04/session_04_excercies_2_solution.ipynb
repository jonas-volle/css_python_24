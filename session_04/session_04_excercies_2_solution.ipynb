{
 "cells": [
  {
   "cell_type": "markdown",
   "id": "38ae06f2-92df-47fd-ae31-625eb786c01c",
   "metadata": {},
   "source": [
    "# Session 4 - Übung 2"
   ]
  },
  {
   "cell_type": "code",
   "execution_count": 1,
   "id": "7d143463-3c18-4c4a-b201-2cb17265d917",
   "metadata": {},
   "outputs": [],
   "source": [
    "import pandas as pd"
   ]
  },
  {
   "cell_type": "markdown",
   "id": "12e558f7-63ad-4bd7-8a3e-4c18c4a7cf35",
   "metadata": {},
   "source": [
    "**Aufgabe 1:** Laden Sie die csv Datei sdf_ger.csv und speichern Sie diese in `sdf`. Schauen Sie sich die ersten 7 Zeilen an."
   ]
  },
  {
   "cell_type": "code",
   "execution_count": 2,
   "id": "d72f13d6-82b4-4138-9433-a77a3077535d",
   "metadata": {},
   "outputs": [
    {
     "data": {
      "text/html": [
       "<div>\n",
       "<style scoped>\n",
       "    .dataframe tbody tr th:only-of-type {\n",
       "        vertical-align: middle;\n",
       "    }\n",
       "\n",
       "    .dataframe tbody tr th {\n",
       "        vertical-align: top;\n",
       "    }\n",
       "\n",
       "    .dataframe thead th {\n",
       "        text-align: right;\n",
       "    }\n",
       "</style>\n",
       "<table border=\"1\" class=\"dataframe\">\n",
       "  <thead>\n",
       "    <tr style=\"text-align: right;\">\n",
       "      <th></th>\n",
       "      <th>country_name</th>\n",
       "      <th>country_text_id</th>\n",
       "      <th>e_regiongeo</th>\n",
       "      <th>year</th>\n",
       "      <th>v2x_polyarchy</th>\n",
       "      <th>v2x_libdem</th>\n",
       "      <th>v2x_partipdem</th>\n",
       "      <th>v2x_delibdem</th>\n",
       "      <th>v2x_egaldem</th>\n",
       "    </tr>\n",
       "  </thead>\n",
       "  <tbody>\n",
       "    <tr>\n",
       "      <th>0</th>\n",
       "      <td>Germany</td>\n",
       "      <td>DEU</td>\n",
       "      <td>1</td>\n",
       "      <td>1900</td>\n",
       "      <td>0.243</td>\n",
       "      <td>0.221</td>\n",
       "      <td>0.166</td>\n",
       "      <td>0.191</td>\n",
       "      <td>0.185</td>\n",
       "    </tr>\n",
       "    <tr>\n",
       "      <th>1</th>\n",
       "      <td>Germany</td>\n",
       "      <td>DEU</td>\n",
       "      <td>1</td>\n",
       "      <td>1901</td>\n",
       "      <td>0.242</td>\n",
       "      <td>0.222</td>\n",
       "      <td>0.167</td>\n",
       "      <td>0.190</td>\n",
       "      <td>0.176</td>\n",
       "    </tr>\n",
       "    <tr>\n",
       "      <th>2</th>\n",
       "      <td>Germany</td>\n",
       "      <td>DEU</td>\n",
       "      <td>1</td>\n",
       "      <td>1902</td>\n",
       "      <td>0.250</td>\n",
       "      <td>0.222</td>\n",
       "      <td>0.168</td>\n",
       "      <td>0.171</td>\n",
       "      <td>0.172</td>\n",
       "    </tr>\n",
       "    <tr>\n",
       "      <th>3</th>\n",
       "      <td>Germany</td>\n",
       "      <td>DEU</td>\n",
       "      <td>1</td>\n",
       "      <td>1903</td>\n",
       "      <td>0.245</td>\n",
       "      <td>0.219</td>\n",
       "      <td>0.169</td>\n",
       "      <td>0.177</td>\n",
       "      <td>0.171</td>\n",
       "    </tr>\n",
       "    <tr>\n",
       "      <th>4</th>\n",
       "      <td>Germany</td>\n",
       "      <td>DEU</td>\n",
       "      <td>1</td>\n",
       "      <td>1904</td>\n",
       "      <td>0.256</td>\n",
       "      <td>0.216</td>\n",
       "      <td>0.178</td>\n",
       "      <td>0.183</td>\n",
       "      <td>0.172</td>\n",
       "    </tr>\n",
       "    <tr>\n",
       "      <th>5</th>\n",
       "      <td>Germany</td>\n",
       "      <td>DEU</td>\n",
       "      <td>1</td>\n",
       "      <td>1905</td>\n",
       "      <td>0.253</td>\n",
       "      <td>0.210</td>\n",
       "      <td>0.176</td>\n",
       "      <td>0.181</td>\n",
       "      <td>0.172</td>\n",
       "    </tr>\n",
       "    <tr>\n",
       "      <th>6</th>\n",
       "      <td>Germany</td>\n",
       "      <td>DEU</td>\n",
       "      <td>1</td>\n",
       "      <td>1906</td>\n",
       "      <td>0.240</td>\n",
       "      <td>0.212</td>\n",
       "      <td>0.164</td>\n",
       "      <td>0.175</td>\n",
       "      <td>0.173</td>\n",
       "    </tr>\n",
       "  </tbody>\n",
       "</table>\n",
       "</div>"
      ],
      "text/plain": [
       "  country_name country_text_id  e_regiongeo  year  v2x_polyarchy  v2x_libdem  \\\n",
       "0      Germany             DEU            1  1900          0.243       0.221   \n",
       "1      Germany             DEU            1  1901          0.242       0.222   \n",
       "2      Germany             DEU            1  1902          0.250       0.222   \n",
       "3      Germany             DEU            1  1903          0.245       0.219   \n",
       "4      Germany             DEU            1  1904          0.256       0.216   \n",
       "5      Germany             DEU            1  1905          0.253       0.210   \n",
       "6      Germany             DEU            1  1906          0.240       0.212   \n",
       "\n",
       "   v2x_partipdem  v2x_delibdem  v2x_egaldem  \n",
       "0          0.166         0.191        0.185  \n",
       "1          0.167         0.190        0.176  \n",
       "2          0.168         0.171        0.172  \n",
       "3          0.169         0.177        0.171  \n",
       "4          0.178         0.183        0.172  \n",
       "5          0.176         0.181        0.172  \n",
       "6          0.164         0.175        0.173  "
      ]
     },
     "execution_count": 2,
     "metadata": {},
     "output_type": "execute_result"
    }
   ],
   "source": [
    "sdf = pd.read_csv('../data/sdf_ger.csv')\n",
    "sdf.head(7)"
   ]
  },
  {
   "cell_type": "markdown",
   "id": "94049b7b-f5e1-4769-a008-f7b4549e3628",
   "metadata": {},
   "source": [
    "**Aufgabe 2:** Berechnen Sie den Mittelwert der Variable v2x_partipdem zwischen 1900 und 1950 und zwischen 1990 und 2018. Wie groß ist die Differenz dieser beiden Werte?"
   ]
  },
  {
   "cell_type": "code",
   "execution_count": 3,
   "id": "6a59bdba-82b9-483b-bd0e-a9e0645ced05",
   "metadata": {},
   "outputs": [
    {
     "data": {
      "text/plain": [
       "0.22293617021276596"
      ]
     },
     "execution_count": 3,
     "metadata": {},
     "output_type": "execute_result"
    }
   ],
   "source": [
    "v2x_partipdem_1 = sdf[(sdf['year'] >= 1900) & (sdf['year'] <= 1950)]['v2x_partipdem'].mean()\n",
    "v2x_partipdem_1"
   ]
  },
  {
   "cell_type": "code",
   "execution_count": 4,
   "id": "9b52cee3-d5d8-4252-beaf-064a09ceeea5",
   "metadata": {},
   "outputs": [
    {
     "data": {
      "text/plain": [
       "0.645"
      ]
     },
     "execution_count": 4,
     "metadata": {},
     "output_type": "execute_result"
    }
   ],
   "source": [
    "v2x_partipdem_2 = sdf[(sdf['year'] >= 1990) & (sdf['year'] <= 2018)]['v2x_partipdem'].mean()\n",
    "v2x_partipdem_2"
   ]
  },
  {
   "cell_type": "markdown",
   "id": "83fd2744-85d4-49ce-acff-61b1847cbfcc",
   "metadata": {},
   "source": [
    "**Aufgabe 3:** Wählen Sie die 5. bis 30. Zeile in sdf aus und speicher Sie diese Daten in sub_sdf. Schauen Sie sich den Index an. Reseten Sie den index."
   ]
  },
  {
   "cell_type": "code",
   "execution_count": 5,
   "id": "1b1114e8-e017-4836-990e-c189addf1e0d",
   "metadata": {},
   "outputs": [],
   "source": [
    "sub_sdf = sdf.loc[4:31].copy()"
   ]
  },
  {
   "cell_type": "code",
   "execution_count": 6,
   "id": "7488be60-0011-41db-a86f-9195662d108d",
   "metadata": {},
   "outputs": [
    {
     "data": {
      "text/html": [
       "<div>\n",
       "<style scoped>\n",
       "    .dataframe tbody tr th:only-of-type {\n",
       "        vertical-align: middle;\n",
       "    }\n",
       "\n",
       "    .dataframe tbody tr th {\n",
       "        vertical-align: top;\n",
       "    }\n",
       "\n",
       "    .dataframe thead th {\n",
       "        text-align: right;\n",
       "    }\n",
       "</style>\n",
       "<table border=\"1\" class=\"dataframe\">\n",
       "  <thead>\n",
       "    <tr style=\"text-align: right;\">\n",
       "      <th></th>\n",
       "      <th>country_name</th>\n",
       "      <th>country_text_id</th>\n",
       "      <th>e_regiongeo</th>\n",
       "      <th>year</th>\n",
       "      <th>v2x_polyarchy</th>\n",
       "      <th>v2x_libdem</th>\n",
       "      <th>v2x_partipdem</th>\n",
       "      <th>v2x_delibdem</th>\n",
       "      <th>v2x_egaldem</th>\n",
       "    </tr>\n",
       "  </thead>\n",
       "  <tbody>\n",
       "    <tr>\n",
       "      <th>4</th>\n",
       "      <td>Germany</td>\n",
       "      <td>DEU</td>\n",
       "      <td>1</td>\n",
       "      <td>1904</td>\n",
       "      <td>0.256</td>\n",
       "      <td>0.216</td>\n",
       "      <td>0.178</td>\n",
       "      <td>0.183</td>\n",
       "      <td>0.172</td>\n",
       "    </tr>\n",
       "    <tr>\n",
       "      <th>5</th>\n",
       "      <td>Germany</td>\n",
       "      <td>DEU</td>\n",
       "      <td>1</td>\n",
       "      <td>1905</td>\n",
       "      <td>0.253</td>\n",
       "      <td>0.210</td>\n",
       "      <td>0.176</td>\n",
       "      <td>0.181</td>\n",
       "      <td>0.172</td>\n",
       "    </tr>\n",
       "    <tr>\n",
       "      <th>6</th>\n",
       "      <td>Germany</td>\n",
       "      <td>DEU</td>\n",
       "      <td>1</td>\n",
       "      <td>1906</td>\n",
       "      <td>0.240</td>\n",
       "      <td>0.212</td>\n",
       "      <td>0.164</td>\n",
       "      <td>0.175</td>\n",
       "      <td>0.173</td>\n",
       "    </tr>\n",
       "    <tr>\n",
       "      <th>7</th>\n",
       "      <td>Germany</td>\n",
       "      <td>DEU</td>\n",
       "      <td>1</td>\n",
       "      <td>1907</td>\n",
       "      <td>0.256</td>\n",
       "      <td>0.227</td>\n",
       "      <td>0.167</td>\n",
       "      <td>0.180</td>\n",
       "      <td>0.174</td>\n",
       "    </tr>\n",
       "    <tr>\n",
       "      <th>8</th>\n",
       "      <td>Germany</td>\n",
       "      <td>DEU</td>\n",
       "      <td>1</td>\n",
       "      <td>1908</td>\n",
       "      <td>0.243</td>\n",
       "      <td>0.217</td>\n",
       "      <td>0.160</td>\n",
       "      <td>0.173</td>\n",
       "      <td>0.170</td>\n",
       "    </tr>\n",
       "  </tbody>\n",
       "</table>\n",
       "</div>"
      ],
      "text/plain": [
       "  country_name country_text_id  e_regiongeo  year  v2x_polyarchy  v2x_libdem  \\\n",
       "4      Germany             DEU            1  1904          0.256       0.216   \n",
       "5      Germany             DEU            1  1905          0.253       0.210   \n",
       "6      Germany             DEU            1  1906          0.240       0.212   \n",
       "7      Germany             DEU            1  1907          0.256       0.227   \n",
       "8      Germany             DEU            1  1908          0.243       0.217   \n",
       "\n",
       "   v2x_partipdem  v2x_delibdem  v2x_egaldem  \n",
       "4          0.178         0.183        0.172  \n",
       "5          0.176         0.181        0.172  \n",
       "6          0.164         0.175        0.173  \n",
       "7          0.167         0.180        0.174  \n",
       "8          0.160         0.173        0.170  "
      ]
     },
     "execution_count": 6,
     "metadata": {},
     "output_type": "execute_result"
    }
   ],
   "source": [
    "sub_sdf.head()"
   ]
  },
  {
   "cell_type": "code",
   "execution_count": 7,
   "id": "685b0fa4-40e5-446a-afba-c0aee42c82cc",
   "metadata": {},
   "outputs": [
    {
     "data": {
      "text/plain": [
       "RangeIndex(start=4, stop=32, step=1)"
      ]
     },
     "execution_count": 7,
     "metadata": {},
     "output_type": "execute_result"
    }
   ],
   "source": [
    "sub_sdf.index"
   ]
  },
  {
   "cell_type": "code",
   "execution_count": 8,
   "id": "1034ec83-0de0-4eb5-aa6f-0d0fd8e8a76c",
   "metadata": {},
   "outputs": [],
   "source": [
    "sub_sdf = sub_sdf.reset_index(drop = True)"
   ]
  },
  {
   "cell_type": "code",
   "execution_count": 9,
   "id": "7094d679-d08b-4175-979b-d3ec41e566c7",
   "metadata": {},
   "outputs": [
    {
     "data": {
      "text/html": [
       "<div>\n",
       "<style scoped>\n",
       "    .dataframe tbody tr th:only-of-type {\n",
       "        vertical-align: middle;\n",
       "    }\n",
       "\n",
       "    .dataframe tbody tr th {\n",
       "        vertical-align: top;\n",
       "    }\n",
       "\n",
       "    .dataframe thead th {\n",
       "        text-align: right;\n",
       "    }\n",
       "</style>\n",
       "<table border=\"1\" class=\"dataframe\">\n",
       "  <thead>\n",
       "    <tr style=\"text-align: right;\">\n",
       "      <th></th>\n",
       "      <th>country_name</th>\n",
       "      <th>country_text_id</th>\n",
       "      <th>e_regiongeo</th>\n",
       "      <th>year</th>\n",
       "      <th>v2x_polyarchy</th>\n",
       "      <th>v2x_libdem</th>\n",
       "      <th>v2x_partipdem</th>\n",
       "      <th>v2x_delibdem</th>\n",
       "      <th>v2x_egaldem</th>\n",
       "    </tr>\n",
       "  </thead>\n",
       "  <tbody>\n",
       "    <tr>\n",
       "      <th>0</th>\n",
       "      <td>Germany</td>\n",
       "      <td>DEU</td>\n",
       "      <td>1</td>\n",
       "      <td>1904</td>\n",
       "      <td>0.256</td>\n",
       "      <td>0.216</td>\n",
       "      <td>0.178</td>\n",
       "      <td>0.183</td>\n",
       "      <td>0.172</td>\n",
       "    </tr>\n",
       "    <tr>\n",
       "      <th>1</th>\n",
       "      <td>Germany</td>\n",
       "      <td>DEU</td>\n",
       "      <td>1</td>\n",
       "      <td>1905</td>\n",
       "      <td>0.253</td>\n",
       "      <td>0.210</td>\n",
       "      <td>0.176</td>\n",
       "      <td>0.181</td>\n",
       "      <td>0.172</td>\n",
       "    </tr>\n",
       "    <tr>\n",
       "      <th>2</th>\n",
       "      <td>Germany</td>\n",
       "      <td>DEU</td>\n",
       "      <td>1</td>\n",
       "      <td>1906</td>\n",
       "      <td>0.240</td>\n",
       "      <td>0.212</td>\n",
       "      <td>0.164</td>\n",
       "      <td>0.175</td>\n",
       "      <td>0.173</td>\n",
       "    </tr>\n",
       "    <tr>\n",
       "      <th>3</th>\n",
       "      <td>Germany</td>\n",
       "      <td>DEU</td>\n",
       "      <td>1</td>\n",
       "      <td>1907</td>\n",
       "      <td>0.256</td>\n",
       "      <td>0.227</td>\n",
       "      <td>0.167</td>\n",
       "      <td>0.180</td>\n",
       "      <td>0.174</td>\n",
       "    </tr>\n",
       "    <tr>\n",
       "      <th>4</th>\n",
       "      <td>Germany</td>\n",
       "      <td>DEU</td>\n",
       "      <td>1</td>\n",
       "      <td>1908</td>\n",
       "      <td>0.243</td>\n",
       "      <td>0.217</td>\n",
       "      <td>0.160</td>\n",
       "      <td>0.173</td>\n",
       "      <td>0.170</td>\n",
       "    </tr>\n",
       "  </tbody>\n",
       "</table>\n",
       "</div>"
      ],
      "text/plain": [
       "  country_name country_text_id  e_regiongeo  year  v2x_polyarchy  v2x_libdem  \\\n",
       "0      Germany             DEU            1  1904          0.256       0.216   \n",
       "1      Germany             DEU            1  1905          0.253       0.210   \n",
       "2      Germany             DEU            1  1906          0.240       0.212   \n",
       "3      Germany             DEU            1  1907          0.256       0.227   \n",
       "4      Germany             DEU            1  1908          0.243       0.217   \n",
       "\n",
       "   v2x_partipdem  v2x_delibdem  v2x_egaldem  \n",
       "0          0.178         0.183        0.172  \n",
       "1          0.176         0.181        0.172  \n",
       "2          0.164         0.175        0.173  \n",
       "3          0.167         0.180        0.174  \n",
       "4          0.160         0.173        0.170  "
      ]
     },
     "execution_count": 9,
     "metadata": {},
     "output_type": "execute_result"
    }
   ],
   "source": [
    "sub_sdf.head()"
   ]
  },
  {
   "cell_type": "code",
   "execution_count": 10,
   "id": "67263bd1-b0d9-4b23-82a2-5dcd9e98caa8",
   "metadata": {},
   "outputs": [
    {
     "data": {
      "text/plain": [
       "RangeIndex(start=0, stop=28, step=1)"
      ]
     },
     "execution_count": 10,
     "metadata": {},
     "output_type": "execute_result"
    }
   ],
   "source": [
    "sub_sdf.index"
   ]
  },
  {
   "cell_type": "markdown",
   "id": "1f8dc17e-f539-460d-9274-830088ee1808",
   "metadata": {},
   "source": [
    "**Aufgabe 4**: Erstellen Sie eine neue Spalte in sub_sdf mit dem Namen 'delibdem_egaldem'. In dieser Spalte soll die Summe von delibdem und egaldem stehen."
   ]
  },
  {
   "cell_type": "code",
   "execution_count": 11,
   "id": "e9a1bf4b-2594-4f51-9d82-ac8790dd566e",
   "metadata": {},
   "outputs": [],
   "source": [
    "sub_sdf['delibdem_egaldem'] = sub_sdf.v2x_delibdem + sub_sdf.v2x_egaldem"
   ]
  },
  {
   "cell_type": "code",
   "execution_count": 12,
   "id": "72627d5c-dcff-4db7-aea2-6afd6be5fa86",
   "metadata": {},
   "outputs": [
    {
     "data": {
      "text/html": [
       "<div>\n",
       "<style scoped>\n",
       "    .dataframe tbody tr th:only-of-type {\n",
       "        vertical-align: middle;\n",
       "    }\n",
       "\n",
       "    .dataframe tbody tr th {\n",
       "        vertical-align: top;\n",
       "    }\n",
       "\n",
       "    .dataframe thead th {\n",
       "        text-align: right;\n",
       "    }\n",
       "</style>\n",
       "<table border=\"1\" class=\"dataframe\">\n",
       "  <thead>\n",
       "    <tr style=\"text-align: right;\">\n",
       "      <th></th>\n",
       "      <th>v2x_delibdem</th>\n",
       "      <th>v2x_egaldem</th>\n",
       "      <th>delibdem_egaldem</th>\n",
       "    </tr>\n",
       "  </thead>\n",
       "  <tbody>\n",
       "    <tr>\n",
       "      <th>0</th>\n",
       "      <td>0.183</td>\n",
       "      <td>0.172</td>\n",
       "      <td>0.355</td>\n",
       "    </tr>\n",
       "    <tr>\n",
       "      <th>1</th>\n",
       "      <td>0.181</td>\n",
       "      <td>0.172</td>\n",
       "      <td>0.353</td>\n",
       "    </tr>\n",
       "    <tr>\n",
       "      <th>2</th>\n",
       "      <td>0.175</td>\n",
       "      <td>0.173</td>\n",
       "      <td>0.348</td>\n",
       "    </tr>\n",
       "    <tr>\n",
       "      <th>3</th>\n",
       "      <td>0.180</td>\n",
       "      <td>0.174</td>\n",
       "      <td>0.354</td>\n",
       "    </tr>\n",
       "    <tr>\n",
       "      <th>4</th>\n",
       "      <td>0.173</td>\n",
       "      <td>0.170</td>\n",
       "      <td>0.343</td>\n",
       "    </tr>\n",
       "  </tbody>\n",
       "</table>\n",
       "</div>"
      ],
      "text/plain": [
       "   v2x_delibdem  v2x_egaldem  delibdem_egaldem\n",
       "0         0.183        0.172             0.355\n",
       "1         0.181        0.172             0.353\n",
       "2         0.175        0.173             0.348\n",
       "3         0.180        0.174             0.354\n",
       "4         0.173        0.170             0.343"
      ]
     },
     "execution_count": 12,
     "metadata": {},
     "output_type": "execute_result"
    }
   ],
   "source": [
    "sub_sdf[[\"v2x_delibdem\", \"v2x_egaldem\", 'delibdem_egaldem' ]].head()"
   ]
  },
  {
   "cell_type": "markdown",
   "id": "fb39dfac-b33c-4413-8819-0122acb2fc7c",
   "metadata": {},
   "source": [
    "**Aufgabe 5:** Berechnen Sie den Mittelwert von v2x_libdem für jedes Land ab 2000 in `df`. Verwenden Sie dabei die `.groupby()` und `.mean()` Methode. Speichern Sie das Ergebnis in `libdem_2000`. \n",
    "\n",
    "- Welchen Typ hat dieses Objekt? "
   ]
  },
  {
   "cell_type": "code",
   "execution_count": 13,
   "id": "630f1a85-9fd5-431b-bc7d-22ba5538cd00",
   "metadata": {},
   "outputs": [],
   "source": [
    "df = pd.read_csv('../data/vdem/filtered_subset.csv')"
   ]
  },
  {
   "cell_type": "code",
   "execution_count": 14,
   "id": "974c168c-bf92-449f-a792-519e02bf2cc9",
   "metadata": {},
   "outputs": [
    {
     "data": {
      "text/html": [
       "<div>\n",
       "<style scoped>\n",
       "    .dataframe tbody tr th:only-of-type {\n",
       "        vertical-align: middle;\n",
       "    }\n",
       "\n",
       "    .dataframe tbody tr th {\n",
       "        vertical-align: top;\n",
       "    }\n",
       "\n",
       "    .dataframe thead th {\n",
       "        text-align: right;\n",
       "    }\n",
       "</style>\n",
       "<table border=\"1\" class=\"dataframe\">\n",
       "  <thead>\n",
       "    <tr style=\"text-align: right;\">\n",
       "      <th></th>\n",
       "      <th>country_name</th>\n",
       "      <th>country_text_id</th>\n",
       "      <th>e_regiongeo</th>\n",
       "      <th>year</th>\n",
       "      <th>v2x_polyarchy</th>\n",
       "      <th>v2x_libdem</th>\n",
       "      <th>v2x_partipdem</th>\n",
       "      <th>v2x_delibdem</th>\n",
       "      <th>v2x_egaldem</th>\n",
       "      <th>v2smprivex</th>\n",
       "      <th>v2smpolsoc</th>\n",
       "      <th>v2caviol</th>\n",
       "      <th>e_boix_regime</th>\n",
       "    </tr>\n",
       "  </thead>\n",
       "  <tbody>\n",
       "    <tr>\n",
       "      <th>0</th>\n",
       "      <td>Mexico</td>\n",
       "      <td>MEX</td>\n",
       "      <td>17</td>\n",
       "      <td>1900</td>\n",
       "      <td>0.118</td>\n",
       "      <td>0.061</td>\n",
       "      <td>0.098</td>\n",
       "      <td>0.034</td>\n",
       "      <td>0.028</td>\n",
       "      <td>NaN</td>\n",
       "      <td>NaN</td>\n",
       "      <td>1.323</td>\n",
       "      <td>0.0</td>\n",
       "    </tr>\n",
       "    <tr>\n",
       "      <th>1</th>\n",
       "      <td>Mexico</td>\n",
       "      <td>MEX</td>\n",
       "      <td>17</td>\n",
       "      <td>1901</td>\n",
       "      <td>0.118</td>\n",
       "      <td>0.061</td>\n",
       "      <td>0.098</td>\n",
       "      <td>0.034</td>\n",
       "      <td>0.028</td>\n",
       "      <td>NaN</td>\n",
       "      <td>NaN</td>\n",
       "      <td>1.323</td>\n",
       "      <td>0.0</td>\n",
       "    </tr>\n",
       "    <tr>\n",
       "      <th>2</th>\n",
       "      <td>Mexico</td>\n",
       "      <td>MEX</td>\n",
       "      <td>17</td>\n",
       "      <td>1902</td>\n",
       "      <td>0.118</td>\n",
       "      <td>0.061</td>\n",
       "      <td>0.098</td>\n",
       "      <td>0.034</td>\n",
       "      <td>0.028</td>\n",
       "      <td>NaN</td>\n",
       "      <td>NaN</td>\n",
       "      <td>1.323</td>\n",
       "      <td>0.0</td>\n",
       "    </tr>\n",
       "    <tr>\n",
       "      <th>3</th>\n",
       "      <td>Mexico</td>\n",
       "      <td>MEX</td>\n",
       "      <td>17</td>\n",
       "      <td>1903</td>\n",
       "      <td>0.118</td>\n",
       "      <td>0.061</td>\n",
       "      <td>0.098</td>\n",
       "      <td>0.034</td>\n",
       "      <td>0.028</td>\n",
       "      <td>NaN</td>\n",
       "      <td>NaN</td>\n",
       "      <td>1.323</td>\n",
       "      <td>0.0</td>\n",
       "    </tr>\n",
       "    <tr>\n",
       "      <th>4</th>\n",
       "      <td>Mexico</td>\n",
       "      <td>MEX</td>\n",
       "      <td>17</td>\n",
       "      <td>1904</td>\n",
       "      <td>0.118</td>\n",
       "      <td>0.061</td>\n",
       "      <td>0.098</td>\n",
       "      <td>0.034</td>\n",
       "      <td>0.028</td>\n",
       "      <td>NaN</td>\n",
       "      <td>NaN</td>\n",
       "      <td>1.323</td>\n",
       "      <td>0.0</td>\n",
       "    </tr>\n",
       "  </tbody>\n",
       "</table>\n",
       "</div>"
      ],
      "text/plain": [
       "  country_name country_text_id  e_regiongeo  year  v2x_polyarchy  v2x_libdem  \\\n",
       "0       Mexico             MEX           17  1900          0.118       0.061   \n",
       "1       Mexico             MEX           17  1901          0.118       0.061   \n",
       "2       Mexico             MEX           17  1902          0.118       0.061   \n",
       "3       Mexico             MEX           17  1903          0.118       0.061   \n",
       "4       Mexico             MEX           17  1904          0.118       0.061   \n",
       "\n",
       "   v2x_partipdem  v2x_delibdem  v2x_egaldem  v2smprivex  v2smpolsoc  v2caviol  \\\n",
       "0          0.098         0.034        0.028         NaN         NaN     1.323   \n",
       "1          0.098         0.034        0.028         NaN         NaN     1.323   \n",
       "2          0.098         0.034        0.028         NaN         NaN     1.323   \n",
       "3          0.098         0.034        0.028         NaN         NaN     1.323   \n",
       "4          0.098         0.034        0.028         NaN         NaN     1.323   \n",
       "\n",
       "   e_boix_regime  \n",
       "0            0.0  \n",
       "1            0.0  \n",
       "2            0.0  \n",
       "3            0.0  \n",
       "4            0.0  "
      ]
     },
     "execution_count": 14,
     "metadata": {},
     "output_type": "execute_result"
    }
   ],
   "source": [
    "df.head()"
   ]
  },
  {
   "cell_type": "code",
   "execution_count": 15,
   "id": "e4e08b00-3004-4ad6-b65a-98ac8f2cf65e",
   "metadata": {},
   "outputs": [],
   "source": [
    "libdem_2000 = df[df.year >= 2000].groupby('country_name')['v2x_libdem'].mean()"
   ]
  },
  {
   "cell_type": "code",
   "execution_count": 16,
   "id": "433bb22f-f4f3-4fc7-99cb-2ec269b30154",
   "metadata": {},
   "outputs": [
    {
     "data": {
      "text/plain": [
       "country_name\n",
       "Afghanistan    0.194200\n",
       "Albania        0.429850\n",
       "Algeria        0.140700\n",
       "Angola         0.138450\n",
       "Argentina      0.616750\n",
       "Armenia        0.239150\n",
       "Australia      0.828950\n",
       "Austria        0.778350\n",
       "Azerbaijan     0.071350\n",
       "Bahrain        0.065056\n",
       "Bangladesh     0.184200\n",
       "Barbados       0.671150\n",
       "Belarus        0.096150\n",
       "Name: v2x_libdem, dtype: float64"
      ]
     },
     "execution_count": 16,
     "metadata": {},
     "output_type": "execute_result"
    }
   ],
   "source": [
    "libdem_2000[0:13]"
   ]
  },
  {
   "cell_type": "code",
   "execution_count": 17,
   "id": "a605c8b7-2f85-419b-8b21-5266bfe5951f",
   "metadata": {},
   "outputs": [
    {
     "data": {
      "text/plain": [
       "pandas.core.series.Series"
      ]
     },
     "execution_count": 17,
     "metadata": {},
     "output_type": "execute_result"
    }
   ],
   "source": [
    "type(libdem_2000)"
   ]
  },
  {
   "cell_type": "markdown",
   "id": "ab865273-f1f8-4e8e-b0a0-1dd2fd34ebdc",
   "metadata": {},
   "source": [
    "**Aufgabe 6:** Wandeln Sie libdem_2000 mit `.reset_index()` in eine DataFrame mit dem Name `libdem_2000_df` um. "
   ]
  },
  {
   "cell_type": "code",
   "execution_count": 18,
   "id": "bf38ed2f-05bc-4b87-a577-34a664e357bb",
   "metadata": {},
   "outputs": [],
   "source": [
    "libdem_2000_df = libdem_2000.reset_index()"
   ]
  },
  {
   "cell_type": "code",
   "execution_count": 19,
   "id": "d089e807-f88b-4872-b29c-9bd77366f449",
   "metadata": {},
   "outputs": [
    {
     "data": {
      "text/html": [
       "<div>\n",
       "<style scoped>\n",
       "    .dataframe tbody tr th:only-of-type {\n",
       "        vertical-align: middle;\n",
       "    }\n",
       "\n",
       "    .dataframe tbody tr th {\n",
       "        vertical-align: top;\n",
       "    }\n",
       "\n",
       "    .dataframe thead th {\n",
       "        text-align: right;\n",
       "    }\n",
       "</style>\n",
       "<table border=\"1\" class=\"dataframe\">\n",
       "  <thead>\n",
       "    <tr style=\"text-align: right;\">\n",
       "      <th></th>\n",
       "      <th>country_name</th>\n",
       "      <th>v2x_libdem</th>\n",
       "    </tr>\n",
       "  </thead>\n",
       "  <tbody>\n",
       "    <tr>\n",
       "      <th>0</th>\n",
       "      <td>Afghanistan</td>\n",
       "      <td>0.19420</td>\n",
       "    </tr>\n",
       "    <tr>\n",
       "      <th>1</th>\n",
       "      <td>Albania</td>\n",
       "      <td>0.42985</td>\n",
       "    </tr>\n",
       "    <tr>\n",
       "      <th>2</th>\n",
       "      <td>Algeria</td>\n",
       "      <td>0.14070</td>\n",
       "    </tr>\n",
       "    <tr>\n",
       "      <th>3</th>\n",
       "      <td>Angola</td>\n",
       "      <td>0.13845</td>\n",
       "    </tr>\n",
       "    <tr>\n",
       "      <th>4</th>\n",
       "      <td>Argentina</td>\n",
       "      <td>0.61675</td>\n",
       "    </tr>\n",
       "  </tbody>\n",
       "</table>\n",
       "</div>"
      ],
      "text/plain": [
       "  country_name  v2x_libdem\n",
       "0  Afghanistan     0.19420\n",
       "1      Albania     0.42985\n",
       "2      Algeria     0.14070\n",
       "3       Angola     0.13845\n",
       "4    Argentina     0.61675"
      ]
     },
     "execution_count": 19,
     "metadata": {},
     "output_type": "execute_result"
    }
   ],
   "source": [
    "libdem_2000_df.head()"
   ]
  },
  {
   "cell_type": "markdown",
   "id": "727e439b-387f-4ca1-9621-b94dc83a5fa3",
   "metadata": {},
   "source": [
    "**Aufgabe 7:** Welchen Wert hat Bangladesh?"
   ]
  },
  {
   "cell_type": "code",
   "execution_count": 20,
   "id": "7e064bad-d9fe-45f0-8422-e7d656bbe8fa",
   "metadata": {},
   "outputs": [
    {
     "data": {
      "text/html": [
       "<div>\n",
       "<style scoped>\n",
       "    .dataframe tbody tr th:only-of-type {\n",
       "        vertical-align: middle;\n",
       "    }\n",
       "\n",
       "    .dataframe tbody tr th {\n",
       "        vertical-align: top;\n",
       "    }\n",
       "\n",
       "    .dataframe thead th {\n",
       "        text-align: right;\n",
       "    }\n",
       "</style>\n",
       "<table border=\"1\" class=\"dataframe\">\n",
       "  <thead>\n",
       "    <tr style=\"text-align: right;\">\n",
       "      <th></th>\n",
       "      <th>country_name</th>\n",
       "      <th>v2x_libdem</th>\n",
       "    </tr>\n",
       "  </thead>\n",
       "  <tbody>\n",
       "    <tr>\n",
       "      <th>10</th>\n",
       "      <td>Bangladesh</td>\n",
       "      <td>0.1842</td>\n",
       "    </tr>\n",
       "  </tbody>\n",
       "</table>\n",
       "</div>"
      ],
      "text/plain": [
       "   country_name  v2x_libdem\n",
       "10   Bangladesh      0.1842"
      ]
     },
     "execution_count": 20,
     "metadata": {},
     "output_type": "execute_result"
    }
   ],
   "source": [
    "libdem_2000_df[libdem_2000_df.country_name == 'Bangladesh']"
   ]
  },
  {
   "cell_type": "markdown",
   "id": "aefd8ad9-1217-4822-8cff-06fe3df8f1dc",
   "metadata": {},
   "source": [
    "**Aufgabe 8:** Welches Land hat den geringsten Wert? (`.sort_values()`)"
   ]
  },
  {
   "cell_type": "code",
   "execution_count": 21,
   "id": "0c865d4a-508c-46b2-9a73-b9b46a2dc052",
   "metadata": {},
   "outputs": [
    {
     "data": {
      "text/html": [
       "<div>\n",
       "<style scoped>\n",
       "    .dataframe tbody tr th:only-of-type {\n",
       "        vertical-align: middle;\n",
       "    }\n",
       "\n",
       "    .dataframe tbody tr th {\n",
       "        vertical-align: top;\n",
       "    }\n",
       "\n",
       "    .dataframe thead th {\n",
       "        text-align: right;\n",
       "    }\n",
       "</style>\n",
       "<table border=\"1\" class=\"dataframe\">\n",
       "  <thead>\n",
       "    <tr style=\"text-align: right;\">\n",
       "      <th></th>\n",
       "      <th>country_name</th>\n",
       "      <th>v2x_libdem</th>\n",
       "    </tr>\n",
       "  </thead>\n",
       "  <tbody>\n",
       "    <tr>\n",
       "      <th>47</th>\n",
       "      <td>Eritrea</td>\n",
       "      <td>0.00830</td>\n",
       "    </tr>\n",
       "    <tr>\n",
       "      <th>113</th>\n",
       "      <td>North Korea</td>\n",
       "      <td>0.01325</td>\n",
       "    </tr>\n",
       "    <tr>\n",
       "      <th>164</th>\n",
       "      <td>Turkmenistan</td>\n",
       "      <td>0.03105</td>\n",
       "    </tr>\n",
       "    <tr>\n",
       "      <th>133</th>\n",
       "      <td>Saudi Arabia</td>\n",
       "      <td>0.03445</td>\n",
       "    </tr>\n",
       "    <tr>\n",
       "      <th>171</th>\n",
       "      <td>Uzbekistan</td>\n",
       "      <td>0.04275</td>\n",
       "    </tr>\n",
       "    <tr>\n",
       "      <th>...</th>\n",
       "      <td>...</td>\n",
       "      <td>...</td>\n",
       "    </tr>\n",
       "    <tr>\n",
       "      <th>34</th>\n",
       "      <td>Costa Rica</td>\n",
       "      <td>0.83815</td>\n",
       "    </tr>\n",
       "    <tr>\n",
       "      <th>56</th>\n",
       "      <td>Germany</td>\n",
       "      <td>0.84425</td>\n",
       "    </tr>\n",
       "    <tr>\n",
       "      <th>115</th>\n",
       "      <td>Norway</td>\n",
       "      <td>0.85680</td>\n",
       "    </tr>\n",
       "    <tr>\n",
       "      <th>40</th>\n",
       "      <td>Denmark</td>\n",
       "      <td>0.86920</td>\n",
       "    </tr>\n",
       "    <tr>\n",
       "      <th>151</th>\n",
       "      <td>Sweden</td>\n",
       "      <td>0.87245</td>\n",
       "    </tr>\n",
       "  </tbody>\n",
       "</table>\n",
       "<p>179 rows × 2 columns</p>\n",
       "</div>"
      ],
      "text/plain": [
       "     country_name  v2x_libdem\n",
       "47        Eritrea     0.00830\n",
       "113   North Korea     0.01325\n",
       "164  Turkmenistan     0.03105\n",
       "133  Saudi Arabia     0.03445\n",
       "171    Uzbekistan     0.04275\n",
       "..            ...         ...\n",
       "34     Costa Rica     0.83815\n",
       "56        Germany     0.84425\n",
       "115        Norway     0.85680\n",
       "40        Denmark     0.86920\n",
       "151        Sweden     0.87245\n",
       "\n",
       "[179 rows x 2 columns]"
      ]
     },
     "execution_count": 21,
     "metadata": {},
     "output_type": "execute_result"
    }
   ],
   "source": [
    "libdem_2000_df.sort_values(by='v2x_libdem')"
   ]
  },
  {
   "cell_type": "markdown",
   "id": "58a4ec87-e5b6-44b2-a1fe-5fa147c2b407",
   "metadata": {},
   "source": [
    "**Aufgabe 9**: Berechnen Sie für jedes Land das minimum, maximum, Standardabweichung und Mittelwert. Arbeiten Sie dabei mit dem Datafram `df`.\n",
    "\n",
    "1. Gruppieren\n",
    "2. Variable auswählen\n",
    "3. Aggregieren\n",
    "\n",
    "Alle Schritte können verkettet werden."
   ]
  },
  {
   "cell_type": "code",
   "execution_count": 22,
   "id": "fc2bfffd-470c-4cfc-933d-2ff8f81cfe44",
   "metadata": {},
   "outputs": [
    {
     "data": {
      "text/html": [
       "<div>\n",
       "<style scoped>\n",
       "    .dataframe tbody tr th:only-of-type {\n",
       "        vertical-align: middle;\n",
       "    }\n",
       "\n",
       "    .dataframe tbody tr th {\n",
       "        vertical-align: top;\n",
       "    }\n",
       "\n",
       "    .dataframe thead tr th {\n",
       "        text-align: left;\n",
       "    }\n",
       "\n",
       "    .dataframe thead tr:last-of-type th {\n",
       "        text-align: right;\n",
       "    }\n",
       "</style>\n",
       "<table border=\"1\" class=\"dataframe\">\n",
       "  <thead>\n",
       "    <tr>\n",
       "      <th></th>\n",
       "      <th colspan=\"4\" halign=\"left\">v2x_polyarchy</th>\n",
       "    </tr>\n",
       "    <tr>\n",
       "      <th></th>\n",
       "      <th>min</th>\n",
       "      <th>max</th>\n",
       "      <th>std</th>\n",
       "      <th>mean</th>\n",
       "    </tr>\n",
       "    <tr>\n",
       "      <th>country_name</th>\n",
       "      <th></th>\n",
       "      <th></th>\n",
       "      <th></th>\n",
       "      <th></th>\n",
       "    </tr>\n",
       "  </thead>\n",
       "  <tbody>\n",
       "    <tr>\n",
       "      <th>Afghanistan</th>\n",
       "      <td>0.023</td>\n",
       "      <td>0.425</td>\n",
       "      <td>0.105902</td>\n",
       "      <td>0.128142</td>\n",
       "    </tr>\n",
       "    <tr>\n",
       "      <th>Albania</th>\n",
       "      <td>0.050</td>\n",
       "      <td>0.563</td>\n",
       "      <td>0.154186</td>\n",
       "      <td>0.245877</td>\n",
       "    </tr>\n",
       "    <tr>\n",
       "      <th>Algeria</th>\n",
       "      <td>0.044</td>\n",
       "      <td>0.372</td>\n",
       "      <td>0.114592</td>\n",
       "      <td>0.143608</td>\n",
       "    </tr>\n",
       "    <tr>\n",
       "      <th>Angola</th>\n",
       "      <td>0.009</td>\n",
       "      <td>0.386</td>\n",
       "      <td>0.095213</td>\n",
       "      <td>0.068042</td>\n",
       "    </tr>\n",
       "    <tr>\n",
       "      <th>Argentina</th>\n",
       "      <td>0.074</td>\n",
       "      <td>0.843</td>\n",
       "      <td>0.265407</td>\n",
       "      <td>0.450642</td>\n",
       "    </tr>\n",
       "    <tr>\n",
       "      <th>...</th>\n",
       "      <td>...</td>\n",
       "      <td>...</td>\n",
       "      <td>...</td>\n",
       "      <td>...</td>\n",
       "    </tr>\n",
       "    <tr>\n",
       "      <th>Vietnam</th>\n",
       "      <td>0.095</td>\n",
       "      <td>0.313</td>\n",
       "      <td>0.044183</td>\n",
       "      <td>0.197613</td>\n",
       "    </tr>\n",
       "    <tr>\n",
       "      <th>Yemen</th>\n",
       "      <td>0.020</td>\n",
       "      <td>0.359</td>\n",
       "      <td>0.121251</td>\n",
       "      <td>0.113382</td>\n",
       "    </tr>\n",
       "    <tr>\n",
       "      <th>Zambia</th>\n",
       "      <td>0.041</td>\n",
       "      <td>0.537</td>\n",
       "      <td>0.166336</td>\n",
       "      <td>0.223945</td>\n",
       "    </tr>\n",
       "    <tr>\n",
       "      <th>Zanzibar</th>\n",
       "      <td>0.017</td>\n",
       "      <td>0.360</td>\n",
       "      <td>0.104111</td>\n",
       "      <td>0.107617</td>\n",
       "    </tr>\n",
       "    <tr>\n",
       "      <th>Zimbabwe</th>\n",
       "      <td>0.061</td>\n",
       "      <td>0.316</td>\n",
       "      <td>0.042862</td>\n",
       "      <td>0.245966</td>\n",
       "    </tr>\n",
       "  </tbody>\n",
       "</table>\n",
       "<p>183 rows × 4 columns</p>\n",
       "</div>"
      ],
      "text/plain": [
       "             v2x_polyarchy                           \n",
       "                       min    max       std      mean\n",
       "country_name                                         \n",
       "Afghanistan          0.023  0.425  0.105902  0.128142\n",
       "Albania              0.050  0.563  0.154186  0.245877\n",
       "Algeria              0.044  0.372  0.114592  0.143608\n",
       "Angola               0.009  0.386  0.095213  0.068042\n",
       "Argentina            0.074  0.843  0.265407  0.450642\n",
       "...                    ...    ...       ...       ...\n",
       "Vietnam              0.095  0.313  0.044183  0.197613\n",
       "Yemen                0.020  0.359  0.121251  0.113382\n",
       "Zambia               0.041  0.537  0.166336  0.223945\n",
       "Zanzibar             0.017  0.360  0.104111  0.107617\n",
       "Zimbabwe             0.061  0.316  0.042862  0.245966\n",
       "\n",
       "[183 rows x 4 columns]"
      ]
     },
     "execution_count": 22,
     "metadata": {},
     "output_type": "execute_result"
    }
   ],
   "source": [
    "df.groupby('country_name')[['v2x_polyarchy']].agg(['min', 'max', 'std', 'mean'])"
   ]
  },
  {
   "cell_type": "markdown",
   "id": "f9d20bf2-0716-4f04-aece-321ddd4789dd",
   "metadata": {},
   "source": [
    "**Aufgabe 10:** Welches Land weist die meisten Missings in der Variable `v2x_partipdem` im datafram `df` auf? \n",
    "\n",
    "1. Filtern der nan Zeilen\n",
    "2. Gruppieren\n",
    "3. Größe\n",
    "4. Values sortieren\n"
   ]
  },
  {
   "cell_type": "code",
   "execution_count": 23,
   "id": "426027bf-faa1-47a5-b273-e9fe6a0ded4e",
   "metadata": {},
   "outputs": [
    {
     "data": {
      "text/plain": [
       "country_name\n",
       "Timor-Leste                   62\n",
       "Honduras                      24\n",
       "Libya                         23\n",
       "Mozambique                    20\n",
       "Luxembourg                    15\n",
       "Egypt                         13\n",
       "Uzbekistan                    12\n",
       "Vanuatu                        6\n",
       "Slovakia                       6\n",
       "German Democratic Republic     4\n",
       "El Salvador                    3\n",
       "Republic of Vietnam            2\n",
       "Albania                        2\n",
       "Zimbabwe                       2\n",
       "Nicaragua                      1\n",
       "Tanzania                       1\n",
       "Lebanon                        1\n",
       "Turkmenistan                   1\n",
       "Kazakhstan                     1\n",
       "Jamaica                        1\n",
       "dtype: int64"
      ]
     },
     "execution_count": 23,
     "metadata": {},
     "output_type": "execute_result"
    }
   ],
   "source": [
    "df[df.v2x_partipdem.isna()].groupby('country_name').size().sort_values(ascending=False)"
   ]
  }
 ],
 "metadata": {
  "kernelspec": {
   "display_name": "Python [conda env:python_course]",
   "language": "python",
   "name": "conda-env-python_course-py"
  },
  "language_info": {
   "codemirror_mode": {
    "name": "ipython",
    "version": 3
   },
   "file_extension": ".py",
   "mimetype": "text/x-python",
   "name": "python",
   "nbconvert_exporter": "python",
   "pygments_lexer": "ipython3",
   "version": "3.9.19"
  }
 },
 "nbformat": 4,
 "nbformat_minor": 5
}
