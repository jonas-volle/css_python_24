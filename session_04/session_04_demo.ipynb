{
 "cells": [
  {
   "cell_type": "markdown",
   "id": "96cceb18-3c3d-49e6-8e3d-26c79570f697",
   "metadata": {
    "editable": true,
    "slideshow": {
     "slide_type": "slide"
    },
    "tags": []
   },
   "source": [
    "# Einführung in Python für die Computational Social Science (CSS)\n",
    "## Session 04 - Pandas\n",
    "\n",
    "\n",
    "\n",
    "## Jonas Volle\n",
    "Wissenschaftlicher Mitarbeiter  \n",
    "Chair of Methodology and Empirical Social Research  \n",
    "Otto-von-Guericke-Universität  \n",
    "\n",
    "[jonas.volle@ovgu.de](mailto:jonas.volle@ovgu.de)\n",
    "\n",
    "**Sprechstunde**: individuell nach vorheriger Anmeldung per [Mail](mailto:jonas.volle@ovgu.de)\n",
    "\n",
    "Donnerstag, 06.06.2023"
   ]
  },
  {
   "cell_type": "markdown",
   "id": "9bee7974-dbec-4873-b9c1-03ae5bbb08de",
   "metadata": {},
   "source": [
    "**Quelle:** Ich orientiere mich für diese Sitzung an den Kapiteln 3 und 6 aus dem Buch:  \n",
    "\n",
    "McLevey, John. 2021. Doing Computational Social Science: A Practical Introduction. 1st ed. Thousand Oaks: SAGE Publications.\n"
   ]
  },
  {
   "cell_type": "markdown",
   "id": "f35724eb-2bc7-4473-a286-d561f3ecc4e7",
   "metadata": {},
   "source": [
    "## Inhalt\n",
    "\n",
    "- Datenmanagement mit pandas\n"
   ]
  },
  {
   "cell_type": "markdown",
   "id": "db891724-c23b-4999-a01b-467ee197db64",
   "metadata": {},
   "source": [
    "## 1. Datenmanagement mit Pandas"
   ]
  },
  {
   "cell_type": "markdown",
   "id": "1d9be2c4-c283-46d7-bb4a-767d3e0bdbc9",
   "metadata": {},
   "source": [
    "Nun verwenden wir Python nicht mehr als allgemeine Programmiersprache, sondern zur Verarbeitung von Daten mit Hilfe spezieller Datenverwaltungs- und -analysepakete. Wir werden uns in erster Linie auf ein Paket namens *Pandas* stützen. Pandas wurde von Wes McKinney für die Analyse von Paneldaten entwickelt (daher der Name). Es verfügt über spezielle Datenstrukturen, Funktionen und Methoden, mit denen Sie die meisten Datenverarbeitungsvorgänge für strukturierte quantitative Daten erledigen können."
   ]
  },
  {
   "cell_type": "markdown",
   "id": "539eee3d-21fa-4442-8b75-81456308b64f",
   "metadata": {},
   "source": [
    "Pandas Dokumentation: https://pandas.pydata.org/docs/reference/index.html"
   ]
  },
  {
   "cell_type": "markdown",
   "id": "c535d97f-5482-483c-b515-07c456c1608a",
   "metadata": {},
   "source": [
    "### Import"
   ]
  },
  {
   "cell_type": "code",
   "execution_count": 1,
   "id": "a3792c2b-68ac-4f4e-91a4-4a32a1f73707",
   "metadata": {},
   "outputs": [],
   "source": [
    "import pandas as pd"
   ]
  },
  {
   "cell_type": "markdown",
   "id": "d933aa8b-6a55-4d87-a3c3-bf0cde71883d",
   "metadata": {},
   "source": [
    "### Datenimport mit pandas"
   ]
  },
  {
   "cell_type": "markdown",
   "id": "ca64e403-fd6e-4503-9066-fe71d8315995",
   "metadata": {},
   "source": [
    "Das Pandas-Paket macht es einfach, Daten aus einer externen Datei direkt in ein Dataframe-Objekt zu laden."
   ]
  },
  {
   "cell_type": "markdown",
   "id": "35f8f50d-516c-4e0b-9005-f463094fa145",
   "metadata": {},
   "source": [
    "| Datentyp | Reader | Writer |\n",
    "|----------|----------|----------|\n",
    "| CSV    | `read_csv()`   | `to_csv()`   |\n",
    "| JSON    | `read_json()`   | `to_json()`   |\n",
    "| Stata   | `read_stata()`   | `to_stata()`   |\n",
    "| SAS   | `read_sas()`   | NA   |\n",
    "| SPSS   | `read_spss()`   | NA   |\n"
   ]
  },
  {
   "cell_type": "markdown",
   "id": "e863a46b-ca70-4ee5-867a-250416c7f3f9",
   "metadata": {},
   "source": [
    "In diesem Kapitel werden Daten aus dem VDEM-Datensatz (Varieties of Democracy) verwendet. VDEM ist ein laufendes Forschungsprojekt zur Messung des Niveaus der Demokratie in Regierungen auf der ganzen Welt, und es werden laufend aktualisierte Versionen des Datensatzes veröffentlicht. Die Forschung wird von einem Team aus mehr als 50 Sozialwissenschaftlern geleitet, die die Sammlung und Analyse von Experteneinschätzungen von mehr als 3200 Historikern und Länderexperten koordinieren. Auf der Grundlage dieser Einschätzungen hat das VDEM-Projekt eine bemerkenswert komplexe Reihe von Indikatoren entwickelt, die sich an fünf übergeordneten Facetten der Demokratie orientieren: Wahldemokratie, liberale Demokratie, partizipative Demokratie, deliberative Demokratie und egalitäre Demokratie. Der Datensatz reicht bis ins Jahr 1789 zurück und gilt als Goldstandard für quantitative Daten über globale demokratische Entwicklungen.  \n",
    "\n",
    "Das Codebuch finden Sie hier: https://v-dem.net/documents/24/codebook_v13.pdf"
   ]
  },
  {
   "cell_type": "code",
   "execution_count": 2,
   "id": "06502fab-a5e8-444f-9f84-8fea3d5690b0",
   "metadata": {
    "scrolled": true
   },
   "outputs": [
    {
     "data": {
      "text/plain": [
       "\u001b[0;31mSignature:\u001b[0m\n",
       "\u001b[0mpd\u001b[0m\u001b[0;34m.\u001b[0m\u001b[0mread_csv\u001b[0m\u001b[0;34m(\u001b[0m\u001b[0;34m\u001b[0m\n",
       "\u001b[0;34m\u001b[0m    \u001b[0mfilepath_or_buffer\u001b[0m\u001b[0;34m:\u001b[0m \u001b[0;34m'FilePath | ReadCsvBuffer[bytes] | ReadCsvBuffer[str]'\u001b[0m\u001b[0;34m,\u001b[0m\u001b[0;34m\u001b[0m\n",
       "\u001b[0;34m\u001b[0m    \u001b[0;34m*\u001b[0m\u001b[0;34m,\u001b[0m\u001b[0;34m\u001b[0m\n",
       "\u001b[0;34m\u001b[0m    \u001b[0msep\u001b[0m\u001b[0;34m:\u001b[0m \u001b[0;34m'str | None | lib.NoDefault'\u001b[0m \u001b[0;34m=\u001b[0m \u001b[0;34m<\u001b[0m\u001b[0mno_default\u001b[0m\u001b[0;34m>\u001b[0m\u001b[0;34m,\u001b[0m\u001b[0;34m\u001b[0m\n",
       "\u001b[0;34m\u001b[0m    \u001b[0mdelimiter\u001b[0m\u001b[0;34m:\u001b[0m \u001b[0;34m'str | None | lib.NoDefault'\u001b[0m \u001b[0;34m=\u001b[0m \u001b[0;32mNone\u001b[0m\u001b[0;34m,\u001b[0m\u001b[0;34m\u001b[0m\n",
       "\u001b[0;34m\u001b[0m    \u001b[0mheader\u001b[0m\u001b[0;34m:\u001b[0m \u001b[0;34m\"int | Sequence[int] | None | Literal['infer']\"\u001b[0m \u001b[0;34m=\u001b[0m \u001b[0;34m'infer'\u001b[0m\u001b[0;34m,\u001b[0m\u001b[0;34m\u001b[0m\n",
       "\u001b[0;34m\u001b[0m    \u001b[0mnames\u001b[0m\u001b[0;34m:\u001b[0m \u001b[0;34m'Sequence[Hashable] | None | lib.NoDefault'\u001b[0m \u001b[0;34m=\u001b[0m \u001b[0;34m<\u001b[0m\u001b[0mno_default\u001b[0m\u001b[0;34m>\u001b[0m\u001b[0;34m,\u001b[0m\u001b[0;34m\u001b[0m\n",
       "\u001b[0;34m\u001b[0m    \u001b[0mindex_col\u001b[0m\u001b[0;34m:\u001b[0m \u001b[0;34m'IndexLabel | Literal[False] | None'\u001b[0m \u001b[0;34m=\u001b[0m \u001b[0;32mNone\u001b[0m\u001b[0;34m,\u001b[0m\u001b[0;34m\u001b[0m\n",
       "\u001b[0;34m\u001b[0m    \u001b[0musecols\u001b[0m\u001b[0;34m:\u001b[0m \u001b[0;34m'UsecolsArgType'\u001b[0m \u001b[0;34m=\u001b[0m \u001b[0;32mNone\u001b[0m\u001b[0;34m,\u001b[0m\u001b[0;34m\u001b[0m\n",
       "\u001b[0;34m\u001b[0m    \u001b[0mdtype\u001b[0m\u001b[0;34m:\u001b[0m \u001b[0;34m'DtypeArg | None'\u001b[0m \u001b[0;34m=\u001b[0m \u001b[0;32mNone\u001b[0m\u001b[0;34m,\u001b[0m\u001b[0;34m\u001b[0m\n",
       "\u001b[0;34m\u001b[0m    \u001b[0mengine\u001b[0m\u001b[0;34m:\u001b[0m \u001b[0;34m'CSVEngine | None'\u001b[0m \u001b[0;34m=\u001b[0m \u001b[0;32mNone\u001b[0m\u001b[0;34m,\u001b[0m\u001b[0;34m\u001b[0m\n",
       "\u001b[0;34m\u001b[0m    \u001b[0mconverters\u001b[0m\u001b[0;34m:\u001b[0m \u001b[0;34m'Mapping[Hashable, Callable] | None'\u001b[0m \u001b[0;34m=\u001b[0m \u001b[0;32mNone\u001b[0m\u001b[0;34m,\u001b[0m\u001b[0;34m\u001b[0m\n",
       "\u001b[0;34m\u001b[0m    \u001b[0mtrue_values\u001b[0m\u001b[0;34m:\u001b[0m \u001b[0;34m'list | None'\u001b[0m \u001b[0;34m=\u001b[0m \u001b[0;32mNone\u001b[0m\u001b[0;34m,\u001b[0m\u001b[0;34m\u001b[0m\n",
       "\u001b[0;34m\u001b[0m    \u001b[0mfalse_values\u001b[0m\u001b[0;34m:\u001b[0m \u001b[0;34m'list | None'\u001b[0m \u001b[0;34m=\u001b[0m \u001b[0;32mNone\u001b[0m\u001b[0;34m,\u001b[0m\u001b[0;34m\u001b[0m\n",
       "\u001b[0;34m\u001b[0m    \u001b[0mskipinitialspace\u001b[0m\u001b[0;34m:\u001b[0m \u001b[0;34m'bool'\u001b[0m \u001b[0;34m=\u001b[0m \u001b[0;32mFalse\u001b[0m\u001b[0;34m,\u001b[0m\u001b[0;34m\u001b[0m\n",
       "\u001b[0;34m\u001b[0m    \u001b[0mskiprows\u001b[0m\u001b[0;34m:\u001b[0m \u001b[0;34m'list[int] | int | Callable[[Hashable], bool] | None'\u001b[0m \u001b[0;34m=\u001b[0m \u001b[0;32mNone\u001b[0m\u001b[0;34m,\u001b[0m\u001b[0;34m\u001b[0m\n",
       "\u001b[0;34m\u001b[0m    \u001b[0mskipfooter\u001b[0m\u001b[0;34m:\u001b[0m \u001b[0;34m'int'\u001b[0m \u001b[0;34m=\u001b[0m \u001b[0;36m0\u001b[0m\u001b[0;34m,\u001b[0m\u001b[0;34m\u001b[0m\n",
       "\u001b[0;34m\u001b[0m    \u001b[0mnrows\u001b[0m\u001b[0;34m:\u001b[0m \u001b[0;34m'int | None'\u001b[0m \u001b[0;34m=\u001b[0m \u001b[0;32mNone\u001b[0m\u001b[0;34m,\u001b[0m\u001b[0;34m\u001b[0m\n",
       "\u001b[0;34m\u001b[0m    \u001b[0mna_values\u001b[0m\u001b[0;34m:\u001b[0m \u001b[0;34m'Hashable | Iterable[Hashable] | Mapping[Hashable, Iterable[Hashable]] | None'\u001b[0m \u001b[0;34m=\u001b[0m \u001b[0;32mNone\u001b[0m\u001b[0;34m,\u001b[0m\u001b[0;34m\u001b[0m\n",
       "\u001b[0;34m\u001b[0m    \u001b[0mkeep_default_na\u001b[0m\u001b[0;34m:\u001b[0m \u001b[0;34m'bool'\u001b[0m \u001b[0;34m=\u001b[0m \u001b[0;32mTrue\u001b[0m\u001b[0;34m,\u001b[0m\u001b[0;34m\u001b[0m\n",
       "\u001b[0;34m\u001b[0m    \u001b[0mna_filter\u001b[0m\u001b[0;34m:\u001b[0m \u001b[0;34m'bool'\u001b[0m \u001b[0;34m=\u001b[0m \u001b[0;32mTrue\u001b[0m\u001b[0;34m,\u001b[0m\u001b[0;34m\u001b[0m\n",
       "\u001b[0;34m\u001b[0m    \u001b[0mverbose\u001b[0m\u001b[0;34m:\u001b[0m \u001b[0;34m'bool | lib.NoDefault'\u001b[0m \u001b[0;34m=\u001b[0m \u001b[0;34m<\u001b[0m\u001b[0mno_default\u001b[0m\u001b[0;34m>\u001b[0m\u001b[0;34m,\u001b[0m\u001b[0;34m\u001b[0m\n",
       "\u001b[0;34m\u001b[0m    \u001b[0mskip_blank_lines\u001b[0m\u001b[0;34m:\u001b[0m \u001b[0;34m'bool'\u001b[0m \u001b[0;34m=\u001b[0m \u001b[0;32mTrue\u001b[0m\u001b[0;34m,\u001b[0m\u001b[0;34m\u001b[0m\n",
       "\u001b[0;34m\u001b[0m    \u001b[0mparse_dates\u001b[0m\u001b[0;34m:\u001b[0m \u001b[0;34m'bool | Sequence[Hashable] | None'\u001b[0m \u001b[0;34m=\u001b[0m \u001b[0;32mNone\u001b[0m\u001b[0;34m,\u001b[0m\u001b[0;34m\u001b[0m\n",
       "\u001b[0;34m\u001b[0m    \u001b[0minfer_datetime_format\u001b[0m\u001b[0;34m:\u001b[0m \u001b[0;34m'bool | lib.NoDefault'\u001b[0m \u001b[0;34m=\u001b[0m \u001b[0;34m<\u001b[0m\u001b[0mno_default\u001b[0m\u001b[0;34m>\u001b[0m\u001b[0;34m,\u001b[0m\u001b[0;34m\u001b[0m\n",
       "\u001b[0;34m\u001b[0m    \u001b[0mkeep_date_col\u001b[0m\u001b[0;34m:\u001b[0m \u001b[0;34m'bool | lib.NoDefault'\u001b[0m \u001b[0;34m=\u001b[0m \u001b[0;34m<\u001b[0m\u001b[0mno_default\u001b[0m\u001b[0;34m>\u001b[0m\u001b[0;34m,\u001b[0m\u001b[0;34m\u001b[0m\n",
       "\u001b[0;34m\u001b[0m    \u001b[0mdate_parser\u001b[0m\u001b[0;34m:\u001b[0m \u001b[0;34m'Callable | lib.NoDefault'\u001b[0m \u001b[0;34m=\u001b[0m \u001b[0;34m<\u001b[0m\u001b[0mno_default\u001b[0m\u001b[0;34m>\u001b[0m\u001b[0;34m,\u001b[0m\u001b[0;34m\u001b[0m\n",
       "\u001b[0;34m\u001b[0m    \u001b[0mdate_format\u001b[0m\u001b[0;34m:\u001b[0m \u001b[0;34m'str | dict[Hashable, str] | None'\u001b[0m \u001b[0;34m=\u001b[0m \u001b[0;32mNone\u001b[0m\u001b[0;34m,\u001b[0m\u001b[0;34m\u001b[0m\n",
       "\u001b[0;34m\u001b[0m    \u001b[0mdayfirst\u001b[0m\u001b[0;34m:\u001b[0m \u001b[0;34m'bool'\u001b[0m \u001b[0;34m=\u001b[0m \u001b[0;32mFalse\u001b[0m\u001b[0;34m,\u001b[0m\u001b[0;34m\u001b[0m\n",
       "\u001b[0;34m\u001b[0m    \u001b[0mcache_dates\u001b[0m\u001b[0;34m:\u001b[0m \u001b[0;34m'bool'\u001b[0m \u001b[0;34m=\u001b[0m \u001b[0;32mTrue\u001b[0m\u001b[0;34m,\u001b[0m\u001b[0;34m\u001b[0m\n",
       "\u001b[0;34m\u001b[0m    \u001b[0miterator\u001b[0m\u001b[0;34m:\u001b[0m \u001b[0;34m'bool'\u001b[0m \u001b[0;34m=\u001b[0m \u001b[0;32mFalse\u001b[0m\u001b[0;34m,\u001b[0m\u001b[0;34m\u001b[0m\n",
       "\u001b[0;34m\u001b[0m    \u001b[0mchunksize\u001b[0m\u001b[0;34m:\u001b[0m \u001b[0;34m'int | None'\u001b[0m \u001b[0;34m=\u001b[0m \u001b[0;32mNone\u001b[0m\u001b[0;34m,\u001b[0m\u001b[0;34m\u001b[0m\n",
       "\u001b[0;34m\u001b[0m    \u001b[0mcompression\u001b[0m\u001b[0;34m:\u001b[0m \u001b[0;34m'CompressionOptions'\u001b[0m \u001b[0;34m=\u001b[0m \u001b[0;34m'infer'\u001b[0m\u001b[0;34m,\u001b[0m\u001b[0;34m\u001b[0m\n",
       "\u001b[0;34m\u001b[0m    \u001b[0mthousands\u001b[0m\u001b[0;34m:\u001b[0m \u001b[0;34m'str | None'\u001b[0m \u001b[0;34m=\u001b[0m \u001b[0;32mNone\u001b[0m\u001b[0;34m,\u001b[0m\u001b[0;34m\u001b[0m\n",
       "\u001b[0;34m\u001b[0m    \u001b[0mdecimal\u001b[0m\u001b[0;34m:\u001b[0m \u001b[0;34m'str'\u001b[0m \u001b[0;34m=\u001b[0m \u001b[0;34m'.'\u001b[0m\u001b[0;34m,\u001b[0m\u001b[0;34m\u001b[0m\n",
       "\u001b[0;34m\u001b[0m    \u001b[0mlineterminator\u001b[0m\u001b[0;34m:\u001b[0m \u001b[0;34m'str | None'\u001b[0m \u001b[0;34m=\u001b[0m \u001b[0;32mNone\u001b[0m\u001b[0;34m,\u001b[0m\u001b[0;34m\u001b[0m\n",
       "\u001b[0;34m\u001b[0m    \u001b[0mquotechar\u001b[0m\u001b[0;34m:\u001b[0m \u001b[0;34m'str'\u001b[0m \u001b[0;34m=\u001b[0m \u001b[0;34m'\"'\u001b[0m\u001b[0;34m,\u001b[0m\u001b[0;34m\u001b[0m\n",
       "\u001b[0;34m\u001b[0m    \u001b[0mquoting\u001b[0m\u001b[0;34m:\u001b[0m \u001b[0;34m'int'\u001b[0m \u001b[0;34m=\u001b[0m \u001b[0;36m0\u001b[0m\u001b[0;34m,\u001b[0m\u001b[0;34m\u001b[0m\n",
       "\u001b[0;34m\u001b[0m    \u001b[0mdoublequote\u001b[0m\u001b[0;34m:\u001b[0m \u001b[0;34m'bool'\u001b[0m \u001b[0;34m=\u001b[0m \u001b[0;32mTrue\u001b[0m\u001b[0;34m,\u001b[0m\u001b[0;34m\u001b[0m\n",
       "\u001b[0;34m\u001b[0m    \u001b[0mescapechar\u001b[0m\u001b[0;34m:\u001b[0m \u001b[0;34m'str | None'\u001b[0m \u001b[0;34m=\u001b[0m \u001b[0;32mNone\u001b[0m\u001b[0;34m,\u001b[0m\u001b[0;34m\u001b[0m\n",
       "\u001b[0;34m\u001b[0m    \u001b[0mcomment\u001b[0m\u001b[0;34m:\u001b[0m \u001b[0;34m'str | None'\u001b[0m \u001b[0;34m=\u001b[0m \u001b[0;32mNone\u001b[0m\u001b[0;34m,\u001b[0m\u001b[0;34m\u001b[0m\n",
       "\u001b[0;34m\u001b[0m    \u001b[0mencoding\u001b[0m\u001b[0;34m:\u001b[0m \u001b[0;34m'str | None'\u001b[0m \u001b[0;34m=\u001b[0m \u001b[0;32mNone\u001b[0m\u001b[0;34m,\u001b[0m\u001b[0;34m\u001b[0m\n",
       "\u001b[0;34m\u001b[0m    \u001b[0mencoding_errors\u001b[0m\u001b[0;34m:\u001b[0m \u001b[0;34m'str | None'\u001b[0m \u001b[0;34m=\u001b[0m \u001b[0;34m'strict'\u001b[0m\u001b[0;34m,\u001b[0m\u001b[0;34m\u001b[0m\n",
       "\u001b[0;34m\u001b[0m    \u001b[0mdialect\u001b[0m\u001b[0;34m:\u001b[0m \u001b[0;34m'str | csv.Dialect | None'\u001b[0m \u001b[0;34m=\u001b[0m \u001b[0;32mNone\u001b[0m\u001b[0;34m,\u001b[0m\u001b[0;34m\u001b[0m\n",
       "\u001b[0;34m\u001b[0m    \u001b[0mon_bad_lines\u001b[0m\u001b[0;34m:\u001b[0m \u001b[0;34m'str'\u001b[0m \u001b[0;34m=\u001b[0m \u001b[0;34m'error'\u001b[0m\u001b[0;34m,\u001b[0m\u001b[0;34m\u001b[0m\n",
       "\u001b[0;34m\u001b[0m    \u001b[0mdelim_whitespace\u001b[0m\u001b[0;34m:\u001b[0m \u001b[0;34m'bool | lib.NoDefault'\u001b[0m \u001b[0;34m=\u001b[0m \u001b[0;34m<\u001b[0m\u001b[0mno_default\u001b[0m\u001b[0;34m>\u001b[0m\u001b[0;34m,\u001b[0m\u001b[0;34m\u001b[0m\n",
       "\u001b[0;34m\u001b[0m    \u001b[0mlow_memory\u001b[0m\u001b[0;34m:\u001b[0m \u001b[0;34m'bool'\u001b[0m \u001b[0;34m=\u001b[0m \u001b[0;32mTrue\u001b[0m\u001b[0;34m,\u001b[0m\u001b[0;34m\u001b[0m\n",
       "\u001b[0;34m\u001b[0m    \u001b[0mmemory_map\u001b[0m\u001b[0;34m:\u001b[0m \u001b[0;34m'bool'\u001b[0m \u001b[0;34m=\u001b[0m \u001b[0;32mFalse\u001b[0m\u001b[0;34m,\u001b[0m\u001b[0;34m\u001b[0m\n",
       "\u001b[0;34m\u001b[0m    \u001b[0mfloat_precision\u001b[0m\u001b[0;34m:\u001b[0m \u001b[0;34m\"Literal['high', 'legacy'] | None\"\u001b[0m \u001b[0;34m=\u001b[0m \u001b[0;32mNone\u001b[0m\u001b[0;34m,\u001b[0m\u001b[0;34m\u001b[0m\n",
       "\u001b[0;34m\u001b[0m    \u001b[0mstorage_options\u001b[0m\u001b[0;34m:\u001b[0m \u001b[0;34m'StorageOptions | None'\u001b[0m \u001b[0;34m=\u001b[0m \u001b[0;32mNone\u001b[0m\u001b[0;34m,\u001b[0m\u001b[0;34m\u001b[0m\n",
       "\u001b[0;34m\u001b[0m    \u001b[0mdtype_backend\u001b[0m\u001b[0;34m:\u001b[0m \u001b[0;34m'DtypeBackend | lib.NoDefault'\u001b[0m \u001b[0;34m=\u001b[0m \u001b[0;34m<\u001b[0m\u001b[0mno_default\u001b[0m\u001b[0;34m>\u001b[0m\u001b[0;34m,\u001b[0m\u001b[0;34m\u001b[0m\n",
       "\u001b[0;34m\u001b[0m\u001b[0;34m)\u001b[0m \u001b[0;34m->\u001b[0m \u001b[0;34m'DataFrame | TextFileReader'\u001b[0m\u001b[0;34m\u001b[0m\u001b[0;34m\u001b[0m\u001b[0m\n",
       "\u001b[0;31mDocstring:\u001b[0m\n",
       "Read a comma-separated values (csv) file into DataFrame.\n",
       "\n",
       "Also supports optionally iterating or breaking of the file\n",
       "into chunks.\n",
       "\n",
       "Additional help can be found in the online docs for\n",
       "`IO Tools <https://pandas.pydata.org/pandas-docs/stable/user_guide/io.html>`_.\n",
       "\n",
       "Parameters\n",
       "----------\n",
       "filepath_or_buffer : str, path object or file-like object\n",
       "    Any valid string path is acceptable. The string could be a URL. Valid\n",
       "    URL schemes include http, ftp, s3, gs, and file. For file URLs, a host is\n",
       "    expected. A local file could be: file://localhost/path/to/table.csv.\n",
       "\n",
       "    If you want to pass in a path object, pandas accepts any ``os.PathLike``.\n",
       "\n",
       "    By file-like object, we refer to objects with a ``read()`` method, such as\n",
       "    a file handle (e.g. via builtin ``open`` function) or ``StringIO``.\n",
       "sep : str, default ','\n",
       "    Character or regex pattern to treat as the delimiter. If ``sep=None``, the\n",
       "    C engine cannot automatically detect\n",
       "    the separator, but the Python parsing engine can, meaning the latter will\n",
       "    be used and automatically detect the separator from only the first valid\n",
       "    row of the file by Python's builtin sniffer tool, ``csv.Sniffer``.\n",
       "    In addition, separators longer than 1 character and different from\n",
       "    ``'\\s+'`` will be interpreted as regular expressions and will also force\n",
       "    the use of the Python parsing engine. Note that regex delimiters are prone\n",
       "    to ignoring quoted data. Regex example: ``'\\r\\t'``.\n",
       "delimiter : str, optional\n",
       "    Alias for ``sep``.\n",
       "header : int, Sequence of int, 'infer' or None, default 'infer'\n",
       "    Row number(s) containing column labels and marking the start of the\n",
       "    data (zero-indexed). Default behavior is to infer the column names: if no ``names``\n",
       "    are passed the behavior is identical to ``header=0`` and column\n",
       "    names are inferred from the first line of the file, if column\n",
       "    names are passed explicitly to ``names`` then the behavior is identical to\n",
       "    ``header=None``. Explicitly pass ``header=0`` to be able to\n",
       "    replace existing names. The header can be a list of integers that\n",
       "    specify row locations for a :class:`~pandas.MultiIndex` on the columns\n",
       "    e.g. ``[0, 1, 3]``. Intervening rows that are not specified will be\n",
       "    skipped (e.g. 2 in this example is skipped). Note that this\n",
       "    parameter ignores commented lines and empty lines if\n",
       "    ``skip_blank_lines=True``, so ``header=0`` denotes the first line of\n",
       "    data rather than the first line of the file.\n",
       "names : Sequence of Hashable, optional\n",
       "    Sequence of column labels to apply. If the file contains a header row,\n",
       "    then you should explicitly pass ``header=0`` to override the column names.\n",
       "    Duplicates in this list are not allowed.\n",
       "index_col : Hashable, Sequence of Hashable or False, optional\n",
       "  Column(s) to use as row label(s), denoted either by column labels or column\n",
       "  indices.  If a sequence of labels or indices is given, :class:`~pandas.MultiIndex`\n",
       "  will be formed for the row labels.\n",
       "\n",
       "  Note: ``index_col=False`` can be used to force pandas to *not* use the first\n",
       "  column as the index, e.g., when you have a malformed file with delimiters at\n",
       "  the end of each line.\n",
       "usecols : Sequence of Hashable or Callable, optional\n",
       "    Subset of columns to select, denoted either by column labels or column indices.\n",
       "    If list-like, all elements must either\n",
       "    be positional (i.e. integer indices into the document columns) or strings\n",
       "    that correspond to column names provided either by the user in ``names`` or\n",
       "    inferred from the document header row(s). If ``names`` are given, the document\n",
       "    header row(s) are not taken into account. For example, a valid list-like\n",
       "    ``usecols`` parameter would be ``[0, 1, 2]`` or ``['foo', 'bar', 'baz']``.\n",
       "    Element order is ignored, so ``usecols=[0, 1]`` is the same as ``[1, 0]``.\n",
       "    To instantiate a :class:`~pandas.DataFrame` from ``data`` with element order\n",
       "    preserved use ``pd.read_csv(data, usecols=['foo', 'bar'])[['foo', 'bar']]``\n",
       "    for columns in ``['foo', 'bar']`` order or\n",
       "    ``pd.read_csv(data, usecols=['foo', 'bar'])[['bar', 'foo']]``\n",
       "    for ``['bar', 'foo']`` order.\n",
       "\n",
       "    If callable, the callable function will be evaluated against the column\n",
       "    names, returning names where the callable function evaluates to ``True``. An\n",
       "    example of a valid callable argument would be ``lambda x: x.upper() in\n",
       "    ['AAA', 'BBB', 'DDD']``. Using this parameter results in much faster\n",
       "    parsing time and lower memory usage.\n",
       "dtype : dtype or dict of {Hashable : dtype}, optional\n",
       "    Data type(s) to apply to either the whole dataset or individual columns.\n",
       "    E.g., ``{'a': np.float64, 'b': np.int32, 'c': 'Int64'}``\n",
       "    Use ``str`` or ``object`` together with suitable ``na_values`` settings\n",
       "    to preserve and not interpret ``dtype``.\n",
       "    If ``converters`` are specified, they will be applied INSTEAD\n",
       "    of ``dtype`` conversion.\n",
       "\n",
       "    .. versionadded:: 1.5.0\n",
       "\n",
       "        Support for ``defaultdict`` was added. Specify a ``defaultdict`` as input where\n",
       "        the default determines the ``dtype`` of the columns which are not explicitly\n",
       "        listed.\n",
       "engine : {'c', 'python', 'pyarrow'}, optional\n",
       "    Parser engine to use. The C and pyarrow engines are faster, while the python engine\n",
       "    is currently more feature-complete. Multithreading is currently only supported by\n",
       "    the pyarrow engine.\n",
       "\n",
       "    .. versionadded:: 1.4.0\n",
       "\n",
       "        The 'pyarrow' engine was added as an *experimental* engine, and some features\n",
       "        are unsupported, or may not work correctly, with this engine.\n",
       "converters : dict of {Hashable : Callable}, optional\n",
       "    Functions for converting values in specified columns. Keys can either\n",
       "    be column labels or column indices.\n",
       "true_values : list, optional\n",
       "    Values to consider as ``True`` in addition to case-insensitive variants of 'True'.\n",
       "false_values : list, optional\n",
       "    Values to consider as ``False`` in addition to case-insensitive variants of 'False'.\n",
       "skipinitialspace : bool, default False\n",
       "    Skip spaces after delimiter.\n",
       "skiprows : int, list of int or Callable, optional\n",
       "    Line numbers to skip (0-indexed) or number of lines to skip (``int``)\n",
       "    at the start of the file.\n",
       "\n",
       "    If callable, the callable function will be evaluated against the row\n",
       "    indices, returning ``True`` if the row should be skipped and ``False`` otherwise.\n",
       "    An example of a valid callable argument would be ``lambda x: x in [0, 2]``.\n",
       "skipfooter : int, default 0\n",
       "    Number of lines at bottom of file to skip (Unsupported with ``engine='c'``).\n",
       "nrows : int, optional\n",
       "    Number of rows of file to read. Useful for reading pieces of large files.\n",
       "na_values : Hashable, Iterable of Hashable or dict of {Hashable : Iterable}, optional\n",
       "    Additional strings to recognize as ``NA``/``NaN``. If ``dict`` passed, specific\n",
       "    per-column ``NA`` values.  By default the following values are interpreted as\n",
       "    ``NaN``: \" \", \"#N/A\", \"#N/A N/A\", \"#NA\", \"-1.#IND\", \"-1.#QNAN\", \"-NaN\", \"-nan\",\n",
       "    \"1.#IND\", \"1.#QNAN\", \"<NA>\", \"N/A\", \"NA\", \"NULL\", \"NaN\", \"None\",\n",
       "    \"n/a\", \"nan\", \"null \".\n",
       "\n",
       "keep_default_na : bool, default True\n",
       "    Whether or not to include the default ``NaN`` values when parsing the data.\n",
       "    Depending on whether ``na_values`` is passed in, the behavior is as follows:\n",
       "\n",
       "    * If ``keep_default_na`` is ``True``, and ``na_values`` are specified, ``na_values``\n",
       "      is appended to the default ``NaN`` values used for parsing.\n",
       "    * If ``keep_default_na`` is ``True``, and ``na_values`` are not specified, only\n",
       "      the default ``NaN`` values are used for parsing.\n",
       "    * If ``keep_default_na`` is ``False``, and ``na_values`` are specified, only\n",
       "      the ``NaN`` values specified ``na_values`` are used for parsing.\n",
       "    * If ``keep_default_na`` is ``False``, and ``na_values`` are not specified, no\n",
       "      strings will be parsed as ``NaN``.\n",
       "\n",
       "    Note that if ``na_filter`` is passed in as ``False``, the ``keep_default_na`` and\n",
       "    ``na_values`` parameters will be ignored.\n",
       "na_filter : bool, default True\n",
       "    Detect missing value markers (empty strings and the value of ``na_values``). In\n",
       "    data without any ``NA`` values, passing ``na_filter=False`` can improve the\n",
       "    performance of reading a large file.\n",
       "verbose : bool, default False\n",
       "    Indicate number of ``NA`` values placed in non-numeric columns.\n",
       "\n",
       "    .. deprecated:: 2.2.0\n",
       "skip_blank_lines : bool, default True\n",
       "    If ``True``, skip over blank lines rather than interpreting as ``NaN`` values.\n",
       "parse_dates : bool, list of Hashable, list of lists or dict of {Hashable : list}, default False\n",
       "    The behavior is as follows:\n",
       "\n",
       "    * ``bool``. If ``True`` -> try parsing the index. Note: Automatically set to\n",
       "      ``True`` if ``date_format`` or ``date_parser`` arguments have been passed.\n",
       "    * ``list`` of ``int`` or names. e.g. If ``[1, 2, 3]`` -> try parsing columns 1, 2, 3\n",
       "      each as a separate date column.\n",
       "    * ``list`` of ``list``. e.g.  If ``[[1, 3]]`` -> combine columns 1 and 3 and parse\n",
       "      as a single date column. Values are joined with a space before parsing.\n",
       "    * ``dict``, e.g. ``{'foo' : [1, 3]}`` -> parse columns 1, 3 as date and call\n",
       "      result 'foo'. Values are joined with a space before parsing.\n",
       "\n",
       "    If a column or index cannot be represented as an array of ``datetime``,\n",
       "    say because of an unparsable value or a mixture of timezones, the column\n",
       "    or index will be returned unaltered as an ``object`` data type. For\n",
       "    non-standard ``datetime`` parsing, use :func:`~pandas.to_datetime` after\n",
       "    :func:`~pandas.read_csv`.\n",
       "\n",
       "    Note: A fast-path exists for iso8601-formatted dates.\n",
       "infer_datetime_format : bool, default False\n",
       "    If ``True`` and ``parse_dates`` is enabled, pandas will attempt to infer the\n",
       "    format of the ``datetime`` strings in the columns, and if it can be inferred,\n",
       "    switch to a faster method of parsing them. In some cases this can increase\n",
       "    the parsing speed by 5-10x.\n",
       "\n",
       "    .. deprecated:: 2.0.0\n",
       "        A strict version of this argument is now the default, passing it has no effect.\n",
       "\n",
       "keep_date_col : bool, default False\n",
       "    If ``True`` and ``parse_dates`` specifies combining multiple columns then\n",
       "    keep the original columns.\n",
       "date_parser : Callable, optional\n",
       "    Function to use for converting a sequence of string columns to an array of\n",
       "    ``datetime`` instances. The default uses ``dateutil.parser.parser`` to do the\n",
       "    conversion. pandas will try to call ``date_parser`` in three different ways,\n",
       "    advancing to the next if an exception occurs: 1) Pass one or more arrays\n",
       "    (as defined by ``parse_dates``) as arguments; 2) concatenate (row-wise) the\n",
       "    string values from the columns defined by ``parse_dates`` into a single array\n",
       "    and pass that; and 3) call ``date_parser`` once for each row using one or\n",
       "    more strings (corresponding to the columns defined by ``parse_dates``) as\n",
       "    arguments.\n",
       "\n",
       "    .. deprecated:: 2.0.0\n",
       "       Use ``date_format`` instead, or read in as ``object`` and then apply\n",
       "       :func:`~pandas.to_datetime` as-needed.\n",
       "date_format : str or dict of column -> format, optional\n",
       "    Format to use for parsing dates when used in conjunction with ``parse_dates``.\n",
       "    The strftime to parse time, e.g. :const:`\"%d/%m/%Y\"`. See\n",
       "    `strftime documentation\n",
       "    <https://docs.python.org/3/library/datetime.html\n",
       "    #strftime-and-strptime-behavior>`_ for more information on choices, though\n",
       "    note that :const:`\"%f\"` will parse all the way up to nanoseconds.\n",
       "    You can also pass:\n",
       "\n",
       "    - \"ISO8601\", to parse any `ISO8601 <https://en.wikipedia.org/wiki/ISO_8601>`_\n",
       "        time string (not necessarily in exactly the same format);\n",
       "    - \"mixed\", to infer the format for each element individually. This is risky,\n",
       "        and you should probably use it along with `dayfirst`.\n",
       "\n",
       "    .. versionadded:: 2.0.0\n",
       "dayfirst : bool, default False\n",
       "    DD/MM format dates, international and European format.\n",
       "cache_dates : bool, default True\n",
       "    If ``True``, use a cache of unique, converted dates to apply the ``datetime``\n",
       "    conversion. May produce significant speed-up when parsing duplicate\n",
       "    date strings, especially ones with timezone offsets.\n",
       "\n",
       "iterator : bool, default False\n",
       "    Return ``TextFileReader`` object for iteration or getting chunks with\n",
       "    ``get_chunk()``.\n",
       "chunksize : int, optional\n",
       "    Number of lines to read from the file per chunk. Passing a value will cause the\n",
       "    function to return a ``TextFileReader`` object for iteration.\n",
       "    See the `IO Tools docs\n",
       "    <https://pandas.pydata.org/pandas-docs/stable/io.html#io-chunking>`_\n",
       "    for more information on ``iterator`` and ``chunksize``.\n",
       "\n",
       "compression : str or dict, default 'infer'\n",
       "    For on-the-fly decompression of on-disk data. If 'infer' and 'filepath_or_buffer' is\n",
       "    path-like, then detect compression from the following extensions: '.gz',\n",
       "    '.bz2', '.zip', '.xz', '.zst', '.tar', '.tar.gz', '.tar.xz' or '.tar.bz2'\n",
       "    (otherwise no compression).\n",
       "    If using 'zip' or 'tar', the ZIP file must contain only one data file to be read in.\n",
       "    Set to ``None`` for no decompression.\n",
       "    Can also be a dict with key ``'method'`` set\n",
       "    to one of {``'zip'``, ``'gzip'``, ``'bz2'``, ``'zstd'``, ``'xz'``, ``'tar'``} and\n",
       "    other key-value pairs are forwarded to\n",
       "    ``zipfile.ZipFile``, ``gzip.GzipFile``,\n",
       "    ``bz2.BZ2File``, ``zstandard.ZstdDecompressor``, ``lzma.LZMAFile`` or\n",
       "    ``tarfile.TarFile``, respectively.\n",
       "    As an example, the following could be passed for Zstandard decompression using a\n",
       "    custom compression dictionary:\n",
       "    ``compression={'method': 'zstd', 'dict_data': my_compression_dict}``.\n",
       "\n",
       "    .. versionadded:: 1.5.0\n",
       "        Added support for `.tar` files.\n",
       "\n",
       "    .. versionchanged:: 1.4.0 Zstandard support.\n",
       "\n",
       "thousands : str (length 1), optional\n",
       "    Character acting as the thousands separator in numerical values.\n",
       "decimal : str (length 1), default '.'\n",
       "    Character to recognize as decimal point (e.g., use ',' for European data).\n",
       "lineterminator : str (length 1), optional\n",
       "    Character used to denote a line break. Only valid with C parser.\n",
       "quotechar : str (length 1), optional\n",
       "    Character used to denote the start and end of a quoted item. Quoted\n",
       "    items can include the ``delimiter`` and it will be ignored.\n",
       "quoting : {0 or csv.QUOTE_MINIMAL, 1 or csv.QUOTE_ALL, 2 or csv.QUOTE_NONNUMERIC, 3 or csv.QUOTE_NONE}, default csv.QUOTE_MINIMAL\n",
       "    Control field quoting behavior per ``csv.QUOTE_*`` constants. Default is\n",
       "    ``csv.QUOTE_MINIMAL`` (i.e., 0) which implies that only fields containing special\n",
       "    characters are quoted (e.g., characters defined in ``quotechar``, ``delimiter``,\n",
       "    or ``lineterminator``.\n",
       "doublequote : bool, default True\n",
       "   When ``quotechar`` is specified and ``quoting`` is not ``QUOTE_NONE``, indicate\n",
       "   whether or not to interpret two consecutive ``quotechar`` elements INSIDE a\n",
       "   field as a single ``quotechar`` element.\n",
       "escapechar : str (length 1), optional\n",
       "    Character used to escape other characters.\n",
       "comment : str (length 1), optional\n",
       "    Character indicating that the remainder of line should not be parsed.\n",
       "    If found at the beginning\n",
       "    of a line, the line will be ignored altogether. This parameter must be a\n",
       "    single character. Like empty lines (as long as ``skip_blank_lines=True``),\n",
       "    fully commented lines are ignored by the parameter ``header`` but not by\n",
       "    ``skiprows``. For example, if ``comment='#'``, parsing\n",
       "    ``#empty\\na,b,c\\n1,2,3`` with ``header=0`` will result in ``'a,b,c'`` being\n",
       "    treated as the header.\n",
       "encoding : str, optional, default 'utf-8'\n",
       "    Encoding to use for UTF when reading/writing (ex. ``'utf-8'``). `List of Python\n",
       "    standard encodings\n",
       "    <https://docs.python.org/3/library/codecs.html#standard-encodings>`_ .\n",
       "\n",
       "encoding_errors : str, optional, default 'strict'\n",
       "    How encoding errors are treated. `List of possible values\n",
       "    <https://docs.python.org/3/library/codecs.html#error-handlers>`_ .\n",
       "\n",
       "    .. versionadded:: 1.3.0\n",
       "\n",
       "dialect : str or csv.Dialect, optional\n",
       "    If provided, this parameter will override values (default or not) for the\n",
       "    following parameters: ``delimiter``, ``doublequote``, ``escapechar``,\n",
       "    ``skipinitialspace``, ``quotechar``, and ``quoting``. If it is necessary to\n",
       "    override values, a ``ParserWarning`` will be issued. See ``csv.Dialect``\n",
       "    documentation for more details.\n",
       "on_bad_lines : {'error', 'warn', 'skip'} or Callable, default 'error'\n",
       "    Specifies what to do upon encountering a bad line (a line with too many fields).\n",
       "    Allowed values are :\n",
       "\n",
       "    - ``'error'``, raise an Exception when a bad line is encountered.\n",
       "    - ``'warn'``, raise a warning when a bad line is encountered and skip that line.\n",
       "    - ``'skip'``, skip bad lines without raising or warning when they are encountered.\n",
       "\n",
       "    .. versionadded:: 1.3.0\n",
       "\n",
       "    .. versionadded:: 1.4.0\n",
       "\n",
       "        - Callable, function with signature\n",
       "          ``(bad_line: list[str]) -> list[str] | None`` that will process a single\n",
       "          bad line. ``bad_line`` is a list of strings split by the ``sep``.\n",
       "          If the function returns ``None``, the bad line will be ignored.\n",
       "          If the function returns a new ``list`` of strings with more elements than\n",
       "          expected, a ``ParserWarning`` will be emitted while dropping extra elements.\n",
       "          Only supported when ``engine='python'``\n",
       "\n",
       "    .. versionchanged:: 2.2.0\n",
       "\n",
       "        - Callable, function with signature\n",
       "          as described in `pyarrow documentation\n",
       "          <https://arrow.apache.org/docs/python/generated/pyarrow.csv.ParseOptions.html\n",
       "          #pyarrow.csv.ParseOptions.invalid_row_handler>`_ when ``engine='pyarrow'``\n",
       "\n",
       "delim_whitespace : bool, default False\n",
       "    Specifies whether or not whitespace (e.g. ``' '`` or ``'\\t'``) will be\n",
       "    used as the ``sep`` delimiter. Equivalent to setting ``sep='\\s+'``. If this option\n",
       "    is set to ``True``, nothing should be passed in for the ``delimiter``\n",
       "    parameter.\n",
       "\n",
       "    .. deprecated:: 2.2.0\n",
       "        Use ``sep=\"\\s+\"`` instead.\n",
       "low_memory : bool, default True\n",
       "    Internally process the file in chunks, resulting in lower memory use\n",
       "    while parsing, but possibly mixed type inference.  To ensure no mixed\n",
       "    types either set ``False``, or specify the type with the ``dtype`` parameter.\n",
       "    Note that the entire file is read into a single :class:`~pandas.DataFrame`\n",
       "    regardless, use the ``chunksize`` or ``iterator`` parameter to return the data in\n",
       "    chunks. (Only valid with C parser).\n",
       "memory_map : bool, default False\n",
       "    If a filepath is provided for ``filepath_or_buffer``, map the file object\n",
       "    directly onto memory and access the data directly from there. Using this\n",
       "    option can improve performance because there is no longer any I/O overhead.\n",
       "float_precision : {'high', 'legacy', 'round_trip'}, optional\n",
       "    Specifies which converter the C engine should use for floating-point\n",
       "    values. The options are ``None`` or ``'high'`` for the ordinary converter,\n",
       "    ``'legacy'`` for the original lower precision pandas converter, and\n",
       "    ``'round_trip'`` for the round-trip converter.\n",
       "\n",
       "storage_options : dict, optional\n",
       "    Extra options that make sense for a particular storage connection, e.g.\n",
       "    host, port, username, password, etc. For HTTP(S) URLs the key-value pairs\n",
       "    are forwarded to ``urllib.request.Request`` as header options. For other\n",
       "    URLs (e.g. starting with \"s3://\", and \"gcs://\") the key-value pairs are\n",
       "    forwarded to ``fsspec.open``. Please see ``fsspec`` and ``urllib`` for more\n",
       "    details, and for more examples on storage options refer `here\n",
       "    <https://pandas.pydata.org/docs/user_guide/io.html?\n",
       "    highlight=storage_options#reading-writing-remote-files>`_.\n",
       "\n",
       "dtype_backend : {'numpy_nullable', 'pyarrow'}, default 'numpy_nullable'\n",
       "    Back-end data type applied to the resultant :class:`DataFrame`\n",
       "    (still experimental). Behaviour is as follows:\n",
       "\n",
       "    * ``\"numpy_nullable\"``: returns nullable-dtype-backed :class:`DataFrame`\n",
       "      (default).\n",
       "    * ``\"pyarrow\"``: returns pyarrow-backed nullable :class:`ArrowDtype`\n",
       "      DataFrame.\n",
       "\n",
       "    .. versionadded:: 2.0\n",
       "\n",
       "Returns\n",
       "-------\n",
       "DataFrame or TextFileReader\n",
       "    A comma-separated values (csv) file is returned as two-dimensional\n",
       "    data structure with labeled axes.\n",
       "\n",
       "See Also\n",
       "--------\n",
       "DataFrame.to_csv : Write DataFrame to a comma-separated values (csv) file.\n",
       "read_table : Read general delimited file into DataFrame.\n",
       "read_fwf : Read a table of fixed-width formatted lines into DataFrame.\n",
       "\n",
       "Examples\n",
       "--------\n",
       ">>> pd.read_csv('data.csv')  # doctest: +SKIP\n",
       "\u001b[0;31mFile:\u001b[0m      ~/anaconda3/envs/python_course/lib/python3.9/site-packages/pandas/io/parsers/readers.py\n",
       "\u001b[0;31mType:\u001b[0m      function"
      ]
     },
     "metadata": {},
     "output_type": "display_data"
    }
   ],
   "source": [
    "pd.read_csv?"
   ]
  },
  {
   "cell_type": "code",
   "execution_count": 3,
   "id": "a6d2c349-849c-4de9-b450-9f51df0886db",
   "metadata": {},
   "outputs": [],
   "source": [
    "df = pd.read_csv('../data/vdem/V-Dem-CY-Full+Others-v10.csv',\n",
    "                low_memory=False)"
   ]
  },
  {
   "cell_type": "markdown",
   "id": "a34513fb-f73d-4d63-83a7-59bb2d330418",
   "metadata": {},
   "source": [
    "Wie viele Zeilen und Spalten? Das geht mit der `.shape` Methode."
   ]
  },
  {
   "cell_type": "code",
   "execution_count": 4,
   "id": "1453c9d8-6c6a-4de3-86fc-6202ad29d28b",
   "metadata": {},
   "outputs": [
    {
     "data": {
      "text/plain": [
       "(27013, 48)"
      ]
     },
     "execution_count": 4,
     "metadata": {},
     "output_type": "execute_result"
    }
   ],
   "source": [
    "df.shape"
   ]
  },
  {
   "cell_type": "markdown",
   "id": "375438d1-55b7-495a-8421-383c4ec4e39f",
   "metadata": {},
   "source": [
    "Welche Variablen benötigen wir? Wir wählen Spalten in einem DataFrame aus, indem wir den DataFrame aufrufen gefolt mit einer Liste in eckigen Klammern, die die Namen der Spalten enthält."
   ]
  },
  {
   "cell_type": "markdown",
   "id": "f4be09ba-5077-42be-8a66-3b370d25d800",
   "metadata": {},
   "source": [
    "Wir können die Namen der Spalten (columns) mithilfe des Attributs `.columns` für den DataFrame ausdrucken:"
   ]
  },
  {
   "cell_type": "code",
   "execution_count": 5,
   "id": "e683712a-6a83-4bd9-a1ae-f6dbd82a86cf",
   "metadata": {},
   "outputs": [
    {
     "data": {
      "text/plain": [
       "['country_name',\n",
       " 'country_text_id',\n",
       " 'e_regiongeo',\n",
       " 'year',\n",
       " 'v2x_polyarchy',\n",
       " 'v2x_libdem',\n",
       " 'v2x_partipdem',\n",
       " 'v2x_delibdem',\n",
       " 'v2x_egaldem',\n",
       " 'v2smprivex',\n",
       " 'v2smpolsoc',\n",
       " 'v2caviol',\n",
       " 'e_boix_regime',\n",
       " 'v2dlreason',\n",
       " 'v2dlcommon',\n",
       " 'v2dlcountr',\n",
       " 'v2dlconslt',\n",
       " 'v2dlengage',\n",
       " 'v2dlencmps',\n",
       " 'v2dlunivl',\n",
       " 'v2cseeorgs',\n",
       " 'v2csreprss',\n",
       " 'v2cscnsult',\n",
       " 'v2csprtcpt',\n",
       " 'v2csgender',\n",
       " 'v2csantimv',\n",
       " 'v2csrlgrep',\n",
       " 'v2csrlgcon',\n",
       " 'v2mecenefm',\n",
       " 'v2mecenefi',\n",
       " 'v2mecenefibin',\n",
       " 'v2mecrit',\n",
       " 'v2merange',\n",
       " 'v2mefemjrn',\n",
       " 'v2meharjrn',\n",
       " 'v2meslfcen',\n",
       " 'v2mebias',\n",
       " 'v2mecorrpt',\n",
       " 'v2exrescon',\n",
       " 'v2exbribe',\n",
       " 'v2exembez',\n",
       " 'v2excrptps',\n",
       " 'v2exthftps',\n",
       " 'v2cldiscm',\n",
       " 'v2cldiscw',\n",
       " 'v2clacfree',\n",
       " 'v2clrelig',\n",
       " 'v2clfmove']"
      ]
     },
     "execution_count": 5,
     "metadata": {},
     "output_type": "execute_result"
    }
   ],
   "source": [
    "list(df.columns)"
   ]
  },
  {
   "cell_type": "markdown",
   "id": "9431dd3b-b1fc-4b93-94b2-a325e82f763f",
   "metadata": {},
   "source": [
    "In diesem Fall möchten wir die folgenden Variablen behalten: \n",
    "\n",
    "1. den Ländernamen \n",
    "2. die Länder-ID \n",
    "3. die geografische Region \n",
    "4. Die Länder-ID \n",
    "3. die geographische Region \n",
    "4. Das Jahr 5. Der Polyarchie-Index \n",
    "6. Der Index der liberalen Demokratie\n",
    "7. Der Index der partizipativen Demokratie \n",
    "8. Der Index der deliberativen Demokratie \n",
    "9. Der Index der egalitären Demokratie \n",
    "10. Ob die Privatsphäre der Internetnutzer und ihre Daten rechtlich geschützt sind \n",
    "11. Wie polarisiert das Land in politischen Fragen ist \n",
    "12. Ausmaß der politischen Gewalt \n",
    "13. Ob das Land eine Demokratie ist oder nicht \n"
   ]
  },
  {
   "cell_type": "code",
   "execution_count": 6,
   "id": "f531eed1-ca07-478c-8480-99e060d9de09",
   "metadata": {},
   "outputs": [],
   "source": [
    "subset_vars = ['country_name', 'country_text_id', 'e_regiongeo', \n",
    "               'year', 'v2x_polyarchy', 'v2x_libdem', 'v2x_partipdem', \n",
    "               'v2x_delibdem', 'v2x_egaldem', 'v2smprivex', 'v2smpolsoc', \n",
    "               'v2caviol', 'e_boix_regime']\n",
    "\n",
    "sdf = df[subset_vars]"
   ]
  },
  {
   "cell_type": "code",
   "execution_count": 7,
   "id": "f22650fd-08d5-4b77-b3d8-5b2410c6ae8c",
   "metadata": {},
   "outputs": [
    {
     "data": {
      "text/plain": [
       "(27013, 13)"
      ]
     },
     "execution_count": 7,
     "metadata": {},
     "output_type": "execute_result"
    }
   ],
   "source": [
    "sdf.shape"
   ]
  },
  {
   "cell_type": "code",
   "execution_count": 8,
   "id": "46665d88-57be-4e00-9d8e-e45f6678c175",
   "metadata": {},
   "outputs": [
    {
     "data": {
      "text/plain": [
       "['country_name',\n",
       " 'country_text_id',\n",
       " 'e_regiongeo',\n",
       " 'year',\n",
       " 'v2x_polyarchy',\n",
       " 'v2x_libdem',\n",
       " 'v2x_partipdem',\n",
       " 'v2x_delibdem',\n",
       " 'v2x_egaldem',\n",
       " 'v2smprivex',\n",
       " 'v2smpolsoc',\n",
       " 'v2caviol',\n",
       " 'e_boix_regime']"
      ]
     },
     "execution_count": 8,
     "metadata": {},
     "output_type": "execute_result"
    }
   ],
   "source": [
    "list(sdf.columns)"
   ]
  },
  {
   "cell_type": "markdown",
   "id": "bb99c474-a749-46ee-993f-f51418c8f68c",
   "metadata": {},
   "source": [
    "### Was ist im DataFrame?\n",
    "\n",
    "Mit der Methode `.info()` können wir die Gesamtzahl der Beobachtungen, die Gesamtzahl der Spalten, die Namen der Spalten, die Anzahl der nicht fehlenden Beobachtungen für jede Variable, den Datentyp für jede Variable, die Anzahl der Variablen, die Daten jedes Typs enthalten (z. B. Ganzzahlen und Fließkommazahlen), und die Gesamtmenge des vom DataFrame verwendeten Speichers anzeigen:"
   ]
  },
  {
   "cell_type": "code",
   "execution_count": 9,
   "id": "8f03981e-3079-4985-a9b6-929373f9daf9",
   "metadata": {},
   "outputs": [
    {
     "name": "stdout",
     "output_type": "stream",
     "text": [
      "<class 'pandas.core.frame.DataFrame'>\n",
      "RangeIndex: 27013 entries, 0 to 27012\n",
      "Data columns (total 13 columns):\n",
      " #   Column           Non-Null Count  Dtype  \n",
      "---  ------           --------------  -----  \n",
      " 0   country_name     27013 non-null  object \n",
      " 1   country_text_id  27013 non-null  object \n",
      " 2   e_regiongeo      27013 non-null  int64  \n",
      " 3   year             27013 non-null  int64  \n",
      " 4   v2x_polyarchy    25342 non-null  float64\n",
      " 5   v2x_libdem       24350 non-null  float64\n",
      " 6   v2x_partipdem    24923 non-null  float64\n",
      " 7   v2x_delibdem     18557 non-null  float64\n",
      " 8   v2x_egaldem      18557 non-null  float64\n",
      " 9   v2smprivex       3562 non-null   float64\n",
      " 10  v2smpolsoc       3562 non-null   float64\n",
      " 11  v2caviol         12745 non-null  float64\n",
      " 12  e_boix_regime    16270 non-null  float64\n",
      "dtypes: float64(9), int64(2), object(2)\n",
      "memory usage: 2.7+ MB\n"
     ]
    }
   ],
   "source": [
    "sdf.info()"
   ]
  },
  {
   "cell_type": "markdown",
   "id": "2fcfbf4b-72c9-4cc1-8031-13419052cae6",
   "metadata": {},
   "source": [
    "Die Datentypen in diesem Datenrahmen sind float64 (Zahlen mit Nachkommastellen), int64 (Ganzzahlen) und object. In Pandas bezieht sich object auf Spalten, die Strings oder gemischte Typen wie Strings und Integers enthalten (object umfasst auch viele andere Dinge: es ist eine Sammelkategorie). Pandas kann auch mit Booleans (Wahr oder Falsch), kategorischen Variablen und einigen speziellen Datetime-Objekten arbeiten. Erinnern Sie sich daran, wie wir die Spalten für unser Dataset ausgewählt haben. Im folgenden Code verwende ich dieselbe Idee, um nur einige wenige Variablen anzuzeigen. Wir werden dies später in diesem Kapitel noch etwas genauer erklären."
   ]
  },
  {
   "cell_type": "markdown",
   "id": "115ca60a-a2a7-45fe-9480-3f388ce084d7",
   "metadata": {},
   "source": [
    "Wir können auch die Methode `.describe()` verwenden, um zusammenfassende Informationen über die quantitativen Variablen in unserem Datensatz zu erhalten, einschließlich der Anzahl der nicht fehlenden Informationen, des Mittelwerts und der Standardabweichung.\n"
   ]
  },
  {
   "cell_type": "code",
   "execution_count": 10,
   "id": "e53107fc-34e6-49fd-91da-870eb03bcecd",
   "metadata": {},
   "outputs": [
    {
     "data": {
      "text/html": [
       "<div>\n",
       "<style scoped>\n",
       "    .dataframe tbody tr th:only-of-type {\n",
       "        vertical-align: middle;\n",
       "    }\n",
       "\n",
       "    .dataframe tbody tr th {\n",
       "        vertical-align: top;\n",
       "    }\n",
       "\n",
       "    .dataframe thead th {\n",
       "        text-align: right;\n",
       "    }\n",
       "</style>\n",
       "<table border=\"1\" class=\"dataframe\">\n",
       "  <thead>\n",
       "    <tr style=\"text-align: right;\">\n",
       "      <th></th>\n",
       "      <th>e_regiongeo</th>\n",
       "      <th>year</th>\n",
       "      <th>v2x_polyarchy</th>\n",
       "    </tr>\n",
       "  </thead>\n",
       "  <tbody>\n",
       "    <tr>\n",
       "      <th>count</th>\n",
       "      <td>27013.000000</td>\n",
       "      <td>27013.000000</td>\n",
       "      <td>25342.000000</td>\n",
       "    </tr>\n",
       "    <tr>\n",
       "      <th>mean</th>\n",
       "      <td>9.266575</td>\n",
       "      <td>1926.556177</td>\n",
       "      <td>0.262821</td>\n",
       "    </tr>\n",
       "    <tr>\n",
       "      <th>std</th>\n",
       "      <td>5.733007</td>\n",
       "      <td>63.754335</td>\n",
       "      <td>0.260966</td>\n",
       "    </tr>\n",
       "    <tr>\n",
       "      <th>min</th>\n",
       "      <td>1.000000</td>\n",
       "      <td>1789.000000</td>\n",
       "      <td>0.007000</td>\n",
       "    </tr>\n",
       "    <tr>\n",
       "      <th>25%</th>\n",
       "      <td>4.000000</td>\n",
       "      <td>1878.000000</td>\n",
       "      <td>0.057000</td>\n",
       "    </tr>\n",
       "    <tr>\n",
       "      <th>50%</th>\n",
       "      <td>8.000000</td>\n",
       "      <td>1937.000000</td>\n",
       "      <td>0.171500</td>\n",
       "    </tr>\n",
       "    <tr>\n",
       "      <th>75%</th>\n",
       "      <td>14.000000</td>\n",
       "      <td>1980.000000</td>\n",
       "      <td>0.367000</td>\n",
       "    </tr>\n",
       "    <tr>\n",
       "      <th>max</th>\n",
       "      <td>19.000000</td>\n",
       "      <td>2019.000000</td>\n",
       "      <td>0.924000</td>\n",
       "    </tr>\n",
       "  </tbody>\n",
       "</table>\n",
       "</div>"
      ],
      "text/plain": [
       "        e_regiongeo          year  v2x_polyarchy\n",
       "count  27013.000000  27013.000000   25342.000000\n",
       "mean       9.266575   1926.556177       0.262821\n",
       "std        5.733007     63.754335       0.260966\n",
       "min        1.000000   1789.000000       0.007000\n",
       "25%        4.000000   1878.000000       0.057000\n",
       "50%        8.000000   1937.000000       0.171500\n",
       "75%       14.000000   1980.000000       0.367000\n",
       "max       19.000000   2019.000000       0.924000"
      ]
     },
     "execution_count": 10,
     "metadata": {},
     "output_type": "execute_result"
    }
   ],
   "source": [
    "sdf[['e_regiongeo', 'year', 'v2x_polyarchy']].describe()"
   ]
  },
  {
   "cell_type": "markdown",
   "id": "69176d08-57e0-46ba-a59e-3382e6eac81b",
   "metadata": {},
   "source": [
    "### Heads, tails, and samples"
   ]
  },
  {
   "cell_type": "markdown",
   "id": "89fb425a-800f-49f5-9053-4daa6aeed105",
   "metadata": {},
   "source": [
    "Wir können auch den \"Kopf\" oder das \"Ende\" unseres Datenrahmens mit den Methoden `.head() ` und `.tail()` untersuchen, die standardmäßig die ersten oder letzten fünf Zeilen in einem DataFrame verwenden, es sei denn, Sie geben eine andere Zahl als Argument an, wie z. B. `.head(10)`:"
   ]
  },
  {
   "cell_type": "code",
   "execution_count": 11,
   "id": "ebce73cf-4a18-480c-8998-1e17703a276d",
   "metadata": {},
   "outputs": [
    {
     "data": {
      "text/html": [
       "<div>\n",
       "<style scoped>\n",
       "    .dataframe tbody tr th:only-of-type {\n",
       "        vertical-align: middle;\n",
       "    }\n",
       "\n",
       "    .dataframe tbody tr th {\n",
       "        vertical-align: top;\n",
       "    }\n",
       "\n",
       "    .dataframe thead th {\n",
       "        text-align: right;\n",
       "    }\n",
       "</style>\n",
       "<table border=\"1\" class=\"dataframe\">\n",
       "  <thead>\n",
       "    <tr style=\"text-align: right;\">\n",
       "      <th></th>\n",
       "      <th>country_name</th>\n",
       "      <th>year</th>\n",
       "      <th>v2x_libdem</th>\n",
       "    </tr>\n",
       "  </thead>\n",
       "  <tbody>\n",
       "    <tr>\n",
       "      <th>0</th>\n",
       "      <td>Mexico</td>\n",
       "      <td>1789</td>\n",
       "      <td>0.043</td>\n",
       "    </tr>\n",
       "    <tr>\n",
       "      <th>1</th>\n",
       "      <td>Mexico</td>\n",
       "      <td>1790</td>\n",
       "      <td>0.040</td>\n",
       "    </tr>\n",
       "    <tr>\n",
       "      <th>2</th>\n",
       "      <td>Mexico</td>\n",
       "      <td>1791</td>\n",
       "      <td>0.040</td>\n",
       "    </tr>\n",
       "    <tr>\n",
       "      <th>3</th>\n",
       "      <td>Mexico</td>\n",
       "      <td>1792</td>\n",
       "      <td>0.040</td>\n",
       "    </tr>\n",
       "    <tr>\n",
       "      <th>4</th>\n",
       "      <td>Mexico</td>\n",
       "      <td>1793</td>\n",
       "      <td>0.040</td>\n",
       "    </tr>\n",
       "  </tbody>\n",
       "</table>\n",
       "</div>"
      ],
      "text/plain": [
       "  country_name  year  v2x_libdem\n",
       "0       Mexico  1789       0.043\n",
       "1       Mexico  1790       0.040\n",
       "2       Mexico  1791       0.040\n",
       "3       Mexico  1792       0.040\n",
       "4       Mexico  1793       0.040"
      ]
     },
     "execution_count": 11,
     "metadata": {},
     "output_type": "execute_result"
    }
   ],
   "source": [
    "sdf[['country_name', 'year', 'v2x_libdem']].head()"
   ]
  },
  {
   "cell_type": "code",
   "execution_count": 12,
   "id": "b3b58c99-a99c-4c56-acf6-34a3d64bab23",
   "metadata": {},
   "outputs": [
    {
     "data": {
      "text/html": [
       "<div>\n",
       "<style scoped>\n",
       "    .dataframe tbody tr th:only-of-type {\n",
       "        vertical-align: middle;\n",
       "    }\n",
       "\n",
       "    .dataframe tbody tr th {\n",
       "        vertical-align: top;\n",
       "    }\n",
       "\n",
       "    .dataframe thead th {\n",
       "        text-align: right;\n",
       "    }\n",
       "</style>\n",
       "<table border=\"1\" class=\"dataframe\">\n",
       "  <thead>\n",
       "    <tr style=\"text-align: right;\">\n",
       "      <th></th>\n",
       "      <th>country_name</th>\n",
       "      <th>year</th>\n",
       "      <th>v2x_libdem</th>\n",
       "    </tr>\n",
       "  </thead>\n",
       "  <tbody>\n",
       "    <tr>\n",
       "      <th>27010</th>\n",
       "      <td>Piedmont-Sardinia</td>\n",
       "      <td>1859</td>\n",
       "      <td>0.150</td>\n",
       "    </tr>\n",
       "    <tr>\n",
       "      <th>27011</th>\n",
       "      <td>Piedmont-Sardinia</td>\n",
       "      <td>1860</td>\n",
       "      <td>0.148</td>\n",
       "    </tr>\n",
       "    <tr>\n",
       "      <th>27012</th>\n",
       "      <td>Piedmont-Sardinia</td>\n",
       "      <td>1861</td>\n",
       "      <td>0.149</td>\n",
       "    </tr>\n",
       "  </tbody>\n",
       "</table>\n",
       "</div>"
      ],
      "text/plain": [
       "            country_name  year  v2x_libdem\n",
       "27010  Piedmont-Sardinia  1859       0.150\n",
       "27011  Piedmont-Sardinia  1860       0.148\n",
       "27012  Piedmont-Sardinia  1861       0.149"
      ]
     },
     "execution_count": 12,
     "metadata": {},
     "output_type": "execute_result"
    }
   ],
   "source": [
    "sdf[['country_name', 'year', 'v2x_libdem']].tail(3)"
   ]
  },
  {
   "cell_type": "markdown",
   "id": "2e392366-c98c-4c33-81bc-78efa65f4270",
   "metadata": {},
   "source": [
    "Wenn Sie eine Zufallsstichprobe von Zeilen bevorzugen, können Sie die Methode `.sample()` verwenden, bei der Sie die Anzahl der Zeilen angeben müssen, die Sie abfragen möchten:"
   ]
  },
  {
   "cell_type": "code",
   "execution_count": 13,
   "id": "c866c43b-0f6e-4baf-a7e6-d777026f4eb0",
   "metadata": {},
   "outputs": [
    {
     "data": {
      "text/html": [
       "<div>\n",
       "<style scoped>\n",
       "    .dataframe tbody tr th:only-of-type {\n",
       "        vertical-align: middle;\n",
       "    }\n",
       "\n",
       "    .dataframe tbody tr th {\n",
       "        vertical-align: top;\n",
       "    }\n",
       "\n",
       "    .dataframe thead th {\n",
       "        text-align: right;\n",
       "    }\n",
       "</style>\n",
       "<table border=\"1\" class=\"dataframe\">\n",
       "  <thead>\n",
       "    <tr style=\"text-align: right;\">\n",
       "      <th></th>\n",
       "      <th>country_name</th>\n",
       "      <th>year</th>\n",
       "      <th>v2x_libdem</th>\n",
       "    </tr>\n",
       "  </thead>\n",
       "  <tbody>\n",
       "    <tr>\n",
       "      <th>17946</th>\n",
       "      <td>Namibia</td>\n",
       "      <td>1967</td>\n",
       "      <td>0.051</td>\n",
       "    </tr>\n",
       "    <tr>\n",
       "      <th>23263</th>\n",
       "      <td>Norway</td>\n",
       "      <td>1943</td>\n",
       "      <td>0.087</td>\n",
       "    </tr>\n",
       "    <tr>\n",
       "      <th>5210</th>\n",
       "      <td>Afghanistan</td>\n",
       "      <td>1824</td>\n",
       "      <td>0.022</td>\n",
       "    </tr>\n",
       "    <tr>\n",
       "      <th>6462</th>\n",
       "      <td>South Korea</td>\n",
       "      <td>1957</td>\n",
       "      <td>0.158</td>\n",
       "    </tr>\n",
       "    <tr>\n",
       "      <th>24395</th>\n",
       "      <td>Serbia</td>\n",
       "      <td>1841</td>\n",
       "      <td>0.060</td>\n",
       "    </tr>\n",
       "    <tr>\n",
       "      <th>951</th>\n",
       "      <td>South Africa</td>\n",
       "      <td>1929</td>\n",
       "      <td>0.125</td>\n",
       "    </tr>\n",
       "    <tr>\n",
       "      <th>4611</th>\n",
       "      <td>Peru</td>\n",
       "      <td>1950</td>\n",
       "      <td>0.038</td>\n",
       "    </tr>\n",
       "    <tr>\n",
       "      <th>19034</th>\n",
       "      <td>Uzbekistan</td>\n",
       "      <td>1854</td>\n",
       "      <td>NaN</td>\n",
       "    </tr>\n",
       "    <tr>\n",
       "      <th>7328</th>\n",
       "      <td>Thailand</td>\n",
       "      <td>2017</td>\n",
       "      <td>0.106</td>\n",
       "    </tr>\n",
       "    <tr>\n",
       "      <th>25637</th>\n",
       "      <td>Baden</td>\n",
       "      <td>1803</td>\n",
       "      <td>NaN</td>\n",
       "    </tr>\n",
       "    <tr>\n",
       "      <th>4071</th>\n",
       "      <td>Haiti</td>\n",
       "      <td>2016</td>\n",
       "      <td>0.243</td>\n",
       "    </tr>\n",
       "    <tr>\n",
       "      <th>6463</th>\n",
       "      <td>South Korea</td>\n",
       "      <td>1958</td>\n",
       "      <td>0.150</td>\n",
       "    </tr>\n",
       "    <tr>\n",
       "      <th>20808</th>\n",
       "      <td>Equatorial Guinea</td>\n",
       "      <td>1940</td>\n",
       "      <td>0.018</td>\n",
       "    </tr>\n",
       "    <tr>\n",
       "      <th>8945</th>\n",
       "      <td>Niger</td>\n",
       "      <td>1996</td>\n",
       "      <td>0.210</td>\n",
       "    </tr>\n",
       "    <tr>\n",
       "      <th>16058</th>\n",
       "      <td>China</td>\n",
       "      <td>1945</td>\n",
       "      <td>0.056</td>\n",
       "    </tr>\n",
       "  </tbody>\n",
       "</table>\n",
       "</div>"
      ],
      "text/plain": [
       "            country_name  year  v2x_libdem\n",
       "17946            Namibia  1967       0.051\n",
       "23263             Norway  1943       0.087\n",
       "5210         Afghanistan  1824       0.022\n",
       "6462         South Korea  1957       0.158\n",
       "24395             Serbia  1841       0.060\n",
       "951         South Africa  1929       0.125\n",
       "4611                Peru  1950       0.038\n",
       "19034         Uzbekistan  1854         NaN\n",
       "7328            Thailand  2017       0.106\n",
       "25637              Baden  1803         NaN\n",
       "4071               Haiti  2016       0.243\n",
       "6463         South Korea  1958       0.150\n",
       "20808  Equatorial Guinea  1940       0.018\n",
       "8945               Niger  1996       0.210\n",
       "16058              China  1945       0.056"
      ]
     },
     "execution_count": 13,
     "metadata": {},
     "output_type": "execute_result"
    }
   ],
   "source": [
    "sdf[['country_name', 'year', 'v2x_libdem']].sample(15)"
   ]
  },
  {
   "cell_type": "markdown",
   "id": "416db6a2-de43-4f60-869d-27a53bf378be",
   "metadata": {},
   "source": [
    "### Zeilen filtern"
   ]
  },
  {
   "cell_type": "markdown",
   "id": "94a8d2ae-d93d-4dda-b58d-6b82ac5e8040",
   "metadata": {},
   "source": [
    "Bei der Ausführung der Methode `.describe()` haben Sie vielleicht bemerkt, dass der Bereich für die Jahresvariable 1789-2019 ist. Angenommen, wir haben einen guten Grund, uns auf die Jahre von 1900 bis 2019 zu konzentrieren. Dann müssen wir die Daten filtern, um nur die Zeilen zu erhalten, die unseren Anforderungen entsprechen. Es gibt mehrere Möglichkeiten, Zeilen zu filtern, einschließlich Slices (z. B. alle Beobachtungen zwischen Index i und Index j) oder nach einer expliziten Bedingung, wie z. B. \"Zeilen, in denen das Jahr >= 1900\". Beachten Sie, dass, wenn wir einen DataFrame filtern oder zerschneiden, das neue Objekt nur eine Ansicht des Originals ist und sich immer noch auf die gleichen Daten bezieht. Pandas warnt uns, wenn wir versuchen, das gefilterte Objekt zu verändern, so dass es in den meisten Fällen einfacher ist, eine neue Kopie zu erstellen."
   ]
  },
  {
   "cell_type": "code",
   "execution_count": 14,
   "id": "03f114c9-94c6-468c-bd1b-f63087672d48",
   "metadata": {},
   "outputs": [
    {
     "name": "stdout",
     "output_type": "stream",
     "text": [
      "<class 'pandas.core.frame.DataFrame'>\n",
      "Index: 18787 entries, 111 to 25622\n",
      "Data columns (total 13 columns):\n",
      " #   Column           Non-Null Count  Dtype  \n",
      "---  ------           --------------  -----  \n",
      " 0   country_name     18787 non-null  object \n",
      " 1   country_text_id  18787 non-null  object \n",
      " 2   e_regiongeo      18787 non-null  int64  \n",
      " 3   year             18787 non-null  int64  \n",
      " 4   v2x_polyarchy    18663 non-null  float64\n",
      " 5   v2x_libdem       18424 non-null  float64\n",
      " 6   v2x_partipdem    18587 non-null  float64\n",
      " 7   v2x_delibdem     18557 non-null  float64\n",
      " 8   v2x_egaldem      18557 non-null  float64\n",
      " 9   v2smprivex       3562 non-null   float64\n",
      " 10  v2smpolsoc       3562 non-null   float64\n",
      " 11  v2caviol         12745 non-null  float64\n",
      " 12  e_boix_regime    11841 non-null  float64\n",
      "dtypes: float64(9), int64(2), object(2)\n",
      "memory usage: 2.0+ MB\n"
     ]
    }
   ],
   "source": [
    "fsdf = sdf[sdf['year'] >= 1900].copy()\n",
    "fsdf.info()"
   ]
  },
  {
   "cell_type": "code",
   "execution_count": 15,
   "id": "fa386c54-6a82-4fcf-a51d-3a1345f3bda6",
   "metadata": {},
   "outputs": [
    {
     "data": {
      "text/html": [
       "<div>\n",
       "<style scoped>\n",
       "    .dataframe tbody tr th:only-of-type {\n",
       "        vertical-align: middle;\n",
       "    }\n",
       "\n",
       "    .dataframe tbody tr th {\n",
       "        vertical-align: top;\n",
       "    }\n",
       "\n",
       "    .dataframe thead th {\n",
       "        text-align: right;\n",
       "    }\n",
       "</style>\n",
       "<table border=\"1\" class=\"dataframe\">\n",
       "  <thead>\n",
       "    <tr style=\"text-align: right;\">\n",
       "      <th></th>\n",
       "      <th>country_name</th>\n",
       "      <th>country_text_id</th>\n",
       "      <th>e_regiongeo</th>\n",
       "      <th>year</th>\n",
       "      <th>v2x_polyarchy</th>\n",
       "      <th>v2x_libdem</th>\n",
       "      <th>v2x_partipdem</th>\n",
       "      <th>v2x_delibdem</th>\n",
       "      <th>v2x_egaldem</th>\n",
       "      <th>v2smprivex</th>\n",
       "      <th>v2smpolsoc</th>\n",
       "      <th>v2caviol</th>\n",
       "      <th>e_boix_regime</th>\n",
       "    </tr>\n",
       "  </thead>\n",
       "  <tbody>\n",
       "    <tr>\n",
       "      <th>111</th>\n",
       "      <td>Mexico</td>\n",
       "      <td>MEX</td>\n",
       "      <td>17</td>\n",
       "      <td>1900</td>\n",
       "      <td>0.118</td>\n",
       "      <td>0.061</td>\n",
       "      <td>0.098</td>\n",
       "      <td>0.034</td>\n",
       "      <td>0.028</td>\n",
       "      <td>NaN</td>\n",
       "      <td>NaN</td>\n",
       "      <td>1.323</td>\n",
       "      <td>0.0</td>\n",
       "    </tr>\n",
       "    <tr>\n",
       "      <th>112</th>\n",
       "      <td>Mexico</td>\n",
       "      <td>MEX</td>\n",
       "      <td>17</td>\n",
       "      <td>1901</td>\n",
       "      <td>0.118</td>\n",
       "      <td>0.061</td>\n",
       "      <td>0.098</td>\n",
       "      <td>0.034</td>\n",
       "      <td>0.028</td>\n",
       "      <td>NaN</td>\n",
       "      <td>NaN</td>\n",
       "      <td>1.323</td>\n",
       "      <td>0.0</td>\n",
       "    </tr>\n",
       "    <tr>\n",
       "      <th>113</th>\n",
       "      <td>Mexico</td>\n",
       "      <td>MEX</td>\n",
       "      <td>17</td>\n",
       "      <td>1902</td>\n",
       "      <td>0.118</td>\n",
       "      <td>0.061</td>\n",
       "      <td>0.098</td>\n",
       "      <td>0.034</td>\n",
       "      <td>0.028</td>\n",
       "      <td>NaN</td>\n",
       "      <td>NaN</td>\n",
       "      <td>1.323</td>\n",
       "      <td>0.0</td>\n",
       "    </tr>\n",
       "    <tr>\n",
       "      <th>114</th>\n",
       "      <td>Mexico</td>\n",
       "      <td>MEX</td>\n",
       "      <td>17</td>\n",
       "      <td>1903</td>\n",
       "      <td>0.118</td>\n",
       "      <td>0.061</td>\n",
       "      <td>0.098</td>\n",
       "      <td>0.034</td>\n",
       "      <td>0.028</td>\n",
       "      <td>NaN</td>\n",
       "      <td>NaN</td>\n",
       "      <td>1.323</td>\n",
       "      <td>0.0</td>\n",
       "    </tr>\n",
       "    <tr>\n",
       "      <th>115</th>\n",
       "      <td>Mexico</td>\n",
       "      <td>MEX</td>\n",
       "      <td>17</td>\n",
       "      <td>1904</td>\n",
       "      <td>0.118</td>\n",
       "      <td>0.061</td>\n",
       "      <td>0.098</td>\n",
       "      <td>0.034</td>\n",
       "      <td>0.028</td>\n",
       "      <td>NaN</td>\n",
       "      <td>NaN</td>\n",
       "      <td>1.323</td>\n",
       "      <td>0.0</td>\n",
       "    </tr>\n",
       "  </tbody>\n",
       "</table>\n",
       "</div>"
      ],
      "text/plain": [
       "    country_name country_text_id  e_regiongeo  year  v2x_polyarchy  \\\n",
       "111       Mexico             MEX           17  1900          0.118   \n",
       "112       Mexico             MEX           17  1901          0.118   \n",
       "113       Mexico             MEX           17  1902          0.118   \n",
       "114       Mexico             MEX           17  1903          0.118   \n",
       "115       Mexico             MEX           17  1904          0.118   \n",
       "\n",
       "     v2x_libdem  v2x_partipdem  v2x_delibdem  v2x_egaldem  v2smprivex  \\\n",
       "111       0.061          0.098         0.034        0.028         NaN   \n",
       "112       0.061          0.098         0.034        0.028         NaN   \n",
       "113       0.061          0.098         0.034        0.028         NaN   \n",
       "114       0.061          0.098         0.034        0.028         NaN   \n",
       "115       0.061          0.098         0.034        0.028         NaN   \n",
       "\n",
       "     v2smpolsoc  v2caviol  e_boix_regime  \n",
       "111         NaN     1.323            0.0  \n",
       "112         NaN     1.323            0.0  \n",
       "113         NaN     1.323            0.0  \n",
       "114         NaN     1.323            0.0  \n",
       "115         NaN     1.323            0.0  "
      ]
     },
     "execution_count": 15,
     "metadata": {},
     "output_type": "execute_result"
    }
   ],
   "source": [
    "sdf[(sdf['year'] >= 1900) & (sdf['country_name'] == \"Mexico\")].head()"
   ]
  },
  {
   "cell_type": "markdown",
   "id": "b736466e-450f-4d27-a87a-e089540432df",
   "metadata": {},
   "source": [
    "### Schreiben von Dateien"
   ]
  },
  {
   "cell_type": "markdown",
   "id": "522d29d1-4ab0-4c10-a9bd-a237b2a8c439",
   "metadata": {},
   "source": [
    "So wie wir unsere ursprüngliche CSV-Datei mit der Funktion `read_csv()` in Pandas eingelesen habe, können wir diesen neuen Dataframe mit der Methode `to_csv()` auch wieder schreiben:"
   ]
  },
  {
   "cell_type": "code",
   "execution_count": 16,
   "id": "6e4904a9-6cd4-4a98-a596-40e555b9cedb",
   "metadata": {},
   "outputs": [],
   "source": [
    "fsdf.to_csv('../data/vdem/filtered_subset.csv', index=False)"
   ]
  },
  {
   "cell_type": "markdown",
   "id": "080de2b6-7bf8-4136-bcf2-19539666c3f6",
   "metadata": {},
   "source": [
    "<div class='alert alert-block alert-success'>\n",
    "\n",
    "### Aufgabe 1\n",
    "\n",
    "--> session_04_excercise_1.ipynb\n",
    "\n",
    "</div>"
   ]
  },
  {
   "cell_type": "markdown",
   "id": "64e61e8a-9e14-4803-8a96-142736510828",
   "metadata": {},
   "source": [
    "## Pandas Datenstruktur"
   ]
  },
  {
   "cell_type": "markdown",
   "id": "a686342e-abe0-4299-b5f7-e9d31ac26777",
   "metadata": {},
   "source": [
    "### The series\n",
    "\n",
    "Jede Spalte in einem dataframe ist ein Objekt namens Series. Eine Series ist ein eindimensionales Objekt (z. B. ein Zahlenvektor) mit einem Index, der selbst ein Vektor oder ein Array von Bezeichnungen ist."
   ]
  },
  {
   "cell_type": "markdown",
   "id": "50d342b9-7d9b-406f-bc79-b1e638c0bd6e",
   "metadata": {},
   "source": [
    "Zum Beispiel ist die Spalte *v2x_delibdem* in fsdf eine Series, die Floats und die Indexbezeichnung für jede Beobachtung enthält. Wenn ich eine Stichprobe von 15 Beobachtungen ausdrucke, erhalte ich einen numerischen Index für jede Beobachtung auf der linken Seite und den tatsächlichen Wert auf der rechten Seite. Die Indexwerte sind in der Series selbst geordnet, aber hier sind sie nicht in der richtigen Reihenfolge, weil wir eine Zufallsstichprobe gezogen haben. Da dies nur zu Demonstrationszwecken dient, habe ich einen random_state-Wert eingefügt, um sicherzustellen, dass Sie die gleiche Stichprobe erhalten wie ich, wenn Sie diesen Block erneut ausführen."
   ]
  },
  {
   "cell_type": "code",
   "execution_count": 17,
   "id": "162cbc97-73b8-4a3b-affc-2fd25d6988dc",
   "metadata": {},
   "outputs": [
    {
     "data": {
      "text/plain": [
       "111      0.034\n",
       "112      0.034\n",
       "113      0.034\n",
       "114      0.034\n",
       "115      0.034\n",
       "         ...  \n",
       "25618    0.215\n",
       "25619    0.194\n",
       "25620    0.168\n",
       "25621    0.213\n",
       "25622    0.183\n",
       "Name: v2x_delibdem, Length: 18787, dtype: float64"
      ]
     },
     "execution_count": 17,
     "metadata": {},
     "output_type": "execute_result"
    }
   ],
   "source": [
    "fsdf['v2x_delibdem']"
   ]
  },
  {
   "cell_type": "code",
   "execution_count": 18,
   "id": "c1c7644a-bbf9-4aaa-a49a-4ea8a1c9d5f1",
   "metadata": {},
   "outputs": [
    {
     "data": {
      "text/plain": [
       "8437     0.305\n",
       "25197    0.059\n",
       "6661     0.079\n",
       "19266    0.390\n",
       "7633     0.632\n",
       "1230     0.727\n",
       "8829     0.020\n",
       "10118    0.008\n",
       "8996     0.047\n",
       "2360     0.048\n",
       "18407    0.018\n",
       "153      0.132\n",
       "10794    0.805\n",
       "14375    0.800\n",
       "24240      NaN\n",
       "Name: v2x_delibdem, dtype: float64"
      ]
     },
     "execution_count": 18,
     "metadata": {},
     "output_type": "execute_result"
    }
   ],
   "source": [
    "fsdf['v2x_delibdem'].sample(15, random_state = 42)"
   ]
  },
  {
   "cell_type": "markdown",
   "id": "57e2b484-2982-47c4-92df-b32e05a6761e",
   "metadata": {},
   "source": [
    "In den meisten Fällen ist der Standardindex für eine Series oder einen DataFrame ein unveränderlicher Vektor aus ganzen Zahlen:"
   ]
  },
  {
   "cell_type": "code",
   "execution_count": 19,
   "id": "276de776-38d3-4dbd-9cf8-31e7ee02c36b",
   "metadata": {},
   "outputs": [
    {
     "data": {
      "text/plain": [
       "Index([  111,   112,   113,   114,   115,   116,   117,   118,   119,   120,\n",
       "       ...\n",
       "       25613, 25614, 25615, 25616, 25617, 25618, 25619, 25620, 25621, 25622],\n",
       "      dtype='int64', length=18787)"
      ]
     },
     "execution_count": 19,
     "metadata": {},
     "output_type": "execute_result"
    }
   ],
   "source": [
    "fsdf.index"
   ]
  },
  {
   "cell_type": "markdown",
   "id": "898f3113-b986-4458-aa82-3c306b242fae",
   "metadata": {},
   "source": [
    "Wir können einen Index leicht so ändern, dass er stattdessen aus einem anderen Vektortyp besteht, z. B. einem string. Überraschenderweise müssen Indexwerte nicht eindeutig sein. Dies ermöglicht einige leistungsfähige Techniken, aber die meiste Zeit sollten Sie vermeiden, Indizes manuell zu ändern."
   ]
  },
  {
   "cell_type": "markdown",
   "id": "44778b10-9153-4416-a2db-cace9001389e",
   "metadata": {},
   "source": [
    "### Zugriff auf eine bestimmte Zeile über ihren Index"
   ]
  },
  {
   "cell_type": "markdown",
   "id": "8baba3ee-27ba-4bcb-9ce9-8b2a548e6fad",
   "metadata": {},
   "source": [
    "Wir können den Index verwenden, um bestimmte Zeilen aus einem dataframe oder bestimmte Werte aus einer series abzurufen, ganz so, als ob wir ein Element aus einer Liste, einem Tupel oder einem Array auswählen würden. Am einfachsten geht das, indem man den Indexwert (z. B. 202) an `.loc[]` übergibt. Wie Sie unten sehen können, ist das Ergebnis der beobachtungsspezifische Wert für jede Variable im dataframe:"
   ]
  },
  {
   "cell_type": "code",
   "execution_count": 20,
   "id": "bcf1de2b-bf4c-47f0-a083-00b8bf05d9d6",
   "metadata": {},
   "outputs": [
    {
     "data": {
      "text/plain": [
       "country_name       Mexico\n",
       "country_text_id       MEX\n",
       "e_regiongeo            17\n",
       "year                 1991\n",
       "v2x_polyarchy       0.435\n",
       "v2x_libdem          0.221\n",
       "v2x_partipdem       0.246\n",
       "v2x_delibdem         0.31\n",
       "v2x_egaldem         0.214\n",
       "v2smprivex            NaN\n",
       "v2smpolsoc            NaN\n",
       "v2caviol            -0.71\n",
       "e_boix_regime         0.0\n",
       "Name: 202, dtype: object"
      ]
     },
     "execution_count": 20,
     "metadata": {},
     "output_type": "execute_result"
    }
   ],
   "source": [
    "fsdf.loc[202]"
   ]
  },
  {
   "cell_type": "markdown",
   "id": "65ea1510-81c8-42fb-9088-4966dadaf84e",
   "metadata": {},
   "source": [
    "Beachten Sie, dass sich `.loc` nicht auf die 202. Zeile des dataframe bezieht. Wenn Sie sich den obigen `.index`-Befehl genau angesehen haben, ist Ihnen vielleicht aufgefallen, dass der dataframe nur 18.787 Zeilen enthält, aber `.loc` immer noch Zeile 20.000 zurückgeben kann - der Index hat sich nicht geändert, als Sie eine Reihe von Zeilen aus dem dataframe entfernt haben. Stellen Sie sich `.loc` als Zugriff auf ein Wörterbuch der Indexwerte vor - es gibt sogar einen KeyError, wenn Sie nach einem Element fragen, das nicht existiert."
   ]
  },
  {
   "cell_type": "markdown",
   "id": "b65db475-be58-4ddf-8d07-7c28432978df",
   "metadata": {},
   "source": [
    "Wenn wir stattdessen auf die n-te Zeile eines dataframe zugreifen wollen, können wir `.iloc[n]` verwenden. Stellen Sie sich den Index als eine Liste vor, und Sie beziehen sich auf ein Element dieser Liste durch seinen Listenindex. Verwenden wir `.iloc`, um das letzte Element im dataframe auszuwählen. Beachten Sie, dass die Indexposition für das letzte Element 18.786 sein wird, obwohl die Länge des dataframe 18.787 beträgt, da Python-Datenstrukturen fast immer mit einem Null-Index versehen sind. Hier sehen Sie den Index der Zeile, der früher die Zeilennummer war, als Name am unteren Rand:"
   ]
  },
  {
   "cell_type": "code",
   "execution_count": 21,
   "id": "be6c63f7-0397-4986-885c-3000b00e2e56",
   "metadata": {},
   "outputs": [
    {
     "data": {
      "text/plain": [
       "18787"
      ]
     },
     "execution_count": 21,
     "metadata": {},
     "output_type": "execute_result"
    }
   ],
   "source": [
    "len(fsdf)"
   ]
  },
  {
   "cell_type": "code",
   "execution_count": 22,
   "id": "c8de00b0-6c3a-4570-8ef0-a0e05d562dbc",
   "metadata": {},
   "outputs": [
    {
     "data": {
      "text/plain": [
       "country_name       Zanzibar\n",
       "country_text_id         ZZB\n",
       "e_regiongeo               8\n",
       "year                   2019\n",
       "v2x_polyarchy         0.245\n",
       "v2x_libdem             0.18\n",
       "v2x_partipdem         0.083\n",
       "v2x_delibdem          0.183\n",
       "v2x_egaldem           0.187\n",
       "v2smprivex           -1.843\n",
       "v2smpolsoc           -0.848\n",
       "v2caviol             -0.181\n",
       "e_boix_regime           NaN\n",
       "Name: 25622, dtype: object"
      ]
     },
     "execution_count": 22,
     "metadata": {},
     "output_type": "execute_result"
    }
   ],
   "source": [
    "fsdf.iloc[18786]"
   ]
  },
  {
   "cell_type": "code",
   "execution_count": 23,
   "id": "f36c4522-9104-40c4-810f-c880eae52215",
   "metadata": {},
   "outputs": [
    {
     "data": {
      "text/html": [
       "<div>\n",
       "<style scoped>\n",
       "    .dataframe tbody tr th:only-of-type {\n",
       "        vertical-align: middle;\n",
       "    }\n",
       "\n",
       "    .dataframe tbody tr th {\n",
       "        vertical-align: top;\n",
       "    }\n",
       "\n",
       "    .dataframe thead th {\n",
       "        text-align: right;\n",
       "    }\n",
       "</style>\n",
       "<table border=\"1\" class=\"dataframe\">\n",
       "  <thead>\n",
       "    <tr style=\"text-align: right;\">\n",
       "      <th></th>\n",
       "      <th>country_name</th>\n",
       "      <th>country_text_id</th>\n",
       "      <th>e_regiongeo</th>\n",
       "      <th>year</th>\n",
       "      <th>v2x_polyarchy</th>\n",
       "      <th>v2x_libdem</th>\n",
       "      <th>v2x_partipdem</th>\n",
       "      <th>v2x_delibdem</th>\n",
       "      <th>v2x_egaldem</th>\n",
       "      <th>v2smprivex</th>\n",
       "      <th>v2smpolsoc</th>\n",
       "      <th>v2caviol</th>\n",
       "      <th>e_boix_regime</th>\n",
       "    </tr>\n",
       "  </thead>\n",
       "  <tbody>\n",
       "    <tr>\n",
       "      <th>25618</th>\n",
       "      <td>Zanzibar</td>\n",
       "      <td>ZZB</td>\n",
       "      <td>8</td>\n",
       "      <td>2015</td>\n",
       "      <td>0.316</td>\n",
       "      <td>0.240</td>\n",
       "      <td>0.114</td>\n",
       "      <td>0.215</td>\n",
       "      <td>0.255</td>\n",
       "      <td>-1.749</td>\n",
       "      <td>-0.210</td>\n",
       "      <td>-0.321</td>\n",
       "      <td>NaN</td>\n",
       "    </tr>\n",
       "    <tr>\n",
       "      <th>25619</th>\n",
       "      <td>Zanzibar</td>\n",
       "      <td>ZZB</td>\n",
       "      <td>8</td>\n",
       "      <td>2016</td>\n",
       "      <td>0.267</td>\n",
       "      <td>0.212</td>\n",
       "      <td>0.090</td>\n",
       "      <td>0.194</td>\n",
       "      <td>0.234</td>\n",
       "      <td>-1.749</td>\n",
       "      <td>-1.512</td>\n",
       "      <td>-0.181</td>\n",
       "      <td>NaN</td>\n",
       "    </tr>\n",
       "    <tr>\n",
       "      <th>25620</th>\n",
       "      <td>Zanzibar</td>\n",
       "      <td>ZZB</td>\n",
       "      <td>8</td>\n",
       "      <td>2017</td>\n",
       "      <td>0.260</td>\n",
       "      <td>0.171</td>\n",
       "      <td>0.097</td>\n",
       "      <td>0.168</td>\n",
       "      <td>0.213</td>\n",
       "      <td>-1.749</td>\n",
       "      <td>-1.512</td>\n",
       "      <td>-0.181</td>\n",
       "      <td>NaN</td>\n",
       "    </tr>\n",
       "    <tr>\n",
       "      <th>25621</th>\n",
       "      <td>Zanzibar</td>\n",
       "      <td>ZZB</td>\n",
       "      <td>8</td>\n",
       "      <td>2018</td>\n",
       "      <td>0.262</td>\n",
       "      <td>0.170</td>\n",
       "      <td>0.095</td>\n",
       "      <td>0.213</td>\n",
       "      <td>0.214</td>\n",
       "      <td>-1.749</td>\n",
       "      <td>-1.389</td>\n",
       "      <td>-0.181</td>\n",
       "      <td>NaN</td>\n",
       "    </tr>\n",
       "    <tr>\n",
       "      <th>25622</th>\n",
       "      <td>Zanzibar</td>\n",
       "      <td>ZZB</td>\n",
       "      <td>8</td>\n",
       "      <td>2019</td>\n",
       "      <td>0.245</td>\n",
       "      <td>0.180</td>\n",
       "      <td>0.083</td>\n",
       "      <td>0.183</td>\n",
       "      <td>0.187</td>\n",
       "      <td>-1.843</td>\n",
       "      <td>-0.848</td>\n",
       "      <td>-0.181</td>\n",
       "      <td>NaN</td>\n",
       "    </tr>\n",
       "  </tbody>\n",
       "</table>\n",
       "</div>"
      ],
      "text/plain": [
       "      country_name country_text_id  e_regiongeo  year  v2x_polyarchy  \\\n",
       "25618     Zanzibar             ZZB            8  2015          0.316   \n",
       "25619     Zanzibar             ZZB            8  2016          0.267   \n",
       "25620     Zanzibar             ZZB            8  2017          0.260   \n",
       "25621     Zanzibar             ZZB            8  2018          0.262   \n",
       "25622     Zanzibar             ZZB            8  2019          0.245   \n",
       "\n",
       "       v2x_libdem  v2x_partipdem  v2x_delibdem  v2x_egaldem  v2smprivex  \\\n",
       "25618       0.240          0.114         0.215        0.255      -1.749   \n",
       "25619       0.212          0.090         0.194        0.234      -1.749   \n",
       "25620       0.171          0.097         0.168        0.213      -1.749   \n",
       "25621       0.170          0.095         0.213        0.214      -1.749   \n",
       "25622       0.180          0.083         0.183        0.187      -1.843   \n",
       "\n",
       "       v2smpolsoc  v2caviol  e_boix_regime  \n",
       "25618      -0.210    -0.321            NaN  \n",
       "25619      -1.512    -0.181            NaN  \n",
       "25620      -1.512    -0.181            NaN  \n",
       "25621      -1.389    -0.181            NaN  \n",
       "25622      -0.848    -0.181            NaN  "
      ]
     },
     "execution_count": 23,
     "metadata": {},
     "output_type": "execute_result"
    }
   ],
   "source": [
    "fsdf.tail()"
   ]
  },
  {
   "cell_type": "markdown",
   "id": "46bd2a93-1501-4026-83f9-c2bb137e7389",
   "metadata": {},
   "source": [
    "Wenn es keinen Grund gibt, die ursprüngliche Indizierung des ungefilterten dataframe beizubehalten, ist es in der Regel eine gute Idee, den Index zurückzusetzen:"
   ]
  },
  {
   "cell_type": "code",
   "execution_count": 24,
   "id": "9b0a88e5-2961-419b-8483-276f19991369",
   "metadata": {},
   "outputs": [
    {
     "data": {
      "text/plain": [
       "country_name       Turkmenistan\n",
       "country_text_id             TKM\n",
       "e_regiongeo                  11\n",
       "year                       2004\n",
       "v2x_polyarchy             0.146\n",
       "v2x_libdem                0.027\n",
       "v2x_partipdem              0.06\n",
       "v2x_delibdem              0.017\n",
       "v2x_egaldem                 0.1\n",
       "v2smprivex               -1.395\n",
       "v2smpolsoc                1.826\n",
       "v2caviol                 -2.387\n",
       "e_boix_regime               0.0\n",
       "Name: 18786, dtype: object"
      ]
     },
     "execution_count": 24,
     "metadata": {},
     "output_type": "execute_result"
    }
   ],
   "source": [
    "fsdf.reset_index(drop = True) \n",
    "fsdf.loc[18786]"
   ]
  },
  {
   "cell_type": "markdown",
   "id": "b9fff89f-3876-46b2-a499-34df54b85d64",
   "metadata": {},
   "source": [
    "Danach werden `.loc` und `.iloc` ziemlich austauschbar, mit ein paar Ausnahmen: `.loc` hat wörterbuchähnliche Fähigkeiten, während `.iloc` eher listenähnlich ist. Schauen wir uns nun den dataframe genauer an."
   ]
  },
  {
   "cell_type": "markdown",
   "id": "ce26a086-985d-4c99-b490-fb8029dc1ecf",
   "metadata": {},
   "source": [
    "### Dataframes"
   ]
  },
  {
   "cell_type": "markdown",
   "id": "1690be60-53e6-40ea-b994-1eca4c08ea3d",
   "metadata": {},
   "source": [
    "Dataframes in Pandas sind eigentlich nur Sammlungen von Series, die an denselben Indexwerten ausgerichtet sind. Mit anderen Worten: Die Serien, mit denen wir zuvor gearbeitet haben, haben ihre eigenen Indizes, wenn wir mit ihnen als eigenständige Serien arbeiten, aber im fsdf dataframe teilen sie sich einen Index.  \n",
    "Wie Sie bereits gesehen haben, sind dataframes mit Variablen in den Spalten und Beobachtungen in den Zeilen organisiert, und Sie können eine einzelne series aus einem dataframe mit eckigen Klammern holen - lassen Sie uns das jetzt mit dem fsdf dataframe tun:"
   ]
  },
  {
   "cell_type": "code",
   "execution_count": 25,
   "id": "2ebf22b2-d54a-4f17-a6c4-b21e01332c16",
   "metadata": {},
   "outputs": [],
   "source": [
    "deliberative = fsdf['v2x_delibdem']"
   ]
  },
  {
   "cell_type": "markdown",
   "id": "5c4355b9-631d-4bf3-9739-3d33f0a4f7f6",
   "metadata": {},
   "source": [
    "Beachten Sie, dass wir auch die Punktnotation verwenden können, um Spalten auszuwählen. `fsdf.v2x_delibdem` ist funktional gleichwertig mit `fsdf['v2x_delibdem']` und kann austauschbar verwendet werden."
   ]
  },
  {
   "cell_type": "code",
   "execution_count": 26,
   "id": "5184d023-7c55-440d-9fe1-2f1bfa3c4078",
   "metadata": {},
   "outputs": [
    {
     "data": {
      "text/plain": [
       "111      0.034\n",
       "112      0.034\n",
       "113      0.034\n",
       "114      0.034\n",
       "115      0.034\n",
       "         ...  \n",
       "25618    0.215\n",
       "25619    0.194\n",
       "25620    0.168\n",
       "25621    0.213\n",
       "25622    0.183\n",
       "Name: v2x_delibdem, Length: 18787, dtype: float64"
      ]
     },
     "execution_count": 26,
     "metadata": {},
     "output_type": "execute_result"
    }
   ],
   "source": [
    "fsdf.v2x_delibdem"
   ]
  },
  {
   "cell_type": "markdown",
   "id": "19ca9b6d-f00e-410a-8e69-52f714521a26",
   "metadata": {},
   "source": [
    "Wir sind nicht darauf beschränkt, Spalten auszuwählen, die bereits in unserem Datensatz vorhanden sind. Sie können auch neue Spalten erstellen und hinzufügen. Sie können beispielsweise eine neue Spalte mit der Bezeichnung \"21. Jahrhundert\" erstellen und einen booleschen Wert zuweisen, der darauf basiert, ob die Beobachtung in den 2000er Jahren liegt:"
   ]
  },
  {
   "cell_type": "code",
   "execution_count": 27,
   "id": "edb091bc-f937-40f8-81e2-9f9391f44cd2",
   "metadata": {},
   "outputs": [
    {
     "data": {
      "text/plain": [
       "21 Century\n",
       "False         15225\n",
       "True           3562\n",
       "Name: count, dtype: int64"
      ]
     },
     "execution_count": 27,
     "metadata": {},
     "output_type": "execute_result"
    }
   ],
   "source": [
    "fsdf['21 Century'] = fsdf['year'] >= 2000 \n",
    "fsdf[['21 Century']].value_counts()"
   ]
  },
  {
   "cell_type": "markdown",
   "id": "6ba0070b-0e0d-4782-95de-3273d28e41ac",
   "metadata": {},
   "source": [
    "Manchmal handelt es sich bei den neu erstellten Spalten um Umwandlungen einer bereits im dataframe vorhandenen series. Sie können beispielsweise eine neue Spalte \"missing_political_violence_data\" erstellen, die den Wert \"True\" annimmt, wenn die Serie \"v2caviol\" (Ausmaß der politischen Gewalt) leer ist, und andernfalls \"False\":"
   ]
  },
  {
   "cell_type": "code",
   "execution_count": 28,
   "id": "43b84872-d210-4960-a4ce-99989a17d14c",
   "metadata": {},
   "outputs": [
    {
     "data": {
      "text/plain": [
       "missing_political_violence_data\n",
       "False    12745\n",
       "True      6042\n",
       "Name: count, dtype: int64"
      ]
     },
     "execution_count": 28,
     "metadata": {},
     "output_type": "execute_result"
    }
   ],
   "source": [
    "fsdf['missing_political_violence_data'] = fsdf['v2caviol'].isna()\n",
    "fsdf['missing_political_violence_data'].value_counts()"
   ]
  },
  {
   "cell_type": "markdown",
   "id": "610bc20c-b336-46b0-bba4-6ee3b5f3f9a0",
   "metadata": {},
   "source": [
    "Wie Sie bei der Ausführung von value_counts() sehen können, fehlen für 6042 Beobachtungen Daten zum Ausmaß der politischen Gewalt."
   ]
  },
  {
   "cell_type": "markdown",
   "id": "507c2a43-6a48-417e-9b13-7369d912e267",
   "metadata": {},
   "source": [
    "### Missing data"
   ]
  },
  {
   "cell_type": "markdown",
   "id": "302d7dbf-9b51-447a-bee9-68a84fb7fa6f",
   "metadata": {},
   "source": [
    "Es ist wichtig zu verstehen, wie mit fehlenden Daten umgegangen wird. Fehlende Daten kommen in realen Datensätzen häufig vor, und sie können aus mehreren Gründen fehlen! Im Allgemeinen verwendet Pandas den Wert np.nan, um fehlende Daten darzustellen. Der np.nan-Wert von NumPy ist ein Spezialfall einer Fließkommazahl, die einen nicht darstellbaren Wert darstellt. Diese Art von Werten werden NaNs (Not a Number) genannt."
   ]
  },
  {
   "cell_type": "code",
   "execution_count": 29,
   "id": "0a1d656a-eec7-4684-80e6-1b1aed8a0537",
   "metadata": {},
   "outputs": [
    {
     "data": {
      "text/plain": [
       "nan"
      ]
     },
     "execution_count": 29,
     "metadata": {},
     "output_type": "execute_result"
    }
   ],
   "source": [
    "import numpy as np \n",
    "np.nan"
   ]
  },
  {
   "cell_type": "markdown",
   "id": "05cea3e7-2782-414b-9770-a0f777fa5109",
   "metadata": {},
   "source": [
    "np.nan kann nicht in Gleichheitstests verwendet werden, da jeder Vergleich mit einem np.nan-Wert als Falsch ausgewertet wird. Dies schließt den Vergleich von np.nan mit sich selbst ein.  \n",
    "\n",
    "np.nan-Werte werden nicht zu False oder None ausgewertet. Dies kann es schwierig machen, fehlende Werte zu unterscheiden. Zu diesem Zweck können Sie die Funktion np.isnan() verwenden, die besonders im Kontrollfluss nützlich ist."
   ]
  },
  {
   "cell_type": "code",
   "execution_count": 30,
   "id": "193964e3-0a89-4b25-8798-9c435b02a965",
   "metadata": {},
   "outputs": [
    {
     "data": {
      "text/plain": [
       "False"
      ]
     },
     "execution_count": 30,
     "metadata": {},
     "output_type": "execute_result"
    }
   ],
   "source": [
    "np.nan == None"
   ]
  },
  {
   "cell_type": "code",
   "execution_count": 31,
   "id": "9f5f6b27-807b-4e44-9729-5cfd649fa4fd",
   "metadata": {},
   "outputs": [
    {
     "data": {
      "text/plain": [
       "False"
      ]
     },
     "execution_count": 31,
     "metadata": {},
     "output_type": "execute_result"
    }
   ],
   "source": [
    "np.nan == np.nan"
   ]
  },
  {
   "cell_type": "code",
   "execution_count": 32,
   "id": "c87c372f-85fc-4a9b-9b25-acf7181f9995",
   "metadata": {},
   "outputs": [
    {
     "data": {
      "text/plain": [
       "True"
      ]
     },
     "execution_count": 32,
     "metadata": {},
     "output_type": "execute_result"
    }
   ],
   "source": [
    "np.isnan(np.nan)"
   ]
  },
  {
   "cell_type": "code",
   "execution_count": 33,
   "id": "1231a900-f9e7-4d7f-9558-8f1d60f8cfd4",
   "metadata": {},
   "outputs": [
    {
     "data": {
      "text/html": [
       "<div>\n",
       "<style scoped>\n",
       "    .dataframe tbody tr th:only-of-type {\n",
       "        vertical-align: middle;\n",
       "    }\n",
       "\n",
       "    .dataframe tbody tr th {\n",
       "        vertical-align: top;\n",
       "    }\n",
       "\n",
       "    .dataframe thead th {\n",
       "        text-align: right;\n",
       "    }\n",
       "</style>\n",
       "<table border=\"1\" class=\"dataframe\">\n",
       "  <thead>\n",
       "    <tr style=\"text-align: right;\">\n",
       "      <th></th>\n",
       "      <th>country_name</th>\n",
       "      <th>year</th>\n",
       "      <th>v2caviol</th>\n",
       "    </tr>\n",
       "  </thead>\n",
       "  <tbody>\n",
       "    <tr>\n",
       "      <th>231</th>\n",
       "      <td>Suriname</td>\n",
       "      <td>1900</td>\n",
       "      <td>NaN</td>\n",
       "    </tr>\n",
       "    <tr>\n",
       "      <th>232</th>\n",
       "      <td>Suriname</td>\n",
       "      <td>1901</td>\n",
       "      <td>NaN</td>\n",
       "    </tr>\n",
       "    <tr>\n",
       "      <th>233</th>\n",
       "      <td>Suriname</td>\n",
       "      <td>1902</td>\n",
       "      <td>NaN</td>\n",
       "    </tr>\n",
       "    <tr>\n",
       "      <th>234</th>\n",
       "      <td>Suriname</td>\n",
       "      <td>1903</td>\n",
       "      <td>NaN</td>\n",
       "    </tr>\n",
       "    <tr>\n",
       "      <th>235</th>\n",
       "      <td>Suriname</td>\n",
       "      <td>1904</td>\n",
       "      <td>NaN</td>\n",
       "    </tr>\n",
       "    <tr>\n",
       "      <th>...</th>\n",
       "      <td>...</td>\n",
       "      <td>...</td>\n",
       "      <td>...</td>\n",
       "    </tr>\n",
       "    <tr>\n",
       "      <th>25352</th>\n",
       "      <td>Hungary</td>\n",
       "      <td>1913</td>\n",
       "      <td>NaN</td>\n",
       "    </tr>\n",
       "    <tr>\n",
       "      <th>25353</th>\n",
       "      <td>Hungary</td>\n",
       "      <td>1914</td>\n",
       "      <td>NaN</td>\n",
       "    </tr>\n",
       "    <tr>\n",
       "      <th>25354</th>\n",
       "      <td>Hungary</td>\n",
       "      <td>1915</td>\n",
       "      <td>NaN</td>\n",
       "    </tr>\n",
       "    <tr>\n",
       "      <th>25355</th>\n",
       "      <td>Hungary</td>\n",
       "      <td>1916</td>\n",
       "      <td>NaN</td>\n",
       "    </tr>\n",
       "    <tr>\n",
       "      <th>25356</th>\n",
       "      <td>Hungary</td>\n",
       "      <td>1917</td>\n",
       "      <td>NaN</td>\n",
       "    </tr>\n",
       "  </tbody>\n",
       "</table>\n",
       "<p>6042 rows × 3 columns</p>\n",
       "</div>"
      ],
      "text/plain": [
       "      country_name  year  v2caviol\n",
       "231       Suriname  1900       NaN\n",
       "232       Suriname  1901       NaN\n",
       "233       Suriname  1902       NaN\n",
       "234       Suriname  1903       NaN\n",
       "235       Suriname  1904       NaN\n",
       "...            ...   ...       ...\n",
       "25352      Hungary  1913       NaN\n",
       "25353      Hungary  1914       NaN\n",
       "25354      Hungary  1915       NaN\n",
       "25355      Hungary  1916       NaN\n",
       "25356      Hungary  1917       NaN\n",
       "\n",
       "[6042 rows x 3 columns]"
      ]
     },
     "execution_count": 33,
     "metadata": {},
     "output_type": "execute_result"
    }
   ],
   "source": [
    "fsdf[['country_name', 'year', 'v2caviol']][np.isnan(fsdf['v2caviol'])]"
   ]
  },
  {
   "cell_type": "code",
   "execution_count": 34,
   "id": "98599902-9bef-4a6b-9a33-abbf8b2864d6",
   "metadata": {},
   "outputs": [
    {
     "data": {
      "text/html": [
       "<div>\n",
       "<style scoped>\n",
       "    .dataframe tbody tr th:only-of-type {\n",
       "        vertical-align: middle;\n",
       "    }\n",
       "\n",
       "    .dataframe tbody tr th {\n",
       "        vertical-align: top;\n",
       "    }\n",
       "\n",
       "    .dataframe thead th {\n",
       "        text-align: right;\n",
       "    }\n",
       "</style>\n",
       "<table border=\"1\" class=\"dataframe\">\n",
       "  <thead>\n",
       "    <tr style=\"text-align: right;\">\n",
       "      <th></th>\n",
       "      <th>country_name</th>\n",
       "      <th>year</th>\n",
       "      <th>v2caviol</th>\n",
       "    </tr>\n",
       "  </thead>\n",
       "  <tbody>\n",
       "    <tr>\n",
       "      <th>231</th>\n",
       "      <td>Suriname</td>\n",
       "      <td>1900</td>\n",
       "      <td>NaN</td>\n",
       "    </tr>\n",
       "    <tr>\n",
       "      <th>232</th>\n",
       "      <td>Suriname</td>\n",
       "      <td>1901</td>\n",
       "      <td>NaN</td>\n",
       "    </tr>\n",
       "    <tr>\n",
       "      <th>233</th>\n",
       "      <td>Suriname</td>\n",
       "      <td>1902</td>\n",
       "      <td>NaN</td>\n",
       "    </tr>\n",
       "    <tr>\n",
       "      <th>234</th>\n",
       "      <td>Suriname</td>\n",
       "      <td>1903</td>\n",
       "      <td>NaN</td>\n",
       "    </tr>\n",
       "    <tr>\n",
       "      <th>235</th>\n",
       "      <td>Suriname</td>\n",
       "      <td>1904</td>\n",
       "      <td>NaN</td>\n",
       "    </tr>\n",
       "    <tr>\n",
       "      <th>...</th>\n",
       "      <td>...</td>\n",
       "      <td>...</td>\n",
       "      <td>...</td>\n",
       "    </tr>\n",
       "    <tr>\n",
       "      <th>25352</th>\n",
       "      <td>Hungary</td>\n",
       "      <td>1913</td>\n",
       "      <td>NaN</td>\n",
       "    </tr>\n",
       "    <tr>\n",
       "      <th>25353</th>\n",
       "      <td>Hungary</td>\n",
       "      <td>1914</td>\n",
       "      <td>NaN</td>\n",
       "    </tr>\n",
       "    <tr>\n",
       "      <th>25354</th>\n",
       "      <td>Hungary</td>\n",
       "      <td>1915</td>\n",
       "      <td>NaN</td>\n",
       "    </tr>\n",
       "    <tr>\n",
       "      <th>25355</th>\n",
       "      <td>Hungary</td>\n",
       "      <td>1916</td>\n",
       "      <td>NaN</td>\n",
       "    </tr>\n",
       "    <tr>\n",
       "      <th>25356</th>\n",
       "      <td>Hungary</td>\n",
       "      <td>1917</td>\n",
       "      <td>NaN</td>\n",
       "    </tr>\n",
       "  </tbody>\n",
       "</table>\n",
       "<p>6042 rows × 3 columns</p>\n",
       "</div>"
      ],
      "text/plain": [
       "      country_name  year  v2caviol\n",
       "231       Suriname  1900       NaN\n",
       "232       Suriname  1901       NaN\n",
       "233       Suriname  1902       NaN\n",
       "234       Suriname  1903       NaN\n",
       "235       Suriname  1904       NaN\n",
       "...            ...   ...       ...\n",
       "25352      Hungary  1913       NaN\n",
       "25353      Hungary  1914       NaN\n",
       "25354      Hungary  1915       NaN\n",
       "25355      Hungary  1916       NaN\n",
       "25356      Hungary  1917       NaN\n",
       "\n",
       "[6042 rows x 3 columns]"
      ]
     },
     "execution_count": 34,
     "metadata": {},
     "output_type": "execute_result"
    }
   ],
   "source": [
    "fsdf[['country_name', 'year', 'v2caviol']][fsdf['v2caviol'].isna()]"
   ]
  },
  {
   "cell_type": "markdown",
   "id": "609c5a77-0e11-4d25-8e62-86c28a644470",
   "metadata": {},
   "source": [
    "Außerdem werden np.nan-Werte im Allgemeinen von Pandas-Funktionen ausgeschlossen, die Berechnungen über dataframes, Zeilen oder Spalten durchführen. In der Dokumentation wird zum Beispiel oft angegeben, dass eine Berechnung über alle Werte durchgeführt wird, wobei NaN- oder NULL-Werte ausgeschlossen werden."
   ]
  },
  {
   "cell_type": "code",
   "execution_count": 35,
   "id": "edd7b5ef-5de0-4140-be6d-9774a03e53e9",
   "metadata": {},
   "outputs": [
    {
     "name": "stdout",
     "output_type": "stream",
     "text": [
      "Total: 18787\n",
      "Count: 12745\n",
      "Diff: 6042\n"
     ]
    }
   ],
   "source": [
    "total = len(fsdf['v2caviol']) \n",
    "count = fsdf['v2caviol'].count() \n",
    "print(f'Total: {total}') \n",
    "print(f'Count: {count}') \n",
    "print(f'Diff: {total-count}')"
   ]
  },
  {
   "cell_type": "markdown",
   "id": "2b9c6f95-bedf-4701-bbbf-d3db04b48a37",
   "metadata": {},
   "source": [
    "Die Gesamtzahl der Elemente in der Spalte v2caviol (politische Gewalt) ist viel höher als die von der Funktion `count()` erhaltene Anzahl. Wenn das, was wir oben gelernt haben, richtig ist, sollte dieser Unterschied berücksichtigt werden, wenn wir herausfinden, wie viele Elemente in dieser Spalte NaNs sind."
   ]
  },
  {
   "cell_type": "code",
   "execution_count": 36,
   "id": "75312968-039a-42a8-bfee-78e42c5295a0",
   "metadata": {},
   "outputs": [
    {
     "name": "stdout",
     "output_type": "stream",
     "text": [
      " NaNs: 6042\n"
     ]
    }
   ],
   "source": [
    "nans = fsdf['v2caviol'].isna().sum()\n",
    "print(' NaNs: {}'.format(nans))"
   ]
  },
  {
   "cell_type": "markdown",
   "id": "ff62c4c8-63a0-4c9e-a918-570e0d0b309b",
   "metadata": {},
   "source": [
    "Wie Sie wahrscheinlich wissen, kann die Methode `.isna()`, die der Methode `np.isnan()` ähnelt, aber zusätzliche Fälle abdeckt, beim Transformieren und Filtern von Daten sehr nützlich sein."
   ]
  },
  {
   "cell_type": "markdown",
   "id": "65e7d763-2fb4-428c-90e1-beb94b7539df",
   "metadata": {},
   "source": [
    "### Aggregieren und Gruppieren"
   ]
  },
  {
   "cell_type": "markdown",
   "id": "4fdcdf4b-f5c8-4264-8f28-82deca5d4a9e",
   "metadata": {},
   "source": [
    "Datenanalyseprojekte beinhalten oft Aggregations- oder Gruppierungsoperationen. So kann es beispielsweise erforderlich sein, zusammenfassende Statistiken für Beobachtungen zu berechnen und zu vergleichen, die unterschiedliche Werte für eine kategoriale Variable annehmen. Es kann hilfreich sein, den Datensatz selbst aufzuschlüsseln und Operationen auf verschiedenen Teilmengen von Daten durchzuführen. Dazu verwenden wir die Methode `.groupby()`, die den dataframe auf der Grundlage der Werte einer bestimmten Variable in Gruppen unterteilt. Anschließend können wir Operationen mit den resultierenden Gruppen durchführen. Wir gruppieren unsere Länder in geografische Regionen, indem wir die Variable *e_regiongeo* verwenden:"
   ]
  },
  {
   "cell_type": "code",
   "execution_count": 37,
   "id": "90a67f41-6b25-47f8-98cf-f172ee211c0c",
   "metadata": {},
   "outputs": [],
   "source": [
    "grouped = fsdf.groupby('e_regiongeo')"
   ]
  },
  {
   "cell_type": "markdown",
   "id": "d32ae3bd-024c-4ca3-a5a5-ddc2a0e6a976",
   "metadata": {},
   "source": [
    "Der obige Code gibt ein gruppiertes Objekt zurück, mit dem wir arbeiten können. Nehmen wir an, wir wollen eine bestimmte Gruppe herausziehen, z. B. Südostasien, die in den Daten mit der numerischen ID 13 dargestellt wird. Ich weiß das, weil die entsprechenden Informationen im VDEM-Codebuch zu finden sind, das Sie bei Ihrer Arbeit mit den VDEM-Daten immer geöffnet halten sollten."
   ]
  },
  {
   "cell_type": "markdown",
   "id": "f0075556-3051-498c-9282-c4731898993e",
   "metadata": {},
   "source": [
    "Wir können die Methode get_group() verwenden, um eine Gruppe aus dem gruppierten Objekt zu ziehen. (Beachten Sie, dass der nachstehende Code .get_group() fsdf[fsdf['e_regiongeo'] == 13] entspricht)."
   ]
  },
  {
   "cell_type": "code",
   "execution_count": 38,
   "id": "31f7f25f-bcb9-4b50-8dd1-1c9f512990d9",
   "metadata": {},
   "outputs": [],
   "source": [
    "south_east_asia = grouped.get_group(13)"
   ]
  },
  {
   "cell_type": "code",
   "execution_count": 39,
   "id": "6d79272d-61d7-450e-b213-55d1d42979ad",
   "metadata": {},
   "outputs": [
    {
     "data": {
      "text/html": [
       "<div>\n",
       "<style scoped>\n",
       "    .dataframe tbody tr th:only-of-type {\n",
       "        vertical-align: middle;\n",
       "    }\n",
       "\n",
       "    .dataframe tbody tr th {\n",
       "        vertical-align: top;\n",
       "    }\n",
       "\n",
       "    .dataframe thead th {\n",
       "        text-align: right;\n",
       "    }\n",
       "</style>\n",
       "<table border=\"1\" class=\"dataframe\">\n",
       "  <thead>\n",
       "    <tr style=\"text-align: right;\">\n",
       "      <th></th>\n",
       "      <th>country_name</th>\n",
       "      <th>year</th>\n",
       "      <th>v2x_polyarchy</th>\n",
       "    </tr>\n",
       "  </thead>\n",
       "  <tbody>\n",
       "    <tr>\n",
       "      <th>1384</th>\n",
       "      <td>Burma/Myanmar</td>\n",
       "      <td>1900</td>\n",
       "      <td>0.091</td>\n",
       "    </tr>\n",
       "    <tr>\n",
       "      <th>1385</th>\n",
       "      <td>Burma/Myanmar</td>\n",
       "      <td>1901</td>\n",
       "      <td>0.091</td>\n",
       "    </tr>\n",
       "    <tr>\n",
       "      <th>1386</th>\n",
       "      <td>Burma/Myanmar</td>\n",
       "      <td>1902</td>\n",
       "      <td>0.091</td>\n",
       "    </tr>\n",
       "    <tr>\n",
       "      <th>1387</th>\n",
       "      <td>Burma/Myanmar</td>\n",
       "      <td>1903</td>\n",
       "      <td>0.091</td>\n",
       "    </tr>\n",
       "    <tr>\n",
       "      <th>1388</th>\n",
       "      <td>Burma/Myanmar</td>\n",
       "      <td>1904</td>\n",
       "      <td>0.091</td>\n",
       "    </tr>\n",
       "  </tbody>\n",
       "</table>\n",
       "</div>"
      ],
      "text/plain": [
       "       country_name  year  v2x_polyarchy\n",
       "1384  Burma/Myanmar  1900          0.091\n",
       "1385  Burma/Myanmar  1901          0.091\n",
       "1386  Burma/Myanmar  1902          0.091\n",
       "1387  Burma/Myanmar  1903          0.091\n",
       "1388  Burma/Myanmar  1904          0.091"
      ]
     },
     "execution_count": 39,
     "metadata": {},
     "output_type": "execute_result"
    }
   ],
   "source": [
    "south_east_asia[['country_name', 'year', 'v2x_polyarchy']].head()"
   ]
  },
  {
   "cell_type": "markdown",
   "id": "b6a35810-2cf3-4f8b-8afc-12b1c538a340",
   "metadata": {},
   "source": [
    "Bei den in south_east_asia gespeicherten Daten handelt es sich um alle Beobachtungen der südostasiatischen Länder in den VDEM-Daten, die nun in einem eigenen dataframe gespeichert sind. .get_group() ist eine weitere Möglichkeit, eine Teilmenge eines dataframes zu extrahieren (mit Hilfe eines groupby-Objekts), und ist besonders nützlich, wenn die Teilmenge der Daten, mit der Sie arbeiten möchten, nur Beobachtungen mit einem bestimmten Wert für eine kategoriale Variable in Ihren Daten sind. Wenn wir einen Datensatz auf diese Weise gruppieren, geschieht dies im Allgemeinen, weil wir etwas für eine Gruppe innerhalb des Datensatzes oder für mehrere Gruppen, die wir vergleichen möchten, berechnen möchten. Dazu geben wir das gruppierte Objekt, die Serie, für die wir eine Operation durchführen möchten, und schließlich die Operation, die wir durchführen möchten, an. Berechnen wir zum Beispiel den Median des Polyarchie-Scores für Länder in jeder der Regionen im Datensatz:"
   ]
  },
  {
   "cell_type": "code",
   "execution_count": 40,
   "id": "f5c26b1f-9ab3-4002-a959-445a1e523229",
   "metadata": {},
   "outputs": [
    {
     "data": {
      "text/plain": [
       "e_regiongeo\n",
       "1    0.7940\n",
       "2    0.8170\n",
       "3    0.3890\n",
       "4    0.2385\n",
       "5    0.0955\n",
       "Name: v2x_polyarchy, dtype: float64"
      ]
     },
     "execution_count": 40,
     "metadata": {},
     "output_type": "execute_result"
    }
   ],
   "source": [
    "poly = grouped['v2x_polyarchy'].median() \n",
    "poly.head()"
   ]
  },
  {
   "cell_type": "markdown",
   "id": "570f4e9f-a7d7-4253-9d9a-d545732df286",
   "metadata": {},
   "source": [
    "Es wäre nützlicher, den Namen der Region zu sehen als ihre numerische Bezeichnung. Wir können dies erreichen, indem wir ein Wörterbuch erstellen, das die numerischen IDs auf den Regionsnamen abbildet, und dann die Methode .map() verwenden, um Pandas mitzuteilen, wo es die Werte nachschlagen soll, die es benötigt, um eine neue Spalte mit den Ländernamen zu erstellen. Zuerst das Wörterbuch:"
   ]
  },
  {
   "cell_type": "code",
   "execution_count": 41,
   "id": "87cf7d13-ae06-4d61-b924-1bc8c14c6574",
   "metadata": {},
   "outputs": [],
   "source": [
    "regions = { 1:'Western Europe', \n",
    "           2:'Northern Europe', \n",
    "           3:'Southern Europe', \n",
    "           4:'Eastern Europe', \n",
    "           5:'Northern Africa',\n",
    "           6:'Western Africa', \n",
    "           7:'Middle Africa', \n",
    "           8:'Eastern Africa', \n",
    "           9:'Southern Africa', \n",
    "           10:'Western Asia', \n",
    "           11:'Central Asia', \n",
    "           12:'East Asia', \n",
    "           13:'South-East Asia', \n",
    "           14:'South Asia', \n",
    "           15:'Oceania', # (including Australia and the Pacific) \n",
    "           16:'North America', \n",
    "           17:'Central America', \n",
    "           18:'South America', \n",
    "           19:'Caribbean' # (including Belize Cuba Haiti Dominican Republic) \n",
    "          }"
   ]
  },
  {
   "cell_type": "markdown",
   "id": "e9c642b9-4d60-4d8d-99ed-900506d48fd0",
   "metadata": {},
   "source": [
    "Nun können wir dieses Wörterbuch an die Methode `.map()` übergeben, die auf die Serie `fsdf['e_regiongeo']` angewendet wird, und so eine neue Serie namens `fsdf['Region']` erstellen:"
   ]
  },
  {
   "cell_type": "code",
   "execution_count": 42,
   "id": "d630dfc8-2e66-4f6f-8305-5005af9977f1",
   "metadata": {},
   "outputs": [],
   "source": [
    "fsdf['Region'] = fsdf['e_regiongeo'].map(regions)"
   ]
  },
  {
   "cell_type": "markdown",
   "id": "63bc1d54-1c11-47e6-a6de-2bc56b710c1f",
   "metadata": {},
   "source": [
    "Es ist auch möglich, nach mehreren Variablen zu gruppieren, z. B. nach geografischer Region und Jahr, und dann eine Operation an diesen etwas feineren Gruppen durchzuführen. Auf diese Weise ergeben sich 2211 Gruppen, so dass wir eine Zufallsstichprobe von 10 Gruppen ansehen werden:"
   ]
  },
  {
   "cell_type": "code",
   "execution_count": 43,
   "id": "c1ba3803-666e-4599-9892-4f829cba4d04",
   "metadata": {},
   "outputs": [
    {
     "data": {
      "text/html": [
       "<div>\n",
       "<style scoped>\n",
       "    .dataframe tbody tr th:only-of-type {\n",
       "        vertical-align: middle;\n",
       "    }\n",
       "\n",
       "    .dataframe tbody tr th {\n",
       "        vertical-align: top;\n",
       "    }\n",
       "\n",
       "    .dataframe thead th {\n",
       "        text-align: right;\n",
       "    }\n",
       "</style>\n",
       "<table border=\"1\" class=\"dataframe\">\n",
       "  <thead>\n",
       "    <tr style=\"text-align: right;\">\n",
       "      <th></th>\n",
       "      <th>Region</th>\n",
       "      <th>year</th>\n",
       "      <th>v2x_polyarchy</th>\n",
       "    </tr>\n",
       "  </thead>\n",
       "  <tbody>\n",
       "    <tr>\n",
       "      <th>0</th>\n",
       "      <td>Caribbean</td>\n",
       "      <td>1900</td>\n",
       "      <td>0.1340</td>\n",
       "    </tr>\n",
       "    <tr>\n",
       "      <th>1</th>\n",
       "      <td>Caribbean</td>\n",
       "      <td>1901</td>\n",
       "      <td>0.1690</td>\n",
       "    </tr>\n",
       "    <tr>\n",
       "      <th>2</th>\n",
       "      <td>Caribbean</td>\n",
       "      <td>1902</td>\n",
       "      <td>0.1565</td>\n",
       "    </tr>\n",
       "    <tr>\n",
       "      <th>3</th>\n",
       "      <td>Caribbean</td>\n",
       "      <td>1903</td>\n",
       "      <td>0.1525</td>\n",
       "    </tr>\n",
       "    <tr>\n",
       "      <th>4</th>\n",
       "      <td>Caribbean</td>\n",
       "      <td>1904</td>\n",
       "      <td>0.1700</td>\n",
       "    </tr>\n",
       "    <tr>\n",
       "      <th>...</th>\n",
       "      <td>...</td>\n",
       "      <td>...</td>\n",
       "      <td>...</td>\n",
       "    </tr>\n",
       "    <tr>\n",
       "      <th>2206</th>\n",
       "      <td>Western Europe</td>\n",
       "      <td>2015</td>\n",
       "      <td>0.8830</td>\n",
       "    </tr>\n",
       "    <tr>\n",
       "      <th>2207</th>\n",
       "      <td>Western Europe</td>\n",
       "      <td>2016</td>\n",
       "      <td>0.8830</td>\n",
       "    </tr>\n",
       "    <tr>\n",
       "      <th>2208</th>\n",
       "      <td>Western Europe</td>\n",
       "      <td>2017</td>\n",
       "      <td>0.8770</td>\n",
       "    </tr>\n",
       "    <tr>\n",
       "      <th>2209</th>\n",
       "      <td>Western Europe</td>\n",
       "      <td>2018</td>\n",
       "      <td>0.8730</td>\n",
       "    </tr>\n",
       "    <tr>\n",
       "      <th>2210</th>\n",
       "      <td>Western Europe</td>\n",
       "      <td>2019</td>\n",
       "      <td>0.8730</td>\n",
       "    </tr>\n",
       "  </tbody>\n",
       "</table>\n",
       "<p>2211 rows × 3 columns</p>\n",
       "</div>"
      ],
      "text/plain": [
       "              Region  year  v2x_polyarchy\n",
       "0          Caribbean  1900         0.1340\n",
       "1          Caribbean  1901         0.1690\n",
       "2          Caribbean  1902         0.1565\n",
       "3          Caribbean  1903         0.1525\n",
       "4          Caribbean  1904         0.1700\n",
       "...              ...   ...            ...\n",
       "2206  Western Europe  2015         0.8830\n",
       "2207  Western Europe  2016         0.8830\n",
       "2208  Western Europe  2017         0.8770\n",
       "2209  Western Europe  2018         0.8730\n",
       "2210  Western Europe  2019         0.8730\n",
       "\n",
       "[2211 rows x 3 columns]"
      ]
     },
     "execution_count": 43,
     "metadata": {},
     "output_type": "execute_result"
    }
   ],
   "source": [
    "grouped = fsdf.groupby(['Region', 'year']) \n",
    "poly = grouped['v2x_polyarchy'].median() \n",
    "poly.reset_index()\n",
    "pd.DataFrame(poly).reset_index()"
   ]
  },
  {
   "cell_type": "markdown",
   "id": "5d09f4d6-58a9-438d-87d5-5ef0a0acba32",
   "metadata": {},
   "source": [
    "Für das gruppierte Objekt selbst können andere Operationen durchgeführt werden, z. B. die Berechnung der Anzahl der Beobachtungen in jeder Gruppe (entspricht value_counts()):"
   ]
  },
  {
   "cell_type": "code",
   "execution_count": 44,
   "id": "16186283-964f-49a4-a25d-ed819caae305",
   "metadata": {},
   "outputs": [
    {
     "data": {
      "text/plain": [
       "Region          year\n",
       "Eastern Africa  2015    20\n",
       "                2012    20\n",
       "                2019    20\n",
       "                2018    20\n",
       "                2017    20\n",
       "                        ..\n",
       "Central Asia    1904     1\n",
       "                1903     1\n",
       "                1902     1\n",
       "                1901     1\n",
       "                1914     1\n",
       "Length: 2211, dtype: int64"
      ]
     },
     "execution_count": 44,
     "metadata": {},
     "output_type": "execute_result"
    }
   ],
   "source": [
    "grouped.size().sort_values(ascending=False)"
   ]
  },
  {
   "cell_type": "code",
   "execution_count": 45,
   "id": "69004cfc-0b3d-49cb-ac42-2344b893a786",
   "metadata": {},
   "outputs": [
    {
     "data": {
      "text/html": [
       "<div>\n",
       "<style scoped>\n",
       "    .dataframe tbody tr th:only-of-type {\n",
       "        vertical-align: middle;\n",
       "    }\n",
       "\n",
       "    .dataframe tbody tr th {\n",
       "        vertical-align: top;\n",
       "    }\n",
       "\n",
       "    .dataframe thead th {\n",
       "        text-align: right;\n",
       "    }\n",
       "</style>\n",
       "<table border=\"1\" class=\"dataframe\">\n",
       "  <thead>\n",
       "    <tr style=\"text-align: right;\">\n",
       "      <th></th>\n",
       "      <th>Region</th>\n",
       "      <th>year</th>\n",
       "      <th>count</th>\n",
       "    </tr>\n",
       "  </thead>\n",
       "  <tbody>\n",
       "    <tr>\n",
       "      <th>0</th>\n",
       "      <td>Eastern Africa</td>\n",
       "      <td>2015</td>\n",
       "      <td>20</td>\n",
       "    </tr>\n",
       "    <tr>\n",
       "      <th>1</th>\n",
       "      <td>Eastern Africa</td>\n",
       "      <td>2012</td>\n",
       "      <td>20</td>\n",
       "    </tr>\n",
       "    <tr>\n",
       "      <th>2</th>\n",
       "      <td>Eastern Africa</td>\n",
       "      <td>2019</td>\n",
       "      <td>20</td>\n",
       "    </tr>\n",
       "    <tr>\n",
       "      <th>3</th>\n",
       "      <td>Eastern Africa</td>\n",
       "      <td>2018</td>\n",
       "      <td>20</td>\n",
       "    </tr>\n",
       "    <tr>\n",
       "      <th>4</th>\n",
       "      <td>Eastern Africa</td>\n",
       "      <td>2017</td>\n",
       "      <td>20</td>\n",
       "    </tr>\n",
       "    <tr>\n",
       "      <th>...</th>\n",
       "      <td>...</td>\n",
       "      <td>...</td>\n",
       "      <td>...</td>\n",
       "    </tr>\n",
       "    <tr>\n",
       "      <th>2206</th>\n",
       "      <td>Central Asia</td>\n",
       "      <td>1904</td>\n",
       "      <td>1</td>\n",
       "    </tr>\n",
       "    <tr>\n",
       "      <th>2207</th>\n",
       "      <td>Central Asia</td>\n",
       "      <td>1903</td>\n",
       "      <td>1</td>\n",
       "    </tr>\n",
       "    <tr>\n",
       "      <th>2208</th>\n",
       "      <td>Central Asia</td>\n",
       "      <td>1902</td>\n",
       "      <td>1</td>\n",
       "    </tr>\n",
       "    <tr>\n",
       "      <th>2209</th>\n",
       "      <td>Central Asia</td>\n",
       "      <td>1901</td>\n",
       "      <td>1</td>\n",
       "    </tr>\n",
       "    <tr>\n",
       "      <th>2210</th>\n",
       "      <td>Central Asia</td>\n",
       "      <td>1914</td>\n",
       "      <td>1</td>\n",
       "    </tr>\n",
       "  </tbody>\n",
       "</table>\n",
       "<p>2211 rows × 3 columns</p>\n",
       "</div>"
      ],
      "text/plain": [
       "              Region  year  count\n",
       "0     Eastern Africa  2015     20\n",
       "1     Eastern Africa  2012     20\n",
       "2     Eastern Africa  2019     20\n",
       "3     Eastern Africa  2018     20\n",
       "4     Eastern Africa  2017     20\n",
       "...              ...   ...    ...\n",
       "2206    Central Asia  1904      1\n",
       "2207    Central Asia  1903      1\n",
       "2208    Central Asia  1902      1\n",
       "2209    Central Asia  1901      1\n",
       "2210    Central Asia  1914      1\n",
       "\n",
       "[2211 rows x 3 columns]"
      ]
     },
     "execution_count": 45,
     "metadata": {},
     "output_type": "execute_result"
    }
   ],
   "source": [
    "grouped.size().sort_values(ascending=False).reset_index(name='count')"
   ]
  },
  {
   "cell_type": "markdown",
   "id": "8b6c8f5d-6c5d-44fa-86ec-ce5693fcd5c8",
   "metadata": {},
   "source": [
    "Schließlich können wir mit der Methode `agg()` mehrere Operationen auf ein gruppiertes Objekt anwenden. Die `agg()`-Methode wendet eine oder mehrere Aggregatfunktionen auf ein gruppiertes Objekt an und gibt die Ergebnisse der einzelnen Funktionen zurück:"
   ]
  },
  {
   "cell_type": "code",
   "execution_count": 46,
   "id": "857ba193-1ccb-4207-bf67-af099af6eec7",
   "metadata": {},
   "outputs": [
    {
     "data": {
      "text/html": [
       "<div>\n",
       "<style scoped>\n",
       "    .dataframe tbody tr th:only-of-type {\n",
       "        vertical-align: middle;\n",
       "    }\n",
       "\n",
       "    .dataframe tbody tr th {\n",
       "        vertical-align: top;\n",
       "    }\n",
       "\n",
       "    .dataframe thead th {\n",
       "        text-align: right;\n",
       "    }\n",
       "</style>\n",
       "<table border=\"1\" class=\"dataframe\">\n",
       "  <thead>\n",
       "    <tr style=\"text-align: right;\">\n",
       "      <th></th>\n",
       "      <th>Region</th>\n",
       "      <th>year</th>\n",
       "      <th>min</th>\n",
       "      <th>median</th>\n",
       "      <th>max</th>\n",
       "      <th>count</th>\n",
       "    </tr>\n",
       "  </thead>\n",
       "  <tbody>\n",
       "    <tr>\n",
       "      <th>0</th>\n",
       "      <td>Caribbean</td>\n",
       "      <td>1900</td>\n",
       "      <td>0.080</td>\n",
       "      <td>0.1340</td>\n",
       "      <td>0.222</td>\n",
       "      <td>5</td>\n",
       "    </tr>\n",
       "    <tr>\n",
       "      <th>1</th>\n",
       "      <td>Caribbean</td>\n",
       "      <td>1901</td>\n",
       "      <td>0.080</td>\n",
       "      <td>0.1690</td>\n",
       "      <td>0.222</td>\n",
       "      <td>6</td>\n",
       "    </tr>\n",
       "    <tr>\n",
       "      <th>2</th>\n",
       "      <td>Caribbean</td>\n",
       "      <td>1902</td>\n",
       "      <td>0.080</td>\n",
       "      <td>0.1565</td>\n",
       "      <td>0.295</td>\n",
       "      <td>6</td>\n",
       "    </tr>\n",
       "    <tr>\n",
       "      <th>3</th>\n",
       "      <td>Caribbean</td>\n",
       "      <td>1903</td>\n",
       "      <td>0.080</td>\n",
       "      <td>0.1525</td>\n",
       "      <td>0.315</td>\n",
       "      <td>6</td>\n",
       "    </tr>\n",
       "    <tr>\n",
       "      <th>4</th>\n",
       "      <td>Caribbean</td>\n",
       "      <td>1904</td>\n",
       "      <td>0.080</td>\n",
       "      <td>0.1700</td>\n",
       "      <td>0.325</td>\n",
       "      <td>6</td>\n",
       "    </tr>\n",
       "    <tr>\n",
       "      <th>...</th>\n",
       "      <td>...</td>\n",
       "      <td>...</td>\n",
       "      <td>...</td>\n",
       "      <td>...</td>\n",
       "      <td>...</td>\n",
       "      <td>...</td>\n",
       "    </tr>\n",
       "    <tr>\n",
       "      <th>2206</th>\n",
       "      <td>Western Europe</td>\n",
       "      <td>2015</td>\n",
       "      <td>0.867</td>\n",
       "      <td>0.8830</td>\n",
       "      <td>0.904</td>\n",
       "      <td>7</td>\n",
       "    </tr>\n",
       "    <tr>\n",
       "      <th>2207</th>\n",
       "      <td>Western Europe</td>\n",
       "      <td>2016</td>\n",
       "      <td>0.852</td>\n",
       "      <td>0.8830</td>\n",
       "      <td>0.904</td>\n",
       "      <td>7</td>\n",
       "    </tr>\n",
       "    <tr>\n",
       "      <th>2208</th>\n",
       "      <td>Western Europe</td>\n",
       "      <td>2017</td>\n",
       "      <td>0.835</td>\n",
       "      <td>0.8770</td>\n",
       "      <td>0.896</td>\n",
       "      <td>7</td>\n",
       "    </tr>\n",
       "    <tr>\n",
       "      <th>2209</th>\n",
       "      <td>Western Europe</td>\n",
       "      <td>2018</td>\n",
       "      <td>0.806</td>\n",
       "      <td>0.8730</td>\n",
       "      <td>0.893</td>\n",
       "      <td>7</td>\n",
       "    </tr>\n",
       "    <tr>\n",
       "      <th>2210</th>\n",
       "      <td>Western Europe</td>\n",
       "      <td>2019</td>\n",
       "      <td>0.809</td>\n",
       "      <td>0.8730</td>\n",
       "      <td>0.882</td>\n",
       "      <td>7</td>\n",
       "    </tr>\n",
       "  </tbody>\n",
       "</table>\n",
       "<p>2211 rows × 6 columns</p>\n",
       "</div>"
      ],
      "text/plain": [
       "              Region  year    min  median    max  count\n",
       "0          Caribbean  1900  0.080  0.1340  0.222      5\n",
       "1          Caribbean  1901  0.080  0.1690  0.222      6\n",
       "2          Caribbean  1902  0.080  0.1565  0.295      6\n",
       "3          Caribbean  1903  0.080  0.1525  0.315      6\n",
       "4          Caribbean  1904  0.080  0.1700  0.325      6\n",
       "...              ...   ...    ...     ...    ...    ...\n",
       "2206  Western Europe  2015  0.867  0.8830  0.904      7\n",
       "2207  Western Europe  2016  0.852  0.8830  0.904      7\n",
       "2208  Western Europe  2017  0.835  0.8770  0.896      7\n",
       "2209  Western Europe  2018  0.806  0.8730  0.893      7\n",
       "2210  Western Europe  2019  0.809  0.8730  0.882      7\n",
       "\n",
       "[2211 rows x 6 columns]"
      ]
     },
     "execution_count": 46,
     "metadata": {},
     "output_type": "execute_result"
    }
   ],
   "source": [
    "with_agg = grouped['v2x_polyarchy'].agg(['min', 'median', 'max', 'count']) \n",
    "with_agg.reset_index()"
   ]
  },
  {
   "cell_type": "markdown",
   "id": "27bd216e-258d-484e-bcea-ab5ad91289a8",
   "metadata": {},
   "source": [
    "Wir können sogar unsere eigene Funktion definieren, die agg() verwenden soll! Wenn wir bereit sind, ein Wörterbuch zu übergeben, können wir mit .agg() auch verschiedene Funktionen auf mehrere Variablen gleichzeitig anwenden! Anstatt eine Liste pro Funktion zu übergeben, können Sie ein Wörterbuch verwenden, in dem die Spaltennamen die Schlüssel und die Funktionen die Werte sind (Sie können auch eine Liste von Funktionen übergeben), um eine wirklich komplexe Aggregation in einer einzigen Codezeile durchzuführen."
   ]
  },
  {
   "cell_type": "markdown",
   "id": "ce665d34-c18d-4a95-a49a-e95b7ada8897",
   "metadata": {},
   "source": [
    "## Kombinierung von DataFrames"
   ]
  },
  {
   "cell_type": "markdown",
   "id": "0328ab2f-8474-497e-8290-17a5678b39f0",
   "metadata": {},
   "source": [
    "Das Kombinieren von dataframes ist eine sehr häufige Aufgabe. Auch wenn es nicht offensichtlich erscheint, ist das Kombinieren von Datensätzen eine der wertvollsten Fähigkeiten, die man in der rechnergestützten Sozialwissenschaft haben kann. Im Folgenden werden einige der gebräuchlichsten Ansätze betrachtet, nämlich die Verkettung und Zusammenführung, und es wird kurz eine fortgeschrittenere Reihe von Methoden beschrieben, die gemeinhin als Datensatzverknüpfung bezeichnet werden.  \n",
    "\n",
    "Die Verkettung eines dataframes ist konzeptionell recht einfach - stellen Sie sich vor, Sie hängen die Zeilen oder Spalten eines dataframes unter oder rechts von der letzten Zeile oder Spalte eines anderen dataframes an. Damit dies sinnvoll ist, sollten die beiden dataframes mindestens eine Zeile oder Spalte gemeinsam haben."
   ]
  },
  {
   "cell_type": "code",
   "execution_count": 47,
   "id": "9f417708-1d74-463a-973b-33db186f1486",
   "metadata": {},
   "outputs": [
    {
     "data": {
      "text/plain": [
       "120"
      ]
     },
     "execution_count": 47,
     "metadata": {},
     "output_type": "execute_result"
    }
   ],
   "source": [
    "full_df = pd.read_csv(\"../data/vdem/filtered_subset.csv\") \n",
    "df_australia = full_df[full_df.country_name == \"Australia\"].copy()\n",
    "len(df_australia)"
   ]
  },
  {
   "cell_type": "code",
   "execution_count": 48,
   "id": "6ee55d85-c06f-431a-81d5-8b7257582d02",
   "metadata": {},
   "outputs": [
    {
     "data": {
      "text/html": [
       "<div>\n",
       "<style scoped>\n",
       "    .dataframe tbody tr th:only-of-type {\n",
       "        vertical-align: middle;\n",
       "    }\n",
       "\n",
       "    .dataframe tbody tr th {\n",
       "        vertical-align: top;\n",
       "    }\n",
       "\n",
       "    .dataframe thead th {\n",
       "        text-align: right;\n",
       "    }\n",
       "</style>\n",
       "<table border=\"1\" class=\"dataframe\">\n",
       "  <thead>\n",
       "    <tr style=\"text-align: right;\">\n",
       "      <th></th>\n",
       "      <th>country_name</th>\n",
       "      <th>country_text_id</th>\n",
       "      <th>e_regiongeo</th>\n",
       "      <th>year</th>\n",
       "      <th>v2x_polyarchy</th>\n",
       "      <th>v2x_libdem</th>\n",
       "      <th>v2x_partipdem</th>\n",
       "      <th>v2x_delibdem</th>\n",
       "      <th>v2x_egaldem</th>\n",
       "      <th>v2smprivex</th>\n",
       "      <th>v2smpolsoc</th>\n",
       "      <th>v2caviol</th>\n",
       "      <th>e_boix_regime</th>\n",
       "    </tr>\n",
       "  </thead>\n",
       "  <tbody>\n",
       "    <tr>\n",
       "      <th>6773</th>\n",
       "      <td>Australia</td>\n",
       "      <td>AUS</td>\n",
       "      <td>15</td>\n",
       "      <td>1900</td>\n",
       "      <td>0.641</td>\n",
       "      <td>NaN</td>\n",
       "      <td>0.427</td>\n",
       "      <td>NaN</td>\n",
       "      <td>NaN</td>\n",
       "      <td>NaN</td>\n",
       "      <td>NaN</td>\n",
       "      <td>NaN</td>\n",
       "      <td>NaN</td>\n",
       "    </tr>\n",
       "    <tr>\n",
       "      <th>6774</th>\n",
       "      <td>Australia</td>\n",
       "      <td>AUS</td>\n",
       "      <td>15</td>\n",
       "      <td>1901</td>\n",
       "      <td>0.651</td>\n",
       "      <td>0.566</td>\n",
       "      <td>0.463</td>\n",
       "      <td>0.556</td>\n",
       "      <td>0.427</td>\n",
       "      <td>NaN</td>\n",
       "      <td>NaN</td>\n",
       "      <td>NaN</td>\n",
       "      <td>1.0</td>\n",
       "    </tr>\n",
       "    <tr>\n",
       "      <th>6775</th>\n",
       "      <td>Australia</td>\n",
       "      <td>AUS</td>\n",
       "      <td>15</td>\n",
       "      <td>1902</td>\n",
       "      <td>0.789</td>\n",
       "      <td>0.706</td>\n",
       "      <td>0.568</td>\n",
       "      <td>0.689</td>\n",
       "      <td>0.551</td>\n",
       "      <td>NaN</td>\n",
       "      <td>NaN</td>\n",
       "      <td>NaN</td>\n",
       "      <td>1.0</td>\n",
       "    </tr>\n",
       "    <tr>\n",
       "      <th>6776</th>\n",
       "      <td>Australia</td>\n",
       "      <td>AUS</td>\n",
       "      <td>15</td>\n",
       "      <td>1903</td>\n",
       "      <td>0.789</td>\n",
       "      <td>0.705</td>\n",
       "      <td>0.569</td>\n",
       "      <td>0.688</td>\n",
       "      <td>0.550</td>\n",
       "      <td>NaN</td>\n",
       "      <td>NaN</td>\n",
       "      <td>NaN</td>\n",
       "      <td>1.0</td>\n",
       "    </tr>\n",
       "    <tr>\n",
       "      <th>6777</th>\n",
       "      <td>Australia</td>\n",
       "      <td>AUS</td>\n",
       "      <td>15</td>\n",
       "      <td>1904</td>\n",
       "      <td>0.804</td>\n",
       "      <td>0.705</td>\n",
       "      <td>0.574</td>\n",
       "      <td>0.699</td>\n",
       "      <td>0.562</td>\n",
       "      <td>NaN</td>\n",
       "      <td>NaN</td>\n",
       "      <td>NaN</td>\n",
       "      <td>1.0</td>\n",
       "    </tr>\n",
       "  </tbody>\n",
       "</table>\n",
       "</div>"
      ],
      "text/plain": [
       "     country_name country_text_id  e_regiongeo  year  v2x_polyarchy  \\\n",
       "6773    Australia             AUS           15  1900          0.641   \n",
       "6774    Australia             AUS           15  1901          0.651   \n",
       "6775    Australia             AUS           15  1902          0.789   \n",
       "6776    Australia             AUS           15  1903          0.789   \n",
       "6777    Australia             AUS           15  1904          0.804   \n",
       "\n",
       "      v2x_libdem  v2x_partipdem  v2x_delibdem  v2x_egaldem  v2smprivex  \\\n",
       "6773         NaN          0.427           NaN          NaN         NaN   \n",
       "6774       0.566          0.463         0.556        0.427         NaN   \n",
       "6775       0.706          0.568         0.689        0.551         NaN   \n",
       "6776       0.705          0.569         0.688        0.550         NaN   \n",
       "6777       0.705          0.574         0.699        0.562         NaN   \n",
       "\n",
       "      v2smpolsoc  v2caviol  e_boix_regime  \n",
       "6773         NaN       NaN            NaN  \n",
       "6774         NaN       NaN            1.0  \n",
       "6775         NaN       NaN            1.0  \n",
       "6776         NaN       NaN            1.0  \n",
       "6777         NaN       NaN            1.0  "
      ]
     },
     "execution_count": 48,
     "metadata": {},
     "output_type": "execute_result"
    }
   ],
   "source": [
    "df_australia.head()"
   ]
  },
  {
   "cell_type": "code",
   "execution_count": 49,
   "id": "9f27042b-51c6-410b-9bec-95f1cdff993e",
   "metadata": {},
   "outputs": [
    {
     "data": {
      "text/plain": [
       "120"
      ]
     },
     "execution_count": 49,
     "metadata": {},
     "output_type": "execute_result"
    }
   ],
   "source": [
    "df_sa = full_df[full_df.country_name == \"South Africa\"].copy()\n",
    "len(df_sa)"
   ]
  },
  {
   "cell_type": "code",
   "execution_count": 50,
   "id": "880c3e9e-dcda-485d-a2bd-251299de9aac",
   "metadata": {},
   "outputs": [
    {
     "data": {
      "text/html": [
       "<div>\n",
       "<style scoped>\n",
       "    .dataframe tbody tr th:only-of-type {\n",
       "        vertical-align: middle;\n",
       "    }\n",
       "\n",
       "    .dataframe tbody tr th {\n",
       "        vertical-align: top;\n",
       "    }\n",
       "\n",
       "    .dataframe thead th {\n",
       "        text-align: right;\n",
       "    }\n",
       "</style>\n",
       "<table border=\"1\" class=\"dataframe\">\n",
       "  <thead>\n",
       "    <tr style=\"text-align: right;\">\n",
       "      <th></th>\n",
       "      <th>country_name</th>\n",
       "      <th>country_text_id</th>\n",
       "      <th>e_regiongeo</th>\n",
       "      <th>year</th>\n",
       "      <th>v2x_polyarchy</th>\n",
       "      <th>v2x_libdem</th>\n",
       "      <th>v2x_partipdem</th>\n",
       "      <th>v2x_delibdem</th>\n",
       "      <th>v2x_egaldem</th>\n",
       "      <th>v2smprivex</th>\n",
       "      <th>v2smpolsoc</th>\n",
       "      <th>v2caviol</th>\n",
       "      <th>e_boix_regime</th>\n",
       "    </tr>\n",
       "  </thead>\n",
       "  <tbody>\n",
       "    <tr>\n",
       "      <th>713</th>\n",
       "      <td>South Africa</td>\n",
       "      <td>ZAF</td>\n",
       "      <td>9</td>\n",
       "      <td>2015</td>\n",
       "      <td>0.713</td>\n",
       "      <td>0.602</td>\n",
       "      <td>0.451</td>\n",
       "      <td>0.608</td>\n",
       "      <td>0.453</td>\n",
       "      <td>1.464</td>\n",
       "      <td>-0.232</td>\n",
       "      <td>0.598</td>\n",
       "      <td>NaN</td>\n",
       "    </tr>\n",
       "    <tr>\n",
       "      <th>714</th>\n",
       "      <td>South Africa</td>\n",
       "      <td>ZAF</td>\n",
       "      <td>9</td>\n",
       "      <td>2016</td>\n",
       "      <td>0.715</td>\n",
       "      <td>0.599</td>\n",
       "      <td>0.452</td>\n",
       "      <td>0.623</td>\n",
       "      <td>0.434</td>\n",
       "      <td>1.464</td>\n",
       "      <td>-0.232</td>\n",
       "      <td>0.598</td>\n",
       "      <td>NaN</td>\n",
       "    </tr>\n",
       "    <tr>\n",
       "      <th>715</th>\n",
       "      <td>South Africa</td>\n",
       "      <td>ZAF</td>\n",
       "      <td>9</td>\n",
       "      <td>2017</td>\n",
       "      <td>0.712</td>\n",
       "      <td>0.604</td>\n",
       "      <td>0.452</td>\n",
       "      <td>0.621</td>\n",
       "      <td>0.497</td>\n",
       "      <td>1.464</td>\n",
       "      <td>-0.232</td>\n",
       "      <td>0.625</td>\n",
       "      <td>NaN</td>\n",
       "    </tr>\n",
       "    <tr>\n",
       "      <th>716</th>\n",
       "      <td>South Africa</td>\n",
       "      <td>ZAF</td>\n",
       "      <td>9</td>\n",
       "      <td>2018</td>\n",
       "      <td>0.681</td>\n",
       "      <td>0.585</td>\n",
       "      <td>0.442</td>\n",
       "      <td>0.568</td>\n",
       "      <td>0.449</td>\n",
       "      <td>1.464</td>\n",
       "      <td>-0.232</td>\n",
       "      <td>0.625</td>\n",
       "      <td>NaN</td>\n",
       "    </tr>\n",
       "    <tr>\n",
       "      <th>717</th>\n",
       "      <td>South Africa</td>\n",
       "      <td>ZAF</td>\n",
       "      <td>9</td>\n",
       "      <td>2019</td>\n",
       "      <td>0.678</td>\n",
       "      <td>0.575</td>\n",
       "      <td>0.434</td>\n",
       "      <td>0.586</td>\n",
       "      <td>0.455</td>\n",
       "      <td>0.253</td>\n",
       "      <td>-0.404</td>\n",
       "      <td>0.625</td>\n",
       "      <td>NaN</td>\n",
       "    </tr>\n",
       "  </tbody>\n",
       "</table>\n",
       "</div>"
      ],
      "text/plain": [
       "     country_name country_text_id  e_regiongeo  year  v2x_polyarchy  \\\n",
       "713  South Africa             ZAF            9  2015          0.713   \n",
       "714  South Africa             ZAF            9  2016          0.715   \n",
       "715  South Africa             ZAF            9  2017          0.712   \n",
       "716  South Africa             ZAF            9  2018          0.681   \n",
       "717  South Africa             ZAF            9  2019          0.678   \n",
       "\n",
       "     v2x_libdem  v2x_partipdem  v2x_delibdem  v2x_egaldem  v2smprivex  \\\n",
       "713       0.602          0.451         0.608        0.453       1.464   \n",
       "714       0.599          0.452         0.623        0.434       1.464   \n",
       "715       0.604          0.452         0.621        0.497       1.464   \n",
       "716       0.585          0.442         0.568        0.449       1.464   \n",
       "717       0.575          0.434         0.586        0.455       0.253   \n",
       "\n",
       "     v2smpolsoc  v2caviol  e_boix_regime  \n",
       "713      -0.232     0.598            NaN  \n",
       "714      -0.232     0.598            NaN  \n",
       "715      -0.232     0.625            NaN  \n",
       "716      -0.232     0.625            NaN  \n",
       "717      -0.404     0.625            NaN  "
      ]
     },
     "execution_count": 50,
     "metadata": {},
     "output_type": "execute_result"
    }
   ],
   "source": [
    "df_sa.tail()"
   ]
  },
  {
   "cell_type": "code",
   "execution_count": 51,
   "id": "7ad94c87-ee62-4a52-8555-836f20981846",
   "metadata": {},
   "outputs": [
    {
     "data": {
      "text/html": [
       "<div>\n",
       "<style scoped>\n",
       "    .dataframe tbody tr th:only-of-type {\n",
       "        vertical-align: middle;\n",
       "    }\n",
       "\n",
       "    .dataframe tbody tr th {\n",
       "        vertical-align: top;\n",
       "    }\n",
       "\n",
       "    .dataframe thead th {\n",
       "        text-align: right;\n",
       "    }\n",
       "</style>\n",
       "<table border=\"1\" class=\"dataframe\">\n",
       "  <thead>\n",
       "    <tr style=\"text-align: right;\">\n",
       "      <th></th>\n",
       "      <th>country_name</th>\n",
       "      <th>country_text_id</th>\n",
       "      <th>e_regiongeo</th>\n",
       "      <th>year</th>\n",
       "      <th>v2x_polyarchy</th>\n",
       "      <th>v2x_libdem</th>\n",
       "      <th>v2x_partipdem</th>\n",
       "      <th>v2x_delibdem</th>\n",
       "      <th>v2x_egaldem</th>\n",
       "      <th>v2smprivex</th>\n",
       "      <th>v2smpolsoc</th>\n",
       "      <th>v2caviol</th>\n",
       "      <th>e_boix_regime</th>\n",
       "    </tr>\n",
       "  </thead>\n",
       "  <tbody>\n",
       "  </tbody>\n",
       "</table>\n",
       "</div>"
      ],
      "text/plain": [
       "Empty DataFrame\n",
       "Columns: [country_name, country_text_id, e_regiongeo, year, v2x_polyarchy, v2x_libdem, v2x_partipdem, v2x_delibdem, v2x_egaldem, v2smprivex, v2smpolsoc, v2caviol, e_boix_regime]\n",
       "Index: []"
      ]
     },
     "execution_count": 51,
     "metadata": {},
     "output_type": "execute_result"
    }
   ],
   "source": [
    "df_sa[df_sa.country_name.isna()]"
   ]
  },
  {
   "cell_type": "markdown",
   "id": "0e3dbe2f-e670-492c-9126-f074e4aeb83a",
   "metadata": {},
   "source": [
    "Standardmäßig führt pd.concat() eine zeilenweise Verknüpfung durch, die als Achse=0 bezeichnet wird. Diese Vorgabe kann durch die Angabe von Achse=1 außer Kraft gesetzt werden, wodurch eine spaltenweise Verknüpfung erfolgt:"
   ]
  },
  {
   "cell_type": "code",
   "execution_count": 52,
   "id": "1c91a6db-9f28-48e2-9c09-6de985cf0d50",
   "metadata": {},
   "outputs": [
    {
     "data": {
      "text/plain": [
       "240"
      ]
     },
     "execution_count": 52,
     "metadata": {},
     "output_type": "execute_result"
    }
   ],
   "source": [
    "concatenated = pd.concat([df_australia, df_sa], axis=0)\n",
    "len(concatenated)"
   ]
  },
  {
   "cell_type": "code",
   "execution_count": 53,
   "id": "fe8bb68f-2fa2-49dc-a410-1c4a4e500462",
   "metadata": {},
   "outputs": [
    {
     "data": {
      "text/html": [
       "<div>\n",
       "<style scoped>\n",
       "    .dataframe tbody tr th:only-of-type {\n",
       "        vertical-align: middle;\n",
       "    }\n",
       "\n",
       "    .dataframe tbody tr th {\n",
       "        vertical-align: top;\n",
       "    }\n",
       "\n",
       "    .dataframe thead th {\n",
       "        text-align: right;\n",
       "    }\n",
       "</style>\n",
       "<table border=\"1\" class=\"dataframe\">\n",
       "  <thead>\n",
       "    <tr style=\"text-align: right;\">\n",
       "      <th></th>\n",
       "      <th>country_name</th>\n",
       "      <th>country_text_id</th>\n",
       "      <th>e_regiongeo</th>\n",
       "      <th>year</th>\n",
       "      <th>v2x_polyarchy</th>\n",
       "      <th>v2x_libdem</th>\n",
       "      <th>v2x_partipdem</th>\n",
       "      <th>v2x_delibdem</th>\n",
       "      <th>v2x_egaldem</th>\n",
       "      <th>v2smprivex</th>\n",
       "      <th>v2smpolsoc</th>\n",
       "      <th>v2caviol</th>\n",
       "      <th>e_boix_regime</th>\n",
       "    </tr>\n",
       "  </thead>\n",
       "  <tbody>\n",
       "    <tr>\n",
       "      <th>6773</th>\n",
       "      <td>Australia</td>\n",
       "      <td>AUS</td>\n",
       "      <td>15</td>\n",
       "      <td>1900</td>\n",
       "      <td>0.641</td>\n",
       "      <td>NaN</td>\n",
       "      <td>0.427</td>\n",
       "      <td>NaN</td>\n",
       "      <td>NaN</td>\n",
       "      <td>NaN</td>\n",
       "      <td>NaN</td>\n",
       "      <td>NaN</td>\n",
       "      <td>NaN</td>\n",
       "    </tr>\n",
       "    <tr>\n",
       "      <th>6774</th>\n",
       "      <td>Australia</td>\n",
       "      <td>AUS</td>\n",
       "      <td>15</td>\n",
       "      <td>1901</td>\n",
       "      <td>0.651</td>\n",
       "      <td>0.566</td>\n",
       "      <td>0.463</td>\n",
       "      <td>0.556</td>\n",
       "      <td>0.427</td>\n",
       "      <td>NaN</td>\n",
       "      <td>NaN</td>\n",
       "      <td>NaN</td>\n",
       "      <td>1.0</td>\n",
       "    </tr>\n",
       "    <tr>\n",
       "      <th>6775</th>\n",
       "      <td>Australia</td>\n",
       "      <td>AUS</td>\n",
       "      <td>15</td>\n",
       "      <td>1902</td>\n",
       "      <td>0.789</td>\n",
       "      <td>0.706</td>\n",
       "      <td>0.568</td>\n",
       "      <td>0.689</td>\n",
       "      <td>0.551</td>\n",
       "      <td>NaN</td>\n",
       "      <td>NaN</td>\n",
       "      <td>NaN</td>\n",
       "      <td>1.0</td>\n",
       "    </tr>\n",
       "    <tr>\n",
       "      <th>6776</th>\n",
       "      <td>Australia</td>\n",
       "      <td>AUS</td>\n",
       "      <td>15</td>\n",
       "      <td>1903</td>\n",
       "      <td>0.789</td>\n",
       "      <td>0.705</td>\n",
       "      <td>0.569</td>\n",
       "      <td>0.688</td>\n",
       "      <td>0.550</td>\n",
       "      <td>NaN</td>\n",
       "      <td>NaN</td>\n",
       "      <td>NaN</td>\n",
       "      <td>1.0</td>\n",
       "    </tr>\n",
       "    <tr>\n",
       "      <th>6777</th>\n",
       "      <td>Australia</td>\n",
       "      <td>AUS</td>\n",
       "      <td>15</td>\n",
       "      <td>1904</td>\n",
       "      <td>0.804</td>\n",
       "      <td>0.705</td>\n",
       "      <td>0.574</td>\n",
       "      <td>0.699</td>\n",
       "      <td>0.562</td>\n",
       "      <td>NaN</td>\n",
       "      <td>NaN</td>\n",
       "      <td>NaN</td>\n",
       "      <td>1.0</td>\n",
       "    </tr>\n",
       "  </tbody>\n",
       "</table>\n",
       "</div>"
      ],
      "text/plain": [
       "     country_name country_text_id  e_regiongeo  year  v2x_polyarchy  \\\n",
       "6773    Australia             AUS           15  1900          0.641   \n",
       "6774    Australia             AUS           15  1901          0.651   \n",
       "6775    Australia             AUS           15  1902          0.789   \n",
       "6776    Australia             AUS           15  1903          0.789   \n",
       "6777    Australia             AUS           15  1904          0.804   \n",
       "\n",
       "      v2x_libdem  v2x_partipdem  v2x_delibdem  v2x_egaldem  v2smprivex  \\\n",
       "6773         NaN          0.427           NaN          NaN         NaN   \n",
       "6774       0.566          0.463         0.556        0.427         NaN   \n",
       "6775       0.706          0.568         0.689        0.551         NaN   \n",
       "6776       0.705          0.569         0.688        0.550         NaN   \n",
       "6777       0.705          0.574         0.699        0.562         NaN   \n",
       "\n",
       "      v2smpolsoc  v2caviol  e_boix_regime  \n",
       "6773         NaN       NaN            NaN  \n",
       "6774         NaN       NaN            1.0  \n",
       "6775         NaN       NaN            1.0  \n",
       "6776         NaN       NaN            1.0  \n",
       "6777         NaN       NaN            1.0  "
      ]
     },
     "execution_count": 53,
     "metadata": {},
     "output_type": "execute_result"
    }
   ],
   "source": [
    "concatenated.head()"
   ]
  },
  {
   "cell_type": "code",
   "execution_count": 54,
   "id": "673be647-d98d-42e1-9cd9-88be6754d9cd",
   "metadata": {},
   "outputs": [
    {
     "data": {
      "text/html": [
       "<div>\n",
       "<style scoped>\n",
       "    .dataframe tbody tr th:only-of-type {\n",
       "        vertical-align: middle;\n",
       "    }\n",
       "\n",
       "    .dataframe tbody tr th {\n",
       "        vertical-align: top;\n",
       "    }\n",
       "\n",
       "    .dataframe thead th {\n",
       "        text-align: right;\n",
       "    }\n",
       "</style>\n",
       "<table border=\"1\" class=\"dataframe\">\n",
       "  <thead>\n",
       "    <tr style=\"text-align: right;\">\n",
       "      <th></th>\n",
       "      <th>country_name</th>\n",
       "      <th>country_text_id</th>\n",
       "      <th>e_regiongeo</th>\n",
       "      <th>year</th>\n",
       "      <th>v2x_polyarchy</th>\n",
       "      <th>v2x_libdem</th>\n",
       "      <th>v2x_partipdem</th>\n",
       "      <th>v2x_delibdem</th>\n",
       "      <th>v2x_egaldem</th>\n",
       "      <th>v2smprivex</th>\n",
       "      <th>v2smpolsoc</th>\n",
       "      <th>v2caviol</th>\n",
       "      <th>e_boix_regime</th>\n",
       "    </tr>\n",
       "  </thead>\n",
       "  <tbody>\n",
       "    <tr>\n",
       "      <th>713</th>\n",
       "      <td>South Africa</td>\n",
       "      <td>ZAF</td>\n",
       "      <td>9</td>\n",
       "      <td>2015</td>\n",
       "      <td>0.713</td>\n",
       "      <td>0.602</td>\n",
       "      <td>0.451</td>\n",
       "      <td>0.608</td>\n",
       "      <td>0.453</td>\n",
       "      <td>1.464</td>\n",
       "      <td>-0.232</td>\n",
       "      <td>0.598</td>\n",
       "      <td>NaN</td>\n",
       "    </tr>\n",
       "    <tr>\n",
       "      <th>714</th>\n",
       "      <td>South Africa</td>\n",
       "      <td>ZAF</td>\n",
       "      <td>9</td>\n",
       "      <td>2016</td>\n",
       "      <td>0.715</td>\n",
       "      <td>0.599</td>\n",
       "      <td>0.452</td>\n",
       "      <td>0.623</td>\n",
       "      <td>0.434</td>\n",
       "      <td>1.464</td>\n",
       "      <td>-0.232</td>\n",
       "      <td>0.598</td>\n",
       "      <td>NaN</td>\n",
       "    </tr>\n",
       "    <tr>\n",
       "      <th>715</th>\n",
       "      <td>South Africa</td>\n",
       "      <td>ZAF</td>\n",
       "      <td>9</td>\n",
       "      <td>2017</td>\n",
       "      <td>0.712</td>\n",
       "      <td>0.604</td>\n",
       "      <td>0.452</td>\n",
       "      <td>0.621</td>\n",
       "      <td>0.497</td>\n",
       "      <td>1.464</td>\n",
       "      <td>-0.232</td>\n",
       "      <td>0.625</td>\n",
       "      <td>NaN</td>\n",
       "    </tr>\n",
       "    <tr>\n",
       "      <th>716</th>\n",
       "      <td>South Africa</td>\n",
       "      <td>ZAF</td>\n",
       "      <td>9</td>\n",
       "      <td>2018</td>\n",
       "      <td>0.681</td>\n",
       "      <td>0.585</td>\n",
       "      <td>0.442</td>\n",
       "      <td>0.568</td>\n",
       "      <td>0.449</td>\n",
       "      <td>1.464</td>\n",
       "      <td>-0.232</td>\n",
       "      <td>0.625</td>\n",
       "      <td>NaN</td>\n",
       "    </tr>\n",
       "    <tr>\n",
       "      <th>717</th>\n",
       "      <td>South Africa</td>\n",
       "      <td>ZAF</td>\n",
       "      <td>9</td>\n",
       "      <td>2019</td>\n",
       "      <td>0.678</td>\n",
       "      <td>0.575</td>\n",
       "      <td>0.434</td>\n",
       "      <td>0.586</td>\n",
       "      <td>0.455</td>\n",
       "      <td>0.253</td>\n",
       "      <td>-0.404</td>\n",
       "      <td>0.625</td>\n",
       "      <td>NaN</td>\n",
       "    </tr>\n",
       "  </tbody>\n",
       "</table>\n",
       "</div>"
      ],
      "text/plain": [
       "     country_name country_text_id  e_regiongeo  year  v2x_polyarchy  \\\n",
       "713  South Africa             ZAF            9  2015          0.713   \n",
       "714  South Africa             ZAF            9  2016          0.715   \n",
       "715  South Africa             ZAF            9  2017          0.712   \n",
       "716  South Africa             ZAF            9  2018          0.681   \n",
       "717  South Africa             ZAF            9  2019          0.678   \n",
       "\n",
       "     v2x_libdem  v2x_partipdem  v2x_delibdem  v2x_egaldem  v2smprivex  \\\n",
       "713       0.602          0.451         0.608        0.453       1.464   \n",
       "714       0.599          0.452         0.623        0.434       1.464   \n",
       "715       0.604          0.452         0.621        0.497       1.464   \n",
       "716       0.585          0.442         0.568        0.449       1.464   \n",
       "717       0.575          0.434         0.586        0.455       0.253   \n",
       "\n",
       "     v2smpolsoc  v2caviol  e_boix_regime  \n",
       "713      -0.232     0.598            NaN  \n",
       "714      -0.232     0.598            NaN  \n",
       "715      -0.232     0.625            NaN  \n",
       "716      -0.232     0.625            NaN  \n",
       "717      -0.404     0.625            NaN  "
      ]
     },
     "execution_count": 54,
     "metadata": {},
     "output_type": "execute_result"
    }
   ],
   "source": [
    "concatenated.tail()"
   ]
  },
  {
   "cell_type": "markdown",
   "id": "9f656aed-8f0e-4514-a4fa-86b80e83b5eb",
   "metadata": {},
   "source": [
    "Wenn wir die beiden dataframes verketten, bleibt die Anzahl der Spalten gleich, aber die Anzahl der Zeilen erhöht sich, da die Zeilen in beiden ursprünglichen dataframes berücksichtigt werden. Normalerweise würde diese Art der Verkettung zu einer unterschiedlichen Anzahl von Spalten führen, aber in diesem Fall hatten die beiden Dataframes, die wir zusammengefügt haben, genau die gleichen Spalten (was sinnvoll ist, da sie beide aus demselben übergeordneten Dataframe extrahiert wurden)."
   ]
  },
  {
   "cell_type": "markdown",
   "id": "70bd6bcf-227b-4179-9e1e-8da63d816d4e",
   "metadata": {},
   "source": [
    "### Merging"
   ]
  },
  {
   "cell_type": "markdown",
   "id": "70869d0c-ae40-4ae3-9caf-be16809b731b",
   "metadata": {},
   "source": [
    "Eine andere Möglichkeit, Datensätze zu kombinieren, ist ihre Zusammenführung. Wenn Sie einen dataframe erstellen möchten, der Spalten aus mehreren Datensätzen enthält, aber in den Zeilen nach einer bestimmten Spalte (oder einem Satz von Spalten) ausgerichtet ist, sollten Sie die Funktion merge() verwenden. Um dies zu veranschaulichen, werden wir mit Daten aus zwei verschiedenen Quellen arbeiten. Die erste Quelle sind die VDEM-Daten, die wir im ersten Teil dieses Kapitels verwendet haben (fsdf). Die zweite ist ein Datensatz von Freedom House über den Grad der Internetfreiheit in 65 Ländern. Weitere Informationen finden Sie unter https://freedomhouse.org/countries/freedom-net/scores."
   ]
  },
  {
   "cell_type": "code",
   "execution_count": 55,
   "id": "489b6676-844b-48c2-b242-62e25e67c0d9",
   "metadata": {},
   "outputs": [],
   "source": [
    "freedom_df = pd.read_csv( \"../data/freedom_house/internet_freedoms_2020.csv\")"
   ]
  },
  {
   "cell_type": "markdown",
   "id": "fd22314a-3e1b-45d9-8bdd-2c0832ad4bcd",
   "metadata": {},
   "source": [
    "Um diese dataframes zusammenzuführen, müssen wir eine Spalte finden, mit der wir die Zeilen des einen dataframes mit den Zeilen des anderen abgleichen können. Die Spalten müssen nicht den gleichen Namen haben, sondern nur Werte, die einander zugeordnet werden können. Die von uns gewählten Spalten werden in unserer Zusammenführung als \"Schlüssel\" bezeichnet. In unserem Fall sind dies die Spalten mit den Ländernamen aus jedem Datensatz."
   ]
  },
  {
   "cell_type": "code",
   "execution_count": 56,
   "id": "8dd5491a-446d-4710-a2fd-7d827a1cd8d3",
   "metadata": {},
   "outputs": [
    {
     "data": {
      "text/plain": [
       "['country_name',\n",
       " 'country_text_id',\n",
       " 'e_regiongeo',\n",
       " 'year',\n",
       " 'v2x_polyarchy',\n",
       " 'v2x_libdem',\n",
       " 'v2x_partipdem',\n",
       " 'v2x_delibdem',\n",
       " 'v2x_egaldem',\n",
       " 'v2smprivex',\n",
       " 'v2smpolsoc',\n",
       " 'v2caviol',\n",
       " 'e_boix_regime',\n",
       " '21 Century',\n",
       " 'missing_political_violence_data',\n",
       " 'Region']"
      ]
     },
     "execution_count": 56,
     "metadata": {},
     "output_type": "execute_result"
    }
   ],
   "source": [
    "list(fsdf.columns)"
   ]
  },
  {
   "cell_type": "code",
   "execution_count": 57,
   "id": "9e9777c0-1b1c-43e9-a45f-1e1167dafbba",
   "metadata": {},
   "outputs": [
    {
     "data": {
      "text/plain": [
       "['Country',\n",
       " 'Total Score',\n",
       " 'Status',\n",
       " 'Obstacles to Access',\n",
       " 'Limits on Content',\n",
       " 'Violations of User Rights']"
      ]
     },
     "execution_count": 57,
     "metadata": {},
     "output_type": "execute_result"
    }
   ],
   "source": [
    "list(freedom_df.columns)"
   ]
  },
  {
   "cell_type": "markdown",
   "id": "8c969fdc-3d61-44a7-bb1c-adfbb7050207",
   "metadata": {},
   "source": [
    "Wir verwenden die Funktion \"Zusammenführen\", um diese beiden dataframes mit \"country_name\" und \"Country\" zu kombinieren. Wir führen einen inner-join durch, was der Standard ist, wenn die Option nicht gesetzt ist, und behalten nur die Schlüssel (d. h. Länder), die in beiden dataframes erscheinen:"
   ]
  },
  {
   "cell_type": "code",
   "execution_count": 58,
   "id": "fa12ba52-c2c9-4308-9481-abf7ddd5925c",
   "metadata": {},
   "outputs": [],
   "source": [
    "merged = pd.merge(fsdf, freedom_df, how='left', \n",
    "                  left_on='country_name', right_on='Country')"
   ]
  },
  {
   "cell_type": "code",
   "execution_count": 59,
   "id": "72663093-419f-418b-b472-273b598555be",
   "metadata": {},
   "outputs": [
    {
     "data": {
      "text/plain": [
       "(18787, 22)"
      ]
     },
     "execution_count": 59,
     "metadata": {},
     "output_type": "execute_result"
    }
   ],
   "source": [
    "len(merged), len(merged.columns)"
   ]
  },
  {
   "cell_type": "code",
   "execution_count": 60,
   "id": "557ae06e-bdf6-49ea-be1e-66d1b4b1c3df",
   "metadata": {},
   "outputs": [
    {
     "data": {
      "text/plain": [
       "(65, 6)"
      ]
     },
     "execution_count": 60,
     "metadata": {},
     "output_type": "execute_result"
    }
   ],
   "source": [
    "len(freedom_df), len(freedom_df.columns)"
   ]
  },
  {
   "cell_type": "code",
   "execution_count": 61,
   "id": "1dfd3470-3cfc-47c2-883f-98fe5d691ea9",
   "metadata": {},
   "outputs": [
    {
     "data": {
      "text/plain": [
       "(18787, 16)"
      ]
     },
     "execution_count": 61,
     "metadata": {},
     "output_type": "execute_result"
    }
   ],
   "source": [
    "len(fsdf), len(fsdf.columns)"
   ]
  },
  {
   "cell_type": "markdown",
   "id": "cfa4ecae-f1bd-4ad5-b546-33f092a7603b",
   "metadata": {},
   "source": [
    "Sie sollten fünf neue Spalten in dem zusammengeführten dataframe im Vergleich zu dem fsdf-Dataframe sehen. Beachten Sie, wie viele Zeilen jeder der beiden dataframes hat: viel weniger Zeilen als der ursprüngliche VDEM dataframe, aber viel mehr als der Freedom House dataframe. Wenn also in unserem Fall das Land einer Zeile in dem anderen Datensatz nicht vorkommt, wird diese Zeile nicht in den zusammengeführten dataframe aufgenommen.  \n",
    "\n",
    "Dies kann mit dem Parameter how angepasst werden. Es gibt fünf Möglichkeiten, dataframes in Pandas zusammenzuführen: left, right, outer, inner und cross. In der Dokumentation können Sie nachlesen, wie die anderen vier Methoden funktionieren.  "
   ]
  },
  {
   "cell_type": "markdown",
   "id": "0c3be949-0bd9-4a1f-b379-2aa1c47d6584",
   "metadata": {},
   "source": [
    "![Pandas merge](fig/pandas_merge_venn.png)"
   ]
  },
  {
   "cell_type": "markdown",
   "id": "24a0c97a-7b2f-4c24-bff0-cc4d688f573f",
   "metadata": {},
   "source": [
    "<div class='alert alert-block alert-success'>\n",
    "\n",
    "### Aufgabe 2\n",
    "\n",
    "--> session_04_excercise_2.ipynb\n",
    "\n",
    "</div>"
   ]
  }
 ],
 "metadata": {
  "kernelspec": {
   "display_name": "Python [conda env:python_course]",
   "language": "python",
   "name": "conda-env-python_course-py"
  },
  "language_info": {
   "codemirror_mode": {
    "name": "ipython",
    "version": 3
   },
   "file_extension": ".py",
   "mimetype": "text/x-python",
   "name": "python",
   "nbconvert_exporter": "python",
   "pygments_lexer": "ipython3",
   "version": "3.9.19"
  }
 },
 "nbformat": 4,
 "nbformat_minor": 5
}
