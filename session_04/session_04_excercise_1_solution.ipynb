{
 "cells": [
  {
   "cell_type": "markdown",
   "id": "2034c08b",
   "metadata": {},
   "source": [
    "# Session 4 - Übung 1"
   ]
  },
  {
   "cell_type": "markdown",
   "id": "c65653af",
   "metadata": {},
   "source": [
    "**Aufgabe 1:** Importieren Sie pandas."
   ]
  },
  {
   "cell_type": "code",
   "execution_count": 1,
   "id": "e048d20a",
   "metadata": {},
   "outputs": [],
   "source": [
    "import pandas as pd"
   ]
  },
  {
   "cell_type": "markdown",
   "id": "57d0a54d",
   "metadata": {},
   "source": [
    "**Aufgabe 2:** Importieren Sie den V-DEM Datensatz in die Variable `df`."
   ]
  },
  {
   "cell_type": "code",
   "execution_count": 2,
   "id": "d6974736",
   "metadata": {},
   "outputs": [],
   "source": [
    "df = pd.read_csv('../data/vdem/V-Dem-CY-Full+Others-v10.csv',\n",
    "                low_memory=False)"
   ]
  },
  {
   "cell_type": "markdown",
   "id": "677e25f1",
   "metadata": {},
   "source": [
    "**Aufgabe 3:** Erstellen Sie einen neuen DataFrame, der die Spalten 'country_name', 'country_text_id', 'e_regiongeo', 'year', 'v2x_polyarchy', 'v2x_libdem' und alle Daten zwischen 1990 und 2017 enthält. Speichern Sie die Daten in der Variable `sdf` und vergessen Sie die `.copy()` Methode nicht. Printen Sie die ersten 10 Zeilen von `sdf`."
   ]
  },
  {
   "cell_type": "code",
   "execution_count": 3,
   "id": "1a06d4e9",
   "metadata": {},
   "outputs": [],
   "source": [
    "sdf = df[['country_name', 'country_text_id', 'e_regiongeo', 'year', 'v2x_polyarchy', 'v2x_libdem']][(df.year >= 1990) & (df.year >= 2017)].copy()"
   ]
  },
  {
   "cell_type": "code",
   "execution_count": 4,
   "id": "bf36a7f4",
   "metadata": {},
   "outputs": [
    {
     "data": {
      "text/html": [
       "<div>\n",
       "<style scoped>\n",
       "    .dataframe tbody tr th:only-of-type {\n",
       "        vertical-align: middle;\n",
       "    }\n",
       "\n",
       "    .dataframe tbody tr th {\n",
       "        vertical-align: top;\n",
       "    }\n",
       "\n",
       "    .dataframe thead th {\n",
       "        text-align: right;\n",
       "    }\n",
       "</style>\n",
       "<table border=\"1\" class=\"dataframe\">\n",
       "  <thead>\n",
       "    <tr style=\"text-align: right;\">\n",
       "      <th></th>\n",
       "      <th>country_name</th>\n",
       "      <th>country_text_id</th>\n",
       "      <th>e_regiongeo</th>\n",
       "      <th>year</th>\n",
       "      <th>v2x_polyarchy</th>\n",
       "      <th>v2x_libdem</th>\n",
       "    </tr>\n",
       "  </thead>\n",
       "  <tbody>\n",
       "    <tr>\n",
       "      <th>228</th>\n",
       "      <td>Mexico</td>\n",
       "      <td>MEX</td>\n",
       "      <td>17</td>\n",
       "      <td>2017</td>\n",
       "      <td>0.660</td>\n",
       "      <td>0.446</td>\n",
       "    </tr>\n",
       "    <tr>\n",
       "      <th>229</th>\n",
       "      <td>Mexico</td>\n",
       "      <td>MEX</td>\n",
       "      <td>17</td>\n",
       "      <td>2018</td>\n",
       "      <td>0.725</td>\n",
       "      <td>0.502</td>\n",
       "    </tr>\n",
       "    <tr>\n",
       "      <th>230</th>\n",
       "      <td>Mexico</td>\n",
       "      <td>MEX</td>\n",
       "      <td>17</td>\n",
       "      <td>2019</td>\n",
       "      <td>0.710</td>\n",
       "      <td>0.486</td>\n",
       "    </tr>\n",
       "    <tr>\n",
       "      <th>348</th>\n",
       "      <td>Suriname</td>\n",
       "      <td>SUR</td>\n",
       "      <td>18</td>\n",
       "      <td>2017</td>\n",
       "      <td>0.777</td>\n",
       "      <td>0.640</td>\n",
       "    </tr>\n",
       "    <tr>\n",
       "      <th>349</th>\n",
       "      <td>Suriname</td>\n",
       "      <td>SUR</td>\n",
       "      <td>18</td>\n",
       "      <td>2018</td>\n",
       "      <td>0.746</td>\n",
       "      <td>0.596</td>\n",
       "    </tr>\n",
       "    <tr>\n",
       "      <th>350</th>\n",
       "      <td>Suriname</td>\n",
       "      <td>SUR</td>\n",
       "      <td>18</td>\n",
       "      <td>2019</td>\n",
       "      <td>0.736</td>\n",
       "      <td>0.550</td>\n",
       "    </tr>\n",
       "    <tr>\n",
       "      <th>579</th>\n",
       "      <td>Sweden</td>\n",
       "      <td>SWE</td>\n",
       "      <td>2</td>\n",
       "      <td>2017</td>\n",
       "      <td>0.907</td>\n",
       "      <td>0.864</td>\n",
       "    </tr>\n",
       "    <tr>\n",
       "      <th>580</th>\n",
       "      <td>Sweden</td>\n",
       "      <td>SWE</td>\n",
       "      <td>2</td>\n",
       "      <td>2018</td>\n",
       "      <td>0.891</td>\n",
       "      <td>0.848</td>\n",
       "    </tr>\n",
       "    <tr>\n",
       "      <th>581</th>\n",
       "      <td>Sweden</td>\n",
       "      <td>SWE</td>\n",
       "      <td>2</td>\n",
       "      <td>2019</td>\n",
       "      <td>0.874</td>\n",
       "      <td>0.829</td>\n",
       "    </tr>\n",
       "    <tr>\n",
       "      <th>801</th>\n",
       "      <td>Switzerland</td>\n",
       "      <td>CHE</td>\n",
       "      <td>1</td>\n",
       "      <td>2017</td>\n",
       "      <td>0.877</td>\n",
       "      <td>0.823</td>\n",
       "    </tr>\n",
       "  </tbody>\n",
       "</table>\n",
       "</div>"
      ],
      "text/plain": [
       "    country_name country_text_id  e_regiongeo  year  v2x_polyarchy  v2x_libdem\n",
       "228       Mexico             MEX           17  2017          0.660       0.446\n",
       "229       Mexico             MEX           17  2018          0.725       0.502\n",
       "230       Mexico             MEX           17  2019          0.710       0.486\n",
       "348     Suriname             SUR           18  2017          0.777       0.640\n",
       "349     Suriname             SUR           18  2018          0.746       0.596\n",
       "350     Suriname             SUR           18  2019          0.736       0.550\n",
       "579       Sweden             SWE            2  2017          0.907       0.864\n",
       "580       Sweden             SWE            2  2018          0.891       0.848\n",
       "581       Sweden             SWE            2  2019          0.874       0.829\n",
       "801  Switzerland             CHE            1  2017          0.877       0.823"
      ]
     },
     "execution_count": 4,
     "metadata": {},
     "output_type": "execute_result"
    }
   ],
   "source": [
    "sdf.head(10)"
   ]
  },
  {
   "cell_type": "markdown",
   "id": "d67933a8",
   "metadata": {},
   "source": [
    "**Aufgabe 4:** Filtern Sie die Zeilen 'country_name', 'country_text_id', 'e_regiongeo', 'year', 'v2x_polyarchy', 'v2x_libdem', 'v2x_partipdem', 'v2x_delibdem', 'v2x_egaldem' aus df für Deutschland zwischen 1900 und 1990 und speichern Sie die Daten in der Variable `sdf_ger`."
   ]
  },
  {
   "cell_type": "code",
   "execution_count": 5,
   "id": "9cd23234",
   "metadata": {},
   "outputs": [],
   "source": [
    "sdf_ger = (df[['country_name', \n",
    "               'country_text_id', \n",
    "               'e_regiongeo', \n",
    "               'year',\n",
    "               'v2x_polyarchy',\n",
    "               'v2x_libdem',\n",
    "               'v2x_partipdem',\n",
    "               'v2x_delibdem',\n",
    "               'v2x_egaldem']][(df.country_name == 'Germany') \n",
    "                               & (df.year >= 1900) \n",
    "                               & (df.year <= 1990)].copy())"
   ]
  },
  {
   "cell_type": "markdown",
   "id": "6d289965",
   "metadata": {},
   "source": [
    "**Aufgabe 5**: Wie viele Zeilen und Spalten hat `sdf_ger`?"
   ]
  },
  {
   "cell_type": "code",
   "execution_count": 6,
   "id": "9442b6bf",
   "metadata": {},
   "outputs": [
    {
     "data": {
      "text/plain": [
       "(87, 9)"
      ]
     },
     "execution_count": 6,
     "metadata": {},
     "output_type": "execute_result"
    }
   ],
   "source": [
    "sdf_ger.shape"
   ]
  },
  {
   "cell_type": "markdown",
   "id": "3b3edcb6",
   "metadata": {},
   "source": [
    "**Aufgabe 6**: Untersuchen Sie mit der `.info()` Methode die jeweiligen Datentypen von sdf_ger."
   ]
  },
  {
   "cell_type": "code",
   "execution_count": 7,
   "id": "7d67bc37",
   "metadata": {},
   "outputs": [
    {
     "name": "stdout",
     "output_type": "stream",
     "text": [
      "<class 'pandas.core.frame.DataFrame'>\n",
      "Index: 87 entries, 11473 to 11559\n",
      "Data columns (total 9 columns):\n",
      " #   Column           Non-Null Count  Dtype  \n",
      "---  ------           --------------  -----  \n",
      " 0   country_name     87 non-null     object \n",
      " 1   country_text_id  87 non-null     object \n",
      " 2   e_regiongeo      87 non-null     int64  \n",
      " 3   year             87 non-null     int64  \n",
      " 4   v2x_polyarchy    87 non-null     float64\n",
      " 5   v2x_libdem       87 non-null     float64\n",
      " 6   v2x_partipdem    87 non-null     float64\n",
      " 7   v2x_delibdem     87 non-null     float64\n",
      " 8   v2x_egaldem      87 non-null     float64\n",
      "dtypes: float64(5), int64(2), object(2)\n",
      "memory usage: 6.8+ KB\n"
     ]
    }
   ],
   "source": [
    "sdf_ger.info()"
   ]
  },
  {
   "cell_type": "markdown",
   "id": "6d62f827",
   "metadata": {},
   "source": [
    "**Aufgabe 7:** Berechnen Sie Mittelwert, Standardabweichung, sowie min und max für alle Variablen in `sdf_ger`, die mit `'v2x_` beginnen."
   ]
  },
  {
   "cell_type": "code",
   "execution_count": 8,
   "id": "97a84a8e",
   "metadata": {},
   "outputs": [
    {
     "data": {
      "text/html": [
       "<div>\n",
       "<style scoped>\n",
       "    .dataframe tbody tr th:only-of-type {\n",
       "        vertical-align: middle;\n",
       "    }\n",
       "\n",
       "    .dataframe tbody tr th {\n",
       "        vertical-align: top;\n",
       "    }\n",
       "\n",
       "    .dataframe thead th {\n",
       "        text-align: right;\n",
       "    }\n",
       "</style>\n",
       "<table border=\"1\" class=\"dataframe\">\n",
       "  <thead>\n",
       "    <tr style=\"text-align: right;\">\n",
       "      <th></th>\n",
       "      <th>v2x_polyarchy</th>\n",
       "      <th>v2x_libdem</th>\n",
       "      <th>v2x_partipdem</th>\n",
       "      <th>v2x_delibdem</th>\n",
       "      <th>v2x_egaldem</th>\n",
       "    </tr>\n",
       "  </thead>\n",
       "  <tbody>\n",
       "    <tr>\n",
       "      <th>count</th>\n",
       "      <td>87.000000</td>\n",
       "      <td>87.000000</td>\n",
       "      <td>87.000000</td>\n",
       "      <td>87.000000</td>\n",
       "      <td>87.000000</td>\n",
       "    </tr>\n",
       "    <tr>\n",
       "      <th>mean</th>\n",
       "      <td>0.574080</td>\n",
       "      <td>0.510241</td>\n",
       "      <td>0.398908</td>\n",
       "      <td>0.499966</td>\n",
       "      <td>0.492885</td>\n",
       "    </tr>\n",
       "    <tr>\n",
       "      <th>std</th>\n",
       "      <td>0.307104</td>\n",
       "      <td>0.307571</td>\n",
       "      <td>0.223330</td>\n",
       "      <td>0.312910</td>\n",
       "      <td>0.276945</td>\n",
       "    </tr>\n",
       "    <tr>\n",
       "      <th>min</th>\n",
       "      <td>0.073000</td>\n",
       "      <td>0.013000</td>\n",
       "      <td>0.037000</td>\n",
       "      <td>0.018000</td>\n",
       "      <td>0.112000</td>\n",
       "    </tr>\n",
       "    <tr>\n",
       "      <th>25%</th>\n",
       "      <td>0.250500</td>\n",
       "      <td>0.216500</td>\n",
       "      <td>0.170000</td>\n",
       "      <td>0.179000</td>\n",
       "      <td>0.183500</td>\n",
       "    </tr>\n",
       "    <tr>\n",
       "      <th>50%</th>\n",
       "      <td>0.628000</td>\n",
       "      <td>0.502000</td>\n",
       "      <td>0.428000</td>\n",
       "      <td>0.510000</td>\n",
       "      <td>0.475000</td>\n",
       "    </tr>\n",
       "    <tr>\n",
       "      <th>75%</th>\n",
       "      <td>0.845000</td>\n",
       "      <td>0.791000</td>\n",
       "      <td>0.596500</td>\n",
       "      <td>0.784500</td>\n",
       "      <td>0.749000</td>\n",
       "    </tr>\n",
       "    <tr>\n",
       "      <th>max</th>\n",
       "      <td>0.896000</td>\n",
       "      <td>0.847000</td>\n",
       "      <td>0.649000</td>\n",
       "      <td>0.860000</td>\n",
       "      <td>0.833000</td>\n",
       "    </tr>\n",
       "  </tbody>\n",
       "</table>\n",
       "</div>"
      ],
      "text/plain": [
       "       v2x_polyarchy  v2x_libdem  v2x_partipdem  v2x_delibdem  v2x_egaldem\n",
       "count      87.000000   87.000000      87.000000     87.000000    87.000000\n",
       "mean        0.574080    0.510241       0.398908      0.499966     0.492885\n",
       "std         0.307104    0.307571       0.223330      0.312910     0.276945\n",
       "min         0.073000    0.013000       0.037000      0.018000     0.112000\n",
       "25%         0.250500    0.216500       0.170000      0.179000     0.183500\n",
       "50%         0.628000    0.502000       0.428000      0.510000     0.475000\n",
       "75%         0.845000    0.791000       0.596500      0.784500     0.749000\n",
       "max         0.896000    0.847000       0.649000      0.860000     0.833000"
      ]
     },
     "execution_count": 8,
     "metadata": {},
     "output_type": "execute_result"
    }
   ],
   "source": [
    "sdf_ger[['v2x_polyarchy',\n",
    "               'v2x_libdem',\n",
    "               'v2x_partipdem',\n",
    "               'v2x_delibdem',\n",
    "               'v2x_egaldem']].describe()"
   ]
  },
  {
   "cell_type": "markdown",
   "id": "3b36afd0",
   "metadata": {},
   "source": [
    "**Aufgabe 8:** Schreiben Sie sdf_ger als csv Datei in den Ordner data. Verhindern Sie, dass der Index des Dataframes in die csv Datei geschrieben wird."
   ]
  },
  {
   "cell_type": "code",
   "execution_count": 9,
   "id": "a8f7f82e",
   "metadata": {},
   "outputs": [],
   "source": [
    "sdf_ger.to_csv('../data/sdf_ger.csv', index=False)"
   ]
  }
 ],
 "metadata": {
  "kernelspec": {
   "display_name": "Python [conda env:python_course]",
   "language": "python",
   "name": "conda-env-python_course-py"
  },
  "language_info": {
   "codemirror_mode": {
    "name": "ipython",
    "version": 3
   },
   "file_extension": ".py",
   "mimetype": "text/x-python",
   "name": "python",
   "nbconvert_exporter": "python",
   "pygments_lexer": "ipython3",
   "version": "3.9.19"
  }
 },
 "nbformat": 4,
 "nbformat_minor": 5
}
