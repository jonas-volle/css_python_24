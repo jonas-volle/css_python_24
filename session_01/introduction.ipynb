{
 "cells": [
  {
   "cell_type": "markdown",
   "id": "008df3a6",
   "metadata": {
    "slideshow": {
     "slide_type": "slide"
    }
   },
   "source": [
    "# Einführung in Python für die Computational Social Science (CSS)\n",
    "## Jonas Volle\n",
    "Wissenschaftlicher Mitarbeiter  \n",
    "Chair of Methodology and Empirical Social Research  \n",
    "Otto-von-Guericke-Universität  \n",
    "\n",
    "[jonas.volle@ovgu.de](mailto:jonas.volle@ovgu.de)\n",
    "\n",
    "**Sprechstunde**: individuell nach vorheriger Anmeldung per [Mail](mailto:jonas.volle@ovgu.de)\n",
    "\n",
    "Freitag, 14.04.2023"
   ]
  },
  {
   "cell_type": "markdown",
   "id": "f2a42ee4",
   "metadata": {
    "slideshow": {
     "slide_type": "slide"
    }
   },
   "source": [
    "# Inhalt\n",
    "\n",
    "1. Vorstellung\n",
    "2. Kursplan\n",
    "3. Einführung\n",
    "4. Organisatorisches\n",
    "5. Literatur/Zusätzliches Material"
   ]
  },
  {
   "cell_type": "markdown",
   "id": "28f255fb",
   "metadata": {
    "editable": true,
    "slideshow": {
     "slide_type": "slide"
    },
    "tags": []
   },
   "source": [
    "# Vorstellung"
   ]
  },
  {
   "cell_type": "markdown",
   "id": "0ac144dd",
   "metadata": {
    "slideshow": {
     "slide_type": "subslide"
    }
   },
   "source": [
    "## Jonas Volle\n",
    "- Wissenschaftlicher Mitarbeiter am Lehrstuhl von Prof. Andreas Schmitz im DFG-Projekt \"Netzwerke, Paradigmen und Karrieren im akademischen Feld: Soziologie in Deutschland und den Vereinigten Staaten\"\n",
    "- Forschungsinteressen: Verknüpfung soziologischer Perspektiven und Methodologien mit Ansätzen der CSS (Textmining, Netzwerkanalysen, maschinelles Lernen) im Bereich der Wissenschaftssoziologie."
   ]
  },
  {
   "cell_type": "markdown",
   "id": "2a9c2dfd",
   "metadata": {
    "editable": true,
    "slideshow": {
     "slide_type": "subslide"
    },
    "tags": []
   },
   "source": [
    "## Teilnehmer:innen\n",
    "\n",
    "- Name?\n",
    "- Ihr Hintergrund? (z.B. Studienfach, Semester)\n",
    "- Welche Erwartungen haben Sie an den Kurs? (außer \"Ich möchte Python lernen\")\n",
    "- Was bringen Sie mit? (Vorerfahrungen etc.)"
   ]
  },
  {
   "cell_type": "markdown",
   "id": "d1ea1cc7-7ce3-4f88-86d0-a46d2751db52",
   "metadata": {
    "editable": true,
    "slideshow": {
     "slide_type": ""
    },
    "tags": []
   },
   "source": [
    "# Lernziele\n",
    "- Installation einer funktionierenden Rechenumgebung für Anwendungen der CSS\n",
    "- Vermittlung von Grundgentnissen in Python\n",
    "- Vermittlung von Grundkenntnissen der Textanalyse\n",
    "- Befähigung zum eigenständigen Lernen von weiterführenden Anwendungen"
   ]
  },
  {
   "attachments": {},
   "cell_type": "markdown",
   "id": "39445b96-eeb5-48d5-8cf5-4e3610507f95",
   "metadata": {
    "editable": true,
    "slideshow": {
     "slide_type": "slide"
    },
    "tags": []
   },
   "source": [
    "# Kursplan\n",
    "\n",
    "| Datum  |Thema   | Ort| \n",
    "|---|---|---|\n",
    "|11.04.| Einführung, Einrichten der Rechenumgebung, Terminal, Clonen der Materialien, conda environments, package installation|G40B-330| \n",
    "|25.04|Python Grundlagen|G40B-330|\n",
    "|~~09.05.~~|**Veranstaltung fällt aus!** (Christi Himmelfahrt)|   |\n",
    "|**16.05.**|Pandas 1|Zoom|\n",
    "|~~23.05.~~|**Veranstaltung fällt aus!** (Konferenz)|   |\n",
    "|06.06.|Pandas 2|G40B-330|\n",
    "|20.06.|APIs|G40B-330|\n",
    "|04.07.|Textanalysen|G40B-330|"
   ]
  },
  {
   "cell_type": "markdown",
   "id": "517803e4",
   "metadata": {
    "editable": true,
    "slideshow": {
     "slide_type": "slide"
    },
    "tags": []
   },
   "source": [
    "# Computational Social Science (CSS)\n",
    "- Interdiziplinäres Feld in der Entstehung\n",
    "- Verschiedenste Definitionen\n",
    "- Im Allgemeinen: Computergestützten Ansätzen in den Sozialwissenschaften (Modellierung, Simulierung und Analyse sozialer Phänomene)\n",
    "- Analyse bspw. sozialer Netzwerke, sozialer Medieninhalte und traditioneller Medieninhalte\n",
    "- Das Feld profitiert von der zunehmende Verfügbarkeit umfangreicher digitaler Daten (z.B. sozialer Medien, Log-Daten) und der zunehmende Computerleistung"
   ]
  },
  {
   "cell_type": "markdown",
   "id": "6af493df",
   "metadata": {
    "slideshow": {
     "slide_type": "subslide"
    }
   },
   "source": [
    "- Daten werden bereits in anderen Disziplinen (Physik, Biologie, Informatik), von Firmen (Google, Facebook, Twitter) oder Staaten gesammelt und ausgewertet\n",
    "- Daten und Methoden erhalten nur langsam Einzug in die Sozialwissenschaften\n",
    "- Die grundlegenden Fragen, die sich aus diesen Daten ergeben, sind überwiegend sozialer Natur\n",
    "- Sozialwissenschaftliche Erhebungs- und Analysetechniken anpassen"
   ]
  },
  {
   "cell_type": "markdown",
   "id": "08671a03",
   "metadata": {
    "slideshow": {
     "slide_type": "slide"
    }
   },
   "source": [
    "# Computing infrastructure\n",
    "- In der CSS kommen computergestütze Methoden zur Anwendung in der \n",
    "    - Datenerhebung, \n",
    "    - Datenverarbeitung \n",
    "    - Datenanalyse\n",
    "- Computergestütze Methoden werden in Programmiersprachen implementiert\n",
    "- Verschiedene Sprachen können kombiniert werden\n",
    "- Wenn möglich nur **eine** Sprache verwenden"
   ]
  },
  {
   "cell_type": "markdown",
   "id": "3c9f862d",
   "metadata": {
    "slideshow": {
     "slide_type": "slide"
    }
   },
   "source": [
    "# Welche Programmiersprache?\n",
    "<img src='images/r.png' style='height: 100px; float: right; margin-left: 10px'>  \n",
    "<img src='images/python.png' style='height: 100px; float: right; margin-left: 10px'> \n",
    "\n",
    "- Die meisten Methoden sind in *R* oder *Python* implementiert\n",
    "- Große user communities (Irgendwer hat dein Problem schon gelöst!)\n",
    "- Kostenlos und open source\n",
    "- Beide Sprachen sind modular (d.h. es gibt Pakete an Funktionen für bestimmte Anwendungen)\n",
    "- R eher für statistische Anwendungen"
   ]
  },
  {
   "cell_type": "markdown",
   "id": "d80d52b9",
   "metadata": {
    "slideshow": {
     "slide_type": "subslide"
    }
   },
   "source": [
    "- Python hat als Allzwecksprache eine interdisziplinärere und breitere Nutzer:innenbasis\n",
    "- Stärken von Python in Datenerhebung und Machinelearning\n",
    "- **Entscheidende Frage**: Welche Sprache benutzt deine Community?"
   ]
  },
  {
   "cell_type": "markdown",
   "id": "afac8ed6",
   "metadata": {
    "slideshow": {
     "slide_type": "slide"
    }
   },
   "source": [
    "# Reproduzierbarkeit\n",
    "- Die Verwendung einer Programmiersprachen macht Forschung reproduzierbar\n",
    "- Forschungsarbeit können unabhängig der Forscher:in wiederholt mit identischen Ergebnissen durchgeführt werden\n",
    "- Damit Forschung reproduzierbar ist müssen Daten und Code dokumentiert werden"
   ]
  },
  {
   "cell_type": "markdown",
   "id": "d030db1f",
   "metadata": {
    "editable": true,
    "slideshow": {
     "slide_type": "slide"
    },
    "tags": []
   },
   "source": [
    "# Anaconda\n",
    "<img src='images/anaconda.png' style='height: 50px; float: right; margin-left: 10px'>  \n",
    "\n",
    "- Beliebtes Softwarepaket für R und Python\n",
    "- Grundlegende Funktionalität: **Paketverwaltung**\n",
    "- Stellt grundlegende Pakete bereit und bietet die kontrollierte Möglichkeit weitere Pakete hinzuzufügen"
   ]
  },
  {
   "cell_type": "markdown",
   "id": "ad47aadb",
   "metadata": {
    "editable": true,
    "slideshow": {
     "slide_type": "slide"
    },
    "tags": []
   },
   "source": [
    "# Jupyter Notebook\n",
    "- Interaktives Notebook zur Entwicklung und Dokumentation von Code\n",
    "- Wichtig für die Dokumentation und Reproduzierbarkeit der Forschung\n",
    "- Jupyter Notebooks enthalten Inhaltszeilen, die entweder Code oder Text (Markdown) sein können\n",
    "- Textzeilen dienen dazu den Code zu erklären und zu dokumentieren"
   ]
  },
  {
   "cell_type": "markdown",
   "id": "9ad6ba0c",
   "metadata": {
    "slideshow": {
     "slide_type": "subslide"
    }
   },
   "source": [
    "... auch diese Präsentation ist ein Jupyter Notebook"
   ]
  },
  {
   "cell_type": "code",
   "execution_count": 23,
   "id": "a6f1151f",
   "metadata": {
    "editable": true,
    "slideshow": {
     "slide_type": "subslide"
    },
    "tags": []
   },
   "outputs": [
    {
     "data": {
      "text/plain": [
       "25"
      ]
     },
     "execution_count": 23,
     "metadata": {},
     "output_type": "execute_result"
    }
   ],
   "source": [
    "# das hier ist z.B. eine Codezeile\n",
    "5+20"
   ]
  },
  {
   "cell_type": "markdown",
   "id": "9fa8cdd2",
   "metadata": {
    "editable": true,
    "slideshow": {
     "slide_type": "slide"
    },
    "tags": []
   },
   "source": [
    "# git\n",
    "<img src='images/git.png' style='height: 100px; float: right; margin-left: 10px'>  \n",
    "\n",
    "- Versionskontrollsystem\n",
    "- git bietet die Möglichkeit eine Sammlung an Jupyter Notebooks (oder anderem Code) in einem **Repository** auf einem Git-Server zu speichern\n",
    "- Versionskontrolle: Beim Hochladen der Dateien werden frühere Versionen nicht überschrieben (So kann immer auch auf alte Versionen zugegriffen werden)"
   ]
  },
  {
   "cell_type": "markdown",
   "id": "f6f211d6",
   "metadata": {
    "editable": true,
    "slideshow": {
     "slide_type": "subslide"
    },
    "tags": []
   },
   "source": [
    "## git\n",
    "- git wird in der Computerwissenschaft und in der IT-industrie häufig verwendet um Code gemeinsam zu entwickeln\n",
    "- Mehrere Anbieter von git-Servern (GitHub, gitlab, etc.)\n",
    "- Materialen des Kurses sind hier zu finden: https://github.com/jonas-volle/css_python_24"
   ]
  },
  {
   "cell_type": "code",
   "execution_count": null,
   "id": "e37da87e-6657-4e66-b086-33b8d8f6b024",
   "metadata": {
    "editable": true,
    "slideshow": {
     "slide_type": ""
    },
    "tags": []
   },
   "outputs": [],
   "source": []
  },
  {
   "cell_type": "markdown",
   "id": "561b9082-4b57-46a7-8d93-7e8225b587dd",
   "metadata": {
    "editable": true,
    "slideshow": {
     "slide_type": "slide"
    },
    "tags": []
   },
   "source": [
    "# Basic terminal commands"
   ]
  },
  {
   "cell_type": "markdown",
   "id": "a3332f9e-928c-4ed3-b2fb-e9578c1d8d90",
   "metadata": {
    "editable": true,
    "slideshow": {
     "slide_type": ""
    },
    "tags": []
   },
   "source": [
    "[COMMAND] + [-OPTION(S)] + [ARGUMENT(S)]"
   ]
  },
  {
   "cell_type": "code",
   "execution_count": null,
   "id": "592f648f-420d-496a-9b82-db6314c3c1d2",
   "metadata": {
    "editable": true,
    "slideshow": {
     "slide_type": ""
    },
    "tags": []
   },
   "outputs": [],
   "source": [
    "- pwd\n",
    "- cd\n",
    "- ls\n",
    "- mkdir\n",
    "\n"
   ]
  },
  {
   "cell_type": "code",
   "execution_count": null,
   "id": "d4f3e9c0-b983-4b18-a812-57bd67e795d0",
   "metadata": {
    "editable": true,
    "slideshow": {
     "slide_type": ""
    },
    "tags": []
   },
   "outputs": [],
   "source": []
  },
  {
   "cell_type": "code",
   "execution_count": null,
   "id": "327643c5-2fe4-4f04-9708-14f8336fc660",
   "metadata": {
    "editable": true,
    "slideshow": {
     "slide_type": ""
    },
    "tags": []
   },
   "outputs": [],
   "source": []
  },
  {
   "cell_type": "markdown",
   "id": "ae89d83d-6c12-4215-99f5-a06af3c73730",
   "metadata": {
    "editable": true,
    "slideshow": {
     "slide_type": "slide"
    },
    "tags": []
   },
   "source": [
    "# git: Klonen der Kursmaterialien"
   ]
  },
  {
   "cell_type": "code",
   "execution_count": null,
   "id": "80a3b283-7b0c-4b19-b2f4-f84c4982c1f3",
   "metadata": {
    "editable": true,
    "slideshow": {
     "slide_type": ""
    },
    "tags": []
   },
   "outputs": [],
   "source": []
  },
  {
   "cell_type": "markdown",
   "id": "03e6f38f-39bc-4aa8-b9da-041cb0c61dde",
   "metadata": {
    "editable": true,
    "slideshow": {
     "slide_type": "slide"
    },
    "tags": []
   },
   "source": [
    "# anaconda virtuell environments"
   ]
  },
  {
   "cell_type": "markdown",
   "id": "0d1ed857",
   "metadata": {
    "editable": true,
    "slideshow": {
     "slide_type": "slide"
    },
    "tags": []
   },
   "source": [
    "# Prüfungsleistung\n",
    "\n",
    "## Option 1\n",
    "- Leistungsumfang: Abgabe eines selbst verfassten Jupyter Notebooks in dem Sie die Kursinhalte an einem selbst gewählten Datensatz/API anwenden und kommentieren.\n",
    "- Leistungspunkte: 4CP\n",
    "- Frist: 01.09.2024\n",
    "\n",
    "## Option 2\n",
    "- Leistungsumfang: Hausarbeit (ca. 3.000-3.500 Wörter) Thema unbedingt mit mir absprechen!\n",
    "- Leistungspunkte: 6CP\n",
    "- Frist: 15.09.2024\n",
    "- Anmerkung: Beachten Sie bitte folgende Hinweise: [Link](https://www.soz.ovgu.de/isoz_media/downloads/Arbeitshinweise+f%C3%BCr+Studierende/Hinweise+zum+Anfertigen+von+Hausarbeiten.pdf) "
   ]
  },
  {
   "cell_type": "markdown",
   "id": "7525a162",
   "metadata": {
    "slideshow": {
     "slide_type": "slide"
    }
   },
   "source": [
    "# Literatur und zusätzliches Material\n",
    "\n",
    "### Literatur\n",
    "\n",
    "Heiberger, Raphael H., and Jan R. Riebling. 2016. ‘Installing Computational Social Science: Facing the Challenges of New Information and Communication Technologies in Social Science’. Methodological Innovations. doi: [10.1177/2059799115622763](https://journals.sagepub.com/doi/10.1177/2059799115622763).\n",
    "\n",
    "Lazer, David, et al. 2009. ‘Computational Social Science’. Science 323(5915):721–23. doi: [10.1126/science.1167742](https://www.science.org/doi/10.1126/science.1167742).\n",
    "\n",
    "McLevey, John. 2021. Doing Computational Social Science: A Practical Introduction. 1st ed. Thousand Oaks: SAGE Publications."
   ]
  },
  {
   "cell_type": "markdown",
   "id": "5f457401",
   "metadata": {
    "slideshow": {
     "slide_type": "subslide"
    }
   },
   "source": [
    "Van Atteveldt, W., Trilling, D., & Calderón, C. A. (2022). Computational Analysis of Communication. Wiley Blackwell. ([Link](https://cssbook.net/))\n",
    "\n",
    "Vanderplas, Jacob T. 2016. Python Data Science Handbook: Essential Tools for Working with Data. First edition. Sebastopol, CA: O’Reilly Media, Inc. (Komplettes Buch in Form von Jupyter Notebooks [hier](https://jakevdp.github.io/PythonDataScienceHandbook/))"
   ]
  },
  {
   "cell_type": "markdown",
   "id": "e3bc942c",
   "metadata": {
    "slideshow": {
     "slide_type": "subslide"
    }
   },
   "source": [
    "### Tutorials\n",
    "\n",
    "Lietz, Haiko et al. 2023. Introduction to Computational Social Science methods with Python. [GitHub-Link](https://github.com/gesiscss/css_methods_python)"
   ]
  },
  {
   "cell_type": "markdown",
   "id": "96d90fb3",
   "metadata": {
    "editable": true,
    "slideshow": {
     "slide_type": "subslide"
    },
    "tags": []
   },
   "source": [
    "### datacamp\n",
    "\n",
    "- Interaktive Plattform mit online Programmierkursen ([Link](https://app.datacamp.com/))\n",
    "- DataCamp Classrooms für diesen Kurs verfügbar (6 Monate kostenloser Zugriff auf alle Kurse)\n",
    "- Zusätzliches Angebot und keine Voraussetzung für das Bestehen dieses Kurses"
   ]
  }
 ],
 "metadata": {
  "celltoolbar": "Slideshow",
  "kernelspec": {
   "display_name": "Python 3 (ipykernel)",
   "language": "python",
   "name": "python3"
  },
  "language_info": {
   "codemirror_mode": {
    "name": "ipython",
    "version": 3
   },
   "file_extension": ".py",
   "mimetype": "text/x-python",
   "name": "python",
   "nbconvert_exporter": "python",
   "pygments_lexer": "ipython3",
   "version": "3.10.13"
  }
 },
 "nbformat": 4,
 "nbformat_minor": 5
}
