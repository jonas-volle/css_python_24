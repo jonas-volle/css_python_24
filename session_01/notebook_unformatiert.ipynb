{
 "cells": [
  {
   "cell_type": "raw",
   "id": "2bb33201",
   "metadata": {
    "editable": true,
    "raw_mimetype": "",
    "slideshow": {
     "slide_type": ""
    },
    "tags": []
   },
   "source": [
    "Computational Social Science und Python"
   ]
  },
  {
   "cell_type": "raw",
   "id": "22729e90",
   "metadata": {},
   "source": [
    "Einführung"
   ]
  },
  {
   "cell_type": "raw",
   "id": "95f29e87",
   "metadata": {
    "editable": true,
    "raw_mimetype": "",
    "slideshow": {
     "slide_type": ""
    },
    "tags": []
   },
   "source": [
    "Computational Social Science (CSS) ist ein aufstrebender Bereich, der die Möglichkeiten der Informatik nutzt, um komplexe soziale Phänomene zu verstehen. Python, als eine der führenden Programmiersprachen in der wissenschaftlichen Berechnung, spielt dabei eine zentrale Rolle."
   ]
  },
  {
   "cell_type": "raw",
   "id": "a4e61ff7-924b-43c0-ac1d-5b01f35f3007",
   "metadata": {
    "editable": true,
    "raw_mimetype": "",
    "slideshow": {
     "slide_type": ""
    },
    "tags": []
   },
   "source": [
    "Einfach Pyhthon Code sieht zum Beispiel so aus:\n",
    "\n",
    "def calc_sum(a, b):\n",
    "    return a + b\n",
    "\n",
    "result = calc_sum(3, 4)\n",
    "print(\"Die Summe von 3 und 4 ist:\", result)"
   ]
  },
  {
   "cell_type": "code",
   "execution_count": null,
   "id": "b6d4bf07-d9c2-4d37-9ce7-936f01b2bd56",
   "metadata": {
    "editable": true,
    "raw_mimetype": "",
    "slideshow": {
     "slide_type": ""
    },
    "tags": []
   },
   "outputs": [],
   "source": [
    "Vorteile von Python in der CSS"
   ]
  },
  {
   "cell_type": "raw",
   "id": "269312e1",
   "metadata": {
    "editable": true,
    "raw_mimetype": "",
    "slideshow": {
     "slide_type": ""
    },
    "tags": []
   },
   "source": [
    "Vielseitigkeit: Python kann für Datensammlung, -verarbeitung, -analyse und die Visualisierung verwendet werden.\n",
    "Community: Eine große Community und umfangreiche Bibliotheken unterstützen Forschende in der CSS.\n",
    "Zugänglichkeit: Python ist leicht zu erlernen, was es ideal für interdisziplinäre Forschung macht."
   ]
  },
  {
   "cell_type": "code",
   "execution_count": 1,
   "id": "e13c54dc-d67f-48ea-b787-b5d8ad9dac5c",
   "metadata": {
    "editable": true,
    "slideshow": {
     "slide_type": ""
    },
    "tags": []
   },
   "outputs": [
    {
     "ename": "SyntaxError",
     "evalue": "invalid decimal literal (544773793.py, line 1)",
     "output_type": "error",
     "traceback": [
      "\u001b[0;36m  Cell \u001b[0;32mIn[1], line 1\u001b[0;36m\u001b[0m\n\u001b[0;31m    Einen interessanten Artikel über die CSS finden Sie unter: https://www.science.org/doi/full/10.1126/science.1167742?casa_token=KHgU7gcW8vIAAAAA%3Ab8uaPlAEtt1XfAxKjpIsNsuEMfvndrg0wpnMSc0RMkjxDWA44EU92c8mcbNXkJWTPgBjMSYC0MeaNcgz\u001b[0m\n\u001b[0m                                                                                                                                                    ^\u001b[0m\n\u001b[0;31mSyntaxError\u001b[0m\u001b[0;31m:\u001b[0m invalid decimal literal\n"
     ]
    }
   ],
   "source": [
    "Einen interessanten Artikel über die CSS finden Sie unter: https://www.science.org/doi/full/10.1126/science.1167742?casa_token=KHgU7gcW8vIAAAAA%3Ab8uaPlAEtt1XfAxKjpIsNsuEMfvndrg0wpnMSc0RMkjxDWA44EU92c8mcbNXkJWTPgBjMSYC0MeaNcgz"
   ]
  },
  {
   "cell_type": "raw",
   "id": "97b78a56",
   "metadata": {},
   "source": [
    "Fallbeispiele"
   ]
  },
  {
   "cell_type": "raw",
   "id": "e02df11a",
   "metadata": {
    "editable": true,
    "raw_mimetype": "",
    "slideshow": {
     "slide_type": ""
    },
    "tags": []
   },
   "source": [
    "In zahlreichen Studien wurde Python eingesetzt, um soziale Netzwerke zu analysieren, Wahlprognosen durchzuführen, und soziale Dynamiken zu modellieren."
   ]
  },
  {
   "cell_type": "raw",
   "id": "3a6e5e00",
   "metadata": {
    "editable": true,
    "raw_mimetype": "",
    "slideshow": {
     "slide_type": ""
    },
    "tags": []
   },
   "source": [
    "Fazit"
   ]
  },
  {
   "cell_type": "raw",
   "id": "24d2fe37",
   "metadata": {},
   "source": [
    "Die Verwendung von Python in der Computational Social Science bietet immense Möglichkeiten, soziale Fragen mit wissenschaftlichen Methoden zu erkunden und zu beantworten."
   ]
  }
 ],
 "metadata": {
  "kernelspec": {
   "display_name": "Python 3 (ipykernel)",
   "language": "python",
   "name": "python3"
  },
  "language_info": {
   "codemirror_mode": {
    "name": "ipython",
    "version": 3
   },
   "file_extension": ".py",
   "mimetype": "text/x-python",
   "name": "python",
   "nbconvert_exporter": "python",
   "pygments_lexer": "ipython3",
   "version": "3.10.13"
  }
 },
 "nbformat": 4,
 "nbformat_minor": 5
}
