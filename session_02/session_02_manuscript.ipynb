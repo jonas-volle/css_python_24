{
 "cells": [
  {
   "cell_type": "markdown",
   "id": "96cceb18-3c3d-49e6-8e3d-26c79570f697",
   "metadata": {
    "editable": true,
    "slideshow": {
     "slide_type": "slide"
    },
    "tags": []
   },
   "source": [
    "# Einführung in Python für die Computational Social Science (CSS)\n",
    "## Session 02 - Grundlagen\n",
    "\n",
    "\n",
    "\n",
    "## Jonas Volle\n",
    "Wissenschaftlicher Mitarbeiter  \n",
    "Chair of Methodology and Empirical Social Research  \n",
    "Otto-von-Guericke-Universität  \n",
    "\n",
    "[jonas.volle@ovgu.de](mailto:jonas.volle@ovgu.de)\n",
    "\n",
    "**Sprechstunde**: individuell nach vorheriger Anmeldung per [Mail](mailto:jonas.volle@ovgu.de)\n",
    "\n",
    "Donnerstag, 25.04.2023"
   ]
  },
  {
   "cell_type": "markdown",
   "id": "9bee7974-dbec-4873-b9c1-03ae5bbb08de",
   "metadata": {},
   "source": [
    "**Quelle:** Ich orientiere mich für diese Sitzung an den Kapiteln 2 und 3 aus dem Buch:  \n",
    "\n",
    "McLevey, John. 2021. Doing Computational Social Science: A Practical Introduction. 1st ed. Thousand Oaks: SAGE Publications.\n"
   ]
  },
  {
   "cell_type": "markdown",
   "id": "f35724eb-2bc7-4473-a286-d561f3ecc4e7",
   "metadata": {},
   "source": [
    "## Inhalt\n",
    "\n",
    "- Wiederholung: Markdown\n",
    "- git\n",
    "- Grundlegende Datentypen und Ausdrücke\n",
    "- Variablen und Zuweisungen\n",
    "- Objekte und Methoden\n",
    "- Vergleiche und Loops\n",
    "- Datenstrukturen (Lists, Tuples, Dictionaries)\n",
    "- Funktionen\n"
   ]
  },
  {
   "cell_type": "markdown",
   "id": "56dec19b-cda5-49d3-80d9-561d607f026b",
   "metadata": {},
   "source": [
    "## 1. Markdown Übung\n",
    "\n",
    "<div class='alert alert-block alert-success'>\n",
    "\n",
    "--> siehe notebook_formatiert.ipynb\n",
    "\n",
    "</div>\n",
    "\n"
   ]
  },
  {
   "cell_type": "markdown",
   "id": "d83ea149-99c0-44ef-85fd-98824a5c1052",
   "metadata": {
    "editable": true,
    "slideshow": {
     "slide_type": "slide"
    },
    "tags": []
   },
   "source": [
    "## 2. git\n",
    "\n",
    "Git ermöglicht es Ihnen, Ihre Arbeit in regelmäßigen Abständen zu speichern und so Versionen Ihrer Arbeit zu erstellen, zu denen Sie gegebenenfalls später zurückkehren können. Darüber hinaus können Sie in einem Git-Repository mit anderen Personen zusammenarbeiten und Ihren Code aktuell halten. Wir verwenden Git hauptsächlich, um die Kursmaterialien herunterzuladen und zu aktualisieren."
   ]
  },
  {
   "cell_type": "markdown",
   "id": "aefc5ae2-a0c1-476e-8e55-315369d7b9fb",
   "metadata": {
    "editable": true,
    "slideshow": {
     "slide_type": "slide"
    },
    "tags": []
   },
   "source": [
    "\n",
    "| Befehl | Kommentar |\n",
    "|----|----|\n",
    "| `git config --global user.email \"jonas.volle@ovgu.de\"`| Konfiguration der Emailadresse |\n",
    "| `git config --global user.name \"jonas\"` | Konfiguration des Namens |\n",
    "| `git status` | Der aktuelle Status der Versionsverfolgung |\n",
    "| `git add markdown_format.ipynb` | Hinzufügen des Jupyternotebooks \"markdown_format.ipynb\" zur Versionsverfolgung |\n",
    "| `git add --all`| Hinzufügen aller Änderungen zur Versionsverfolgung |\n",
    "| `git commit -m \"comment\"` | Setzen eines Speicherpunkts für alle hinzugefügten Änderungen mit einem Kommentar, der die Änderungen beschreibt |"
   ]
  },
  {
   "cell_type": "markdown",
   "id": "feaa8de1-5734-4328-bd5c-3c2220e2ae23",
   "metadata": {},
   "source": [
    "## 3. Grundlegende Datentypen und Ausdrücke"
   ]
  },
  {
   "cell_type": "markdown",
   "id": "a9dd8e93-cf67-4399-89ef-75640c953ee0",
   "metadata": {},
   "source": [
    "Jeder Wert (value) in Python hat einen bestimmten Datentyp. Die wichtigsten Datentypen sind:\n",
    "- `integers` (e.g. 42)\n",
    "- `floats` (e.g. 42.0)\n",
    "- `strings` (z.B. 'The Hitchhiker's Guide to the Galaxy' or 'cats are the best')\n",
    "- `Boolean` (`True` oder `False`)"
   ]
  },
  {
   "cell_type": "markdown",
   "id": "97bcbe3e-2b8b-4e08-9b44-18d6ecd9e208",
   "metadata": {},
   "source": [
    "### integers"
   ]
  },
  {
   "cell_type": "code",
   "execution_count": 1,
   "id": "31f2213e-9a26-4a6d-a382-de01ea8719fc",
   "metadata": {},
   "outputs": [
    {
     "data": {
      "text/plain": [
       "42"
      ]
     },
     "execution_count": 1,
     "metadata": {},
     "output_type": "execute_result"
    }
   ],
   "source": [
    "42"
   ]
  },
  {
   "cell_type": "code",
   "execution_count": 2,
   "id": "774c21fc-b358-47c9-975c-2a9fbc18e2e8",
   "metadata": {},
   "outputs": [
    {
     "data": {
      "text/plain": [
       "int"
      ]
     },
     "execution_count": 2,
     "metadata": {},
     "output_type": "execute_result"
    }
   ],
   "source": [
    "type(42)"
   ]
  },
  {
   "cell_type": "markdown",
   "id": "d07e50ae-a082-4a30-bc90-7687adf51002",
   "metadata": {},
   "source": [
    "### floats"
   ]
  },
  {
   "cell_type": "code",
   "execution_count": 3,
   "id": "a0010e7f-ed1d-4a7b-bccd-84010024dc53",
   "metadata": {},
   "outputs": [
    {
     "data": {
      "text/plain": [
       "42.2"
      ]
     },
     "execution_count": 3,
     "metadata": {},
     "output_type": "execute_result"
    }
   ],
   "source": [
    "42.2"
   ]
  },
  {
   "cell_type": "code",
   "execution_count": 4,
   "id": "21763b45-d2fc-479a-984b-013c593e4f99",
   "metadata": {},
   "outputs": [
    {
     "data": {
      "text/plain": [
       "float"
      ]
     },
     "execution_count": 4,
     "metadata": {},
     "output_type": "execute_result"
    }
   ],
   "source": [
    "type(42.2)"
   ]
  },
  {
   "cell_type": "markdown",
   "id": "517067d0-3b2c-4f23-8f97-418f533d4b1e",
   "metadata": {},
   "source": [
    "### strings"
   ]
  },
  {
   "cell_type": "markdown",
   "id": "e4a4431b-db27-42e7-b2cb-8d8594a4f8e0",
   "metadata": {},
   "source": [
    "Strings sind Sequenzen von Buchstaben, die in einfache `''` oder doppelte Anführungszeichen `\"\"` eingeschlossen sind. Welche Variante verwendet wird ist dabei egal, sie muss nur konsistent verwendet werden. Wenn Anführungszeichen und Apostrophe im `string` enthalten sind, muss der String mit der anderen Art der Anführungszeichen begonnen oder geschlossen werden."
   ]
  },
  {
   "cell_type": "code",
   "execution_count": 5,
   "id": "cbbdd32d-30cb-42f2-b1ca-7be781351dbf",
   "metadata": {},
   "outputs": [
    {
     "data": {
      "text/plain": [
       "\"That's correct.\""
      ]
     },
     "execution_count": 5,
     "metadata": {},
     "output_type": "execute_result"
    }
   ],
   "source": [
    "\"That's correct.\""
   ]
  },
  {
   "cell_type": "code",
   "execution_count": 6,
   "id": "e9dd64c8-b3d0-48cc-908b-b450d604d130",
   "metadata": {},
   "outputs": [
    {
     "data": {
      "text/plain": [
       "'My teacher said, \"That is correct.\"'"
      ]
     },
     "execution_count": 6,
     "metadata": {},
     "output_type": "execute_result"
    }
   ],
   "source": [
    "'My teacher said, \"That is correct.\"'"
   ]
  },
  {
   "cell_type": "code",
   "execution_count": 7,
   "id": "c2557c2f-01d1-4719-b1b7-bf8c6908c4c4",
   "metadata": {},
   "outputs": [
    {
     "data": {
      "text/plain": [
       "str"
      ]
     },
     "execution_count": 7,
     "metadata": {},
     "output_type": "execute_result"
    }
   ],
   "source": [
    "type(\"That's correct.\")"
   ]
  },
  {
   "cell_type": "markdown",
   "id": "93d6a3d8-d9be-4261-b4ef-61c22709f667",
   "metadata": {},
   "source": [
    "### Boolean\n",
    "\n",
    "Boolesche Datentyp können wie Werte `True` oder `False` haben."
   ]
  },
  {
   "cell_type": "code",
   "execution_count": 8,
   "id": "2e995b56-6b5f-40f9-9cdf-5d06a074978a",
   "metadata": {},
   "outputs": [
    {
     "data": {
      "text/plain": [
       "True"
      ]
     },
     "execution_count": 8,
     "metadata": {},
     "output_type": "execute_result"
    }
   ],
   "source": [
    "True"
   ]
  },
  {
   "cell_type": "code",
   "execution_count": 9,
   "id": "1f56eba4-8dcd-4d3c-85b1-8b7b39cdc367",
   "metadata": {},
   "outputs": [
    {
     "data": {
      "text/plain": [
       "False"
      ]
     },
     "execution_count": 9,
     "metadata": {},
     "output_type": "execute_result"
    }
   ],
   "source": [
    "False"
   ]
  },
  {
   "cell_type": "code",
   "execution_count": 10,
   "id": "3c125ca7-6838-4e28-9f11-103ce01c372b",
   "metadata": {},
   "outputs": [
    {
     "data": {
      "text/plain": [
       "bool"
      ]
     },
     "execution_count": 10,
     "metadata": {},
     "output_type": "execute_result"
    }
   ],
   "source": [
    "type(False)"
   ]
  },
  {
   "cell_type": "markdown",
   "id": "d400be14-cfcf-4b11-a7a3-80484b482cab",
   "metadata": {},
   "source": [
    "## 4. Ausdrücke (expressions)"
   ]
  },
  {
   "cell_type": "markdown",
   "id": "49fdc1ca-a551-4b7e-909e-1708eb0af48a",
   "metadata": {},
   "source": [
    "Ein Ausdruck (expression) besteht aus zwei oder mehr Werten (values), die mit einem Operator verbunden sind.\n",
    "\n",
    "Python kann z.B. als Taschenrechner genutzt werden:"
   ]
  },
  {
   "cell_type": "code",
   "execution_count": 11,
   "id": "3c081780-c3df-45ea-9552-5009e1391d71",
   "metadata": {},
   "outputs": [
    {
     "data": {
      "text/plain": [
       "4"
      ]
     },
     "execution_count": 11,
     "metadata": {},
     "output_type": "execute_result"
    }
   ],
   "source": [
    "2 + 2 # Addition"
   ]
  },
  {
   "cell_type": "code",
   "execution_count": 12,
   "id": "64ece1ae-c08b-482d-9c47-f9e915ee62f3",
   "metadata": {},
   "outputs": [
    {
     "data": {
      "text/plain": [
       "18"
      ]
     },
     "execution_count": 12,
     "metadata": {},
     "output_type": "execute_result"
    }
   ],
   "source": [
    "2 * 9 # Multiplication"
   ]
  },
  {
   "cell_type": "code",
   "execution_count": 13,
   "id": "1902c9af-2d6f-4142-aa1b-b24ee01de52d",
   "metadata": {},
   "outputs": [
    {
     "data": {
      "text/plain": [
       "5.0"
      ]
     },
     "execution_count": 13,
     "metadata": {},
     "output_type": "execute_result"
    }
   ],
   "source": [
    "10 / 2 # Division"
   ]
  },
  {
   "cell_type": "code",
   "execution_count": 14,
   "id": "d8f39778-097f-453d-9c05-2814b1f5fcf2",
   "metadata": {},
   "outputs": [
    {
     "data": {
      "text/plain": [
       "64"
      ]
     },
     "execution_count": 14,
     "metadata": {},
     "output_type": "execute_result"
    }
   ],
   "source": [
    "2 ** 6 # Exponential"
   ]
  },
  {
   "cell_type": "code",
   "execution_count": 15,
   "id": "b6400993-aa81-46ce-866e-612c3372627c",
   "metadata": {
    "scrolled": true
   },
   "outputs": [
    {
     "data": {
      "text/plain": [
       "65"
      ]
     },
     "execution_count": 15,
     "metadata": {},
     "output_type": "execute_result"
    }
   ],
   "source": [
    "2+9*7"
   ]
  },
  {
   "cell_type": "markdown",
   "id": "515ff0f7-7823-416c-b40a-c637ff975c16",
   "metadata": {},
   "source": [
    "<div class='alert alert-block alert-warning'>\n",
    "Bei Ausdrücken mit mehreren Operatoren folgt Python der üblichen mathematischen Reihenfolge der Operationen. Z.B. Punkt vor Strichrechnung, Klammern etc.\n",
    "</div>"
   ]
  },
  {
   "cell_type": "markdown",
   "id": "0076a959-39b3-4a65-80ea-1813931b56da",
   "metadata": {},
   "source": [
    "Manche dieser Operatoren können auch mit `strings` angewendet werden, sie stehen dabei aber für **verschiedene** Dinge. Wird beispielsweise der Operator `+` in einem Ausdruck mit zwei `strings` verwendet, führt Python eine Verkettung der strings durch, indem er die beiden `strings` miteinander verbindet."
   ]
  },
  {
   "cell_type": "code",
   "execution_count": 16,
   "id": "02bed380-69fb-42d5-9d69-251cb278a898",
   "metadata": {},
   "outputs": [
    {
     "name": "stdout",
     "output_type": "stream",
     "text": [
      "Miyoko is interested in a career in data science.\n"
     ]
    }
   ],
   "source": [
    "print('Miyoko is interested in ' + 'a career in data science.')"
   ]
  },
  {
   "cell_type": "markdown",
   "id": "63033f9d-9283-485a-a8bb-fb9942706eb5",
   "metadata": {},
   "source": [
    "Python kann anhand des Kontexts (Datentyp) bestimmen, ob `+` eine Addition oder eine Verkettung von Zeichenketten sein soll: Je nachdem ob beide Elemente strings oder Zahlen sind. \n",
    "\n",
    "**Achtung:** Python gibt jedoch einen Fehler aus, wenn eine Zahl und ein string addiert bzw. verkettet werden soll."
   ]
  },
  {
   "cell_type": "code",
   "execution_count": 17,
   "id": "f491b78f-d370-4082-8ba5-93781b3b2e4b",
   "metadata": {},
   "outputs": [
    {
     "ename": "TypeError",
     "evalue": "unsupported operand type(s) for +: 'int' and 'str'",
     "output_type": "error",
     "traceback": [
      "\u001b[0;31m---------------------------------------------------------------------------\u001b[0m",
      "\u001b[0;31mTypeError\u001b[0m                                 Traceback (most recent call last)",
      "Cell \u001b[0;32mIn[17], line 1\u001b[0m\n\u001b[0;32m----> 1\u001b[0m \u001b[38;5;28mprint\u001b[39m(\u001b[38;5;241;43m42\u001b[39;49m\u001b[43m \u001b[49m\u001b[38;5;241;43m+\u001b[39;49m\u001b[43m \u001b[49m\u001b[38;5;124;43m'\u001b[39;49m\u001b[38;5;124;43mis the answer\u001b[39;49m\u001b[38;5;124;43m'\u001b[39;49m)\n",
      "\u001b[0;31mTypeError\u001b[0m: unsupported operand type(s) for +: 'int' and 'str'"
     ]
    }
   ],
   "source": [
    "print(42 + 'is the answer')"
   ]
  },
  {
   "cell_type": "markdown",
   "id": "3982a494-7c7c-4503-9c27-c829e20be0d3",
   "metadata": {},
   "source": [
    "Wir können die Zahl aber mit der `str()` Funktion in einen string umwandeln und dann beide strings miteinander verketten:"
   ]
  },
  {
   "cell_type": "code",
   "execution_count": 18,
   "id": "48f9fd8c-77f6-41f4-b097-e1e46b7345bc",
   "metadata": {},
   "outputs": [
    {
     "name": "stdout",
     "output_type": "stream",
     "text": [
      "42 is the answer\n"
     ]
    }
   ],
   "source": [
    "print(str(42) + ' is the answer')"
   ]
  },
  {
   "cell_type": "markdown",
   "id": "c30610e7-93ca-45cf-97f5-1bcdc985b668",
   "metadata": {},
   "source": [
    "Für `strings` können wir auch den `*` Operator verwenden. In diesem Fall können wir einen `string` und einen `integer` kombinieren:"
   ]
  },
  {
   "cell_type": "code",
   "execution_count": 19,
   "id": "7fdd6471-a985-4437-909e-99cf7a494c63",
   "metadata": {},
   "outputs": [
    {
     "name": "stdout",
     "output_type": "stream",
     "text": [
      "Sociology Sociology Sociology Sociology Sociology \n"
     ]
    }
   ],
   "source": [
    "print('Sociology ' * 5)"
   ]
  },
  {
   "cell_type": "code",
   "execution_count": 20,
   "id": "0715b6e0-c65b-4a68-a410-fcf1c1536674",
   "metadata": {},
   "outputs": [
    {
     "name": "stdout",
     "output_type": "stream",
     "text": [
      "Sociology Sociology Sociology Sociology Sociology super! super! super! \n"
     ]
    }
   ],
   "source": [
    "print('Sociology ' * 5 + 'super! ' * 3)"
   ]
  },
  {
   "cell_type": "markdown",
   "id": "5a953870-c6bb-4b5f-a5ac-f66df80f8597",
   "metadata": {},
   "source": [
    "## 5. Variablen und Zuweisungen"
   ]
  },
  {
   "cell_type": "markdown",
   "id": "0e2850fe-b735-4b25-a3e8-fb1e7a3306f4",
   "metadata": {},
   "source": [
    "Wir können Daten in *Variablen* durch *Zuweisung* speichern. Diese Zuweisung wird durch den Operator `=` angezeigt. Wir können diese Variablen so bezeichnen wie wir wollen. Wir müssen nur folgende Regeln beachten:\n",
    "\n",
    "- Wir dürfen nur *Zahlen*, *Buchstaben* und den *underscore* (`_`) verwenden\n",
    "- Wir dürfen den Namen nicht mit einer Zahl beginnen\n",
    "- Wir dürfen keine Wörter verwenden, die in Python reserviert sind (z.B. `class`, `print` oder `True`)"
   ]
  },
  {
   "cell_type": "markdown",
   "id": "38699eaf-3b8c-4f0e-a0b4-5212b4d9fc8a",
   "metadata": {},
   "source": [
    "<div class='alert alert-block alert-warning'>\n",
    "Verwenden Sie beschreibende Namen für Ihre Variablen (nennen Sie z. B. die Variable, die einen Nachnamen enthält, als String last_name, nicht ln). Dadurch wird Ihr Code viel lesbarer und ist für Sie oder Ihre Mitarbeiter:innen nach einiger Zeit leichter zu verstehen.\n",
    "</div>"
   ]
  },
  {
   "cell_type": "markdown",
   "id": "7e7b858e-c3f1-4a5a-a1df-4b71c02d1b2a",
   "metadata": {},
   "source": [
    "Sie können sich eine Variable als einen beschrifteten Container vorstellen, der bestimmte Informationen speichert. Im folgenden Beispiel hat der Container ein \"Etikett\" namens `a_number` und speichert den Integer-Wert 16:"
   ]
  },
  {
   "cell_type": "code",
   "execution_count": 21,
   "id": "7b7b6fe9-7e61-402f-808f-43ecc5a1b974",
   "metadata": {},
   "outputs": [],
   "source": [
    "a_number = 16"
   ]
  },
  {
   "cell_type": "code",
   "execution_count": 22,
   "id": "261ef8ff-2645-477a-af92-7adace191fed",
   "metadata": {},
   "outputs": [
    {
     "name": "stdout",
     "output_type": "stream",
     "text": [
      "16\n"
     ]
    }
   ],
   "source": [
    "print(a_number)"
   ]
  },
  {
   "cell_type": "markdown",
   "id": "50890cba-76d1-46b6-a956-2c20df0a894e",
   "metadata": {},
   "source": [
    "Sobald wir eine Variable erstellt haben, können wir diese Variable innerhalb von Ausdrücken verwenden:"
   ]
  },
  {
   "cell_type": "code",
   "execution_count": 23,
   "id": "a7781e47-7ca5-403a-ba6a-25b444c70b56",
   "metadata": {},
   "outputs": [
    {
     "data": {
      "text/plain": [
       "256"
      ]
     },
     "execution_count": 23,
     "metadata": {},
     "output_type": "execute_result"
    }
   ],
   "source": [
    "a_number * a_number"
   ]
  },
  {
   "cell_type": "code",
   "execution_count": 24,
   "id": "0c2cd9f2-23f8-4a5d-b6f7-477ac50d969f",
   "metadata": {},
   "outputs": [],
   "source": [
    "city = 'Magdeburg'\n",
    "country = 'Deutschland'"
   ]
  },
  {
   "cell_type": "code",
   "execution_count": 25,
   "id": "e8aada3e-60a3-40f4-ab7d-31eed00f8d99",
   "metadata": {},
   "outputs": [
    {
     "name": "stdout",
     "output_type": "stream",
     "text": [
      "MagdeburgDeutschland\n"
     ]
    }
   ],
   "source": [
    "print(city + country)"
   ]
  },
  {
   "cell_type": "code",
   "execution_count": 26,
   "id": "f4747c90-86cb-4ad1-91ed-2727cac25907",
   "metadata": {},
   "outputs": [
    {
     "name": "stdout",
     "output_type": "stream",
     "text": [
      "Magdeburg ist eine Stadt in Deutschland\n"
     ]
    }
   ],
   "source": [
    "print(city + ' ist eine Stadt in ' + country)"
   ]
  },
  {
   "cell_type": "markdown",
   "id": "0829236f-0dae-49f5-abf1-bf4e6d3fbe89",
   "metadata": {},
   "source": [
    "Wir können die Ergebnisse eines Ausdrucks nicht nur printen, sondern auch in einer neuen Variable speichern:"
   ]
  },
  {
   "cell_type": "code",
   "execution_count": 27,
   "id": "3c7a1926-8a11-4872-904e-b56b5258c50c",
   "metadata": {},
   "outputs": [],
   "source": [
    "sentence = city + ' ist eine Stadt in ' + country"
   ]
  },
  {
   "cell_type": "code",
   "execution_count": 28,
   "id": "badd643f-3a9d-48d8-862c-fa7317da403d",
   "metadata": {},
   "outputs": [
    {
     "name": "stdout",
     "output_type": "stream",
     "text": [
      "Magdeburg ist eine Stadt in Deutschland\n"
     ]
    }
   ],
   "source": [
    "print(sentence)"
   ]
  },
  {
   "cell_type": "markdown",
   "id": "5df2c191-8e22-4814-b899-3cd96030156a",
   "metadata": {},
   "source": [
    "## 6. Objekte und Methoden"
   ]
  },
  {
   "cell_type": "markdown",
   "id": "cecdb282-015e-4f37-9e93-3b88947a999c",
   "metadata": {},
   "source": [
    "Python ist eine *objektorientierte* Programmiersprache. Das bedeutet, dass Python Berechnungen mit *Objekten* durchführt."
   ]
  },
  {
   "cell_type": "markdown",
   "id": "c7915b3d-fea5-4f62-b014-fdd2f813e131",
   "metadata": {},
   "source": [
    "Ein Analogie:\n",
    "\n",
    "John hat zwei Katzen, Dorothy und Lando. Diese Katzen können verschiedene Aktionen ausführen, z. B.:\n",
    "\n",
    "- sich in kleine Pappkartons zwängen, um ein Nickerchen zu machen\n",
    "- aus einem tropfenden Wasserhahn trinken\n",
    "- auf Johns Tastatur legen, während er sie benutze\n",
    "- Yogamatten mit ihren Krallen zerreißen, wenn man sich länger als zehn Minuten von der Matte entfernt. \n",
    "\n",
    "Dorothy und Lando sind beide spezifische \"Instanzen\" der allgemeinen \"Klasse\" der Katzen. Als Katzen können sie einige spezielle Aktionen ausführen, darunter die oben genannten.  "
   ]
  },
  {
   "cell_type": "markdown",
   "id": "d0d7f174-99f7-4d35-9ee1-0b3688a05525",
   "metadata": {},
   "source": [
    "In Python ist (fast) alles ein Objekt der einen oder anderen Art. Wie Dorothy und Lando sind Objekte spezifische Instanzen von allgemeineren Klassen. Da sie spezifische Instanzen sind, haben sie typischerweise einen Namen, der sich von ihrer Klasse unterscheidet.\n",
    "\n",
    "Das Objekt `sentence` ist eine Instanz der Klasse `string`. \n",
    "\n",
    "Objekte sind zu einer Reihe von Aktionen fähig, die **Methoden** genannt werden und die sie mit anderen Objekten derselben Klasse teilen.  \n",
    "\n",
    "In Python verfügen Strings über Methoden z.B. zur Konvertierung von Groß- zu Kleinbuchstaben und umgekehrt, zum Überprüfen des Vorhandenseins eines Wertes, zum Ersetzen eines substrings durch einen anderen und vieles mehr.  "
   ]
  },
  {
   "cell_type": "markdown",
   "id": "80162a11-ddbe-4e74-a5c9-effd145b1a57",
   "metadata": {},
   "source": [
    "Um mehr über eine bestimmte Klasse und ihre Methoden zu erfahren, können Sie in der Regel die Online-Dokumentation lesen, die ? Funktion von Jupyter (z. B. a_number?) oder die `dir()`-Funktion von Python (z. B. `dir(a_number)`) verwenden."
   ]
  },
  {
   "cell_type": "code",
   "execution_count": 29,
   "id": "ee193225-9518-48b6-93ce-3c47e2054f44",
   "metadata": {},
   "outputs": [
    {
     "data": {
      "text/plain": [
       "str"
      ]
     },
     "execution_count": 29,
     "metadata": {},
     "output_type": "execute_result"
    }
   ],
   "source": [
    "type(sentence)"
   ]
  },
  {
   "cell_type": "code",
   "execution_count": 30,
   "id": "db50b7d4-e389-4964-bb21-475b10d3fe3c",
   "metadata": {
    "scrolled": true
   },
   "outputs": [
    {
     "data": {
      "text/plain": [
       "['__add__',\n",
       " '__class__',\n",
       " '__contains__',\n",
       " '__delattr__',\n",
       " '__dir__',\n",
       " '__doc__',\n",
       " '__eq__',\n",
       " '__format__',\n",
       " '__ge__',\n",
       " '__getattribute__',\n",
       " '__getitem__',\n",
       " '__getnewargs__',\n",
       " '__gt__',\n",
       " '__hash__',\n",
       " '__init__',\n",
       " '__init_subclass__',\n",
       " '__iter__',\n",
       " '__le__',\n",
       " '__len__',\n",
       " '__lt__',\n",
       " '__mod__',\n",
       " '__mul__',\n",
       " '__ne__',\n",
       " '__new__',\n",
       " '__reduce__',\n",
       " '__reduce_ex__',\n",
       " '__repr__',\n",
       " '__rmod__',\n",
       " '__rmul__',\n",
       " '__setattr__',\n",
       " '__sizeof__',\n",
       " '__str__',\n",
       " '__subclasshook__',\n",
       " 'capitalize',\n",
       " 'casefold',\n",
       " 'center',\n",
       " 'count',\n",
       " 'encode',\n",
       " 'endswith',\n",
       " 'expandtabs',\n",
       " 'find',\n",
       " 'format',\n",
       " 'format_map',\n",
       " 'index',\n",
       " 'isalnum',\n",
       " 'isalpha',\n",
       " 'isascii',\n",
       " 'isdecimal',\n",
       " 'isdigit',\n",
       " 'isidentifier',\n",
       " 'islower',\n",
       " 'isnumeric',\n",
       " 'isprintable',\n",
       " 'isspace',\n",
       " 'istitle',\n",
       " 'isupper',\n",
       " 'join',\n",
       " 'ljust',\n",
       " 'lower',\n",
       " 'lstrip',\n",
       " 'maketrans',\n",
       " 'partition',\n",
       " 'removeprefix',\n",
       " 'removesuffix',\n",
       " 'replace',\n",
       " 'rfind',\n",
       " 'rindex',\n",
       " 'rjust',\n",
       " 'rpartition',\n",
       " 'rsplit',\n",
       " 'rstrip',\n",
       " 'split',\n",
       " 'splitlines',\n",
       " 'startswith',\n",
       " 'strip',\n",
       " 'swapcase',\n",
       " 'title',\n",
       " 'translate',\n",
       " 'upper',\n",
       " 'zfill']"
      ]
     },
     "execution_count": 30,
     "metadata": {},
     "output_type": "execute_result"
    }
   ],
   "source": [
    "dir(sentence)"
   ]
  },
  {
   "cell_type": "code",
   "execution_count": 31,
   "id": "2b4cb80b-0e0d-4d5e-b63b-0de6e3c87920",
   "metadata": {},
   "outputs": [
    {
     "data": {
      "text/plain": [
       "\u001b[0;31mDocstring:\u001b[0m\n",
       "dir([object]) -> list of strings\n",
       "\n",
       "If called without an argument, return the names in the current scope.\n",
       "Else, return an alphabetized list of names comprising (some of) the attributes\n",
       "of the given object, and of attributes reachable from it.\n",
       "If the object supplies a method named __dir__, it will be used; otherwise\n",
       "the default dir() logic is used and returns:\n",
       "  for a module object: the module's attributes.\n",
       "  for a class object:  its attributes, and recursively the attributes\n",
       "    of its bases.\n",
       "  for any other object: its attributes, its class's attributes, and\n",
       "    recursively the attributes of its class's base classes.\n",
       "\u001b[0;31mType:\u001b[0m      builtin_function_or_method"
      ]
     },
     "metadata": {},
     "output_type": "display_data"
    }
   ],
   "source": [
    "dir?"
   ]
  },
  {
   "cell_type": "markdown",
   "id": "7f3c3ace-028c-4160-bef4-b68772f15f9f",
   "metadata": {},
   "source": [
    "### Changing case"
   ]
  },
  {
   "cell_type": "markdown",
   "id": "1b52c34a-2267-4ea5-bd8e-88539858c2cd",
   "metadata": {},
   "source": [
    "Die folgenden Beispiele veranschaulichen einige gängige Methoden der Stringmanipulation.  \n",
    "\n",
    "Jedes Mal, wenn wir eine **Methode** verwenden, geben wir den Namen des Objekts gefolgt von einem `.` und dem Namen der Methode an. Um zum Beispiel die Groß- und Kleinschreibung von Zeichen in einer Zeichenkette zu ändern, können wir die Methoden `.upper()`, `.lower()` und `title()` verwenden."
   ]
  },
  {
   "cell_type": "code",
   "execution_count": 32,
   "id": "90fcaf6f-22b9-4809-8be3-a0a2f56c2a3c",
   "metadata": {},
   "outputs": [
    {
     "name": "stdout",
     "output_type": "stream",
     "text": [
      "Magdeburg\n"
     ]
    }
   ],
   "source": [
    "print(city)"
   ]
  },
  {
   "cell_type": "code",
   "execution_count": 33,
   "id": "9bbda41c-941c-48e1-af33-2244840ddbda",
   "metadata": {},
   "outputs": [
    {
     "data": {
      "text/plain": [
       "'MAGDEBURG'"
      ]
     },
     "execution_count": 33,
     "metadata": {},
     "output_type": "execute_result"
    }
   ],
   "source": [
    "city.upper()"
   ]
  },
  {
   "cell_type": "code",
   "execution_count": 34,
   "id": "d9e8853d-4325-4264-b0b5-bbd13fe93c75",
   "metadata": {},
   "outputs": [
    {
     "data": {
      "text/plain": [
       "'magdeburg'"
      ]
     },
     "execution_count": 34,
     "metadata": {},
     "output_type": "execute_result"
    }
   ],
   "source": [
    "city.lower()"
   ]
  },
  {
   "cell_type": "code",
   "execution_count": 35,
   "id": "0d21ca33-f367-46fd-81df-c5583fa8610e",
   "metadata": {},
   "outputs": [
    {
     "data": {
      "text/plain": [
       "'Magdeburg'"
      ]
     },
     "execution_count": 35,
     "metadata": {},
     "output_type": "execute_result"
    }
   ],
   "source": [
    "city.title()"
   ]
  },
  {
   "cell_type": "markdown",
   "id": "c5aa5001-4a81-4cdd-85e2-7e9cfe11ac25",
   "metadata": {},
   "source": [
    "Technisch gesehen ändern die Methoden `.upper()` und `.lower()` den string selbst nicht, sondern erzeugen einen neuen string. Der obige Code gibt diese neuen string aus, aber Python hat den in `city` enthaltenen string nicht geändert. Um das zu tun, müssen wir `city` mit dem neuen string überschreiben:"
   ]
  },
  {
   "cell_type": "code",
   "execution_count": 36,
   "id": "3f0bb1a4-4fbf-4167-af98-4fd8e2aa5baa",
   "metadata": {},
   "outputs": [
    {
     "name": "stdout",
     "output_type": "stream",
     "text": [
      "Magdeburg\n"
     ]
    }
   ],
   "source": [
    "print(city)"
   ]
  },
  {
   "cell_type": "code",
   "execution_count": 37,
   "id": "94f16109-f794-42ef-903b-6b0f3ad08fac",
   "metadata": {},
   "outputs": [
    {
     "name": "stdout",
     "output_type": "stream",
     "text": [
      "MAGDEBURG\n"
     ]
    }
   ],
   "source": [
    "city = city.upper()\n",
    "print(city)"
   ]
  },
  {
   "cell_type": "markdown",
   "id": "2f3de42f-7f28-4e8d-8446-e1a8135abcad",
   "metadata": {},
   "source": [
    "Wir können auch prüfen, ob ein string einen anderen string enthält. Um zu prüfen, ob die Variable sentence den string 'Deutschland' enthält, können wir den `in` Operator verwenden. Python gibt `True` zurück, wenn 'Deutschland' in sentence enthalten ist, und `False`, wenn es nicht enthalten ist:"
   ]
  },
  {
   "cell_type": "code",
   "execution_count": 38,
   "id": "c1267c01-2126-4536-a867-164aae73f10f",
   "metadata": {},
   "outputs": [
    {
     "name": "stdout",
     "output_type": "stream",
     "text": [
      "Magdeburg ist eine Stadt in Deutschland\n"
     ]
    }
   ],
   "source": [
    "print(sentence)"
   ]
  },
  {
   "cell_type": "code",
   "execution_count": 39,
   "id": "5ad889c4-d6d9-49b0-88b8-9d5970d2d311",
   "metadata": {},
   "outputs": [
    {
     "data": {
      "text/plain": [
       "True"
      ]
     },
     "execution_count": 39,
     "metadata": {},
     "output_type": "execute_result"
    }
   ],
   "source": [
    "'Deutschland' in sentence"
   ]
  },
  {
   "cell_type": "code",
   "execution_count": 40,
   "id": "709ac4ab-36f0-448a-afac-661c07426539",
   "metadata": {},
   "outputs": [
    {
     "data": {
      "text/plain": [
       "False"
      ]
     },
     "execution_count": 40,
     "metadata": {},
     "output_type": "execute_result"
    }
   ],
   "source": [
    "'Köln' in sentence"
   ]
  },
  {
   "cell_type": "markdown",
   "id": "66063435-97cc-4c68-a749-4d3ddecce9c1",
   "metadata": {},
   "source": [
    "Um ein substring durch einen andere substring zu ersetzen, können wir die Methode `.replace()` verwenden. Zum Beispiel, um Magdeburg durch Köln zu ersetzen:"
   ]
  },
  {
   "cell_type": "code",
   "execution_count": 208,
   "id": "84c4e85f-fc72-4fb3-8156-b75d012a0866",
   "metadata": {},
   "outputs": [
    {
     "name": "stdout",
     "output_type": "stream",
     "text": [
      "Köln ist eine Stadt in Deutschland\n"
     ]
    }
   ],
   "source": [
    "sentence = sentence.replace('Magdeburg', 'Köln')\n",
    "print(sentence)"
   ]
  },
  {
   "cell_type": "markdown",
   "id": "8967d83e-822d-48b2-bcf3-87bbe860a9d3",
   "metadata": {},
   "source": [
    "### Joining and splitting strings"
   ]
  },
  {
   "cell_type": "markdown",
   "id": "086b8f81-1ba3-4106-8ee0-bdcdf5ba67e4",
   "metadata": {},
   "source": [
    "Bei der Arbeit mit strings und anderen Textdaten kommt es häufig vor, dass wir einen string in mehrere Teile aufteilen oder zu einem bestimmten string zusammenfügen muss. Wenn wir die Methode `.split()` auf eine Zeichenkette ohne Argumente anwenden, teilt sie die Zeichenkette an Leerzeichen auf und gibt eine sogenannte Liste zurück:"
   ]
  },
  {
   "cell_type": "code",
   "execution_count": 45,
   "id": "2175ac59-d3b1-4b17-94fe-4c6d52b90995",
   "metadata": {},
   "outputs": [
    {
     "name": "stdout",
     "output_type": "stream",
     "text": [
      "['Magdeburg', 'ist', 'eine', 'Stadt', 'in', 'Deutschland']\n"
     ]
    }
   ],
   "source": [
    "sent_split_1 = sentence.split()\n",
    "print(sent_split_1)"
   ]
  },
  {
   "cell_type": "markdown",
   "id": "0b45bde3-66bd-41a7-bb5b-e32b50e2a321",
   "metadata": {},
   "source": [
    "Alternativ können wir `.split()` anweisen, eine Zeichenkette an bestimmten substrings aufzuteilen:"
   ]
  },
  {
   "cell_type": "code",
   "execution_count": 46,
   "id": "7d376a99-c60b-4bc7-8a64-00e1f1ea615c",
   "metadata": {},
   "outputs": [
    {
     "name": "stdout",
     "output_type": "stream",
     "text": [
      "['Magdeburg ist ', ' Stadt in Deutschland']\n"
     ]
    }
   ],
   "source": [
    "sent_split_2 = sentence.split('eine')\n",
    "print(sent_split_2)"
   ]
  },
  {
   "cell_type": "markdown",
   "id": "c5fb1c9e-5752-44f3-a1e3-eb2a37f48573",
   "metadata": {},
   "source": [
    "Um diese Elemente wieder zu einem einzigen string zusammenzufügen, verwenden wir `.join()`. Um diese Methode zu verwenden, geben wir zunächst das Trennzeichen an, das `.join()` zwischen die Elemente setzen soll, und übergeben dann die Elemente, die wir wieder zu einem string zusammenfügen wollen:"
   ]
  },
  {
   "cell_type": "code",
   "execution_count": 47,
   "id": "cebb70a3-090f-467c-ac40-d550e65c7b0d",
   "metadata": {},
   "outputs": [
    {
     "name": "stdout",
     "output_type": "stream",
     "text": [
      "['Magdeburg', 'ist', 'eine', 'Stadt', 'in', 'Deutschland']\n"
     ]
    }
   ],
   "source": [
    "print(sent_split_1)"
   ]
  },
  {
   "cell_type": "code",
   "execution_count": 48,
   "id": "dd78d965-147d-451a-a034-b292cf99f21b",
   "metadata": {},
   "outputs": [
    {
     "data": {
      "text/plain": [
       "'Magdeburg ist eine Stadt in Deutschland'"
      ]
     },
     "execution_count": 48,
     "metadata": {},
     "output_type": "execute_result"
    }
   ],
   "source": [
    "joined = \" \".join(sent_split_1)\n",
    "joined"
   ]
  },
  {
   "cell_type": "code",
   "execution_count": 49,
   "id": "2d18b898-51d1-47d5-822c-3f081d12ffe3",
   "metadata": {},
   "outputs": [
    {
     "data": {
      "text/plain": [
       "'Magdeburg-ist-eine-Stadt-in-Deutschland'"
      ]
     },
     "execution_count": 49,
     "metadata": {},
     "output_type": "execute_result"
    }
   ],
   "source": [
    "also_joined = \"-\".join(sent_split_1)\n",
    "also_joined"
   ]
  },
  {
   "cell_type": "markdown",
   "id": "cf70e83f-6de0-4eeb-af2a-510c3ecac196",
   "metadata": {},
   "source": [
    "### Leerzeichen entfernen"
   ]
  },
  {
   "cell_type": "markdown",
   "id": "3772004e-91ca-4829-97f9-fd7debd8c803",
   "metadata": {},
   "source": [
    "Strings mit Textdaten aus der realen Welt haben oft viele Leerzeichen. Um diese Leerzeichen zu entfernen, können wir die Methoden `.strip()`, `.lstrip()` oder `.rstrip()` verwenden, um zusätzliche Leerzeichen aus dem gesamten string (ohne die Leerzeichen zwischen den Wörtern) oder vom Anfang oder Ende der Zeichenkette zu entfernen:"
   ]
  },
  {
   "cell_type": "code",
   "execution_count": 50,
   "id": "e29704a1-d15e-4230-b8d7-dd33b3c1e8c4",
   "metadata": {},
   "outputs": [
    {
     "data": {
      "text/plain": [
       "' This      string has extra whitespace. '"
      ]
     },
     "execution_count": 50,
     "metadata": {},
     "output_type": "execute_result"
    }
   ],
   "source": [
    "with_whitespaces = ' This      string has extra whitespace. '\n",
    "with_whitespaces"
   ]
  },
  {
   "cell_type": "code",
   "execution_count": 51,
   "id": "d6558413-3eca-4a8a-b4cc-8ceebb3431fb",
   "metadata": {},
   "outputs": [
    {
     "data": {
      "text/plain": [
       "'This      string has extra whitespace.'"
      ]
     },
     "execution_count": 51,
     "metadata": {},
     "output_type": "execute_result"
    }
   ],
   "source": [
    "# Leerzeichen vorne und hinten entfernen\n",
    "with_whitespaces.strip()"
   ]
  },
  {
   "cell_type": "code",
   "execution_count": 52,
   "id": "eed81095-a28f-4b29-a811-e548f5d2afe9",
   "metadata": {},
   "outputs": [
    {
     "data": {
      "text/plain": [
       "'This      string has extra whitespace. '"
      ]
     },
     "execution_count": 52,
     "metadata": {},
     "output_type": "execute_result"
    }
   ],
   "source": [
    "# Leerzeichen vorne (left) entfernen\n",
    "with_whitespaces.lstrip()"
   ]
  },
  {
   "cell_type": "code",
   "execution_count": 53,
   "id": "c06dba9f-8ce4-456f-943e-8f6268a285a6",
   "metadata": {},
   "outputs": [
    {
     "data": {
      "text/plain": [
       "' This      string has extra whitespace.'"
      ]
     },
     "execution_count": 53,
     "metadata": {},
     "output_type": "execute_result"
    }
   ],
   "source": [
    "# Leerzeichen hinten (rechts) entfernen\n",
    "with_whitespaces.rstrip()"
   ]
  },
  {
   "cell_type": "markdown",
   "id": "3a7f6ec8-f98c-4c26-b668-bb3fe12b1379",
   "metadata": {},
   "source": [
    "Um alle überflüssigen Leerzeichen zu entfernen (also auch die zwischen Wörtern) können wir die Methoden `.split()` und `.join()` kombinieren."
   ]
  },
  {
   "cell_type": "code",
   "execution_count": 54,
   "id": "c899d49d-50ab-4586-8695-152968b48907",
   "metadata": {},
   "outputs": [
    {
     "data": {
      "text/plain": [
       "'This string has extra whitespace.'"
      ]
     },
     "execution_count": 54,
     "metadata": {},
     "output_type": "execute_result"
    }
   ],
   "source": [
    "without_whitespaces = \" \".join(with_whitespaces.split())\n",
    "without_whitespaces"
   ]
  },
  {
   "cell_type": "markdown",
   "id": "fd59bd6c-69f8-4781-a3fd-d8df84a6eff1",
   "metadata": {},
   "source": [
    "<div class='alert alert-block alert-success'>\n",
    "\n",
    "### Aufgabe 1\n",
    "\n",
    "--> session_02_excercise_1.ipynb\n",
    "\n",
    "</div>"
   ]
  },
  {
   "cell_type": "markdown",
   "id": "5239c985-0486-4feb-baf8-7089b98a9de7",
   "metadata": {},
   "source": [
    "### Einfügen von Strings in andere Strings mit der  .format() Methode und f-string"
   ]
  },
  {
   "cell_type": "markdown",
   "id": "3d6704b3-b589-48d2-9f16-23e750351c20",
   "metadata": {},
   "source": [
    "Während wir `+` für die Verkettung von Strings verwenden können, ist es oft besser, die in Python eingebauten Werkzeuge für die String-Formatierung zu verwenden. Ein solches Werkzeug ist die passend benannte Methode zur String-Formatierung namens `.format()`."
   ]
  },
  {
   "cell_type": "code",
   "execution_count": 55,
   "id": "ee592c36-3f73-4938-a154-be9c0f73a81a",
   "metadata": {},
   "outputs": [
    {
     "name": "stdout",
     "output_type": "stream",
     "text": [
      "Magdeburg is eine schöne Stadt in Deutschland.\n"
     ]
    }
   ],
   "source": [
    "a_string = \"{} is eine schöne Stadt in {}.\" \n",
    "print(a_string.format(city.title(), country))"
   ]
  },
  {
   "cell_type": "markdown",
   "id": "2ca2f894-4df5-46ca-a9fb-0a5f2db07b50",
   "metadata": {},
   "source": [
    "Der String in der ersten Zeile enthält zwei `{}`, und die `format()`-Methode in der nächsten Zeile hat zwei Argumente - `city.title()` und `country`. Bei der Ausführung ersetzt die Methode die ersten `{}` durch den Wert von `city.title()` und die zweiten `{}` durch den Wert von country."
   ]
  },
  {
   "cell_type": "markdown",
   "id": "099aced9-1821-42ab-952b-eff346374af9",
   "metadata": {},
   "source": [
    "Wir können dies auch auf eine sauberere Weise tun. Wir können ein `f` vor unseren string setzen, um Python anzuweisen, einen `f-string` zu verwenden, der es uns ermöglicht, den Namen der Variablen, die den relevanten Wert enthält, innerhalb jedes `{} ` einzuschließen:"
   ]
  },
  {
   "cell_type": "code",
   "execution_count": 56,
   "id": "04454b1d-d19b-4b72-8a57-8d2ffbbd7fba",
   "metadata": {},
   "outputs": [
    {
     "name": "stdout",
     "output_type": "stream",
     "text": [
      "Magdeburg is eine schöne Stadt in Deutschland.\n"
     ]
    }
   ],
   "source": [
    "print(f\"{city.title()} is eine schöne Stadt in {country}.\")"
   ]
  },
  {
   "cell_type": "markdown",
   "id": "88b0b767-db7b-4a6d-b8a6-f71ddd26a405",
   "metadata": {},
   "source": [
    "In Python kann ein string so kurz wie null Zeichen sein (`\"\"` enthält keine Zeichen, ist aber ein gültiger string), oder beliebig lang (vorausgesetzt, er passt in den Speicher Ihres Systems).  \n",
    "\n",
    "Manchmal möchten Sie längere Strings erstellen oder manipulieren, wie z.B. das Kapitel eines Buches oder den gesamten Bericht eines Kongresses. In solchen Fällen ist es möglich, das Layout eines langen Textes beizubehalten, indem man überall dort, wo es einen Absatzumbruch gibt, \"Newline\"-Zeichen (`\\n`) verwendet. Wie Sie sich vorstellen können, wird dies jedoch sehr schnell unübersichtlich. Glücklicherweise verfügt Python über eine eingebaute Syntax zur Darstellung mehrzeiliger Strings, nämlich drei einfache (`'''`) oder doppelte (`\"\"\"`) Anführungszeichen in einer Reihe:"
   ]
  },
  {
   "cell_type": "code",
   "execution_count": 57,
   "id": "fe2e9727-eb04-425c-98f9-beb339d38847",
   "metadata": {},
   "outputs": [],
   "source": [
    "multiline_string = \"\"\"\n",
    "You can work with strings longer than War and Peace, if you want. \n",
    "\n",
    "The strings can contain line breaks. \n",
    "\n",
    "\"\"\""
   ]
  },
  {
   "cell_type": "code",
   "execution_count": 58,
   "id": "27ecfcab-f0d7-4236-9c44-91b99e84b389",
   "metadata": {},
   "outputs": [
    {
     "data": {
      "text/plain": [
       "'\\nYou can work with strings longer than War and Peace, if you want. \\n\\nThe strings can contain line breaks. \\n\\n'"
      ]
     },
     "execution_count": 58,
     "metadata": {},
     "output_type": "execute_result"
    }
   ],
   "source": [
    "multiline_string"
   ]
  },
  {
   "cell_type": "code",
   "execution_count": 59,
   "id": "003de3a2-2f3c-4278-9709-225f15b0c487",
   "metadata": {},
   "outputs": [
    {
     "name": "stdout",
     "output_type": "stream",
     "text": [
      "\n",
      "You can work with strings longer than War and Peace, if you want. \n",
      "\n",
      "The strings can contain line breaks. \n",
      "\n",
      "\n"
     ]
    }
   ],
   "source": [
    "print(multiline_string)"
   ]
  },
  {
   "cell_type": "markdown",
   "id": "815dd0cd-6b5d-45fd-8b7c-84196eb2daf7",
   "metadata": {},
   "source": [
    "## 7. Comparison and control flow"
   ]
  },
  {
   "cell_type": "markdown",
   "id": "c5b9e888-dfbb-4a42-b4ff-92e140738ca9",
   "metadata": {},
   "source": [
    "Wir wissen, wie wir unseren Computer anweisen können, einzelne Anweisungen auszuführen (z. B. 2 + 2 berechnen). Oft möchten wir jedoch nicht, dass unser Computer einfach eine Reihe von Einzelbefehlen von oben nach unten ausführt. Stattdessen möchten wir unserem Computer sagen können, dass er den Code in Abhängigkeit von einer oder mehreren Bedingungen ausführen soll. Dies wird als \"*controll flow*\" bezeichnet."
   ]
  },
  {
   "cell_type": "markdown",
   "id": "524d185b-1159-4095-8c4f-9478ca500fd5",
   "metadata": {},
   "source": [
    "Controll flow statements enthalten eine \"Bedingung\" (condition), die entweder als Wahr (`True`) oder Falsch (`False`) ausgewertet werden kann (dies sind boolesche Werte, nach dem Mathematiker George Boole), gefolgt von einer \"clause\", einem eingerückten Codeblock, der je nachdem, ob die Bedingung als `True` oder `False` ausgewertet wird, auszuführen ist. Mit anderen Worten, wir führen den Code der \"clause\" aus, wenn die Bedingung Wahr (`True`) ergibt, und überspringen diesen Code, wenn der Ausdruck als Falsch (`False`) bewertet wird."
   ]
  },
  {
   "cell_type": "markdown",
   "id": "4149d01f-c5d3-4a36-8318-6838b46147f6",
   "metadata": {},
   "source": [
    "| Vergleichs-Operator      | Bedeutung       |\n",
    "| :---- | :---- |\n",
    "| `==`      | gleich       |\n",
    "| `!=`   | nicht gleich        |\n",
    "| `>`   | größer als        |\n",
    "| `>=`   | größer oder gleich als        |\n",
    "| `<`   | kleiner als        |\n",
    "| `<=`   | kleiner oder gleich als        |"
   ]
  },
  {
   "cell_type": "markdown",
   "id": "1ee86291-41cd-40bf-a352-5c3f969da98c",
   "metadata": {},
   "source": [
    "Alle Vergleichsoperatoren lösen einen Ausdruck in einen booleschen Wert auf."
   ]
  },
  {
   "cell_type": "code",
   "execution_count": 60,
   "id": "3d677944-1314-468d-b10c-8c83d901eb6f",
   "metadata": {},
   "outputs": [
    {
     "data": {
      "text/plain": [
       "False"
      ]
     },
     "execution_count": 60,
     "metadata": {},
     "output_type": "execute_result"
    }
   ],
   "source": [
    "country == country.upper()"
   ]
  },
  {
   "cell_type": "code",
   "execution_count": 61,
   "id": "b373b261-48a1-4209-9653-7d99b9722e8c",
   "metadata": {},
   "outputs": [
    {
     "data": {
      "text/plain": [
       "True"
      ]
     },
     "execution_count": 61,
     "metadata": {},
     "output_type": "execute_result"
    }
   ],
   "source": [
    "country != country.upper()"
   ]
  },
  {
   "cell_type": "code",
   "execution_count": 62,
   "id": "1673ccc1-cf29-4a62-80de-bc0860e864ee",
   "metadata": {},
   "outputs": [
    {
     "data": {
      "text/plain": [
       "True"
      ]
     },
     "execution_count": 62,
     "metadata": {},
     "output_type": "execute_result"
    }
   ],
   "source": [
    "country == country"
   ]
  },
  {
   "cell_type": "code",
   "execution_count": 63,
   "id": "66086466-b63c-46d5-8e50-b0c07656bd08",
   "metadata": {},
   "outputs": [
    {
     "data": {
      "text/plain": [
       "True"
      ]
     },
     "execution_count": 63,
     "metadata": {},
     "output_type": "execute_result"
    }
   ],
   "source": [
    "52 < 64"
   ]
  },
  {
   "cell_type": "code",
   "execution_count": 64,
   "id": "b56ba047-1b8f-416b-a038-9704be0d8b14",
   "metadata": {},
   "outputs": [
    {
     "data": {
      "text/plain": [
       "True"
      ]
     },
     "execution_count": 64,
     "metadata": {},
     "output_type": "execute_result"
    }
   ],
   "source": [
    "55 >= 55"
   ]
  },
  {
   "cell_type": "markdown",
   "id": "f98d3c04-b6d7-47b5-a646-0b11a12d69cf",
   "metadata": {},
   "source": [
    "Wir können diese Vergleichsoperatoren verwenden, um bedingten Code auszuführen."
   ]
  },
  {
   "cell_type": "markdown",
   "id": "2164295c-1690-4dc2-b91a-59eb8981f4db",
   "metadata": {},
   "source": [
    "### if, elif, else"
   ]
  },
  {
   "cell_type": "markdown",
   "id": "f87d54b0-741e-48d4-a3da-ffd123f90fa6",
   "metadata": {},
   "source": [
    "Ein if-statement beginnt mit `if`, gefolgt von einem Ausdruck, der als `True` oder `False` ausgewertet werden kann, und einem Doppelpunkt `:`.   \n",
    "Der Ausdruck ist die Bedingung, und der Doppelpunkt zeigt an, dass das, was folgt, die *clause* ist: der eingerückte Code, der ausgeführt wird, wenn die Bedingung `True` ist."
   ]
  },
  {
   "cell_type": "code",
   "execution_count": 58,
   "id": "553e11ba-1d18-4a18-827d-0ea24fcc9c47",
   "metadata": {},
   "outputs": [
    {
     "data": {
      "text/plain": [
       "'MAGDEBURG'"
      ]
     },
     "execution_count": 58,
     "metadata": {},
     "output_type": "execute_result"
    }
   ],
   "source": [
    "city"
   ]
  },
  {
   "cell_type": "code",
   "execution_count": 65,
   "id": "4ac61fd3-1982-4440-987c-3ee8af8daca7",
   "metadata": {},
   "outputs": [
    {
     "name": "stdout",
     "output_type": "stream",
     "text": [
      "city has the value: 'MAGDEBURG'\n"
     ]
    }
   ],
   "source": [
    "if city == 'MAGDEBURG':\n",
    "    print(\"city has the value: 'MAGDEBURG'\")\n",
    "else:\n",
    "    print(\"city does not have the value: 'MAGDEBURG'\")"
   ]
  },
  {
   "cell_type": "code",
   "execution_count": 66,
   "id": "9923b33f-2a1e-4e00-a85f-af4d567fea68",
   "metadata": {},
   "outputs": [
    {
     "data": {
      "text/plain": [
       "'Deutschland'"
      ]
     },
     "execution_count": 66,
     "metadata": {},
     "output_type": "execute_result"
    }
   ],
   "source": [
    "country"
   ]
  },
  {
   "cell_type": "code",
   "execution_count": 67,
   "id": "55425ec2-0f36-4af2-88c5-8349cbf0b5de",
   "metadata": {},
   "outputs": [
    {
     "name": "stdout",
     "output_type": "stream",
     "text": [
      "country does not have the value: 'Köln'\n"
     ]
    }
   ],
   "source": [
    "if country == 'Köln': \n",
    "    print(\"country has the value: 'Köln'\") \n",
    "else:\n",
    "    print(\"country does not have the value: 'Köln'\")"
   ]
  },
  {
   "cell_type": "markdown",
   "id": "cf4c8e17-ba66-40c3-81f8-bbb5d9eea6c5",
   "metadata": {},
   "source": [
    "Ein `else`-statement gibt an, dass Python den eingerückten Klauselcode unter `else` ausführen soll, wenn die vorhergehende Bedingung nicht den Wert `True` ergibt. In diesem Fall verwenden wir das `else`-statement, um anzuzeigen, dass eine Variable die Bedingung nicht erfüllt hat."
   ]
  },
  {
   "cell_type": "markdown",
   "id": "8887a6cd-dfa0-48c9-95ce-2d9386f54c0c",
   "metadata": {},
   "source": [
    "In diesem Beispiel gibt es nur zwei Möglichkeiten: Wenn die Strings gleich sind, tun Sie das eine, wenn nicht, tun Sie etwas anderes.  \n",
    "Wir können `elif` oder `else-if` statements verwenden, um Code unter verschiedenen Bedingungen auszuführen."
   ]
  },
  {
   "cell_type": "markdown",
   "id": "b53a9a97-6f09-43be-be29-2db0fc7bf036",
   "metadata": {},
   "source": [
    "Beachten Sie, dass die Verwendung eines elif-Statements funktionell der Verschachtelung eines if-statements innerhalb der Klausel einer else-Anweisung entspricht. Sie wird nur ausgeführt, wenn eine vorherige Bedingung als falsch bewertet wurde."
   ]
  },
  {
   "cell_type": "code",
   "execution_count": 68,
   "id": "1a80ff16-c8d3-4733-a5bd-5d6f44dba62d",
   "metadata": {},
   "outputs": [],
   "source": [
    "we_do_sentence = \"We're doing learning control flow\"\n",
    "learning_string = \"learning control flow\""
   ]
  },
  {
   "cell_type": "code",
   "execution_count": 69,
   "id": "7bc15f1b-dcf1-4122-b6c2-03b7bb6a141e",
   "metadata": {},
   "outputs": [
    {
     "name": "stdout",
     "output_type": "stream",
     "text": [
      "The second string is in the first string, but they are not equal to each other.\n"
     ]
    }
   ],
   "source": [
    "if we_do_sentence == learning_string: \n",
    "    print(\"These two strings are equal to each other!\") \n",
    "elif learning_string in we_do_sentence: \n",
    "    print(\"The second string is in the first string, but they are not equal to each other.\") \n",
    "else: \n",
    "    print(\"The two strings are NOT equal to each other and the second string is NOT in the first string.\")"
   ]
  },
  {
   "cell_type": "markdown",
   "id": "871b4666-91cb-4cf7-8696-3438f7ed62b6",
   "metadata": {},
   "source": [
    "Wir können diesen Code nach folgender Logik lesen: Wenn die erste Bedingung wahr ist, dann führe das erste print statement aus.  \n",
    "Wenn die erste Bedingung falsch ist, prüfe, ob die zweite Bedingung wahr ist. Wenn ja, wird das zweite print statement ausgeführt.  \n",
    "Wenn die vorangegangenen if- und elif-Anweisungen alle falsch waren, dann wird das letzte print statement ausgeführt."
   ]
  },
  {
   "cell_type": "markdown",
   "id": "85e86223-f4b0-4c84-aa51-0ff1b7bf45c9",
   "metadata": {},
   "source": [
    "### while loops"
   ]
  },
  {
   "cell_type": "markdown",
   "id": "726f58d4-137d-441e-b6d2-d437a9ae7c5c",
   "metadata": {},
   "source": [
    "`if`-statements sind wahrscheinlich die häufigste Art von Anweisungen, die im Kontrollfluss verwendet werden, aber sie sind nicht die einzigen. Wir können auch ein `while` statement verwenden, um bedingten Code auszuführen. Ein while statement beginnt mit dem Wort `while` und wird von einem Ausdruck gefolgt, der auf True oder False ausgewertet werden kann. Sie können eine while-Schleife so lesen, als würde sie sagen: \"Wenn die Bedingung wahr ist, führe die Klausel aus. Wiederhole diesen Vorgang, bis die Bedingung Falsch ist oder du zum Abbruch aufgefordert wirst.\""
   ]
  },
  {
   "cell_type": "code",
   "execution_count": 70,
   "id": "9957a9c9-f6ea-4ceb-8cda-ebe63e7666ae",
   "metadata": {},
   "outputs": [],
   "source": [
    "import time"
   ]
  },
  {
   "cell_type": "code",
   "execution_count": 71,
   "id": "6f83296d-a6f5-4000-84e0-c63b2a1be143",
   "metadata": {},
   "outputs": [
    {
     "name": "stdout",
     "output_type": "stream",
     "text": [
      "It's Week 1. The course is still in progress.\n",
      "It's Week 2. The course is still in progress.\n",
      "It's Week 3. The course is still in progress.\n",
      "It's Week 4. The course is still in progress.\n",
      "It's Week 5. The course is still in progress.\n",
      "It's Week 6. The course is still in progress.\n",
      "It's Week 7. The course is still in progress.\n",
      "It's Week 8. The course is still in progress.\n",
      "It's Week 9. The course is still in progress.\n",
      "It's Week 10. The course is still in progress.\n",
      "It's Week 11. The course is still in progress.\n",
      "It's Week 12. The course is still in progress.\n",
      "\n",
      "The course is \"complete\". Congratulations!\n"
     ]
    }
   ],
   "source": [
    "week = 1 \n",
    "\n",
    "while week <= 12:\n",
    "    \n",
    "    print(f\"It's Week {week}. The course is still in progress.\") \n",
    "    \n",
    "    week += 1 # equivalent to week = week + 1 \n",
    "    \n",
    "    time.sleep(1)\n",
    "\n",
    "print('\\nThe course is \"complete\". Congratulations!') # Diese Zeile ist nicht eingerückt! Durchführung erst nachdem der while Loop beendet ist."
   ]
  },
  {
   "cell_type": "markdown",
   "id": "917592ff-5619-409d-abe6-9df52f160365",
   "metadata": {},
   "source": [
    "<div class='alert alert-block alert-warning'>\n",
    "    Kommentare in Python beginnen mit #. Alles, was in der Zeile nach dem # steht, gilt nicht als Code und wird nicht ausgeführt.\n",
    "</div>"
   ]
  },
  {
   "cell_type": "markdown",
   "id": "e0a42c9b-40e3-45a3-a72f-cc75faf64c15",
   "metadata": {},
   "source": [
    "### Kombination von Vergleichen mit and/or"
   ]
  },
  {
   "cell_type": "markdown",
   "id": "ec4db5bd-96f6-475a-acf1-5bcb180dd466",
   "metadata": {},
   "source": [
    "Es kann sinnvoll sein, Vergleiche in einer Bedingung mit `and` oder `or` zu kombinieren, um noch mehr Kontrolle über den Code auszuüben, der unter verschiedenen Bedingungen ausgeführt wird."
   ]
  },
  {
   "cell_type": "code",
   "execution_count": 72,
   "id": "99814e08-dd26-4947-b6ad-3db38609bd49",
   "metadata": {},
   "outputs": [
    {
     "name": "stdout",
     "output_type": "stream",
     "text": [
      "Ja! Das ist der richtige Satz!\n"
     ]
    }
   ],
   "source": [
    "sentence = 'Magdeburg ist eine schöne Stadt!' \n",
    "\n",
    "if len(sentence) > 30 and sentence == 'Magdeburg ist eine schöne Stadt!':\n",
    "    print(\"Ja! Das ist der richtige Satz!\")\n",
    "else:\n",
    "    print('Nein! Das ist der falsche Satz!')"
   ]
  },
  {
   "cell_type": "markdown",
   "id": "a2ad76a3-bd72-480e-a5fe-10136ad6e5eb",
   "metadata": {},
   "source": [
    "Die Bedingung in der ersten Zeile oben verwendet `and`, um zwei Vergleiche miteinander zu verknüpfen. Bei der Verwendung von `and` wird die Zeile als `True` ausgewertet, wenn beide Vergleiche `True` sind. Wenn einer der beiden Vergleiche als `False` bewertet wird, wird die Zeile als `False` bewertet."
   ]
  },
  {
   "cell_type": "code",
   "execution_count": 73,
   "id": "8039b6e1-c43b-418c-ba6d-594743f83bad",
   "metadata": {},
   "outputs": [
    {
     "data": {
      "text/plain": [
       "True"
      ]
     },
     "execution_count": 73,
     "metadata": {},
     "output_type": "execute_result"
    }
   ],
   "source": [
    "len(sentence) > 30"
   ]
  },
  {
   "cell_type": "code",
   "execution_count": 74,
   "id": "0780ad40-3774-4611-bb5e-eebe87798170",
   "metadata": {
    "scrolled": true
   },
   "outputs": [
    {
     "data": {
      "text/plain": [
       "True"
      ]
     },
     "execution_count": 74,
     "metadata": {},
     "output_type": "execute_result"
    }
   ],
   "source": [
    "sentence == 'Magdeburg ist eine schöne Stadt!'"
   ]
  },
  {
   "cell_type": "code",
   "execution_count": 75,
   "id": "f7b37a6f-8ebb-4de6-9e6d-f34c8e0ba268",
   "metadata": {},
   "outputs": [
    {
     "data": {
      "text/plain": [
       "True"
      ]
     },
     "execution_count": 75,
     "metadata": {},
     "output_type": "execute_result"
    }
   ],
   "source": [
    "len(sentence) > 30 and sentence == 'Magdeburg ist eine schöne Stadt!'"
   ]
  },
  {
   "cell_type": "markdown",
   "id": "82324832-08d8-4c57-8dc4-e76dd8342a97",
   "metadata": {},
   "source": [
    "Alternativ könnten wir auch `or` verwenden. Im Folgenden wird diese Zeile als `or` ausgewertet, wenn einer der beiden Vergleiche als `True` ausgewertet wird."
   ]
  },
  {
   "cell_type": "code",
   "execution_count": 70,
   "id": "e4ee2641-481e-4965-b084-ea0d0ea27d3e",
   "metadata": {},
   "outputs": [
    {
     "name": "stdout",
     "output_type": "stream",
     "text": [
      "Ja! Das ist der richtige Satz!\n"
     ]
    }
   ],
   "source": [
    "sentence = 'Magdeburg ist eine schöne Stadt!' \n",
    "\n",
    "if len(sentence) > 30 or sentence == 'Magdeburg ist eine schöne Stadt!':\n",
    "    print(\"Ja! Das ist der richtige Satz!\")\n",
    "else:\n",
    "    print('Nein! Das ist der falsche Satz!')"
   ]
  },
  {
   "cell_type": "code",
   "execution_count": 71,
   "id": "32568d87-7c23-472f-95d8-95bd6dc592bf",
   "metadata": {},
   "outputs": [
    {
     "data": {
      "text/plain": [
       "True"
      ]
     },
     "execution_count": 71,
     "metadata": {},
     "output_type": "execute_result"
    }
   ],
   "source": [
    "True or False"
   ]
  },
  {
   "cell_type": "code",
   "execution_count": 72,
   "id": "c5205f54-1c50-4cef-b2be-a0ec4a5c91e3",
   "metadata": {},
   "outputs": [
    {
     "data": {
      "text/plain": [
       "True"
      ]
     },
     "execution_count": 72,
     "metadata": {},
     "output_type": "execute_result"
    }
   ],
   "source": [
    "True or True"
   ]
  },
  {
   "cell_type": "code",
   "execution_count": 233,
   "id": "d9eed1f5-3508-4b31-bbca-9104d5e04032",
   "metadata": {},
   "outputs": [
    {
     "data": {
      "text/plain": [
       "False"
      ]
     },
     "execution_count": 233,
     "metadata": {},
     "output_type": "execute_result"
    }
   ],
   "source": [
    "False or False"
   ]
  },
  {
   "cell_type": "markdown",
   "id": "4273a6e1-f19d-4881-b057-063418774973",
   "metadata": {},
   "source": [
    "Wir können auch den Begriff `not` verwenden. Dieser Begriff führt dazu, dass ein Ausdruck `True` zurückgibt, wenn er `False` ist und umgekehrt."
   ]
  },
  {
   "cell_type": "code",
   "execution_count": 78,
   "id": "a5228103-0502-4651-ad98-6b719847912f",
   "metadata": {},
   "outputs": [
    {
     "name": "stdout",
     "output_type": "stream",
     "text": [
      "Nein! Das ist der falsche Satz!\n"
     ]
    }
   ],
   "source": [
    "sentence = 'Magdeburg ist eine schöne Stadt!' \n",
    "\n",
    "if not sentence == 'Köln ist eine schöne Stadt!':\n",
    "    print(\"Nein! Das ist der falsche Satz!\")"
   ]
  },
  {
   "cell_type": "markdown",
   "id": "22fe0f36-e5d4-4e48-85a0-1d54ccb379af",
   "metadata": {},
   "source": [
    "Es ist möglich, so viele Vergleiche zu kombinieren, wie Sie möchten, aber wenn Sie zu weit gehen, kann Ihr Code etwas schwerer zu lesen sein. Die Konvention in Python ist es, jeden Vergleich in `()` zu verpacken, was den Code sauberer und leichter lesbar macht."
   ]
  },
  {
   "cell_type": "code",
   "execution_count": 79,
   "id": "bc525fbb-9410-4f46-9056-8c51bf084edf",
   "metadata": {},
   "outputs": [
    {
     "name": "stdout",
     "output_type": "stream",
     "text": [
      "Ja! Das ist ein richtiger Satz!\n"
     ]
    }
   ],
   "source": [
    "if (len(sentence) > 30 and len(sentence) < 100) or (sentence == 'Magdeburg ist eine schöne Stadt!'):\n",
    "    print(\"Ja! Das ist ein richtiger Satz!\")"
   ]
  },
  {
   "cell_type": "markdown",
   "id": "9b401d4e-69b0-4bd4-b900-e643319b37e1",
   "metadata": {},
   "source": [
    "### Tracebacks"
   ]
  },
  {
   "cell_type": "markdown",
   "id": "9aff9448-c4ff-43ad-8ea5-c39789905e99",
   "metadata": {},
   "source": [
    "Machmal funktioniert etwas mit unserem Code nicht. Python gibt dann einen speziellen Report zurück, der *Traceback* genannt wird."
   ]
  },
  {
   "cell_type": "code",
   "execution_count": 80,
   "id": "26f45e1a-40ee-4a0e-b0d4-4817f7aaccb1",
   "metadata": {},
   "outputs": [
    {
     "ename": "SyntaxError",
     "evalue": "incomplete input (2288891477.py, line 2)",
     "output_type": "error",
     "traceback": [
      "\u001b[0;36m  Cell \u001b[0;32mIn[80], line 2\u001b[0;36m\u001b[0m\n\u001b[0;31m    str(5\u001b[0m\n\u001b[0m         ^\u001b[0m\n\u001b[0;31mSyntaxError\u001b[0m\u001b[0;31m:\u001b[0m incomplete input\n"
     ]
    }
   ],
   "source": [
    "# SyntaxError\n",
    "str(5"
   ]
  },
  {
   "cell_type": "code",
   "execution_count": 81,
   "id": "a4b1f4f2-658f-4c6d-a570-7e5f30645ebc",
   "metadata": {},
   "outputs": [
    {
     "ename": "NameError",
     "evalue": "name 'test' is not defined",
     "output_type": "error",
     "traceback": [
      "\u001b[0;31m---------------------------------------------------------------------------\u001b[0m",
      "\u001b[0;31mNameError\u001b[0m                                 Traceback (most recent call last)",
      "Cell \u001b[0;32mIn[81], line 2\u001b[0m\n\u001b[1;32m      1\u001b[0m \u001b[38;5;66;03m# NameError\u001b[39;00m\n\u001b[0;32m----> 2\u001b[0m \u001b[43mtest\u001b[49m\n",
      "\u001b[0;31mNameError\u001b[0m: name 'test' is not defined"
     ]
    }
   ],
   "source": [
    "# NameError\n",
    "test"
   ]
  },
  {
   "cell_type": "code",
   "execution_count": 82,
   "id": "79cff70e-a649-4a2d-ac46-c9ecc1d182b0",
   "metadata": {},
   "outputs": [
    {
     "ename": "TypeError",
     "evalue": "unsupported operand type(s) for +: 'int' and 'str'",
     "output_type": "error",
     "traceback": [
      "\u001b[0;31m---------------------------------------------------------------------------\u001b[0m",
      "\u001b[0;31mTypeError\u001b[0m                                 Traceback (most recent call last)",
      "Cell \u001b[0;32mIn[82], line 2\u001b[0m\n\u001b[1;32m      1\u001b[0m \u001b[38;5;66;03m# TypeError\u001b[39;00m\n\u001b[0;32m----> 2\u001b[0m \u001b[38;5;241;43m5\u001b[39;49m\u001b[43m \u001b[49m\u001b[38;5;241;43m+\u001b[39;49m\u001b[43m \u001b[49m\u001b[38;5;124;43m'\u001b[39;49m\u001b[38;5;124;43mhallo\u001b[39;49m\u001b[38;5;124;43m'\u001b[39;49m\n",
      "\u001b[0;31mTypeError\u001b[0m: unsupported operand type(s) for +: 'int' and 'str'"
     ]
    }
   ],
   "source": [
    "# TypeError\n",
    "5 + 'hallo'"
   ]
  },
  {
   "cell_type": "markdown",
   "id": "b29e75b5-8671-47fd-b1f4-31e602f9eafc",
   "metadata": {},
   "source": [
    "### try/except"
   ]
  },
  {
   "cell_type": "markdown",
   "id": "cc01c5de-d65c-429a-8d04-be92d1f08792",
   "metadata": {},
   "source": [
    "Wir können zwischen mindestens zwei Klassen von Fehlern unterscheiden.  \n",
    "\n",
    "1. Wenn der Code gegen eine der Grammatikregeln von Python verstößt, z. B. Klammern nicht richtig schließt, erhalten Sie einen **Syntaxfehler**.  \n",
    "2. Eine Ausnahme (**exception**) tritt auf, wenn syntaktisch korrekter Code trotzdem einen Fehler erzeugt (z.B. TypeError, NameError). \n",
    "\n",
    "Der Unterschied zwischen *Syntaxfehlern* und *exceptions* ist folgender: *Syntaxfehler* werden erkannt, während der Code geparst wird, **bevor** er ausgeführt wird. Ein *Sytaxfehler* führt dann dazu, dass der Code überhaupt nicht ausgeführt wird. *Exceptions* treten **während** der Ausführung auf und müssen nicht unbedingt dazu führen, dass die Ausführung fehlschlägt."
   ]
  },
  {
   "cell_type": "markdown",
   "id": "d25de375-39c5-46f4-83c0-8b64a1f25f1e",
   "metadata": {},
   "source": [
    "Wenn eine *exception* irgendeines Typs auftritt, hält Python standardmäßig die Ausführung des Codes an und gibt einen Traceback aus. Obwohl dies oft eine nützliche Funktion ist, ist es nicht immer das, was wir wollen. Manchmal wissen wir, dass ein Teil des Codes, den wir geschrieben haben, wahrscheinlich auf eine ganz bestimmte Art von Fehler stoßen wird, und wir möchten lieber, dass Python den Fehler auf irgendeine Weise behandelt und den Rest unseres Codes weiter ausführt. In diesen Fällen können wir `try-` und `except`-Anweisungen verwenden.  \n",
    "Im Allgemeinen sollten Sie `try`/`except` nicht verwenden, um Syntaxfehler zu behandeln. Das ist in der Regel nicht möglich, da, wie bereits erwähnt, der Syntaxfehler die Ausführung unterbricht, bevor überhaupt versucht wird, den Code auszuführen."
   ]
  },
  {
   "cell_type": "markdown",
   "id": "b53b8ed9-ea85-4568-9e1f-b0bd0ea488f9",
   "metadata": {},
   "source": [
    "Die `try`-Anweisung wird vor einem eingerückten Codeblock verwendet und zeigt an, dass Python versuchen soll, den Code im eingerückten Block auszuführen. Wenn Python bei der Ausführung des in einem `try`-Block enthaltenen Codes auf einen Fehler stößt, hält es die Ausführung nicht sofort an: Stattdessen prüft es zunächst alle folgenden except-Anweisungen, um zu sehen, ob die aufgetretene Ausnahme aufgelistet ist (z. B. `except ValueError:`). Ist dies der Fall, führt Python den Code im entsprechenden except-Block aus, bevor es normal weitergeht."
   ]
  },
  {
   "cell_type": "code",
   "execution_count": 83,
   "id": "875f14b8-5c31-427c-890f-9d462474377a",
   "metadata": {},
   "outputs": [
    {
     "name": "stdout",
     "output_type": "stream",
     "text": [
      "Please enter which week you will start in.\n"
     ]
    },
    {
     "ename": "ValueError",
     "evalue": "invalid literal for int() with base 10: 'seven'",
     "output_type": "error",
     "traceback": [
      "\u001b[0;31m---------------------------------------------------------------------------\u001b[0m",
      "\u001b[0;31mValueError\u001b[0m                                Traceback (most recent call last)",
      "Cell \u001b[0;32mIn[83], line 3\u001b[0m\n\u001b[1;32m      1\u001b[0m \u001b[38;5;28mprint\u001b[39m(\u001b[38;5;124m\"\u001b[39m\u001b[38;5;124mPlease enter which week you will start in.\u001b[39m\u001b[38;5;124m\"\u001b[39m) \n\u001b[1;32m      2\u001b[0m user_input \u001b[38;5;241m=\u001b[39m \u001b[38;5;124m\"\u001b[39m\u001b[38;5;124mseven\u001b[39m\u001b[38;5;124m\"\u001b[39m \n\u001b[0;32m----> 3\u001b[0m week \u001b[38;5;241m=\u001b[39m \u001b[38;5;28;43mint\u001b[39;49m\u001b[43m(\u001b[49m\u001b[43muser_input\u001b[49m\u001b[43m)\u001b[49m \n\u001b[1;32m      5\u001b[0m \u001b[38;5;28;01mwhile\u001b[39;00m week \u001b[38;5;241m<\u001b[39m\u001b[38;5;241m=\u001b[39m \u001b[38;5;241m12\u001b[39m: \n\u001b[1;32m      6\u001b[0m     \u001b[38;5;28mprint\u001b[39m(\u001b[38;5;124mf\u001b[39m\u001b[38;5;124m\"\u001b[39m\u001b[38;5;124mIt\u001b[39m\u001b[38;5;124m'\u001b[39m\u001b[38;5;124ms Week \u001b[39m\u001b[38;5;132;01m{\u001b[39;00mweek\u001b[38;5;132;01m}\u001b[39;00m\u001b[38;5;124m. The course is still in progress.\u001b[39m\u001b[38;5;124m\"\u001b[39m) \n",
      "\u001b[0;31mValueError\u001b[0m: invalid literal for int() with base 10: 'seven'"
     ]
    }
   ],
   "source": [
    "print(\"Please enter which week you will start in.\") \n",
    "user_input = \"seven\" \n",
    "week = int(user_input) \n",
    "\n",
    "while week <= 12: \n",
    "    print(f\"It's Week {week}. The course is still in progress.\") \n",
    "    week += 1 # equivalent to week = week + 1 \n",
    "    \n",
    "print('\\nThe course is \"complete\". Congratulations!')"
   ]
  },
  {
   "cell_type": "markdown",
   "id": "33ceb365-9ad5-4e33-a00f-568f143df2f1",
   "metadata": {},
   "source": [
    "Sie sollten eine ValueError-exception sehen. Das macht Sinn. Python weiß von Natur aus nicht, wie der string seven als Integer zu interpretieren ist, und auch wenn es möglich ist, haben wir es nicht angewiesen, dies zu tun. Wir können try und except verwenden, um einige der Fälle von Wertfehlern abzufangen, ohne unsere ursprüngliche Funktionalität zu opfern. Dazu müssen wir zunächst herausfinden, wo der Fehler herkommt. Dazu können wir den Traceback verwenden, den Python ausgibt, wenn die exception auftritt: Es sieht so aus, als ob Zeile 3 der Übeltäter ist. Versuchen wir, diese Zeile in einen `try`-Block einzuschließen und dann `except ValueError` plus etwas Code zur string-Umwandlung zu verwenden, um den Fehler zu behandeln. Gehen wir davon aus, dass die Teilnehmer den Kurs nur in den ersten 3 Wochen beginnen können, und berücksichtigen wir diese in unserem try-Block:"
   ]
  },
  {
   "cell_type": "code",
   "execution_count": 84,
   "id": "72121682-3255-4a73-9a32-ee8cd2ad5a63",
   "metadata": {
    "scrolled": true
   },
   "outputs": [
    {
     "name": "stdout",
     "output_type": "stream",
     "text": [
      "Please enter which of weeks.\n",
      "three\n",
      "ValueError. Moment, ich probiere da was aus...\n",
      "AH! Du meinst also 3\n",
      "let's go!\n",
      "It's Week 3. The course is still in progress.\n",
      "It's Week 4. The course is still in progress.\n",
      "It's Week 5. The course is still in progress.\n",
      "It's Week 6. The course is still in progress.\n",
      "It's Week 7. The course is still in progress.\n",
      "It's Week 8. The course is still in progress.\n",
      "It's Week 9. The course is still in progress.\n",
      "It's Week 10. The course is still in progress.\n",
      "It's Week 11. The course is still in progress.\n",
      "It's Week 12. The course is still in progress.\n",
      "\n",
      "The course is \"complete\". Congratulations!\n"
     ]
    }
   ],
   "source": [
    "print(\"Please enter which of weeks.\") \n",
    "user_input = \"three\" \n",
    "\n",
    "try: \n",
    "    print(user_input)\n",
    "    week = int(user_input) \n",
    "    \n",
    "except ValueError: \n",
    "    \n",
    "    print('ValueError. Moment, ich probiere da was aus...')\n",
    "    \n",
    "    if user_input.lower().strip() == \"one\": \n",
    "        print('AH! Du meinst also 1')\n",
    "        week = 1 \n",
    "        \n",
    "    elif user_input.lower().strip() == \"two\":\n",
    "        print('AH! Du meinst also 2')\n",
    "        week = 2 \n",
    "    elif user_input.lower().strip() == \"three\":\n",
    "        print('AH! Du meinst also 3')\n",
    "        week = 3\n",
    "    else: \n",
    "        raise ValueError(\"I don't recognize that as a valid number! Try again!\") \n",
    "\n",
    "print(\"let's go!\")\n",
    "        \n",
    "while week <= 12: \n",
    "    print(f\"It's Week {week}. The course is still in progress.\") \n",
    "    week += 1 # equivalent to week = week + 1 \n",
    "\n",
    "print('\\nThe course is \"complete\". Congratulations!')"
   ]
  },
  {
   "cell_type": "markdown",
   "id": "deb71aa1-a388-40b6-b284-c0236c4abc31",
   "metadata": {},
   "source": [
    "Beachten Sie, dass die `else`-Anweisung, wenn sie ausgeführt wird, erneut einen ValueError auslöst (wenn auch mit einer anderen Meldung). Anstatt davon auszugehen, dass Ihre Umgehung in jedem Fall funktioniert, sollten Sie manuell eine exception auslösen, wenn alles andere fehlschlägt. Auf diese Weise hat Python eine Möglichkeit, Ihnen mitzuteilen, dass Ihre Lösung fehlerhaft ist und Sie wieder coden müssen.  "
   ]
  },
  {
   "cell_type": "markdown",
   "id": "95378c48-df2f-4966-a159-dc886681297c",
   "metadata": {},
   "source": [
    "`Try` und `except` sind sehr wertvolle Werkzeuge. Verwenden Sie sie aber nur, wenn Sie genau wissen welche Fehler in Ihrem Code vorkommen können, bzw. erwartbar sind. Z.B. beim webscraping, für den Fall, wenn eine Webseite nicht geladen werden kann."
   ]
  },
  {
   "cell_type": "markdown",
   "id": "5cc734d1-4497-4a1b-9c0f-c91ded6898d4",
   "metadata": {},
   "source": [
    "<div class='alert alert-block alert-success'>\n",
    "\n",
    "### Aufgabe 2\n",
    "\n",
    "--> session_02_excercise_2.ipynb\n",
    "\n",
    "</div>"
   ]
  },
  {
   "cell_type": "markdown",
   "id": "8d8c239d-0ffa-40ed-85a0-4052ac62815e",
   "metadata": {},
   "source": [
    "## 8. Datenstrukturen (Lists, Tuples, Dictionaries)"
   ]
  },
  {
   "cell_type": "markdown",
   "id": "028e7495-3440-41f3-9f96-418f8513c7a8",
   "metadata": {},
   "source": [
    "### Listen\n",
    "\n",
    "In Python sind Listen geordnete Sammlungen beliebiger Objekte, wie z. B. Strings, Ganzzahlen, Fließkommazahlen oder andere Datenstrukturen - sogar andere Listen. Die Elemente in einer Liste können vom gleichen Typ sein, müssen es aber nicht. Python-Listen sind sehr flexibel. Sie können Informationen verschiedener Art in einer Liste mischen, Sie können der Liste während des laufenden Betriebs Informationen hinzufügen, und Sie können alle in der Liste enthaltenen Informationen entfernen oder ändern. Dies ist in anderen Sprachen nicht immer der Fall. Die einfachste Liste sieht wie folgt aus:"
   ]
  },
  {
   "cell_type": "code",
   "execution_count": 80,
   "id": "57ae64d9-a481-44b9-a6cc-1cde6167dfff",
   "metadata": {},
   "outputs": [
    {
     "data": {
      "text/plain": [
       "[]"
      ]
     },
     "execution_count": 80,
     "metadata": {},
     "output_type": "execute_result"
    }
   ],
   "source": [
    "my_list = []\n",
    "my_list"
   ]
  },
  {
   "cell_type": "code",
   "execution_count": 81,
   "id": "67a1f3af-811d-4c06-aecd-3a5237d77f7a",
   "metadata": {},
   "outputs": [
    {
     "data": {
      "text/plain": [
       "[]"
      ]
     },
     "execution_count": 81,
     "metadata": {},
     "output_type": "execute_result"
    }
   ],
   "source": [
    "my_list = list()\n",
    "my_list"
   ]
  },
  {
   "cell_type": "markdown",
   "id": "f14600cd-f0a8-40fe-95ee-39923363b511",
   "metadata": {},
   "source": [
    "Alle Listen beginnen und enden mit eckigen Klammern `[]`, und die Elemente werden durch ein Komma getrennt. Im Folgenden definieren wir zwei Listen mit Strings (Megastädte in einer Liste und ihre Länder in einer anderen) und eine Liste mit Zahlen (Einwohnerzahl der Städte im Jahr 2018)."
   ]
  },
  {
   "cell_type": "code",
   "execution_count": 246,
   "id": "a51c99b0-b37d-482b-adc1-aa66acf88cea",
   "metadata": {},
   "outputs": [],
   "source": [
    "megacities = ['Tokyo','Delhi','Shanghai','Sao Paulo','Mexico City','Cairo','Dhaka','Mumbai','Beijing','Osaka']\n",
    "countries = ['Japan','India','China','Brazil','Mexico','Egypt','Bangladesh','India','China','Japan']\n",
    "pop2018 = [37468000, 28514000, 25582000, 21650000, 21581000, 20076000, 19980000, 19618000, 19578000, 19281000]"
   ]
  },
  {
   "cell_type": "code",
   "execution_count": 247,
   "id": "f9b639f0-b753-4f38-a0cd-6b0759b7657a",
   "metadata": {},
   "outputs": [
    {
     "data": {
      "text/plain": [
       "['Tokyo',\n",
       " 'Delhi',\n",
       " 'Shanghai',\n",
       " 'Sao Paulo',\n",
       " 'Mexico City',\n",
       " 'Cairo',\n",
       " 'Dhaka',\n",
       " 'Mumbai',\n",
       " 'Beijing',\n",
       " 'Osaka']"
      ]
     },
     "execution_count": 247,
     "metadata": {},
     "output_type": "execute_result"
    }
   ],
   "source": [
    "megacities"
   ]
  },
  {
   "cell_type": "markdown",
   "id": "1ebbf008-7e86-436c-ba3e-ba6e19ba5b8f",
   "metadata": {},
   "source": [
    "Jedes Element in einer Liste hat einen Index, der auf seiner Position in der Liste basiert. Indizes sind ganze Zahlen, und wie in den meisten anderen Programmiersprachen beginnt die Indizierung in Python bei 0, was bedeutet, dass der erste Eintrag in einer Liste - oder in allem anderen, was in Python indiziert wird - bei 0 beginnt. In der Liste der Megastädte ist der Index für Tokio 0, Delhi ist 1, Shanghai ist 2, und so weiter.  \n",
    "\n",
    "Wir können den Index verwenden, um ein bestimmtes Element aus einer Liste auszuwählen, indem wir den Namen der Liste und dann die Indexnummer in eckigen Klammern eingeben:"
   ]
  },
  {
   "cell_type": "code",
   "execution_count": 84,
   "id": "38dfc0fb-b6ce-43e8-b9c9-387bdb2d67c7",
   "metadata": {},
   "outputs": [
    {
     "data": {
      "text/plain": [
       "'Sao Paulo'"
      ]
     },
     "execution_count": 84,
     "metadata": {},
     "output_type": "execute_result"
    }
   ],
   "source": [
    "megacities[3]"
   ]
  },
  {
   "cell_type": "markdown",
   "id": "4034fef0-6836-4667-9da2-c6b11614f559",
   "metadata": {},
   "source": [
    "Wir können auch auf einzelne Einträge zugreifen, indem wir vom Ende der Liste aus arbeiten. Dazu verwenden wir ein `-`-Zeichen in den Klammern. Beachten Sie, dass wir, anders als beim Aufwärtszählen von 0, nicht von '-0' abwärts zählen. Während `[2]` das dritte Element angibt, gibt `[-2]` das vorletzte Element an. 'China' aus der `countries` Liste, können wir so auswählen:"
   ]
  },
  {
   "cell_type": "code",
   "execution_count": 252,
   "id": "b7b12934-03c8-4ce0-9f51-793df2eb84b3",
   "metadata": {},
   "outputs": [
    {
     "data": {
      "text/plain": [
       "['Japan',\n",
       " 'India',\n",
       " 'China',\n",
       " 'Brazil',\n",
       " 'Mexico',\n",
       " 'Egypt',\n",
       " 'Bangladesh',\n",
       " 'India',\n",
       " 'China',\n",
       " 'Japan']"
      ]
     },
     "execution_count": 252,
     "metadata": {},
     "output_type": "execute_result"
    }
   ],
   "source": [
    "countries"
   ]
  },
  {
   "cell_type": "code",
   "execution_count": 249,
   "id": "ccc7f29a-d1a2-46cc-b029-79eaad517511",
   "metadata": {},
   "outputs": [
    {
     "data": {
      "text/plain": [
       "'China'"
      ]
     },
     "execution_count": 249,
     "metadata": {},
     "output_type": "execute_result"
    }
   ],
   "source": [
    "countries[8]"
   ]
  },
  {
   "cell_type": "code",
   "execution_count": 86,
   "id": "f039f763-ecc1-438e-ab07-716eb6781964",
   "metadata": {},
   "outputs": [
    {
     "data": {
      "text/plain": [
       "'China'"
      ]
     },
     "execution_count": 86,
     "metadata": {},
     "output_type": "execute_result"
    }
   ],
   "source": [
    "countries[-2]"
   ]
  },
  {
   "cell_type": "markdown",
   "id": "ef93e99d-4fb8-4f95-9ec5-8935b229039b",
   "metadata": {},
   "source": [
    "Wenn wir auf ein einzelnes Element in einer Liste zugreifen, gibt Python das Element in seinem Datentyp zurück. So gibt  `megacities[3]` beispielsweise \"Sao Paulo\" als String zurück, und `pop2018[3]` liefert die Ganzzahl 21650000. Wir können jede beliebige Methode verwenden, die mit diesem bestimmten Datentyp verknüpft ist:"
   ]
  },
  {
   "cell_type": "code",
   "execution_count": 87,
   "id": "97f07440-d9b0-4d4c-9483-6fe2582bd7ec",
   "metadata": {},
   "outputs": [
    {
     "data": {
      "text/plain": [
       "64950000"
      ]
     },
     "execution_count": 87,
     "metadata": {},
     "output_type": "execute_result"
    }
   ],
   "source": [
    "pop2018[3]*3"
   ]
  },
  {
   "cell_type": "code",
   "execution_count": 88,
   "id": "c428b718-c7dc-4acd-8918-cd9940e94220",
   "metadata": {},
   "outputs": [
    {
     "data": {
      "text/plain": [
       "'SAO PAULO'"
      ]
     },
     "execution_count": 88,
     "metadata": {},
     "output_type": "execute_result"
    }
   ],
   "source": [
    "megacities[3].upper()"
   ]
  },
  {
   "cell_type": "markdown",
   "id": "c51fb4ac-e365-4d0a-8e97-ed116e42cca5",
   "metadata": {},
   "source": [
    "Die Verwendung von eckigen Klammern für den Zugriff auf ein Element in einer Liste (oder einem Tupel, einer Menge oder einem Wörterbuch) wird als Indexierung bezeichnet.  \n",
    "Wenn wir mehrere Elemente auswählen möchten können wir die sclice-Notation verwenden, bei der zwei Indexpositionen durch einen Doppelpunkt getrennt sind:"
   ]
  },
  {
   "cell_type": "code",
   "execution_count": 89,
   "id": "38369781-079b-4fb1-92a8-5982b559ba30",
   "metadata": {},
   "outputs": [
    {
     "data": {
      "text/plain": [
       "['Tokyo', 'Delhi', 'Shanghai']"
      ]
     },
     "execution_count": 89,
     "metadata": {},
     "output_type": "execute_result"
    }
   ],
   "source": [
    "megacities[0:3]"
   ]
  },
  {
   "cell_type": "markdown",
   "id": "1bd943fc-474d-479c-a1be-b929626ac09a",
   "metadata": {},
   "source": [
    "Die Verwendung eines Slice zur Indexierung einer Liste gibt das Element an der Position der ersten Ganzzahl sowie jedes Element an jeder Position zwischen der ersten und der zweiten Ganzzahl zurück. Das Element, das durch die zweite ganze Zahl indiziert ist, wird nicht zurückgegeben. Um die letzten drei Einträge unserer Liste abzurufen, würden Sie Folgendes verwenden"
   ]
  },
  {
   "cell_type": "code",
   "execution_count": 253,
   "id": "29e9ad2f-1f48-40e4-99f9-adb62d697f47",
   "metadata": {},
   "outputs": [
    {
     "data": {
      "text/plain": [
       "['Japan',\n",
       " 'India',\n",
       " 'China',\n",
       " 'Brazil',\n",
       " 'Mexico',\n",
       " 'Egypt',\n",
       " 'Bangladesh',\n",
       " 'India',\n",
       " 'China',\n",
       " 'Japan']"
      ]
     },
     "execution_count": 253,
     "metadata": {},
     "output_type": "execute_result"
    }
   ],
   "source": [
    "countries"
   ]
  },
  {
   "cell_type": "code",
   "execution_count": 90,
   "id": "87cd4c09-713e-41a9-b23f-5acf3960fc01",
   "metadata": {},
   "outputs": [
    {
     "data": {
      "text/plain": [
       "['India', 'China', 'Japan']"
      ]
     },
     "execution_count": 90,
     "metadata": {},
     "output_type": "execute_result"
    }
   ],
   "source": [
    "countries[7:10]"
   ]
  },
  {
   "cell_type": "markdown",
   "id": "f397bfdc-b0b4-48db-90ab-61af8648f82a",
   "metadata": {},
   "source": [
    "Sie können auch die Slice-Notation mit einer fehlenden ganzen Zahl verwenden, um alle Elemente einer Liste bis zu - oder ab - einer bestimmten Indexposition zurückzugeben. Im Folgenden finden Sie die ersten drei Megastädte,"
   ]
  },
  {
   "cell_type": "code",
   "execution_count": 91,
   "id": "92f71a41-a2f9-45c2-bffc-bd05221bec4c",
   "metadata": {},
   "outputs": [
    {
     "data": {
      "text/plain": [
       "['Tokyo', 'Delhi', 'Shanghai']"
      ]
     },
     "execution_count": 91,
     "metadata": {},
     "output_type": "execute_result"
    }
   ],
   "source": [
    "megacities[:3]"
   ]
  },
  {
   "cell_type": "markdown",
   "id": "3d3d34c4-fc13-4eb5-89ee-8062caab6a5d",
   "metadata": {},
   "source": [
    "und die letzten sieben:"
   ]
  },
  {
   "cell_type": "code",
   "execution_count": 92,
   "id": "5e5ab31b-4767-470f-8827-b7a61d37f900",
   "metadata": {},
   "outputs": [
    {
     "data": {
      "text/plain": [
       "['Sao Paulo', 'Mexico City', 'Cairo', 'Dhaka', ' Mumbai', 'Beijing', 'Osaka']"
      ]
     },
     "execution_count": 92,
     "metadata": {},
     "output_type": "execute_result"
    }
   ],
   "source": [
    "megacities[-7:]"
   ]
  },
  {
   "cell_type": "markdown",
   "id": "79dc7dfb-b400-4a83-b1b0-5ace09cde715",
   "metadata": {},
   "source": [
    "### Looping over lists"
   ]
  },
  {
   "cell_type": "markdown",
   "id": "934e25fd-b3d0-4664-8b5f-b6f954d7ca46",
   "metadata": {},
   "source": [
    "Pythons Listen sind iterierbare Objekte, was bedeutet, dass wir über die Elemente der Liste iterieren (oder loopen) können, um Code für jedes einzelne Element auszuführen. Dies wird üblicherweise mit einer *for-Schleife* durchgeführt. Im Folgenden wird die Liste Megastädte durchlaufen und jedes Element ausgedruckt:"
   ]
  },
  {
   "cell_type": "code",
   "execution_count": 254,
   "id": "46f0bd7f-4670-45ab-bdbd-0542f4f83c2e",
   "metadata": {},
   "outputs": [
    {
     "name": "stdout",
     "output_type": "stream",
     "text": [
      "Tokyo\n",
      "Delhi\n",
      "Shanghai\n",
      "Sao Paulo\n",
      "Mexico City\n",
      "Cairo\n",
      "Dhaka\n",
      "Mumbai\n",
      "Beijing\n",
      "Osaka\n"
     ]
    }
   ],
   "source": [
    "for city in megacities: \n",
    "    print(city)"
   ]
  },
  {
   "cell_type": "markdown",
   "id": "331407cf-9a9b-4421-a0f9-259884f4a19c",
   "metadata": {},
   "source": [
    "Dieser Code erstellt eine temporäre Variable namens city, die auf das aktuelle Element der Megastädte verweist, über die iteriert wird. Der Name für diese Variable sollte etwas Beschreibendes sein, das Ihnen etwas über die Elemente der Liste verrät."
   ]
  },
  {
   "cell_type": "markdown",
   "id": "bd3415f0-7131-4776-84bc-fbc912e91e20",
   "metadata": {},
   "source": [
    "### Ändern von Listen"
   ]
  },
  {
   "cell_type": "markdown",
   "id": "6db095a2-4aad-4203-ba98-a8f94fc232fb",
   "metadata": {},
   "source": [
    "Listen können auf verschiedene Weise geändert werden. Wir können die Elemente in der Liste wie andere Werte ändern, z. B. den String \"Mexico City\" in \"Ciudad de México\", indem wir den Index des Werts verwenden:"
   ]
  },
  {
   "cell_type": "code",
   "execution_count": 259,
   "id": "5feed013-f290-4bb6-af95-33aaa2cd09cf",
   "metadata": {},
   "outputs": [
    {
     "name": "stdout",
     "output_type": "stream",
     "text": [
      "['Tokyo', 'Delhi', 'Shanghai', 'Sao Paulo', 'Ciudad de México', 'Cairo', 'Dhaka', 'Mumbai', 'Beijing', 'Osaka']\n"
     ]
    }
   ],
   "source": [
    "megacities[4] = 'Ciudad de México' \n",
    "print(megacities)"
   ]
  },
  {
   "cell_type": "markdown",
   "id": "52c5c5cc-c867-4bc8-956c-294136e146f3",
   "metadata": {},
   "source": [
    "Wir wollen oft Elemente einer Liste hinzufügen oder entfernen. Fügen wir Karachi zu unseren drei Listen hinzu, indem wir die Methode `.append()` verwenden:"
   ]
  },
  {
   "cell_type": "code",
   "execution_count": 260,
   "id": "334a3115-f567-4315-8c51-2ef0a160e5cd",
   "metadata": {},
   "outputs": [],
   "source": [
    "megacities.append('Karachi') \n",
    "countries.append('Pakistan')\n",
    "pop2018.append(16000000)"
   ]
  },
  {
   "cell_type": "code",
   "execution_count": 261,
   "id": "c04c72e2-2486-4666-a7a9-7b22226fe446",
   "metadata": {},
   "outputs": [
    {
     "data": {
      "text/plain": [
       "['Tokyo',\n",
       " 'Delhi',\n",
       " 'Shanghai',\n",
       " 'Sao Paulo',\n",
       " 'Ciudad de México',\n",
       " 'Cairo',\n",
       " 'Dhaka',\n",
       " 'Mumbai',\n",
       " 'Beijing',\n",
       " 'Osaka',\n",
       " 'Karachi']"
      ]
     },
     "execution_count": 261,
     "metadata": {},
     "output_type": "execute_result"
    }
   ],
   "source": [
    "megacities"
   ]
  },
  {
   "cell_type": "markdown",
   "id": "0211bd03-dedd-456f-b4dd-2424662655b2",
   "metadata": {},
   "source": [
    "Sie werden `.append()` häufig verwenden. Es ist ein sehr bequemer Weg, um eine Liste dynamisch zu erstellen und zu verändern. Lassen Sie uns eine neue Liste erstellen, die einen formatierten String für jede Stadt enthalten soll."
   ]
  },
  {
   "cell_type": "code",
   "execution_count": 255,
   "id": "d75965f7-54ac-4729-9cfd-b670bdd38393",
   "metadata": {},
   "outputs": [],
   "source": [
    "city_strings = [] \n",
    "\n",
    "for city in megacities:\n",
    "    city_string_tmp = f\"What's the population of {city}?\" \n",
    "    city_strings.append(city_string_tmp)"
   ]
  },
  {
   "cell_type": "code",
   "execution_count": 257,
   "id": "3acbb994-dce2-4ce0-9e8c-581516b8518a",
   "metadata": {},
   "outputs": [
    {
     "data": {
      "text/plain": [
       "[\"What's the population of Tokyo?\",\n",
       " \"What's the population of Delhi?\",\n",
       " \"What's the population of Shanghai?\",\n",
       " \"What's the population of Sao Paulo?\",\n",
       " \"What's the population of Mexico City?\",\n",
       " \"What's the population of Cairo?\",\n",
       " \"What's the population of Dhaka?\",\n",
       " \"What's the population of Mumbai?\",\n",
       " \"What's the population of Beijing?\",\n",
       " \"What's the population of Osaka?\"]"
      ]
     },
     "execution_count": 257,
     "metadata": {},
     "output_type": "execute_result"
    }
   ],
   "source": [
    "city_strings"
   ]
  },
  {
   "cell_type": "code",
   "execution_count": 256,
   "id": "930ae13e-5100-45a8-a189-0324bf4a16fa",
   "metadata": {},
   "outputs": [
    {
     "name": "stdout",
     "output_type": "stream",
     "text": [
      "What's the population of Tokyo?\n",
      "What's the population of Delhi?\n",
      "What's the population of Shanghai?\n",
      "What's the population of Sao Paulo?\n",
      "What's the population of Mexico City?\n",
      "What's the population of Cairo?\n",
      "What's the population of Dhaka?\n",
      "What's the population of Mumbai?\n",
      "What's the population of Beijing?\n",
      "What's the population of Osaka?\n"
     ]
    }
   ],
   "source": [
    "for city_string in city_strings: \n",
    "    print(city_string)"
   ]
  },
  {
   "cell_type": "markdown",
   "id": "48f81709-27b7-4621-ad0c-0c6012945d06",
   "metadata": {},
   "source": [
    "Das Entfernen von items ist ebenso einfach. Es gibt mehrere Möglichkeiten, aber `.remove()` ist eine der gängigsten:"
   ]
  },
  {
   "cell_type": "code",
   "execution_count": 262,
   "id": "4af1447b-6d76-4f79-b12f-2d0d5201eed9",
   "metadata": {},
   "outputs": [],
   "source": [
    "megacities.remove('Karachi') \n",
    "countries.remove('Pakistan') \n",
    "pop2018.remove(16000000)"
   ]
  },
  {
   "cell_type": "code",
   "execution_count": 263,
   "id": "6f1812c1-3423-4981-8359-73e24c100cba",
   "metadata": {},
   "outputs": [
    {
     "data": {
      "text/plain": [
       "['Tokyo',\n",
       " 'Delhi',\n",
       " 'Shanghai',\n",
       " 'Sao Paulo',\n",
       " 'Ciudad de México',\n",
       " 'Cairo',\n",
       " 'Dhaka',\n",
       " 'Mumbai',\n",
       " 'Beijing',\n",
       " 'Osaka']"
      ]
     },
     "execution_count": 263,
     "metadata": {},
     "output_type": "execute_result"
    }
   ],
   "source": [
    "megacities"
   ]
  },
  {
   "cell_type": "markdown",
   "id": "fdf56d94-ed29-4bfb-b981-4901236226c1",
   "metadata": {},
   "source": [
    "Manchmal möchte man die Ordnung einer Liste ändern. Normalerweise wird die Liste auf irgendeine Weise sortiert (z. B. alphabetisch, absteigend). Im Folgenden erstellen wir eine Kopie von Megastädte und sortieren sie alphabetisch. Da wir das Originalobjekt nicht verändern wollen, erstellen wir explizit eine neue Kopie mit der Methode `.copy()`:"
   ]
  },
  {
   "cell_type": "code",
   "execution_count": 264,
   "id": "988e56f9-b2a7-4c75-ae96-bae479e287bc",
   "metadata": {},
   "outputs": [
    {
     "name": "stdout",
     "output_type": "stream",
     "text": [
      "['Beijing', 'Cairo', 'Ciudad de México', 'Delhi', 'Dhaka', 'Mumbai', 'Osaka', 'Sao Paulo', 'Shanghai', 'Tokyo']\n"
     ]
    }
   ],
   "source": [
    "megacities_copy = megacities.copy() \n",
    "megacities_copy.sort() \n",
    "print(megacities_copy)"
   ]
  },
  {
   "cell_type": "markdown",
   "id": "9e85e796-dba5-49b9-801f-8ffc64010dc5",
   "metadata": {},
   "source": [
    "Beachten Sie, dass wir beim Aufruf von `.sort()`  kein `=` verwenden. Diese Methode wird 'in-place' ausgeführt, d.h. sie verändert das Objekt, das sie aufruft. Die Zuweisung von `megacities_copy.sort()` gibt tatsächlich `None` zurück, ein spezieller Wert in Python."
   ]
  },
  {
   "cell_type": "markdown",
   "id": "f65b7e25-a4f7-426d-b79f-1b8e3c9de04d",
   "metadata": {},
   "source": [
    "Bei Anwendung auf eine Liste von Zahlen sortiert `.sort()` die Liste von der kleinsten zur größten Zahl um:"
   ]
  },
  {
   "cell_type": "code",
   "execution_count": 265,
   "id": "1590b5ed-6da3-4c5b-b8ad-a4bd27b4f600",
   "metadata": {},
   "outputs": [
    {
     "name": "stdout",
     "output_type": "stream",
     "text": [
      "[19281000, 19578000, 19618000, 19980000, 20076000, 21581000, 21650000, 25582000, 28514000, 37468000]\n"
     ]
    }
   ],
   "source": [
    "pop_copy = pop2018.copy() \n",
    "pop_copy.sort() \n",
    "print(pop_copy)"
   ]
  },
  {
   "cell_type": "markdown",
   "id": "f6982092-ddfc-4984-8054-582c8e3aec66",
   "metadata": {},
   "source": [
    "Um eine Liste in umgekehrter alphabetischer Reihenfolge oder von der größten zur kleinsten Zahl zu sortieren, können wir das Argument `reverse=True` in der `.sort()`-Methode verwende."
   ]
  },
  {
   "cell_type": "code",
   "execution_count": 266,
   "id": "b16be6d4-715c-4db7-bd76-08e546691fd4",
   "metadata": {},
   "outputs": [
    {
     "name": "stdout",
     "output_type": "stream",
     "text": [
      "[37468000, 28514000, 25582000, 21650000, 21581000, 20076000, 19980000, 19618000, 19578000, 19281000]\n"
     ]
    }
   ],
   "source": [
    "pop_copy.sort(reverse=True) \n",
    "print(pop_copy)"
   ]
  },
  {
   "cell_type": "code",
   "execution_count": 267,
   "id": "3601de19-f6fc-4279-bcbf-1ac58a194b10",
   "metadata": {},
   "outputs": [
    {
     "name": "stdout",
     "output_type": "stream",
     "text": [
      "['Tokyo', 'Shanghai', 'Sao Paulo', 'Osaka', 'Mumbai', 'Dhaka', 'Delhi', 'Ciudad de México', 'Cairo', 'Beijing']\n"
     ]
    }
   ],
   "source": [
    "megacities_copy.sort(reverse=True) \n",
    "print(megacities_copy)"
   ]
  },
  {
   "cell_type": "markdown",
   "id": "eb60c003-e88e-48a1-ab95-ca9f2f16a281",
   "metadata": {},
   "source": [
    "<div class='alert alert-block alert-success'>\n",
    "\n",
    "### Aufgabe 3\n",
    "\n",
    "--> session_02_excercise_3.ipynb\n",
    "\n",
    "</div>"
   ]
  },
  {
   "cell_type": "markdown",
   "id": "c35d8b4b-8d07-4542-bc3b-aa64a7db3944",
   "metadata": {},
   "source": [
    "### Zipping and unzipping lists"
   ]
  },
  {
   "cell_type": "markdown",
   "id": "5b3b3a61-2d55-4558-aa71-d142589b5656",
   "metadata": {},
   "source": [
    "Wenn Sie Daten haben, die über mehrere Listen verteilt sind, kann es nützlich sein, diese Listen zusammenzuzippen, so dass alle Elemente mit einem Index von 0 miteinander verbunden sind, alle Elemente mit einem Index von 1 und so weiter. Der einfachste Weg, dies zu tun, ist die Verwendung der Funktion `zip()`, die im folgenden Codeblock dargestellt ist."
   ]
  },
  {
   "cell_type": "code",
   "execution_count": 268,
   "id": "33e61455-e4f7-4a80-b212-2f47f30b6a90",
   "metadata": {},
   "outputs": [
    {
     "name": "stdout",
     "output_type": "stream",
     "text": [
      "('Tokyo', 'Japan', 37468000)\n",
      "('Delhi', 'India', 28514000)\n",
      "('Shanghai', 'China', 25582000)\n",
      "('Sao Paulo', 'Brazil', 21650000)\n",
      "('Ciudad de México', 'Mexico', 21581000)\n",
      "('Cairo', 'Egypt', 20076000)\n",
      "('Dhaka', 'Bangladesh', 19980000)\n",
      "('Mumbai', 'India', 19618000)\n",
      "('Beijing', 'China', 19578000)\n",
      "('Osaka', 'Japan', 19281000)\n"
     ]
    }
   ],
   "source": [
    "for paired in zip(megacities,countries, pop2018): \n",
    "    print(paired)"
   ]
  },
  {
   "cell_type": "markdown",
   "id": "dacaf23c-66d5-4a9f-80fd-c21dae87c761",
   "metadata": {},
   "source": [
    "Das eigentliche Objekt, das die Funktion `zip()` zurückgibt, ist ein \"zip-Objekt\", in dem unsere Daten als eine Reihe von Tupeln gespeichert sind. Wir können diese gezippten Tupel mit der Funktion `list()` in eine Liste von Tupeln umwandeln:"
   ]
  },
  {
   "cell_type": "code",
   "execution_count": 115,
   "id": "7a156c0a-403c-4ff0-9c4d-294cacec0a06",
   "metadata": {},
   "outputs": [
    {
     "name": "stdout",
     "output_type": "stream",
     "text": [
      "[('Tokyo', 'Japan', 37468000), ('Delhi', 'India', 28514000), ('Shanghai', 'China', 25582000), ('Sao Paulo', 'Brazil', 21650000), ('Mexico City', 'Mexico', 21581000), ('Cairo', 'Egypt', 20076000), ('Dhaka', 'Bangladesh', 19980000), ('Mumbai', 'India', 19618000), ('Beijing', 'China', 19578000), ('Osaka', 'Japan', 19281000)]\n"
     ]
    }
   ],
   "source": [
    "zipped_list = list(zip(megacities,countries,pop2018)) \n",
    "print(zipped_list)"
   ]
  },
  {
   "cell_type": "markdown",
   "id": "c4ac2dc9-1c98-44cf-9cc2-3c8405ec67c5",
   "metadata": {},
   "source": [
    "Es ist auch möglich, eine gezippte Liste mit Hilfe des `*`-Operators und der Mehrfachzuweisung (auch \"unpacking\" genannt) zu entpacken, wodurch wir mehreren Variablen in einer einzigen Zeile mehrere Werte zuweisen können. Der folgende Code gibt zum Beispiel drei Objekte zurück. Wir weisen jedes einer Variablen auf der linken Seite des `=`-Zeichens zu."
   ]
  },
  {
   "cell_type": "code",
   "execution_count": 269,
   "id": "8166a2d6-4e17-43ad-8236-b742edf2381d",
   "metadata": {},
   "outputs": [
    {
     "name": "stdout",
     "output_type": "stream",
     "text": [
      "('Tokyo', 'Delhi', 'Shanghai', 'Sao Paulo', 'Mexico City', 'Cairo', 'Dhaka', 'Mumbai', 'Beijing', 'Osaka')\n",
      "('Japan', 'India', 'China', 'Brazil', 'Mexico', 'Egypt', 'Bangladesh', 'India', 'China', 'Japan')\n",
      "(37468000, 28514000, 25582000, 21650000, 21581000, 20076000, 19980000, 19618000, 19578000, 19281000)\n"
     ]
    }
   ],
   "source": [
    "city_unzip, country_unzip, pop_unzip = zip(*zipped_list) \n",
    "print(city_unzip) \n",
    "print(country_unzip) \n",
    "print(pop_unzip)"
   ]
  },
  {
   "cell_type": "markdown",
   "id": "6cb0af39-922a-4b6e-83b3-c3192ba43bec",
   "metadata": {},
   "source": [
    "### List comprehensions"
   ]
  },
  {
   "cell_type": "markdown",
   "id": "f55f0c4a-90eb-4db9-a094-12cb681e0f11",
   "metadata": {},
   "source": [
    "Zuvor haben wir eine leere Liste erstellt und sie mit `.append()` in einer for-Schleife aufgefüllt. Wir können auch die *list comprehension* verwenden, welche das gleiche Ergebnis in einer einzigen Codezeile liefern kann. Zur Veranschaulichung wollen wir versuchen, die Anzahl der Zeichen im Namen jedes Landes in der Länderliste mit einer for-Schleife und anschließend mit einer *list comprehension* zu zählen."
   ]
  },
  {
   "cell_type": "code",
   "execution_count": 270,
   "id": "d3e90695-7899-4ad1-88db-6ecf5b70f966",
   "metadata": {},
   "outputs": [
    {
     "name": "stdout",
     "output_type": "stream",
     "text": [
      "[5, 5, 5, 6, 6, 5, 10, 5, 5, 5]\n"
     ]
    }
   ],
   "source": [
    "len_country_name = [] \n",
    "\n",
    "for country in countries: \n",
    "    n_chars_tmp = len(country) \n",
    "    len_country_name.append(n_chars_tmp) \n",
    "\n",
    "print(len_country_name)"
   ]
  },
  {
   "cell_type": "code",
   "execution_count": 271,
   "id": "2aca759f-25ff-41ef-9a3e-e34ed67daddf",
   "metadata": {},
   "outputs": [
    {
     "name": "stdout",
     "output_type": "stream",
     "text": [
      "[5, 5, 5, 6, 6, 5, 10, 5, 5, 5]\n"
     ]
    }
   ],
   "source": [
    "len_country_name = [len(country) for country in countries] \n",
    "\n",
    "print(len_country_name)"
   ]
  },
  {
   "cell_type": "markdown",
   "id": "af6dd6e7-6994-426a-b30b-5bcb31a19dac",
   "metadata": {},
   "source": [
    "*List comprehension* können anfangs etwas ungewohnt sein, aber mit etwas Übung werden sie einfacher. Das Wichtigste, was Sie sich merken müssen, ist, dass *list comprehensions* immer folgendes enthalten:  \n",
    "\n",
    "1. den Ausdruck selbst, der auf jedes Element der ursprünglichen Liste angewandt wird (in diesem Fall `len()`), \n",
    "2. den Namen der temporären Variable der auf das iterierbare Objekt verweist (in diesem Fall `country`) \n",
    "3. das iterierbare Objekt (in diesem Fall die Liste `countries`)\n",
    "\n",
    "Häufig möchten wir unseren for-Schleifen und `list comprehension` eine Bedingung hinzufügen. Erstellen wir eine neue Liste von Städten mit mehr als 20.500.000 Einwohnern mit Hilfe der Funktion `zip()`:"
   ]
  },
  {
   "cell_type": "code",
   "execution_count": 119,
   "id": "3c3e12a6-2ad5-4af3-a052-e5563dafafde",
   "metadata": {},
   "outputs": [
    {
     "name": "stdout",
     "output_type": "stream",
     "text": [
      "[['Tokyo', 37468000], ['Delhi', 28514000], ['Shanghai', 25582000], ['Sao Paulo', 21650000], ['Mexico City', 21581000]]\n"
     ]
    }
   ],
   "source": [
    "biggest = [[city, population] for city, population in zip(megacities, pop2018) if population > 20500000] \n",
    "\n",
    "print(biggest)"
   ]
  },
  {
   "cell_type": "markdown",
   "id": "5f1bf69e-38f8-47df-9404-69c92d2dbc38",
   "metadata": {},
   "source": [
    "Das Ergebnis - biggest - ist eine Liste von Listen. Wir können mit verschachtelten Datenstrukturen wie dieser arbeiten, indem wir die gleichen Werkzeuge verwenden, die wir für flache Datenstrukturen benutzen. Zum Beispiel,"
   ]
  },
  {
   "cell_type": "code",
   "execution_count": 120,
   "id": "ad3c4412-af1c-4eff-ba8c-b9ee18327528",
   "metadata": {},
   "outputs": [
    {
     "name": "stdout",
     "output_type": "stream",
     "text": [
      "The population of Tokyo in 2018 was 37468000\n",
      "The population of Delhi in 2018 was 28514000\n",
      "The population of Shanghai in 2018 was 25582000\n",
      "The population of Sao Paulo in 2018 was 21650000\n",
      "The population of Mexico City in 2018 was 21581000\n"
     ]
    }
   ],
   "source": [
    "for city in biggest: \n",
    "    print(f'The population of {city[0]} in 2018 was {city[1]}')"
   ]
  },
  {
   "cell_type": "markdown",
   "id": "d9cd945d-1e3b-4a38-aa1b-f2e50e832da6",
   "metadata": {},
   "source": [
    "Wann sollten Sie eine for-Schleife und wann eine *list comprehension* verwenden?  \n",
    "\n",
    "In vielen Fällen ist das eine Frage der persönlichen Vorliebe. *List Comprehensions* sind etwas übersichtlicher aber mit etwas Python-Erfahrung dennoch lesbar. Sie werden jedoch sehr schnell unleserlich, wenn Sie viele Operationen für jedes Element durchführen müssen oder wenn Sie auch nur eine leicht komplexe bedingte Logik/Bedingung haben. In diesen Fällen sollten Sie auf jeden Fall *list comprehensions* vermeiden. Wir wollen immer sicherstellen, dass unser Code so lesbar wie möglich ist."
   ]
  },
  {
   "cell_type": "markdown",
   "id": "04e1a429-65b7-4e84-8109-5dc70cffd113",
   "metadata": {},
   "source": [
    "### Listen kopieren"
   ]
  },
  {
   "cell_type": "code",
   "execution_count": 277,
   "id": "4f92c14b-e550-4069-9f66-b6c1537d71e8",
   "metadata": {},
   "outputs": [
    {
     "name": "stdout",
     "output_type": "stream",
     "text": [
      "['Japan', 'India', 'China', 'Brazil', 'Mexico', 'Egypt', 'Bangladesh', 'India', 'China', 'Japan', 'Germany']\n"
     ]
    }
   ],
   "source": [
    "countries_copy = countries \n",
    "print(countries_copy)"
   ]
  },
  {
   "cell_type": "code",
   "execution_count": 278,
   "id": "b6462e7e-dd12-4e71-914a-ee2bea7b3d66",
   "metadata": {},
   "outputs": [],
   "source": [
    "countries_copy.append('USA')"
   ]
  },
  {
   "cell_type": "code",
   "execution_count": 281,
   "id": "18cfa2d9-daa3-49f5-9f5a-beaaf8cb3452",
   "metadata": {},
   "outputs": [
    {
     "data": {
      "text/plain": [
       "['Japan',\n",
       " 'India',\n",
       " 'China',\n",
       " 'Brazil',\n",
       " 'Mexico',\n",
       " 'Egypt',\n",
       " 'Bangladesh',\n",
       " 'India',\n",
       " 'China',\n",
       " 'Japan',\n",
       " 'Germany',\n",
       " 'USA']"
      ]
     },
     "execution_count": 281,
     "metadata": {},
     "output_type": "execute_result"
    }
   ],
   "source": [
    "countries"
   ]
  },
  {
   "cell_type": "code",
   "execution_count": 282,
   "id": "73412e40-fdcd-4061-908e-77f32f71d882",
   "metadata": {},
   "outputs": [
    {
     "name": "stdout",
     "output_type": "stream",
     "text": [
      "['Japan', 'India', 'China', 'Brazil', 'Mexico', 'Egypt', 'Bangladesh', 'India', 'China', 'Japan', 'Germany', 'USA']\n"
     ]
    }
   ],
   "source": [
    "countries_copy_copy = countries.copy()\n",
    "print(countries_copy_copy)"
   ]
  },
  {
   "cell_type": "code",
   "execution_count": 287,
   "id": "94622dfb-db53-4e5d-b85c-ee5d57e56d87",
   "metadata": {},
   "outputs": [
    {
     "data": {
      "text/plain": [
       "['Japan',\n",
       " 'India',\n",
       " 'China',\n",
       " 'Brazil',\n",
       " 'Mexico',\n",
       " 'Egypt',\n",
       " 'Bangladesh',\n",
       " 'India',\n",
       " 'China',\n",
       " 'Japan',\n",
       " 'Germany',\n",
       " 'USA',\n",
       " 'France',\n",
       " 'France']"
      ]
     },
     "execution_count": 287,
     "metadata": {},
     "output_type": "execute_result"
    }
   ],
   "source": [
    "countries_copy_copy.append('France')\n",
    "countries_copy_copy"
   ]
  },
  {
   "cell_type": "code",
   "execution_count": 286,
   "id": "47f28e6a-45c9-4f9c-9de9-ba0ee52ee874",
   "metadata": {},
   "outputs": [
    {
     "data": {
      "text/plain": [
       "['Japan',\n",
       " 'India',\n",
       " 'China',\n",
       " 'Brazil',\n",
       " 'Mexico',\n",
       " 'Egypt',\n",
       " 'Bangladesh',\n",
       " 'India',\n",
       " 'China',\n",
       " 'Japan',\n",
       " 'Germany',\n",
       " 'USA']"
      ]
     },
     "execution_count": 286,
     "metadata": {},
     "output_type": "execute_result"
    }
   ],
   "source": [
    "countries"
   ]
  },
  {
   "cell_type": "markdown",
   "id": "b62682f6-b765-4071-9431-1296c3b72d38",
   "metadata": {},
   "source": [
    "Dieser Code scheint eine Kopie von Ländern zu erzeugen, aber das ist eine Illusion. Wenn wir eine Liste mit dem Operator `=` kopieren, erstellen wir **kein** neues Objekt. Stattdessen haben wir einen neuen Variablennamen erstellt, der auf das ursprüngliche Objekt im Speicher verweist. Wir haben ein Objekt mit zwei Namen, anstatt zwei verschiedene Objekte. Alle Änderungen, die mit `countries_copy` vorgenommen werden, ändern das gleiche Objekt im Speicher, das durch `countries` beschrieben wird. Wenn wir Karachi an `countries_copy` anhängen und `countries` ausdrucken, würden wir Karachi sehen, und umgekehrt. Wenn wir die ursprüngliche Liste beibehalten und Änderungen an der zweiten vornehmen wollen, ist dies nicht möglich. Stattdessen können wir die Methode `.copy()` verwenden, um eine flache Kopie der ursprünglichen Liste zu erstellen, oder `.deepcopy()`, um eine tiefe Kopie zu erstellen. Um den Unterschied zu verstehen, vergleichen Sie eine flache Liste (z. B. `[1, 2, 3]`) mit einer Liste von Listen (z. B. `[[1, 2, 3], [4, 5, 6]]`). Die Liste der Listen ist verschachtelt; sie ist tiefer als die flache Liste. Wenn wir eine flache Kopie (d. h. .copy()) der flachen Liste erstellen, erzeugt Python ein neues Objekt, das vom Original unabhängig ist. Wenn wir jedoch eine flache Kopie der verschachtelten Listen von Listen erstellen, erzeugt Python nur ein neues Objekt für die äußere Liste; es ist nur eine Ebene tief. Die Inhalte der inneren Listen `[1, 2, 3]` und `[4, 5, 6]` wurden nicht kopiert, sie sind nur Verweise auf die ursprünglichen Listen. Mit anderen Worten: Die äußeren Listen (Länge 2) sind unabhängig voneinander, aber die inneren Listen (Länge 3) sind Verweise auf dasselbe Objekt im Speicher. Wenn wir mit verschachtelten Datenstrukturen arbeiten, wie z. B. Listen von Listen, müssen wir `.deepcopy()` verwenden, wenn wir ein neues Objekt erstellen wollen, das völlig unabhängig vom Original ist."
   ]
  },
  {
   "cell_type": "markdown",
   "id": "1932cbd1-6ca8-4f43-a301-5d51fb98f77d",
   "metadata": {},
   "source": [
    "### not in or in?"
   ]
  },
  {
   "cell_type": "markdown",
   "id": "69310c50-6fe0-44b4-aaa0-aa3bf337219c",
   "metadata": {},
   "source": [
    "Listen, die im Forschungskontext verwendet werden, sind in der Regel viel größer als die Beispiele hier. Sie können Tausende oder sogar Millionen von Einträgen enthalten. Um herauszufinden, ob eine Liste einen bestimmten Wert enthält oder nicht, können wir, anstatt eine gedruckte Liste manuell zu durchsuchen, die Operatoren in und not in verwenden, die True oder False auswerten:"
   ]
  },
  {
   "cell_type": "code",
   "execution_count": 288,
   "id": "e370bfde-7e74-4954-9ccb-26bbe08f02c1",
   "metadata": {},
   "outputs": [
    {
     "data": {
      "text/plain": [
       "True"
      ]
     },
     "execution_count": 288,
     "metadata": {},
     "output_type": "execute_result"
    }
   ],
   "source": [
    "'Mexico' in countries"
   ]
  },
  {
   "cell_type": "code",
   "execution_count": 289,
   "id": "51ae0d61-416d-4420-810b-3cf285f7157f",
   "metadata": {},
   "outputs": [
    {
     "data": {
      "text/plain": [
       "False"
      ]
     },
     "execution_count": 289,
     "metadata": {},
     "output_type": "execute_result"
    }
   ],
   "source": [
    "'Mexico' not in countries"
   ]
  },
  {
   "cell_type": "markdown",
   "id": "bb466e27-9ae3-4c7c-8ae9-0876b0b53e54",
   "metadata": {},
   "source": [
    "Diese Operatoren können bei der Verwendung von Bedingungen sehr nützlich sein."
   ]
  },
  {
   "cell_type": "code",
   "execution_count": 290,
   "id": "f6bbf3d9-32f5-4e73-b474-c3d55e1c2a3f",
   "metadata": {},
   "outputs": [
    {
     "name": "stdout",
     "output_type": "stream",
     "text": [
      "Toronto was not one of the 10 largest cities in the world in 2018.\n"
     ]
    }
   ],
   "source": [
    "to_check = 'Toronto' \n",
    "if to_check in megacities: \n",
    "    print(f'{to_check} was one of the 10 largest cities in the world in 2018.') \n",
    "else: \n",
    "    print(f'{to_check} was not one of the 10 largest cities in the world in 2018.')"
   ]
  },
  {
   "cell_type": "markdown",
   "id": "dc20ce3c-f85c-4547-b0ca-891e9d96f597",
   "metadata": {},
   "source": [
    "### Using enumerate"
   ]
  },
  {
   "cell_type": "markdown",
   "id": "709be525-bade-4d20-8e59-1f874ffcb127",
   "metadata": {},
   "source": [
    "In manchen Fällen möchten wir gleichzeitig auf das Element und seine Indexposition in einer Liste zugreifen. Dies können wir mit der Funktion `enumerate()` erreichen. Erinnern Sie sich an die drei Listen aus dem Megacity-Beispiel. Die Informationen über jede Megastadt sind auf drei Listen verteilt, aber die Indizes werden von diesen Listen gemeinsam genutzt. Im Folgenden zählen wir die Megastädte auf, indem wir eine temporäre Variable für die Indexposition (i) und jedes Element (Stadt) erstellen und darüber iterieren. Wir verwenden diese Werte, um den Namen der Stadt zu drucken, und greifen dann über die Indexposition auf Informationen über Land und Stadtbevölkerung zu. Dies funktioniert natürlich nur, weil die Elemente in der Liste geordnet sind und in jeder Liste gemeinsam genutzt werden."
   ]
  },
  {
   "cell_type": "code",
   "execution_count": 292,
   "id": "09b32b30-4498-4569-b19b-25805834e7a9",
   "metadata": {},
   "outputs": [
    {
     "name": "stdout",
     "output_type": "stream",
     "text": [
      "Tokyo, Japan, has 37468000 residents.\n",
      "Delhi, India, has 28514000 residents.\n",
      "Shanghai, China, has 25582000 residents.\n",
      "Sao Paulo, Brazil, has 21650000 residents.\n",
      "Ciudad de México, Mexico, has 21581000 residents.\n",
      "Cairo, Egypt, has 20076000 residents.\n",
      "Dhaka, Bangladesh, has 19980000 residents.\n",
      "Mumbai, India, has 19618000 residents.\n",
      "Beijing, China, has 19578000 residents.\n",
      "Osaka, Japan, has 19281000 residents.\n"
     ]
    }
   ],
   "source": [
    "for i, city in enumerate(megacities): \n",
    "    print(f'{city}, {countries[i]}, has {str(pop2018[i])} residents.')"
   ]
  },
  {
   "cell_type": "markdown",
   "id": "bace5c79-ee87-41cb-94cd-8a64f0057255",
   "metadata": {},
   "source": [
    "Wie bereits erwähnt, können wir beliebig viele Zeilen in den eingerückten Codeblock einer for-Schleife einfügen, wodurch unnötige Iterationen vermieden werden können. Wenn Sie viele Operationen mit Elementen in einer Liste von Tupeln durchführen müssen, ist es besser, die Datenstruktur einmal zu durchlaufen und alle erforderlichen Operationen durchzuführen, als die Liste mehrmals zu durchlaufen und jedes Mal nur eine kleine Anzahl von Operationen auszuführen. Je nachdem, was Sie erreichen wollen, möchten Sie vielleicht auch die temporären Objekte in Ihrer for-Schleife iterieren. Python erlaubt dies! Innerhalb des eingerückten Codeblocks Ihrer for-Schleife können Sie eine weitere for-Schleife einfügen (und eine weitere innerhalb dieser Schleife, und so weiter)."
   ]
  },
  {
   "cell_type": "markdown",
   "id": "f52b4441-8778-4155-9aa7-ccd6ff5d5d0f",
   "metadata": {},
   "source": [
    "### Tuples"
   ]
  },
  {
   "cell_type": "markdown",
   "id": "7fa285c6-076a-4ccd-aae7-20f31fc71cdb",
   "metadata": {},
   "source": [
    "In Python ist jedes Objekt entweder veränderlich oder unveränderlich. Wir haben gerade gezeigt, dass Listen in vielerlei Hinsicht veränderbar sind: Hinzufügen und Entfernen von Einträgen, Sortieren und so weiter. Jeder Datentyp in Python, bei dem man etwas an seiner Zusammensetzung ändern kann (Anzahl der Einträge, Werte der Einträge), ist veränderbar. Datentypen, die nach ihrer Instanziierung keine Änderungen zulassen, sind unveränderlich.    \n",
    "\n",
    "Ein Tupel ist eine geordnete, unveränderliche series von Objekten. Man kann sich Tupel als eine besondere Art von Liste vorstellen, die nach der Erstellung nicht mehr geändert werden kann. Syntaktisch gesehen werden die Werte in einem Tupel in `()` und nicht in `[]` gespeichert. Ein leeres Tupel kann auf ähnliche Weise wie eine Liste erzeugt werden:"
   ]
  },
  {
   "cell_type": "code",
   "execution_count": 306,
   "id": "9f3dbacc-ae9b-4b60-8c87-7383653d4bf8",
   "metadata": {},
   "outputs": [],
   "source": [
    "my_empty_tuple_1 = () \n",
    "my_empty_tuple_2 = tuple()"
   ]
  },
  {
   "cell_type": "code",
   "execution_count": null,
   "id": "2d1b216e-8cdc-4e02-bb53-3d11d16012c1",
   "metadata": {},
   "outputs": [],
   "source": [
    "a_useful_tuple = (2, 7, 4)"
   ]
  },
  {
   "cell_type": "markdown",
   "id": "a2901525-492c-48cc-ac13-5784265d71e2",
   "metadata": {},
   "source": [
    "Mit den Funktionen `tuple()` und `list()` können wir leicht zwischen Tupeln und Listen konvertieren:"
   ]
  },
  {
   "cell_type": "code",
   "execution_count": 309,
   "id": "34247671-6deb-4a04-a311-17aaaebf76ee",
   "metadata": {},
   "outputs": [
    {
     "name": "stdout",
     "output_type": "stream",
     "text": [
      "<class 'list'>\n"
     ]
    }
   ],
   "source": [
    "print(type(countries)) "
   ]
  },
  {
   "cell_type": "code",
   "execution_count": 310,
   "id": "05d52192-8302-4049-98f6-d59ce30afc12",
   "metadata": {},
   "outputs": [
    {
     "name": "stdout",
     "output_type": "stream",
     "text": [
      "<class 'tuple'>\n"
     ]
    }
   ],
   "source": [
    "countries_tuple = tuple(countries) \n",
    "print(type(countries_tuple))"
   ]
  },
  {
   "cell_type": "markdown",
   "id": "a81e9771-707a-4faa-a8ea-199f87367a27",
   "metadata": {},
   "source": [
    "Es gibt viele Verwendungszwecke für Tupel: Wenn Sie unbedingt sicherstellen müssen, dass die Reihenfolge einer series von Objekten erhalten bleibt, verwenden Sie ein Tupel, um dies zu garantieren."
   ]
  },
  {
   "cell_type": "code",
   "execution_count": 308,
   "id": "f73f76f3-24b1-49c9-ba36-c2c026e3bd6e",
   "metadata": {},
   "outputs": [
    {
     "data": {
      "text/plain": [
       "['Bangladesh',\n",
       " 'Brazil',\n",
       " 'China',\n",
       " 'China',\n",
       " 'Egypt',\n",
       " 'Germany',\n",
       " 'India',\n",
       " 'India',\n",
       " 'Japan',\n",
       " 'Japan',\n",
       " 'Mexico',\n",
       " 'USA']"
      ]
     },
     "execution_count": 308,
     "metadata": {},
     "output_type": "execute_result"
    }
   ],
   "source": [
    "countries_sorted = countries.copy() \n",
    "countries_sorted.sort() \n",
    "countries_sorted"
   ]
  },
  {
   "cell_type": "code",
   "execution_count": 311,
   "id": "0c0529bc-8f9c-4d24-bfb3-8874dc5ee11d",
   "metadata": {},
   "outputs": [
    {
     "ename": "AttributeError",
     "evalue": "'tuple' object has no attribute 'sort'",
     "output_type": "error",
     "traceback": [
      "\u001b[1;31m---------------------------------------------------------------------------\u001b[0m",
      "\u001b[1;31mAttributeError\u001b[0m                            Traceback (most recent call last)",
      "Cell \u001b[1;32mIn[311], line 1\u001b[0m\n\u001b[1;32m----> 1\u001b[0m \u001b[43mcountries_tuple\u001b[49m\u001b[38;5;241;43m.\u001b[39;49m\u001b[43msort\u001b[49m()\n",
      "\u001b[1;31mAttributeError\u001b[0m: 'tuple' object has no attribute 'sort'"
     ]
    }
   ],
   "source": [
    "countries_tuple.sort()"
   ]
  },
  {
   "cell_type": "markdown",
   "id": "574c7526-199c-49b9-adf6-fa7802e946e9",
   "metadata": {},
   "source": [
    "### Dictionaries"
   ]
  },
  {
   "cell_type": "markdown",
   "id": "7b8e93fd-db7a-4de3-9c4b-18b42b85f1e5",
   "metadata": {},
   "source": [
    "Eine weitere Python-Datenstruktur, die Sie häufig sehen und verwenden werden, ist das Wörterbuch. Im Gegensatz zu Listen sind Wörterbücher dazu gedacht, zusammengehörige Informationen miteinander zu verbinden. Wörterbücher bieten einen flexiblen Ansatz für die Speicherung von Schlüssel-Wert-Paaren. Jeder Schlüssel muss ein unveränderliches Python-Objekt sein, z. B. eine ganze Zahl, ein Float, ein String oder ein Tupel, und es darf keine doppelten Schlüssel geben. Werte können jede Art von Objekt sein. Wir können auf Werte zugreifen, indem wir den entsprechenden Schlüssel angeben."
   ]
  },
  {
   "cell_type": "markdown",
   "id": "5100dcd5-59b3-4b28-95a1-26d6a34b3eae",
   "metadata": {},
   "source": [
    "Während bei Listen eckige Klammern `[]` und bei Tupeln runde Klammern `()` verwendet werden, werden in Pythons Dictionaries Schlüssel:Wert-Paare in geschweifte Klammern `{}` verpackt, wobei die Schlüssel und Werte durch einen Doppelpunkt `:` und jedes Paar durch ein `,` getrennt werden. Zum Beispiel,"
   ]
  },
  {
   "cell_type": "code",
   "execution_count": 293,
   "id": "db222e25-07b4-4dd5-b5d9-9c2d183e845c",
   "metadata": {},
   "outputs": [
    {
     "name": "stdout",
     "output_type": "stream",
     "text": [
      "{'country': 'Japan', 'pop2018': 37468000}\n"
     ]
    }
   ],
   "source": [
    "tokyo = { \n",
    "    'country' : 'Japan', \n",
    "    'pop2018': 37468000 }\n",
    "print(tokyo)"
   ]
  },
  {
   "cell_type": "markdown",
   "id": "ad9909f7-477e-4b2c-bf1e-55b07f61eddc",
   "metadata": {},
   "source": [
    "Bei der Erstellung eines Wörterbuchs können beliebig viele Schlüssel verwendet werden. Um schnell auf eine Liste aller Schlüssel im Wörterbuch zuzugreifen, können wir die Methode `.keys()` verwenden:"
   ]
  },
  {
   "cell_type": "code",
   "execution_count": 134,
   "id": "42ddb91f-e0ec-43b8-a705-efabbf3b2cd8",
   "metadata": {},
   "outputs": [
    {
     "name": "stdout",
     "output_type": "stream",
     "text": [
      "dict_keys(['country', 'pop2018'])\n"
     ]
    }
   ],
   "source": [
    "print(tokyo.keys())"
   ]
  },
  {
   "cell_type": "markdown",
   "id": "6741534a-a20f-422d-ae58-71887c40671f",
   "metadata": {},
   "source": [
    "Um auf einen bestimmten Wert in einem Wörterbuch zuzugreifen, geben wir den Namen des Wörterbuchobjekts gefolgt vom Namen des Schlüssels, auf dessen Wert wir zugreifen möchten, in eckigen Klammern und Anführungszeichen an. So greifen wir auf die Bevölkerung unseres Wörterbuchs tokyo zu:"
   ]
  },
  {
   "cell_type": "code",
   "execution_count": 294,
   "id": "a8cb6d08-5e83-4bd1-a9d2-23d3f7e318d0",
   "metadata": {},
   "outputs": [
    {
     "data": {
      "text/plain": [
       "37468000"
      ]
     },
     "execution_count": 294,
     "metadata": {},
     "output_type": "execute_result"
    }
   ],
   "source": [
    "tokyo['pop2018']"
   ]
  },
  {
   "cell_type": "markdown",
   "id": "9ff3ec8a-e215-4489-bc9a-b916b41892bf",
   "metadata": {},
   "source": [
    "Wie Listen können auch Wörterbücher während der Arbeit geändert werden. Wir können ein neues Schlüssel-Wert-Paar zu tokyo hinzufügen - z. B. die Bevölkerungsdichte des Großraums Tokio - und dabei dieselbe Syntax verwenden, die wir für den Verweis auf einen Schlüssel gelernt haben, nur dass wir auch einen Wert zuweisen. Da der Schlüssel, auf den wir verweisen, nicht im Wörterbuch vorhanden ist, weiß Python, dass wir ein neues Schlüssel-Wert-Paar erstellen und nicht ein altes durch einen neuen Wert ersetzen. Wenn wir das Wörterbuch ausdrucken, können wir sehen, dass unser neues Paar hinzugefügt wurde."
   ]
  },
  {
   "cell_type": "code",
   "execution_count": 295,
   "id": "61d04e8a-1224-433b-a6df-a85b164ef74d",
   "metadata": {},
   "outputs": [
    {
     "name": "stdout",
     "output_type": "stream",
     "text": [
      "{'country': 'Japan', 'pop2018': 37468000, 'density': 1178.4}\n"
     ]
    }
   ],
   "source": [
    "tokyo['density'] = 1178.4 \n",
    "print(tokyo)"
   ]
  },
  {
   "cell_type": "markdown",
   "id": "d919d39f-f167-491a-a441-bdd0bbdca54b",
   "metadata": {},
   "source": [
    "In diesem Fall haben wir mit einem Wörterbuch begonnen, das bereits einige Schlüssel-Wert-Paare enthielt, als wir das Wörterbuch zum ersten Mal definierten. Wir hätten aber auch mit einem leeren Wörterbuch beginnen und es mit Hilfe der soeben erlernten Methode mit Schlüssel-Wert-Paaren füllen können."
   ]
  },
  {
   "cell_type": "code",
   "execution_count": 296,
   "id": "6b999d36-351d-4cbe-ab8a-4ae4d6867be8",
   "metadata": {},
   "outputs": [
    {
     "name": "stdout",
     "output_type": "stream",
     "text": [
      "{'country': 'India', 'pop2018': 28514000, 'density': 11312}\n"
     ]
    }
   ],
   "source": [
    "delhi = {} \n",
    "delhi['country'] = 'India' \n",
    "delhi['pop2018'] = 28514000 \n",
    "delhi['density'] = 11312 \n",
    "\n",
    "print(delhi)"
   ]
  },
  {
   "cell_type": "markdown",
   "id": "96fab7f1-f1dc-4b97-b73d-6ab92c9e7e8c",
   "metadata": {},
   "source": [
    "### Nested data structures"
   ]
  },
  {
   "cell_type": "markdown",
   "id": "d6d354d6-069e-4d22-9ef2-dadac61bce38",
   "metadata": {},
   "source": [
    "Listen, Tupel und Wörterbücher können auf verschiedene Weise verschachtelt werden, einschließlich der Verwendung von Wörterbüchern als Elemente in einer Liste, Listen als Elemente in Listen und Listen als Elemente in Wörterbüchern. Andere Arten von verschachtelten Datenstrukturen sind ebenfalls möglich. Die Arbeit mit diesen verschachtelten Strukturen ist sehr einfach. Unabhängig von der Position des Wertes in der verschachtelten Datenstruktur können Sie die für diesen Typ geeigneten Methoden verwenden."
   ]
  },
  {
   "cell_type": "markdown",
   "id": "de765e52-329e-4591-b777-f4a1eb0b2c84",
   "metadata": {},
   "source": [
    "Wenn wir ein Wörterbuch haben, das Listen als Werte enthält, können wir auf die Werte zugreifen indem wir zunächst den key und dann den index subscripten."
   ]
  },
  {
   "cell_type": "code",
   "execution_count": 297,
   "id": "39536c95-881f-45fe-b5f0-d2ebd90e7419",
   "metadata": {},
   "outputs": [
    {
     "name": "stdout",
     "output_type": "stream",
     "text": [
      "{'cities': ['Tokyo', 'Yokohama', 'Osaka', 'Nagoya', 'Sapporo', 'Kobe', 'Kyoto', 'Fukuoka', 'Kawasaki', 'Saitama'], 'populations': [37, 3.7, 8.81, 9.5, 2.7, 1.5, 1.47, 5.6, 1.5, 1.3]}\n"
     ]
    }
   ],
   "source": [
    "japan = {} \n",
    "japan['cities'] = ['Tokyo', 'Yokohama', 'Osaka', 'Nagoya', 'Sapporo', 'Kobe', 'Kyoto', 'Fukuoka', 'Kawasaki', 'Saitama'] \n",
    "japan['populations'] = [37, 3.7, 8.81, 9.5, 2.7, 1.5, 1.47, 5.6, 1.5, 1.3] \n",
    "\n",
    "print(japan)"
   ]
  },
  {
   "cell_type": "code",
   "execution_count": 298,
   "id": "a446ac78-ed16-4702-b991-a8c05577ffbd",
   "metadata": {},
   "outputs": [
    {
     "data": {
      "text/plain": [
       "'Sapporo'"
      ]
     },
     "execution_count": 298,
     "metadata": {},
     "output_type": "execute_result"
    }
   ],
   "source": [
    "japan['cities'][4]"
   ]
  },
  {
   "cell_type": "markdown",
   "id": "d25bd432-61c6-44af-8ea6-e891edaa0515",
   "metadata": {},
   "source": [
    "### Lists of dictionaries"
   ]
  },
  {
   "cell_type": "markdown",
   "id": "6281e8fa-526e-4ce1-9772-3fb3e58f2698",
   "metadata": {},
   "source": [
    "Wir können Wörterbücher auch als Elemente in einer Liste speichern. Zuvor haben wir die Wörterbücher tokyo und delhi erstellt. Beide enthalten die gleichen Schlüssel: Land und Bevölkerung. Das Hinzufügen dieser oder anderer Wörterbücher zu einer Liste ist ganz einfach. Zum Beispiel,"
   ]
  },
  {
   "cell_type": "code",
   "execution_count": 299,
   "id": "6aad497a-0d29-439d-95ec-612c5cc99bb1",
   "metadata": {},
   "outputs": [],
   "source": [
    "top_two = [tokyo, delhi]"
   ]
  },
  {
   "cell_type": "code",
   "execution_count": 300,
   "id": "03c07329-5f06-4844-8254-1d0858049c65",
   "metadata": {},
   "outputs": [
    {
     "name": "stdout",
     "output_type": "stream",
     "text": [
      "{'country': 'Japan', 'pop2018': 37468000, 'density': 1178.4}\n",
      "{'country': 'India', 'pop2018': 28514000, 'density': 11312}\n"
     ]
    }
   ],
   "source": [
    "for city in top_two: \n",
    "    print(city)"
   ]
  },
  {
   "cell_type": "code",
   "execution_count": 301,
   "id": "dcbe2a96-ca85-41ae-b958-dd15ef90d3cd",
   "metadata": {},
   "outputs": [
    {
     "name": "stdout",
     "output_type": "stream",
     "text": [
      "JAPAN\n",
      "INDIA\n"
     ]
    }
   ],
   "source": [
    "for city in top_two: \n",
    "    print(city['country'].upper())"
   ]
  },
  {
   "cell_type": "code",
   "execution_count": 305,
   "id": "9b655537-5fe4-49b6-9a2e-71cc22e50248",
   "metadata": {},
   "outputs": [
    {
     "data": {
      "text/plain": [
       "28514000"
      ]
     },
     "execution_count": 305,
     "metadata": {},
     "output_type": "execute_result"
    }
   ],
   "source": [
    "top_two[1]['pop2018']"
   ]
  },
  {
   "cell_type": "markdown",
   "id": "70d5ff32-bcf3-4f06-a622-627da022f0da",
   "metadata": {},
   "source": [
    "## 9. Custom functions"
   ]
  },
  {
   "cell_type": "markdown",
   "id": "c3f799ea-fd39-4b91-939b-9f942b2cc953",
   "metadata": {},
   "source": [
    "Bisher haben wir einige Funktionen verwendet, die in Python eingebaut sind, z. B. `print()` und `len()`. In diesen und anderen Fällen nehmen die eingebauten Funktionen eine Eingabe entgegen, führen einige Operationen durch und geben dann eine Ausgabe zurück. Wenn wir zum Beispiel der Funktion `len()` einen String übergeben, berechnet sie die Anzahl der Zeichen in diesem String und gibt eine ganze Zahl zurück:"
   ]
  },
  {
   "cell_type": "code",
   "execution_count": 302,
   "id": "4019e60e-b586-4df5-8531-22e7d87debc6",
   "metadata": {},
   "outputs": [
    {
     "data": {
      "text/plain": [
       "18"
      ]
     },
     "execution_count": 302,
     "metadata": {},
     "output_type": "execute_result"
    }
   ],
   "source": [
    "seoul = 'Seoul, South Korea' \n",
    "len(seoul)"
   ]
  },
  {
   "cell_type": "markdown",
   "id": "720dcbb0-76c2-4219-9deb-0257f5d86db8",
   "metadata": {},
   "source": [
    "Wir hätten die Länge des Strings auch ohne len() berechnen können, zum Beispiel"
   ]
  },
  {
   "cell_type": "code",
   "execution_count": 303,
   "id": "90c78628-ae2d-411a-bab2-9096d41cf16f",
   "metadata": {},
   "outputs": [
    {
     "name": "stdout",
     "output_type": "stream",
     "text": [
      "18\n"
     ]
    }
   ],
   "source": [
    "length = 0 \n",
    "for character in seoul: \n",
    "    length += 1 \n",
    "\n",
    "print(length)"
   ]
  },
  {
   "cell_type": "markdown",
   "id": "cdb5a9f6-27a1-4116-a872-a96a66a56ad3",
   "metadata": {},
   "source": [
    "Beide Teile des Codes berechnen die Länge des in `seoul` gespeicherten Strings, aber die Verwendung von `len()` vermeidet unnötige Arbeit. Wir verwenden Funktionen, um die Vorteile der Abstraktion zu nutzen: Wir wandeln wiederkehrende Aufgaben und Text in komprimierte und leicht zusammenzufassende Werkzeuge um. Moderne Software wie Python basiert auf Jahrzehnten der Abstraktion. Wir programmieren nicht in Binärform, weil wir diesen Prozess abstrahiert haben und zu höheren Sprachen und Funktionen übergegangen sind, die uns Zeit, Platz und Gehirnleistung sparen. Das ist es, was Sie anstreben sollten, wenn Sie Ihre eigenen Funktionen schreiben: Identifizieren Sie kleine Aufgaben oder Probleme, die Sie häufig wiederholen, und schreiben Sie eine gut benannte Funktion, die sie jedes Mal auf die gleiche Weise behandelt, so dass Sie Funktionen kombinieren können, um größere und komplexere Probleme anzugehen."
   ]
  },
  {
   "cell_type": "markdown",
   "id": "ed52e4f7-272c-4ab7-be50-611c421a6c9a",
   "metadata": {},
   "source": [
    "Stellen Sie sich eine Reihe von Operationen vor, die wir mehrfach anwenden müssen, jedes Mal mit einer anderen Eingabe. Sie beginnen damit, eine dieser Eingaben auszuwählen und den Code zu schreiben, der das gewünschte Endergebnis liefert. Wie geht es nun weiter? Eine Möglichkeit, die ich nicht empfehle, ist das Kopieren und Einfügen des Codes für jeden der Eingänge. Sobald Sie den Code kopiert haben, ändern Sie die Namen der Ein- und Ausgänge so, dass Sie für jeden Eingang den gewünschten Ausgang erhalten."
   ]
  },
  {
   "cell_type": "markdown",
   "id": "be4f9455-852a-4767-a05a-df2af308c939",
   "metadata": {},
   "source": [
    "Was passiert, wenn Sie ein Problem im Code entdecken oder ihn verbessern wollen? Sie müssen die relevanten Teile Ihres Codes an mehreren Stellen ändern, und jedes Mal riskieren Sie, etwas zu übersehen oder einen Fehler zu machen. Zu allem Überfluss ist das Skript viel länger als nötig, und die Abfolge der Operationen ist viel schwieriger zu verfolgen und auszuwerten."
   ]
  },
  {
   "cell_type": "markdown",
   "id": "cee495f6-c5c5-475f-96b8-a016cb1e25ea",
   "metadata": {},
   "source": [
    "Stattdessen könnten wir unsere eigenen Funktionen schreiben, mit denen wir Teile des Codes strategisch wiederverwenden können. Wenn wir ein Problem entdecken oder etwas ändern wollen, dann müssen wir die Änderung nur an einer Stelle vornehmen. Wenn wir unsere aktualisierte Funktion ausführen, wird sie zuverlässig die gewünschte neue Ausgabe erzeugen. Wir können unsere Funktionen in einem separaten Skript speichern und sie an anderer Stelle importieren, wodurch diese Skripte und Notizbücher übersichtlicher und leichter zu verstehen sind. Und wenn wir gute beschreibende Namen für unsere Funktionen verwenden - etwas, das wir später besprechen werden -, dann können wir von den Details auf niedriger Ebene abstrahieren und uns auf die übergeordneten Details dessen konzentrieren, was wir zu tun versuchen. Das ist immer eine gute Idee, aber es ist besonders hilfreich, wenn nicht sogar unerlässlich, wenn man an großen Projekten arbeitet."
   ]
  },
  {
   "cell_type": "markdown",
   "id": "c1e98595-ccca-45de-a1f4-5ddbea52eddd",
   "metadata": {},
   "source": [
    "Das Schreiben eigener Funktionen ist also eine sehr leistungsfähige Methode, um unseren Code aufzuteilen und zu organisieren. Es bietet uns viele der gleichen Vorteile wie die Verwendung von eingebauten Funktionen oder Funktionen aus anderen Paketen, aber auch ein paar zusätzliche Vorteile:"
   ]
  },
  {
   "cell_type": "markdown",
   "id": "a9a62fe1-929d-49d3-994b-2dc26bad3557",
   "metadata": {},
   "source": [
    "- Wiederverwendbar - machen Sie keine Arbeit, die bereits erledigt wurde \n",
    "- Abstraktion - abstrahieren Sie Details auf niedriger Ebene, damit Sie sich auf Konzepte und Logik auf höherer Ebene konzentrieren können \n",
    "- Reduzieren Sie das Fehlerpotenzial - wenn Sie einen Fehler finden, brauchen Sie ihn nur an einer Stelle zu beheben \n",
    "- Kürzere und besser lesbare Skripte - viel einfacher zu lesen, zu verstehen und zu bewerten"
   ]
  },
  {
   "cell_type": "markdown",
   "id": "b3ba9008-10e1-409b-a981-1852f45f045d",
   "metadata": {},
   "source": [
    "### Writing custom functions"
   ]
  },
  {
   "cell_type": "markdown",
   "id": "9d6e5752-fe9a-4f7a-b8c8-cd1672525a8b",
   "metadata": {},
   "source": [
    "Um eine Funktion in Python zu definieren, beginnt man mit dem Schlüsselwort `def`, gefolgt vom Namen der Funktion, Klammern mit den Argumenten, die die Funktion annehmen soll, und einem `:`. Der gesamte Code, der ausgeführt wird, wenn die Funktion aufgerufen wird, ist in einem eingerückten Block enthalten. Im Folgenden definieren wir eine Funktion namens `welcome()`, die einen Namen annimmt und eine Begrüßung ausgibt:"
   ]
  },
  {
   "cell_type": "code",
   "execution_count": 304,
   "id": "21e973a9-d4fe-4217-a8ea-928530afd71b",
   "metadata": {},
   "outputs": [
    {
     "name": "stdout",
     "output_type": "stream",
     "text": [
      "Hi, Jonas! Good to see you.\n"
     ]
    }
   ],
   "source": [
    "def welcome(name): \n",
    "    print(f'Hi, {name}! Good to see you.') \n",
    "\n",
    "welcome('Jonas')"
   ]
  },
  {
   "cell_type": "markdown",
   "id": "9280380a-e44f-4215-94e1-9a51a697e542",
   "metadata": {},
   "source": [
    "In diesem Fall gibt die Funktion einen neuen String auf dem Bildschirm aus. Das kann zwar nützlich sein, aber in den meisten Fällen wollen wir etwas mit der Eingabe machen und dann eine andere Ausgabe zurückgeben. Wenn eine Funktion, aus welchem Grund auch immer, keine Ausgabe zurückgibt, gibt sie trotzdem None zurück, wie die Methode .sort()."
   ]
  },
  {
   "cell_type": "code",
   "execution_count": 153,
   "id": "c593c2b2-4605-4375-8581-cb683cb76812",
   "metadata": {},
   "outputs": [],
   "source": [
    "def clean_string(some_string): \n",
    "    cleaned = some_string.strip().lower() \n",
    "    return cleaned"
   ]
  },
  {
   "cell_type": "code",
   "execution_count": 155,
   "id": "2b162ecb-9a83-465d-afda-0c928c96380f",
   "metadata": {},
   "outputs": [
    {
     "name": "stdout",
     "output_type": "stream",
     "text": [
      "hi my name is john mclevey.\n"
     ]
    }
   ],
   "source": [
    "cleaned_str = clean_string('Hi my name is John McLevey.   ') \n",
    "print(cleaned_str)"
   ]
  },
  {
   "cell_type": "markdown",
   "id": "b4d6790f-8cca-48c8-9ee0-1c1151008f39",
   "metadata": {},
   "source": [
    "<div class='alert alert-block alert-success'>\n",
    "\n",
    "### Aufgabe 4\n",
    "\n",
    "--> session_02_excercise_4.ipynb\n",
    "\n",
    "</div>"
   ]
  }
 ],
 "metadata": {
  "kernelspec": {
   "display_name": "Python 3 (ipykernel)",
   "language": "python",
   "name": "python3"
  },
  "language_info": {
   "codemirror_mode": {
    "name": "ipython",
    "version": 3
   },
   "file_extension": ".py",
   "mimetype": "text/x-python",
   "name": "python",
   "nbconvert_exporter": "python",
   "pygments_lexer": "ipython3",
   "version": "3.10.13"
  }
 },
 "nbformat": 4,
 "nbformat_minor": 5
}
