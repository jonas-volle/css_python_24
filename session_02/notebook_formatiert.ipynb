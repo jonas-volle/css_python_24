{
 "cells": [
  {
   "cell_type": "markdown",
   "id": "62218f21-3363-40d2-9e0a-6f84be36b4c8",
   "metadata": {
    "editable": true,
    "raw_mimetype": "",
    "slideshow": {
     "slide_type": ""
    },
    "tags": []
   },
   "source": [
    "# Computational Social Science und Python"
   ]
  },
  {
   "cell_type": "markdown",
   "id": "30bc0d77-b07f-41ec-981f-40a56b6b272a",
   "metadata": {},
   "source": [
    "## Einführung"
   ]
  },
  {
   "cell_type": "markdown",
   "id": "447edded-f179-4ce9-a922-d9d0ffc254df",
   "metadata": {
    "editable": true,
    "raw_mimetype": "",
    "slideshow": {
     "slide_type": ""
    },
    "tags": []
   },
   "source": [
    "Computational Social Science (CSS) ist ein aufstrebender Bereich, der die Möglichkeiten der Informatik nutzt, um komplexe soziale Phänomene zu verstehen. Python, als eine der führenden Programmiersprachen in der wissenschaftlichen Berechnung, spielt dabei eine zentrale Rolle."
   ]
  },
  {
   "cell_type": "markdown",
   "id": "1e55e26c-564a-41d9-ac34-b16ef14ef1e0",
   "metadata": {
    "editable": true,
    "raw_mimetype": "",
    "slideshow": {
     "slide_type": ""
    },
    "tags": []
   },
   "source": [
    "Einfach Pyhthon Code sieht zum Beispiel so aus:"
   ]
  },
  {
   "cell_type": "code",
   "execution_count": 1,
   "id": "19abb788-5090-486f-b413-0964331317f4",
   "metadata": {},
   "outputs": [
    {
     "name": "stdout",
     "output_type": "stream",
     "text": [
      "Die Summe von 3 und 4 ist: 7\n"
     ]
    }
   ],
   "source": [
    "def calc_sum(a, b):\n",
    "    return a + b\n",
    "\n",
    "result = calc_sum(3, 4)\n",
    "print(\"Die Summe von 3 und 4 ist:\", result)"
   ]
  },
  {
   "cell_type": "markdown",
   "id": "b2ab02b6-eee8-4d95-b9a4-5ed70cdafd0e",
   "metadata": {
    "editable": true,
    "raw_mimetype": "",
    "slideshow": {
     "slide_type": ""
    },
    "tags": []
   },
   "source": [
    "## Vorteile von Python in der CSS"
   ]
  },
  {
   "cell_type": "markdown",
   "id": "1cf3e656-c67f-40ee-a587-185a8582cb88",
   "metadata": {
    "editable": true,
    "raw_mimetype": "",
    "slideshow": {
     "slide_type": ""
    },
    "tags": []
   },
   "source": [
    "Vielseitigkeit: Python kann für Datensammlung, -verarbeitung, -analyse und die Visualisierung verwendet werden.\n",
    "Community: Eine große Community und umfangreiche Bibliotheken unterstützen Forschende in der CSS.\n",
    "Zugänglichkeit: Python ist leicht zu erlernen, was es ideal für interdisziplinäre Forschung macht."
   ]
  },
  {
   "cell_type": "markdown",
   "id": "fca0d436-c5b4-462c-a409-ce088efecd87",
   "metadata": {
    "editable": true,
    "slideshow": {
     "slide_type": ""
    },
    "tags": []
   },
   "source": [
    "Einen interessanten Artikel über die CSS finden Sie unter: [LINK](https://www.science.org/doi/full/10.1126/science.1167742?casa_token=KHgU7gcW8vIAAAAA%3Ab8uaPlAEtt1XfAxKjpIsNsuEMfvndrg0wpnMSc0RMkjxDWA44EU92c8mcbNXkJWTPgBjMSYC0MeaNcgz) "
   ]
  },
  {
   "cell_type": "markdown",
   "id": "b980463a-1ce4-40a5-9627-fd41ca5b7628",
   "metadata": {},
   "source": [
    "## Fallbeispiele"
   ]
  },
  {
   "cell_type": "markdown",
   "id": "21e810c7-87ca-4539-9b57-81fc9f0e618a",
   "metadata": {
    "editable": true,
    "raw_mimetype": "",
    "slideshow": {
     "slide_type": ""
    },
    "tags": []
   },
   "source": [
    "In zahlreichen Studien wurde Python eingesetzt, um soziale Netzwerke zu analysieren, Wahlprognosen durchzuführen, und soziale Dynamiken zu modellieren."
   ]
  },
  {
   "cell_type": "markdown",
   "id": "a1152382-a218-4746-adb1-ec9018b6aeaf",
   "metadata": {
    "editable": true,
    "raw_mimetype": "",
    "slideshow": {
     "slide_type": ""
    },
    "tags": []
   },
   "source": [
    "## Fazit"
   ]
  },
  {
   "cell_type": "markdown",
   "id": "9aeb70f4-9f30-46ec-a2cf-c305de6b0f97",
   "metadata": {},
   "source": [
    "Die Verwendung von Python in der Computational Social Science bietet immense Möglichkeiten, soziale Fragen mit wissenschaftlichen Methoden zu erkunden und zu beantworten."
   ]
  }
 ],
 "metadata": {
  "kernelspec": {
   "display_name": "Python 3 (ipykernel)",
   "language": "python",
   "name": "python3"
  },
  "language_info": {
   "codemirror_mode": {
    "name": "ipython",
    "version": 3
   },
   "file_extension": ".py",
   "mimetype": "text/x-python",
   "name": "python",
   "nbconvert_exporter": "python",
   "pygments_lexer": "ipython3",
   "version": "3.10.13"
  }
 },
 "nbformat": 4,
 "nbformat_minor": 5
}
