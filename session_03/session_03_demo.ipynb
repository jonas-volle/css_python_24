{
 "cells": [
  {
   "cell_type": "markdown",
   "id": "96cceb18-3c3d-49e6-8e3d-26c79570f697",
   "metadata": {
    "editable": true,
    "slideshow": {
     "slide_type": "slide"
    },
    "tags": []
   },
   "source": [
    "# Einführung in Python für die Computational Social Science (CSS)\n",
    "## Session 03 - Grundlagen II + pandas I\n",
    "\n",
    "\n",
    "\n",
    "## Jonas Volle\n",
    "Wissenschaftlicher Mitarbeiter  \n",
    "Chair of Methodology and Empirical Social Research  \n",
    "Otto-von-Guericke-Universität  \n",
    "\n",
    "[jonas.volle@ovgu.de](mailto:jonas.volle@ovgu.de)\n",
    "\n",
    "**Sprechstunde**: individuell nach vorheriger Anmeldung per [Mail](mailto:jonas.volle@ovgu.de)\n",
    "\n",
    "Donnerstag, 16.05.2023"
   ]
  },
  {
   "cell_type": "markdown",
   "id": "9bee7974-dbec-4873-b9c1-03ae5bbb08de",
   "metadata": {},
   "source": [
    "**Quelle:** Ich orientiere mich für diese Sitzung an den Kapiteln 3 und 6 aus dem Buch:  \n",
    "\n",
    "McLevey, John. 2021. Doing Computational Social Science: A Practical Introduction. 1st ed. Thousand Oaks: SAGE Publications.\n"
   ]
  },
  {
   "cell_type": "markdown",
   "id": "f35724eb-2bc7-4473-a286-d561f3ecc4e7",
   "metadata": {},
   "source": [
    "## Inhalt\n",
    "\n",
    "- Datenstrukturen (Lists, Dictionaries)\n",
    "- Funktionen\n",
    "- Datenmanagement mit pandas\n"
   ]
  },
  {
   "cell_type": "markdown",
   "id": "8d8c239d-0ffa-40ed-85a0-4052ac62815e",
   "metadata": {},
   "source": [
    "## 1. Datenstrukturen (Lists, Tuples, Dictionaries)"
   ]
  },
  {
   "cell_type": "markdown",
   "id": "028e7495-3440-41f3-9f96-418f8513c7a8",
   "metadata": {},
   "source": [
    "### Listen\n",
    "\n",
    "In Python sind Listen geordnete Sammlungen beliebiger Objekte, wie z. B. Strings, Ganzzahlen, Fließkommazahlen oder andere Datenstrukturen - sogar andere Listen. Die Elemente in einer Liste können vom gleichen Typ sein, müssen es aber nicht. Python-Listen sind sehr flexibel. Sie können Informationen verschiedener Art in einer Liste mischen, Sie können der Liste während des laufenden Betriebs Informationen hinzufügen, und Sie können alle in der Liste enthaltenen Informationen entfernen oder ändern. Dies ist in anderen Sprachen nicht immer der Fall. Die einfachste Liste sieht wie folgt aus:"
   ]
  },
  {
   "cell_type": "code",
   "execution_count": null,
   "id": "57ae64d9-a481-44b9-a6cc-1cde6167dfff",
   "metadata": {},
   "outputs": [],
   "source": []
  },
  {
   "cell_type": "code",
   "execution_count": null,
   "id": "67a1f3af-811d-4c06-aecd-3a5237d77f7a",
   "metadata": {},
   "outputs": [],
   "source": []
  },
  {
   "cell_type": "markdown",
   "id": "f14600cd-f0a8-40fe-95ee-39923363b511",
   "metadata": {},
   "source": [
    "Alle Listen beginnen und enden mit eckigen Klammern `[]`, und die Elemente werden durch ein Komma getrennt. Im Folgenden definieren wir zwei Listen mit Strings (Megastädte in einer Liste und ihre Länder in einer anderen) und eine Liste mit Zahlen (Einwohnerzahl der Städte im Jahr 2018)."
   ]
  },
  {
   "cell_type": "code",
   "execution_count": null,
   "id": "a51c99b0-b37d-482b-adc1-aa66acf88cea",
   "metadata": {},
   "outputs": [],
   "source": [
    "megacities = ['Tokyo','Delhi','Shanghai','Sao Paulo','Mexico City','Cairo','Dhaka','Mumbai','Beijing','Osaka']\n",
    "countries = ['Japan','India','China','Brazil','Mexico','Egypt','Bangladesh','India','China','Japan']\n",
    "pop2018 = [37468000, 28514000, 25582000, 21650000, 21581000, 20076000, 19980000, 19618000, 19578000, 19281000]"
   ]
  },
  {
   "cell_type": "code",
   "execution_count": null,
   "id": "f9b639f0-b753-4f38-a0cd-6b0759b7657a",
   "metadata": {},
   "outputs": [],
   "source": []
  },
  {
   "cell_type": "markdown",
   "id": "1ebbf008-7e86-436c-ba3e-ba6e19ba5b8f",
   "metadata": {},
   "source": [
    "Jedes Element in einer Liste hat einen Index, der auf seiner Position in der Liste basiert. Indizes sind ganze Zahlen, und wie in den meisten anderen Programmiersprachen beginnt die Indizierung in Python bei 0, was bedeutet, dass der erste Eintrag in einer Liste - oder in allem anderen, was in Python indiziert wird - bei 0 beginnt. In der Liste der Megastädte ist der Index für Tokio 0, Delhi ist 1, Shanghai ist 2, und so weiter.  \n",
    "\n",
    "Wir können den Index verwenden, um ein bestimmtes Element aus einer Liste auszuwählen, indem wir den Namen der Liste und dann die Indexnummer in eckigen Klammern eingeben:"
   ]
  },
  {
   "cell_type": "code",
   "execution_count": null,
   "id": "38dfc0fb-b6ce-43e8-b9c9-387bdb2d67c7",
   "metadata": {},
   "outputs": [],
   "source": []
  },
  {
   "cell_type": "markdown",
   "id": "4034fef0-6836-4667-9da2-c6b11614f559",
   "metadata": {},
   "source": [
    "Wir können auch auf einzelne Einträge zugreifen, indem wir vom Ende der Liste aus arbeiten. Dazu verwenden wir ein `-`-Zeichen in den Klammern. Beachten Sie, dass wir, anders als beim Aufwärtszählen von 0, nicht von '-0' abwärts zählen. Während `[2]` das dritte Element angibt, gibt `[-2]` das vorletzte Element an. 'China' aus der `countries` Liste, können wir so auswählen:"
   ]
  },
  {
   "cell_type": "code",
   "execution_count": null,
   "id": "b7b12934-03c8-4ce0-9f51-793df2eb84b3",
   "metadata": {},
   "outputs": [],
   "source": []
  },
  {
   "cell_type": "code",
   "execution_count": null,
   "id": "ccc7f29a-d1a2-46cc-b029-79eaad517511",
   "metadata": {},
   "outputs": [],
   "source": []
  },
  {
   "cell_type": "code",
   "execution_count": null,
   "id": "f039f763-ecc1-438e-ab07-716eb6781964",
   "metadata": {},
   "outputs": [],
   "source": []
  },
  {
   "cell_type": "markdown",
   "id": "ef93e99d-4fb8-4f95-9ec5-8935b229039b",
   "metadata": {},
   "source": [
    "Wenn wir auf ein einzelnes Element in einer Liste zugreifen, gibt Python das Element in seinem Datentyp zurück. So gibt  `megacities[3]` beispielsweise \"Sao Paulo\" als String zurück, und `pop2018[3]` liefert die Ganzzahl 21650000. Wir können jede beliebige Methode verwenden, die mit diesem bestimmten Datentyp verknüpft ist:"
   ]
  },
  {
   "cell_type": "code",
   "execution_count": null,
   "id": "97f07440-d9b0-4d4c-9483-6fe2582bd7ec",
   "metadata": {},
   "outputs": [],
   "source": []
  },
  {
   "cell_type": "code",
   "execution_count": null,
   "id": "c428b718-c7dc-4acd-8918-cd9940e94220",
   "metadata": {},
   "outputs": [],
   "source": []
  },
  {
   "cell_type": "markdown",
   "id": "c51fb4ac-e365-4d0a-8e97-ed116e42cca5",
   "metadata": {},
   "source": [
    "Die Verwendung von eckigen Klammern für den Zugriff auf ein Element in einer Liste (oder einem Tupel, einer Menge oder einem Wörterbuch) wird als Indexierung bezeichnet.  \n",
    "Wenn wir mehrere Elemente auswählen möchten können wir die sclice-Notation verwenden, bei der zwei Indexpositionen durch einen Doppelpunkt getrennt sind:"
   ]
  },
  {
   "cell_type": "code",
   "execution_count": null,
   "id": "38369781-079b-4fb1-92a8-5982b559ba30",
   "metadata": {},
   "outputs": [],
   "source": []
  },
  {
   "cell_type": "markdown",
   "id": "1bd943fc-474d-479c-a1be-b929626ac09a",
   "metadata": {},
   "source": [
    "Die Verwendung eines Slice zur Indexierung einer Liste gibt das Element an der Position der ersten Ganzzahl sowie jedes Element an jeder Position zwischen der ersten und der zweiten Ganzzahl zurück. Das Element, das durch die zweite ganze Zahl indiziert ist, wird nicht zurückgegeben. Um die letzten drei Einträge unserer Liste abzurufen, würden Sie Folgendes verwenden"
   ]
  },
  {
   "cell_type": "code",
   "execution_count": null,
   "id": "29e9ad2f-1f48-40e4-99f9-adb62d697f47",
   "metadata": {},
   "outputs": [],
   "source": []
  },
  {
   "cell_type": "code",
   "execution_count": null,
   "id": "87cd4c09-713e-41a9-b23f-5acf3960fc01",
   "metadata": {},
   "outputs": [],
   "source": []
  },
  {
   "cell_type": "markdown",
   "id": "f397bfdc-b0b4-48db-90ab-61af8648f82a",
   "metadata": {},
   "source": [
    "Sie können auch die Slice-Notation mit einer fehlenden ganzen Zahl verwenden, um alle Elemente einer Liste bis zu - oder ab - einer bestimmten Indexposition zurückzugeben. Im Folgenden finden Sie die ersten drei Megastädte,"
   ]
  },
  {
   "cell_type": "code",
   "execution_count": null,
   "id": "92f71a41-a2f9-45c2-bffc-bd05221bec4c",
   "metadata": {},
   "outputs": [],
   "source": []
  },
  {
   "cell_type": "markdown",
   "id": "3d3d34c4-fc13-4eb5-89ee-8062caab6a5d",
   "metadata": {},
   "source": [
    "und die letzten sieben:"
   ]
  },
  {
   "cell_type": "code",
   "execution_count": null,
   "id": "5e5ab31b-4767-470f-8827-b7a61d37f900",
   "metadata": {},
   "outputs": [],
   "source": []
  },
  {
   "cell_type": "markdown",
   "id": "79dc7dfb-b400-4a83-b1b0-5ace09cde715",
   "metadata": {},
   "source": [
    "### Looping over lists"
   ]
  },
  {
   "cell_type": "markdown",
   "id": "934e25fd-b3d0-4664-8b5f-b6f954d7ca46",
   "metadata": {},
   "source": [
    "Pythons Listen sind iterierbare Objekte, was bedeutet, dass wir über die Elemente der Liste iterieren (oder loopen) können, um Code für jedes einzelne Element auszuführen. Dies wird üblicherweise mit einer *for-Schleife* durchgeführt. Im Folgenden wird die Liste Megastädte durchlaufen und jedes Element ausgedruckt:"
   ]
  },
  {
   "cell_type": "code",
   "execution_count": null,
   "id": "46f0bd7f-4670-45ab-bdbd-0542f4f83c2e",
   "metadata": {},
   "outputs": [],
   "source": []
  },
  {
   "cell_type": "markdown",
   "id": "331407cf-9a9b-4421-a0f9-259884f4a19c",
   "metadata": {},
   "source": [
    "Dieser Code erstellt eine temporäre Variable namens city, die auf das aktuelle Element der Megastädte verweist, über die iteriert wird. Der Name für diese Variable sollte etwas Beschreibendes sein, das Ihnen etwas über die Elemente der Liste verrät."
   ]
  },
  {
   "cell_type": "markdown",
   "id": "bd3415f0-7131-4776-84bc-fbc912e91e20",
   "metadata": {},
   "source": [
    "### Ändern von Listen"
   ]
  },
  {
   "cell_type": "markdown",
   "id": "6db095a2-4aad-4203-ba98-a8f94fc232fb",
   "metadata": {},
   "source": [
    "Listen können auf verschiedene Weise geändert werden. Wir können die Elemente in der Liste wie andere Werte ändern, z. B. den String \"Mexico City\" in \"Ciudad de México\", indem wir den Index des Werts verwenden:"
   ]
  },
  {
   "cell_type": "code",
   "execution_count": null,
   "id": "5feed013-f290-4bb6-af95-33aaa2cd09cf",
   "metadata": {},
   "outputs": [],
   "source": []
  },
  {
   "cell_type": "markdown",
   "id": "52c5c5cc-c867-4bc8-956c-294136e146f3",
   "metadata": {},
   "source": [
    "Wir wollen oft Elemente einer Liste hinzufügen oder entfernen. Fügen wir Karachi zu unseren drei Listen hinzu, indem wir die Methode `.append()` verwenden:"
   ]
  },
  {
   "cell_type": "code",
   "execution_count": null,
   "id": "334a3115-f567-4315-8c51-2ef0a160e5cd",
   "metadata": {},
   "outputs": [],
   "source": []
  },
  {
   "cell_type": "code",
   "execution_count": null,
   "id": "c04c72e2-2486-4666-a7a9-7b22226fe446",
   "metadata": {},
   "outputs": [],
   "source": []
  },
  {
   "cell_type": "markdown",
   "id": "0211bd03-dedd-456f-b4dd-2424662655b2",
   "metadata": {},
   "source": [
    "Sie werden `.append()` häufig verwenden. Es ist ein sehr bequemer Weg, um eine Liste dynamisch zu erstellen und zu verändern. Lassen Sie uns eine neue Liste erstellen, die einen formatierten String für jede Stadt enthalten soll."
   ]
  },
  {
   "cell_type": "code",
   "execution_count": null,
   "id": "d75965f7-54ac-4729-9cfd-b670bdd38393",
   "metadata": {},
   "outputs": [],
   "source": []
  },
  {
   "cell_type": "code",
   "execution_count": null,
   "id": "3acbb994-dce2-4ce0-9e8c-581516b8518a",
   "metadata": {},
   "outputs": [],
   "source": []
  },
  {
   "cell_type": "code",
   "execution_count": null,
   "id": "930ae13e-5100-45a8-a189-0324bf4a16fa",
   "metadata": {},
   "outputs": [],
   "source": []
  },
  {
   "cell_type": "markdown",
   "id": "48f81709-27b7-4621-ad0c-0c6012945d06",
   "metadata": {},
   "source": [
    "Das Entfernen von items ist ebenso einfach. Es gibt mehrere Möglichkeiten, aber `.remove()` ist eine der gängigsten:"
   ]
  },
  {
   "cell_type": "code",
   "execution_count": null,
   "id": "4af1447b-6d76-4f79-b12f-2d0d5201eed9",
   "metadata": {},
   "outputs": [],
   "source": []
  },
  {
   "cell_type": "code",
   "execution_count": null,
   "id": "6f1812c1-3423-4981-8359-73e24c100cba",
   "metadata": {},
   "outputs": [],
   "source": []
  },
  {
   "cell_type": "markdown",
   "id": "fdf56d94-ed29-4bfb-b981-4901236226c1",
   "metadata": {},
   "source": [
    "Manchmal möchte man die Ordnung einer Liste ändern. Normalerweise wird die Liste auf irgendeine Weise sortiert (z. B. alphabetisch, absteigend). Im Folgenden erstellen wir eine Kopie von Megastädte und sortieren sie alphabetisch. Da wir das Originalobjekt nicht verändern wollen, erstellen wir explizit eine neue Kopie mit der Methode `.copy()`:"
   ]
  },
  {
   "cell_type": "code",
   "execution_count": null,
   "id": "988e56f9-b2a7-4c75-ae96-bae479e287bc",
   "metadata": {},
   "outputs": [],
   "source": []
  },
  {
   "cell_type": "markdown",
   "id": "9e85e796-dba5-49b9-801f-8ffc64010dc5",
   "metadata": {},
   "source": [
    "Beachten Sie, dass wir beim Aufruf von `.sort()`  kein `=` verwenden. Diese Methode wird 'in-place' ausgeführt, d.h. sie verändert das Objekt, das sie aufruft. Die Zuweisung von `megacities_copy.sort()` gibt tatsächlich `None` zurück, ein spezieller Wert in Python."
   ]
  },
  {
   "cell_type": "markdown",
   "id": "f65b7e25-a4f7-426d-b79f-1b8e3c9de04d",
   "metadata": {},
   "source": [
    "Bei Anwendung auf eine Liste von Zahlen sortiert `.sort()` die Liste von der kleinsten zur größten Zahl um:"
   ]
  },
  {
   "cell_type": "code",
   "execution_count": null,
   "id": "1590b5ed-6da3-4c5b-b8ad-a4bd27b4f600",
   "metadata": {},
   "outputs": [],
   "source": []
  },
  {
   "cell_type": "markdown",
   "id": "f6982092-ddfc-4984-8054-582c8e3aec66",
   "metadata": {},
   "source": [
    "Um eine Liste in umgekehrter alphabetischer Reihenfolge oder von der größten zur kleinsten Zahl zu sortieren, können wir das Argument `reverse=True` in der `.sort()`-Methode verwende."
   ]
  },
  {
   "cell_type": "code",
   "execution_count": null,
   "id": "b16be6d4-715c-4db7-bd76-08e546691fd4",
   "metadata": {},
   "outputs": [],
   "source": []
  },
  {
   "cell_type": "code",
   "execution_count": null,
   "id": "3601de19-f6fc-4279-bcbf-1ac58a194b10",
   "metadata": {},
   "outputs": [],
   "source": []
  },
  {
   "cell_type": "markdown",
   "id": "c35d8b4b-8d07-4542-bc3b-aa64a7db3944",
   "metadata": {},
   "source": [
    "### Zipping and unzipping lists"
   ]
  },
  {
   "cell_type": "markdown",
   "id": "5b3b3a61-2d55-4558-aa71-d142589b5656",
   "metadata": {},
   "source": [
    "Wenn Sie Daten haben, die über mehrere Listen verteilt sind, kann es nützlich sein, diese Listen zusammenzuzippen, so dass alle Elemente mit einem Index von 0 miteinander verbunden sind, alle Elemente mit einem Index von 1 und so weiter. Der einfachste Weg, dies zu tun, ist die Verwendung der Funktion `zip()`, die im folgenden Codeblock dargestellt ist."
   ]
  },
  {
   "cell_type": "code",
   "execution_count": null,
   "id": "33e61455-e4f7-4a80-b212-2f47f30b6a90",
   "metadata": {},
   "outputs": [],
   "source": []
  },
  {
   "cell_type": "markdown",
   "id": "dacaf23c-66d5-4a9f-80fd-c21dae87c761",
   "metadata": {},
   "source": [
    "Das eigentliche Objekt, das die Funktion `zip()` zurückgibt, ist ein \"zip-Objekt\", in dem unsere Daten als eine Reihe von Tupeln gespeichert sind. Wir können diese gezippten Tupel mit der Funktion `list()` in eine Liste von Tupeln umwandeln:"
   ]
  },
  {
   "cell_type": "code",
   "execution_count": null,
   "id": "7a156c0a-403c-4ff0-9c4d-294cacec0a06",
   "metadata": {},
   "outputs": [],
   "source": []
  },
  {
   "cell_type": "markdown",
   "id": "c4ac2dc9-1c98-44cf-9cc2-3c8405ec67c5",
   "metadata": {},
   "source": [
    "Es ist auch möglich, eine gezippte Liste mit Hilfe des `*`-Operators und der Mehrfachzuweisung (auch \"unpacking\" genannt) zu entpacken, wodurch wir mehreren Variablen in einer einzigen Zeile mehrere Werte zuweisen können. Der folgende Code gibt zum Beispiel drei Objekte zurück. Wir weisen jedes einer Variablen auf der linken Seite des `=`-Zeichens zu."
   ]
  },
  {
   "cell_type": "code",
   "execution_count": null,
   "id": "8166a2d6-4e17-43ad-8236-b742edf2381d",
   "metadata": {},
   "outputs": [],
   "source": [
    "city_unzip, country_unzip, pop_unzip = zip(*zipped_list) \n",
    "print(city_unzip) \n",
    "print(country_unzip) \n",
    "print(pop_unzip)"
   ]
  },
  {
   "cell_type": "markdown",
   "id": "6cb0af39-922a-4b6e-83b3-c3192ba43bec",
   "metadata": {},
   "source": [
    "### List comprehensions"
   ]
  },
  {
   "cell_type": "markdown",
   "id": "f55f0c4a-90eb-4db9-a094-12cb681e0f11",
   "metadata": {},
   "source": [
    "Zuvor haben wir eine leere Liste erstellt und sie mit `.append()` in einer for-Schleife aufgefüllt. Wir können auch die *list comprehension* verwenden, welche das gleiche Ergebnis in einer einzigen Codezeile liefern kann. Zur Veranschaulichung wollen wir versuchen, die Anzahl der Zeichen im Namen jedes Landes in der Länderliste mit einer for-Schleife und anschließend mit einer *list comprehension* zu zählen."
   ]
  },
  {
   "cell_type": "code",
   "execution_count": null,
   "id": "d3e90695-7899-4ad1-88db-6ecf5b70f966",
   "metadata": {},
   "outputs": [],
   "source": [
    "len_country_name = [] \n",
    "\n",
    "for country in countries: \n",
    "    n_chars_tmp = len(country) \n",
    "    len_country_name.append(n_chars_tmp) \n",
    "\n",
    "print(len_country_name)"
   ]
  },
  {
   "cell_type": "code",
   "execution_count": null,
   "id": "2aca759f-25ff-41ef-9a3e-e34ed67daddf",
   "metadata": {},
   "outputs": [],
   "source": []
  },
  {
   "cell_type": "markdown",
   "id": "af6dd6e7-6994-426a-b30b-5bcb31a19dac",
   "metadata": {},
   "source": [
    "*List comprehension* können anfangs etwas ungewohnt sein, aber mit etwas Übung werden sie einfacher. Das Wichtigste, was Sie sich merken müssen, ist, dass *list comprehensions* immer folgendes enthalten:  \n",
    "\n",
    "1. den Ausdruck selbst, der auf jedes Element der ursprünglichen Liste angewandt wird (in diesem Fall `len()`), \n",
    "2. den Namen der temporären Variable der auf das iterierbare Objekt verweist (in diesem Fall `country`) \n",
    "3. das iterierbare Objekt (in diesem Fall die Liste `countries`)\n",
    "\n",
    "Häufig möchten wir unseren for-Schleifen und `list comprehension` eine Bedingung hinzufügen. Erstellen wir eine neue Liste von Städten mit mehr als 20.500.000 Einwohnern mit Hilfe der Funktion `zip()`:"
   ]
  },
  {
   "cell_type": "code",
   "execution_count": null,
   "id": "3c3e12a6-2ad5-4af3-a052-e5563dafafde",
   "metadata": {},
   "outputs": [],
   "source": []
  },
  {
   "cell_type": "markdown",
   "id": "5f1bf69e-38f8-47df-9404-69c92d2dbc38",
   "metadata": {},
   "source": [
    "Das Ergebnis - biggest - ist eine Liste von Listen. Wir können mit verschachtelten Datenstrukturen wie dieser arbeiten, indem wir die gleichen Werkzeuge verwenden, die wir für flache Datenstrukturen benutzen. Zum Beispiel,"
   ]
  },
  {
   "cell_type": "code",
   "execution_count": null,
   "id": "ad3c4412-af1c-4eff-ba8c-b9ee18327528",
   "metadata": {},
   "outputs": [],
   "source": [
    "for city in biggest: \n",
    "    print(f'The population of {city[0]} in 2018 was {city[1]}')"
   ]
  },
  {
   "cell_type": "markdown",
   "id": "d9cd945d-1e3b-4a38-aa1b-f2e50e832da6",
   "metadata": {},
   "source": [
    "Wann sollten Sie eine for-Schleife und wann eine *list comprehension* verwenden?  \n",
    "\n",
    "In vielen Fällen ist das eine Frage der persönlichen Vorliebe. *List Comprehensions* sind etwas übersichtlicher aber mit etwas Python-Erfahrung dennoch lesbar. Sie werden jedoch sehr schnell unleserlich, wenn Sie viele Operationen für jedes Element durchführen müssen oder wenn Sie auch nur eine leicht komplexe bedingte Logik/Bedingung haben. In diesen Fällen sollten Sie auf jeden Fall *list comprehensions* vermeiden. Wir wollen immer sicherstellen, dass unser Code so lesbar wie möglich ist."
   ]
  },
  {
   "cell_type": "markdown",
   "id": "eb60c003-e88e-48a1-ab95-ca9f2f16a281",
   "metadata": {},
   "source": [
    "<div class='alert alert-block alert-success'>\n",
    "\n",
    "### Aufgabe 1\n",
    "\n",
    "--> session_03_excercise_1.ipynb\n",
    "\n",
    "</div>"
   ]
  },
  {
   "cell_type": "markdown",
   "id": "04e1a429-65b7-4e84-8109-5dc70cffd113",
   "metadata": {},
   "source": [
    "### Listen kopieren"
   ]
  },
  {
   "cell_type": "code",
   "execution_count": null,
   "id": "4f92c14b-e550-4069-9f66-b6c1537d71e8",
   "metadata": {},
   "outputs": [],
   "source": []
  },
  {
   "cell_type": "code",
   "execution_count": null,
   "id": "b6462e7e-dd12-4e71-914a-ee2bea7b3d66",
   "metadata": {},
   "outputs": [],
   "source": []
  },
  {
   "cell_type": "code",
   "execution_count": null,
   "id": "18cfa2d9-daa3-49f5-9f5a-beaaf8cb3452",
   "metadata": {},
   "outputs": [],
   "source": []
  },
  {
   "cell_type": "code",
   "execution_count": null,
   "id": "73412e40-fdcd-4061-908e-77f32f71d882",
   "metadata": {},
   "outputs": [],
   "source": []
  },
  {
   "cell_type": "code",
   "execution_count": null,
   "id": "94622dfb-db53-4e5d-b85c-ee5d57e56d87",
   "metadata": {},
   "outputs": [],
   "source": []
  },
  {
   "cell_type": "code",
   "execution_count": null,
   "id": "47f28e6a-45c9-4f9c-9de9-ba0ee52ee874",
   "metadata": {},
   "outputs": [],
   "source": []
  },
  {
   "cell_type": "markdown",
   "id": "b62682f6-b765-4071-9431-1296c3b72d38",
   "metadata": {},
   "source": [
    "Dieser Code scheint eine Kopie von Ländern zu erzeugen, aber das ist eine Illusion. Wenn wir eine Liste mit dem Operator `=` kopieren, erstellen wir **kein** neues Objekt. Stattdessen haben wir einen neuen Variablennamen erstellt, der auf das ursprüngliche Objekt im Speicher verweist. Wir haben ein Objekt mit zwei Namen, anstatt zwei verschiedene Objekte. Alle Änderungen, die mit `countries_copy` vorgenommen werden, ändern das gleiche Objekt im Speicher, das durch `countries` beschrieben wird. Wenn wir Karachi an `countries_copy` anhängen und `countries` ausdrucken, würden wir Karachi sehen, und umgekehrt. Wenn wir die ursprüngliche Liste beibehalten und Änderungen an der zweiten vornehmen wollen, ist dies nicht möglich. Stattdessen können wir die Methode `.copy()` verwenden, um eine flache Kopie der ursprünglichen Liste zu erstellen, oder `.deepcopy()`, um eine tiefe Kopie zu erstellen. Um den Unterschied zu verstehen, vergleichen Sie eine flache Liste (z. B. `[1, 2, 3]`) mit einer Liste von Listen (z. B. `[[1, 2, 3], [4, 5, 6]]`). Die Liste der Listen ist verschachtelt; sie ist tiefer als die flache Liste. Wenn wir eine flache Kopie (d. h. .copy()) der flachen Liste erstellen, erzeugt Python ein neues Objekt, das vom Original unabhängig ist. Wenn wir jedoch eine flache Kopie der verschachtelten Listen von Listen erstellen, erzeugt Python nur ein neues Objekt für die äußere Liste; es ist nur eine Ebene tief. Die Inhalte der inneren Listen `[1, 2, 3]` und `[4, 5, 6]` wurden nicht kopiert, sie sind nur Verweise auf die ursprünglichen Listen. Mit anderen Worten: Die äußeren Listen (Länge 2) sind unabhängig voneinander, aber die inneren Listen (Länge 3) sind Verweise auf dasselbe Objekt im Speicher. Wenn wir mit verschachtelten Datenstrukturen arbeiten, wie z. B. Listen von Listen, müssen wir `.deepcopy()` verwenden, wenn wir ein neues Objekt erstellen wollen, das völlig unabhängig vom Original ist."
   ]
  },
  {
   "cell_type": "markdown",
   "id": "1932cbd1-6ca8-4f43-a301-5d51fb98f77d",
   "metadata": {},
   "source": [
    "### not in or in?"
   ]
  },
  {
   "cell_type": "markdown",
   "id": "69310c50-6fe0-44b4-aaa0-aa3bf337219c",
   "metadata": {},
   "source": [
    "Listen, die im Forschungskontext verwendet werden, sind in der Regel viel größer als die Beispiele hier. Sie können Tausende oder sogar Millionen von Einträgen enthalten. Um herauszufinden, ob eine Liste einen bestimmten Wert enthält oder nicht, können wir, anstatt eine gedruckte Liste manuell zu durchsuchen, die Operatoren in und not in verwenden, die True oder False auswerten:"
   ]
  },
  {
   "cell_type": "code",
   "execution_count": null,
   "id": "e370bfde-7e74-4954-9ccb-26bbe08f02c1",
   "metadata": {},
   "outputs": [],
   "source": []
  },
  {
   "cell_type": "code",
   "execution_count": null,
   "id": "51ae0d61-416d-4420-810b-3cf285f7157f",
   "metadata": {},
   "outputs": [],
   "source": []
  },
  {
   "cell_type": "markdown",
   "id": "bb466e27-9ae3-4c7c-8ae9-0876b0b53e54",
   "metadata": {},
   "source": [
    "Diese Operatoren können bei der Verwendung von Bedingungen sehr nützlich sein."
   ]
  },
  {
   "cell_type": "code",
   "execution_count": null,
   "id": "f6bbf3d9-32f5-4e73-b474-c3d55e1c2a3f",
   "metadata": {},
   "outputs": [],
   "source": []
  },
  {
   "cell_type": "markdown",
   "id": "dc20ce3c-f85c-4547-b0ca-891e9d96f597",
   "metadata": {},
   "source": [
    "### Using enumerate"
   ]
  },
  {
   "cell_type": "markdown",
   "id": "709be525-bade-4d20-8e59-1f874ffcb127",
   "metadata": {},
   "source": [
    "In manchen Fällen möchten wir gleichzeitig auf das Element und seine Indexposition in einer Liste zugreifen. Dies können wir mit der Funktion `enumerate()` erreichen. Erinnern Sie sich an die drei Listen aus dem Megacity-Beispiel. Die Informationen über jede Megastadt sind auf drei Listen verteilt, aber die Indizes werden von diesen Listen gemeinsam genutzt. Im Folgenden zählen wir die Megastädte auf, indem wir eine temporäre Variable für die Indexposition (i) und jedes Element (Stadt) erstellen und darüber iterieren. Wir verwenden diese Werte, um den Namen der Stadt zu drucken, und greifen dann über die Indexposition auf Informationen über Land und Stadtbevölkerung zu. Dies funktioniert natürlich nur, weil die Elemente in der Liste geordnet sind und in jeder Liste gemeinsam genutzt werden."
   ]
  },
  {
   "cell_type": "code",
   "execution_count": null,
   "id": "09b32b30-4498-4569-b19b-25805834e7a9",
   "metadata": {},
   "outputs": [],
   "source": [
    "for i, city in enumerate(megacities): \n",
    "    print(f'{city}, {countries[i]}, has {str(pop2018[i])} residents.')"
   ]
  },
  {
   "cell_type": "markdown",
   "id": "bace5c79-ee87-41cb-94cd-8a64f0057255",
   "metadata": {},
   "source": [
    "Wie bereits erwähnt, können wir beliebig viele Zeilen in den eingerückten Codeblock einer for-Schleife einfügen, wodurch unnötige Iterationen vermieden werden können. Wenn Sie viele Operationen mit Elementen in einer Liste von Tupeln durchführen müssen, ist es besser, die Datenstruktur einmal zu durchlaufen und alle erforderlichen Operationen durchzuführen, als die Liste mehrmals zu durchlaufen und jedes Mal nur eine kleine Anzahl von Operationen auszuführen. Je nachdem, was Sie erreichen wollen, möchten Sie vielleicht auch die temporären Objekte in Ihrer for-Schleife iterieren. Python erlaubt dies! Innerhalb des eingerückten Codeblocks Ihrer for-Schleife können Sie eine weitere for-Schleife einfügen (und eine weitere innerhalb dieser Schleife, und so weiter)."
   ]
  },
  {
   "cell_type": "markdown",
   "id": "f52b4441-8778-4155-9aa7-ccd6ff5d5d0f",
   "metadata": {},
   "source": [
    "### Tuples"
   ]
  },
  {
   "cell_type": "markdown",
   "id": "7fa285c6-076a-4ccd-aae7-20f31fc71cdb",
   "metadata": {},
   "source": [
    "In Python ist jedes Objekt entweder veränderlich oder unveränderlich. Wir haben gerade gezeigt, dass Listen in vielerlei Hinsicht veränderbar sind: Hinzufügen und Entfernen von Einträgen, Sortieren und so weiter. Jeder Datentyp in Python, bei dem man etwas an seiner Zusammensetzung ändern kann (Anzahl der Einträge, Werte der Einträge), ist veränderbar. Datentypen, die nach ihrer Instanziierung keine Änderungen zulassen, sind unveränderlich.    \n",
    "\n",
    "Ein Tupel ist eine geordnete, unveränderliche series von Objekten. Man kann sich Tupel als eine besondere Art von Liste vorstellen, die nach der Erstellung nicht mehr geändert werden kann. Syntaktisch gesehen werden die Werte in einem Tupel in `()` und nicht in `[]` gespeichert. Ein leeres Tupel kann auf ähnliche Weise wie eine Liste erzeugt werden:"
   ]
  },
  {
   "cell_type": "code",
   "execution_count": null,
   "id": "9f3dbacc-ae9b-4b60-8c87-7383653d4bf8",
   "metadata": {},
   "outputs": [],
   "source": [
    "my_empty_tuple_1 = () \n",
    "my_empty_tuple_2 = tuple()"
   ]
  },
  {
   "cell_type": "code",
   "execution_count": null,
   "id": "2d1b216e-8cdc-4e02-bb53-3d11d16012c1",
   "metadata": {},
   "outputs": [],
   "source": [
    "a_useful_tuple = (2, 7, 4)"
   ]
  },
  {
   "cell_type": "markdown",
   "id": "a2901525-492c-48cc-ac13-5784265d71e2",
   "metadata": {},
   "source": [
    "Mit den Funktionen `tuple()` und `list()` können wir leicht zwischen Tupeln und Listen konvertieren:"
   ]
  },
  {
   "cell_type": "code",
   "execution_count": null,
   "id": "34247671-6deb-4a04-a311-17aaaebf76ee",
   "metadata": {},
   "outputs": [],
   "source": [
    "print(type(countries)) "
   ]
  },
  {
   "cell_type": "code",
   "execution_count": null,
   "id": "05d52192-8302-4049-98f6-d59ce30afc12",
   "metadata": {},
   "outputs": [],
   "source": [
    "countries_tuple = tuple(countries) \n",
    "print(type(countries_tuple))"
   ]
  },
  {
   "cell_type": "markdown",
   "id": "a81e9771-707a-4faa-a8ea-199f87367a27",
   "metadata": {},
   "source": [
    "Es gibt viele Verwendungszwecke für Tupel: Wenn Sie unbedingt sicherstellen müssen, dass die Reihenfolge einer series von Objekten erhalten bleibt, verwenden Sie ein Tupel, um dies zu garantieren."
   ]
  },
  {
   "cell_type": "code",
   "execution_count": null,
   "id": "f73f76f3-24b1-49c9-ba36-c2c026e3bd6e",
   "metadata": {},
   "outputs": [],
   "source": [
    "countries_sorted = countries.copy() \n",
    "countries_sorted.sort() \n",
    "countries_sorted"
   ]
  },
  {
   "cell_type": "code",
   "execution_count": null,
   "id": "0c0529bc-8f9c-4d24-bfb3-8874dc5ee11d",
   "metadata": {},
   "outputs": [],
   "source": [
    "countries_tuple.sort()"
   ]
  },
  {
   "cell_type": "markdown",
   "id": "574c7526-199c-49b9-adf6-fa7802e946e9",
   "metadata": {},
   "source": [
    "### Dictionaries"
   ]
  },
  {
   "cell_type": "markdown",
   "id": "7b8e93fd-db7a-4de3-9c4b-18b42b85f1e5",
   "metadata": {},
   "source": [
    "Eine weitere Python-Datenstruktur, die Sie häufig sehen und verwenden werden, ist das Wörterbuch. Im Gegensatz zu Listen sind Wörterbücher dazu gedacht, zusammengehörige Informationen miteinander zu verbinden. Wörterbücher bieten einen flexiblen Ansatz für die Speicherung von Schlüssel-Wert-Paaren. Jeder Schlüssel muss ein unveränderliches Python-Objekt sein, z. B. eine ganze Zahl, ein Float, ein String oder ein Tupel, und es darf keine doppelten Schlüssel geben. Werte können jede Art von Objekt sein. Wir können auf Werte zugreifen, indem wir den entsprechenden Schlüssel angeben."
   ]
  },
  {
   "cell_type": "markdown",
   "id": "5100dcd5-59b3-4b28-95a1-26d6a34b3eae",
   "metadata": {},
   "source": [
    "Während bei Listen eckige Klammern `[]` und bei Tupeln runde Klammern `()` verwendet werden, werden in Pythons Dictionaries Schlüssel:Wert-Paare in geschweifte Klammern `{}` verpackt, wobei die Schlüssel und Werte durch einen Doppelpunkt `:` und jedes Paar durch ein `,` getrennt werden. Zum Beispiel,"
   ]
  },
  {
   "cell_type": "code",
   "execution_count": null,
   "id": "db222e25-07b4-4dd5-b5d9-9c2d183e845c",
   "metadata": {},
   "outputs": [],
   "source": []
  },
  {
   "cell_type": "markdown",
   "id": "ad9909f7-477e-4b2c-bf1e-55b07f61eddc",
   "metadata": {},
   "source": [
    "Bei der Erstellung eines Wörterbuchs können beliebig viele Schlüssel verwendet werden. Um schnell auf eine Liste aller Schlüssel im Wörterbuch zuzugreifen, können wir die Methode `.keys()` verwenden:"
   ]
  },
  {
   "cell_type": "code",
   "execution_count": null,
   "id": "42ddb91f-e0ec-43b8-a705-efabbf3b2cd8",
   "metadata": {},
   "outputs": [],
   "source": []
  },
  {
   "cell_type": "markdown",
   "id": "6741534a-a20f-422d-ae58-71887c40671f",
   "metadata": {},
   "source": [
    "Um auf einen bestimmten Wert in einem Wörterbuch zuzugreifen, geben wir den Namen des Wörterbuchobjekts gefolgt vom Namen des Schlüssels, auf dessen Wert wir zugreifen möchten, in eckigen Klammern und Anführungszeichen an. So greifen wir auf die Bevölkerung unseres Wörterbuchs tokyo zu:"
   ]
  },
  {
   "cell_type": "code",
   "execution_count": null,
   "id": "a8cb6d08-5e83-4bd1-a9d2-23d3f7e318d0",
   "metadata": {},
   "outputs": [],
   "source": []
  },
  {
   "cell_type": "markdown",
   "id": "9ff3ec8a-e215-4489-bc9a-b916b41892bf",
   "metadata": {},
   "source": [
    "Wie Listen können auch Wörterbücher während der Arbeit geändert werden. Wir können ein neues Schlüssel-Wert-Paar zu tokyo hinzufügen - z. B. die Bevölkerungsdichte des Großraums Tokio - und dabei dieselbe Syntax verwenden, die wir für den Verweis auf einen Schlüssel gelernt haben, nur dass wir auch einen Wert zuweisen. Da der Schlüssel, auf den wir verweisen, nicht im Wörterbuch vorhanden ist, weiß Python, dass wir ein neues Schlüssel-Wert-Paar erstellen und nicht ein altes durch einen neuen Wert ersetzen. Wenn wir das Wörterbuch ausdrucken, können wir sehen, dass unser neues Paar hinzugefügt wurde."
   ]
  },
  {
   "cell_type": "code",
   "execution_count": null,
   "id": "61d04e8a-1224-433b-a6df-a85b164ef74d",
   "metadata": {},
   "outputs": [],
   "source": []
  },
  {
   "cell_type": "markdown",
   "id": "d919d39f-f167-491a-a441-bdd0bbdca54b",
   "metadata": {},
   "source": [
    "In diesem Fall haben wir mit einem Wörterbuch begonnen, das bereits einige Schlüssel-Wert-Paare enthielt, als wir das Wörterbuch zum ersten Mal definierten. Wir hätten aber auch mit einem leeren Wörterbuch beginnen und es mit Hilfe der soeben erlernten Methode mit Schlüssel-Wert-Paaren füllen können."
   ]
  },
  {
   "cell_type": "code",
   "execution_count": null,
   "id": "6b999d36-351d-4cbe-ab8a-4ae4d6867be8",
   "metadata": {},
   "outputs": [],
   "source": []
  },
  {
   "cell_type": "markdown",
   "id": "96fab7f1-f1dc-4b97-b73d-6ab92c9e7e8c",
   "metadata": {},
   "source": [
    "### Nested data structures"
   ]
  },
  {
   "cell_type": "markdown",
   "id": "d6d354d6-069e-4d22-9ef2-dadac61bce38",
   "metadata": {},
   "source": [
    "Listen, Tupel und Wörterbücher können auf verschiedene Weise verschachtelt werden, einschließlich der Verwendung von Wörterbüchern als Elemente in einer Liste, Listen als Elemente in Listen und Listen als Elemente in Wörterbüchern. Andere Arten von verschachtelten Datenstrukturen sind ebenfalls möglich. Die Arbeit mit diesen verschachtelten Strukturen ist sehr einfach. Unabhängig von der Position des Wertes in der verschachtelten Datenstruktur können Sie die für diesen Typ geeigneten Methoden verwenden."
   ]
  },
  {
   "cell_type": "markdown",
   "id": "de765e52-329e-4591-b777-f4a1eb0b2c84",
   "metadata": {},
   "source": [
    "Wenn wir ein Wörterbuch haben, das Listen als Werte enthält, können wir auf die Werte zugreifen indem wir zunächst den key und dann den index subscripten."
   ]
  },
  {
   "cell_type": "code",
   "execution_count": null,
   "id": "39536c95-881f-45fe-b5f0-d2ebd90e7419",
   "metadata": {},
   "outputs": [],
   "source": [
    "japan = {} \n",
    "japan['cities'] = ['Tokyo', 'Yokohama', 'Osaka', 'Nagoya', 'Sapporo', 'Kobe', 'Kyoto', 'Fukuoka', 'Kawasaki', 'Saitama'] \n",
    "japan['populations'] = [37, 3.7, 8.81, 9.5, 2.7, 1.5, 1.47, 5.6, 1.5, 1.3] \n",
    "\n",
    "print(japan)"
   ]
  },
  {
   "cell_type": "code",
   "execution_count": null,
   "id": "a446ac78-ed16-4702-b991-a8c05577ffbd",
   "metadata": {},
   "outputs": [],
   "source": []
  },
  {
   "cell_type": "markdown",
   "id": "d25bd432-61c6-44af-8ea6-e891edaa0515",
   "metadata": {},
   "source": [
    "### Lists of dictionaries"
   ]
  },
  {
   "cell_type": "markdown",
   "id": "6281e8fa-526e-4ce1-9772-3fb3e58f2698",
   "metadata": {},
   "source": [
    "Wir können Wörterbücher auch als Elemente in einer Liste speichern. Zuvor haben wir die Wörterbücher tokyo und delhi erstellt. Beide enthalten die gleichen Schlüssel: Land und Bevölkerung. Das Hinzufügen dieser oder anderer Wörterbücher zu einer Liste ist ganz einfach. Zum Beispiel,"
   ]
  },
  {
   "cell_type": "code",
   "execution_count": null,
   "id": "6aad497a-0d29-439d-95ec-612c5cc99bb1",
   "metadata": {},
   "outputs": [],
   "source": []
  },
  {
   "cell_type": "code",
   "execution_count": null,
   "id": "03c07329-5f06-4844-8254-1d0858049c65",
   "metadata": {},
   "outputs": [],
   "source": []
  },
  {
   "cell_type": "code",
   "execution_count": null,
   "id": "dcbe2a96-ca85-41ae-b958-dd15ef90d3cd",
   "metadata": {},
   "outputs": [],
   "source": []
  },
  {
   "cell_type": "code",
   "execution_count": null,
   "id": "9b655537-5fe4-49b6-9a2e-71cc22e50248",
   "metadata": {},
   "outputs": [],
   "source": []
  },
  {
   "cell_type": "markdown",
   "id": "70d5ff32-bcf3-4f06-a622-627da022f0da",
   "metadata": {},
   "source": [
    "## 2. Custom functions"
   ]
  },
  {
   "cell_type": "markdown",
   "id": "c3f799ea-fd39-4b91-939b-9f942b2cc953",
   "metadata": {},
   "source": [
    "Bisher haben wir einige Funktionen verwendet, die in Python eingebaut sind, z. B. `print()` und `len()`. In diesen und anderen Fällen nehmen die eingebauten Funktionen eine Eingabe entgegen, führen einige Operationen durch und geben dann eine Ausgabe zurück. Wenn wir zum Beispiel der Funktion `len()` einen String übergeben, berechnet sie die Anzahl der Zeichen in diesem String und gibt eine ganze Zahl zurück:"
   ]
  },
  {
   "cell_type": "code",
   "execution_count": null,
   "id": "4019e60e-b586-4df5-8531-22e7d87debc6",
   "metadata": {},
   "outputs": [],
   "source": [
    "seoul = 'Seoul, South Korea' \n",
    "len(seoul)"
   ]
  },
  {
   "cell_type": "markdown",
   "id": "720dcbb0-76c2-4219-9deb-0257f5d86db8",
   "metadata": {},
   "source": [
    "Wir hätten die Länge des Strings auch ohne len() berechnen können, zum Beispiel"
   ]
  },
  {
   "cell_type": "code",
   "execution_count": null,
   "id": "90c78628-ae2d-411a-bab2-9096d41cf16f",
   "metadata": {},
   "outputs": [],
   "source": []
  },
  {
   "cell_type": "markdown",
   "id": "cdb5a9f6-27a1-4116-a872-a96a66a56ad3",
   "metadata": {},
   "source": [
    "Beide Teile des Codes berechnen die Länge des in `seoul` gespeicherten Strings, aber die Verwendung von `len()` vermeidet unnötige Arbeit. Wir verwenden Funktionen, um die Vorteile der Abstraktion zu nutzen: Wir wandeln wiederkehrende Aufgaben und Text in komprimierte und leicht zusammenzufassende Werkzeuge um. Moderne Software wie Python basiert auf Jahrzehnten der Abstraktion. Wir programmieren nicht in Binärform, weil wir diesen Prozess abstrahiert haben und zu höheren Sprachen und Funktionen übergegangen sind, die uns Zeit, Platz und Gehirnleistung sparen. Das ist es, was Sie anstreben sollten, wenn Sie Ihre eigenen Funktionen schreiben: Identifizieren Sie kleine Aufgaben oder Probleme, die Sie häufig wiederholen, und schreiben Sie eine gut benannte Funktion, die sie jedes Mal auf die gleiche Weise behandelt, so dass Sie Funktionen kombinieren können, um größere und komplexere Probleme anzugehen."
   ]
  },
  {
   "cell_type": "markdown",
   "id": "ed52e4f7-272c-4ab7-be50-611c421a6c9a",
   "metadata": {},
   "source": [
    "Stellen Sie sich eine Reihe von Operationen vor, die wir mehrfach anwenden müssen, jedes Mal mit einer anderen Eingabe. Sie beginnen damit, eine dieser Eingaben auszuwählen und den Code zu schreiben, der das gewünschte Endergebnis liefert. Wie geht es nun weiter? Eine Möglichkeit, die ich nicht empfehle, ist das Kopieren und Einfügen des Codes für jeden der Eingänge. Sobald Sie den Code kopiert haben, ändern Sie die Namen der Ein- und Ausgänge so, dass Sie für jeden Eingang den gewünschten Ausgang erhalten."
   ]
  },
  {
   "cell_type": "markdown",
   "id": "be4f9455-852a-4767-a05a-df2af308c939",
   "metadata": {},
   "source": [
    "Was passiert, wenn Sie ein Problem im Code entdecken oder ihn verbessern wollen? Sie müssen die relevanten Teile Ihres Codes an mehreren Stellen ändern, und jedes Mal riskieren Sie, etwas zu übersehen oder einen Fehler zu machen. Zu allem Überfluss ist das Skript viel länger als nötig, und die Abfolge der Operationen ist viel schwieriger zu verfolgen und auszuwerten."
   ]
  },
  {
   "cell_type": "markdown",
   "id": "cee495f6-c5c5-475f-96b8-a016cb1e25ea",
   "metadata": {},
   "source": [
    "Stattdessen könnten wir unsere eigenen Funktionen schreiben, mit denen wir Teile des Codes strategisch wiederverwenden können. Wenn wir ein Problem entdecken oder etwas ändern wollen, dann müssen wir die Änderung nur an einer Stelle vornehmen. Wenn wir unsere aktualisierte Funktion ausführen, wird sie zuverlässig die gewünschte neue Ausgabe erzeugen. Wir können unsere Funktionen in einem separaten Skript speichern und sie an anderer Stelle importieren, wodurch diese Skripte und Notizbücher übersichtlicher und leichter zu verstehen sind. Und wenn wir gute beschreibende Namen für unsere Funktionen verwenden - etwas, das wir später besprechen werden -, dann können wir von den Details auf niedriger Ebene abstrahieren und uns auf die übergeordneten Details dessen konzentrieren, was wir zu tun versuchen. Das ist immer eine gute Idee, aber es ist besonders hilfreich, wenn nicht sogar unerlässlich, wenn man an großen Projekten arbeitet."
   ]
  },
  {
   "cell_type": "markdown",
   "id": "c1e98595-ccca-45de-a1f4-5ddbea52eddd",
   "metadata": {},
   "source": [
    "Das Schreiben eigener Funktionen ist also eine sehr leistungsfähige Methode, um unseren Code aufzuteilen und zu organisieren. Es bietet uns viele der gleichen Vorteile wie die Verwendung von eingebauten Funktionen oder Funktionen aus anderen Paketen, aber auch ein paar zusätzliche Vorteile:"
   ]
  },
  {
   "cell_type": "markdown",
   "id": "a9a62fe1-929d-49d3-994b-2dc26bad3557",
   "metadata": {},
   "source": [
    "- Wiederverwendbar - machen Sie keine Arbeit, die bereits erledigt wurde \n",
    "- Abstraktion - abstrahieren Sie Details auf niedriger Ebene, damit Sie sich auf Konzepte und Logik auf höherer Ebene konzentrieren können \n",
    "- Reduzieren Sie das Fehlerpotenzial - wenn Sie einen Fehler finden, brauchen Sie ihn nur an einer Stelle zu beheben \n",
    "- Kürzere und besser lesbare Skripte - viel einfacher zu lesen, zu verstehen und zu bewerten"
   ]
  },
  {
   "cell_type": "markdown",
   "id": "b3ba9008-10e1-409b-a981-1852f45f045d",
   "metadata": {},
   "source": [
    "### Writing custom functions"
   ]
  },
  {
   "cell_type": "markdown",
   "id": "9d6e5752-fe9a-4f7a-b8c8-cd1672525a8b",
   "metadata": {},
   "source": [
    "Um eine Funktion in Python zu definieren, beginnt man mit dem Schlüsselwort `def`, gefolgt vom Namen der Funktion, Klammern mit den Argumenten, die die Funktion annehmen soll, und einem `:`. Der gesamte Code, der ausgeführt wird, wenn die Funktion aufgerufen wird, ist in einem eingerückten Block enthalten. Im Folgenden definieren wir eine Funktion namens `welcome()`, die einen Namen annimmt und eine Begrüßung ausgibt:"
   ]
  },
  {
   "cell_type": "code",
   "execution_count": null,
   "id": "21e973a9-d4fe-4217-a8ea-928530afd71b",
   "metadata": {},
   "outputs": [],
   "source": []
  },
  {
   "cell_type": "markdown",
   "id": "9280380a-e44f-4215-94e1-9a51a697e542",
   "metadata": {},
   "source": [
    "In diesem Fall gibt die Funktion einen neuen String auf dem Bildschirm aus. Das kann zwar nützlich sein, aber in den meisten Fällen wollen wir etwas mit der Eingabe machen und dann eine andere Ausgabe zurückgeben. Wenn eine Funktion, aus welchem Grund auch immer, keine Ausgabe zurückgibt, gibt sie trotzdem None zurück, wie die Methode .sort()."
   ]
  },
  {
   "cell_type": "code",
   "execution_count": null,
   "id": "c593c2b2-4605-4375-8581-cb683cb76812",
   "metadata": {},
   "outputs": [],
   "source": []
  },
  {
   "cell_type": "code",
   "execution_count": null,
   "id": "2b162ecb-9a83-465d-afda-0c928c96380f",
   "metadata": {},
   "outputs": [],
   "source": []
  },
  {
   "cell_type": "markdown",
   "id": "b4d6790f-8cca-48c8-9ee0-1c1151008f39",
   "metadata": {},
   "source": [
    "<div class='alert alert-block alert-success'>\n",
    "\n",
    "### Aufgabe 2\n",
    "\n",
    "--> session_03_excercise_2.ipynb\n",
    "\n",
    "</div>"
   ]
  },
  {
   "cell_type": "markdown",
   "id": "db891724-c23b-4999-a01b-467ee197db64",
   "metadata": {},
   "source": [
    "## 3. Datenmanagement mit Pandas"
   ]
  },
  {
   "cell_type": "markdown",
   "id": "1d9be2c4-c283-46d7-bb4a-767d3e0bdbc9",
   "metadata": {},
   "source": [
    "Nun verwenden wir Python nicht mehr als allgemeine Programmiersprache, sondern zur Verarbeitung von Daten mit Hilfe spezieller Datenverwaltungs- und -analysepakete. Wir werden uns in erster Linie auf ein Paket namens *Pandas* stützen. Pandas wurde von Wes McKinney für die Analyse von Paneldaten entwickelt (daher der Name). Es verfügt über spezielle Datenstrukturen, Funktionen und Methoden, mit denen Sie die meisten Datenverarbeitungsvorgänge für strukturierte quantitative Daten erledigen können."
   ]
  },
  {
   "cell_type": "markdown",
   "id": "539eee3d-21fa-4442-8b75-81456308b64f",
   "metadata": {},
   "source": [
    "Pandas Dokumentation: https://pandas.pydata.org/docs/reference/index.html"
   ]
  },
  {
   "cell_type": "markdown",
   "id": "c535d97f-5482-483c-b515-07c456c1608a",
   "metadata": {},
   "source": [
    "### Import"
   ]
  },
  {
   "cell_type": "code",
   "execution_count": null,
   "id": "a3792c2b-68ac-4f4e-91a4-4a32a1f73707",
   "metadata": {},
   "outputs": [],
   "source": []
  },
  {
   "cell_type": "markdown",
   "id": "d933aa8b-6a55-4d87-a3c3-bf0cde71883d",
   "metadata": {},
   "source": [
    "### Datenimport mit pandas"
   ]
  },
  {
   "cell_type": "markdown",
   "id": "ca64e403-fd6e-4503-9066-fe71d8315995",
   "metadata": {},
   "source": [
    "Das Pandas-Paket macht es einfach, Daten aus einer externen Datei direkt in ein Dataframe-Objekt zu laden."
   ]
  },
  {
   "cell_type": "markdown",
   "id": "35f8f50d-516c-4e0b-9005-f463094fa145",
   "metadata": {},
   "source": [
    "| Datentyp | Reader | Writer |\n",
    "|----------|----------|----------|\n",
    "| CSV    | `read_csv()`   | `to_csv()`   |\n",
    "| JSON    | `read_json()`   | `to_json()`   |\n",
    "| Stata   | `read_stata()`   | `to_stata()`   |\n",
    "| SAS   | `read_sas()`   | NA   |\n",
    "| SPSS   | `read_spss()`   | NA   |\n"
   ]
  },
  {
   "cell_type": "markdown",
   "id": "e863a46b-ca70-4ee5-867a-250416c7f3f9",
   "metadata": {},
   "source": [
    "In diesem Kapitel werden Daten aus dem VDEM-Datensatz (Varieties of Democracy) verwendet. VDEM ist ein laufendes Forschungsprojekt zur Messung des Niveaus der Demokratie in Regierungen auf der ganzen Welt, und es werden laufend aktualisierte Versionen des Datensatzes veröffentlicht. Die Forschung wird von einem Team aus mehr als 50 Sozialwissenschaftlern geleitet, die die Sammlung und Analyse von Experteneinschätzungen von mehr als 3200 Historikern und Länderexperten koordinieren. Auf der Grundlage dieser Einschätzungen hat das VDEM-Projekt eine bemerkenswert komplexe Reihe von Indikatoren entwickelt, die sich an fünf übergeordneten Facetten der Demokratie orientieren: Wahldemokratie, liberale Demokratie, partizipative Demokratie, deliberative Demokratie und egalitäre Demokratie. Der Datensatz reicht bis ins Jahr 1789 zurück und gilt als Goldstandard für quantitative Daten über globale demokratische Entwicklungen.  \n",
    "\n",
    "Das Codebuch finden Sie hier: https://v-dem.net/documents/24/codebook_v13.pdf"
   ]
  },
  {
   "cell_type": "code",
   "execution_count": null,
   "id": "06502fab-a5e8-444f-9f84-8fea3d5690b0",
   "metadata": {
    "scrolled": true
   },
   "outputs": [],
   "source": []
  },
  {
   "cell_type": "code",
   "execution_count": null,
   "id": "a6d2c349-849c-4de9-b450-9f51df0886db",
   "metadata": {},
   "outputs": [],
   "source": []
  },
  {
   "cell_type": "markdown",
   "id": "a34513fb-f73d-4d63-83a7-59bb2d330418",
   "metadata": {},
   "source": [
    "Wie viele Zeilen und Spalten? Das geht mit der `.shape` Methode."
   ]
  },
  {
   "cell_type": "code",
   "execution_count": null,
   "id": "1453c9d8-6c6a-4de3-86fc-6202ad29d28b",
   "metadata": {},
   "outputs": [],
   "source": []
  },
  {
   "cell_type": "markdown",
   "id": "375438d1-55b7-495a-8421-383c4ec4e39f",
   "metadata": {},
   "source": [
    "Welche Variablen benötigen wir? Wir wählen Spalten in einem DataFrame aus, indem wir den DataFrame aufrufen gefolt mit einer Liste in eckigen Klammern, die die Namen der Spalten enthält."
   ]
  },
  {
   "cell_type": "markdown",
   "id": "f4be09ba-5077-42be-8a66-3b370d25d800",
   "metadata": {},
   "source": [
    "Wir können die Namen der Spalten (columns) mithilfe des Attributs `.columns` für den DataFrame ausdrucken:"
   ]
  },
  {
   "cell_type": "code",
   "execution_count": null,
   "id": "e683712a-6a83-4bd9-a1ae-f6dbd82a86cf",
   "metadata": {},
   "outputs": [],
   "source": []
  },
  {
   "cell_type": "markdown",
   "id": "9431dd3b-b1fc-4b93-94b2-a325e82f763f",
   "metadata": {},
   "source": [
    "In diesem Fall möchten wir die folgenden Variablen behalten: \n",
    "\n",
    "1. den Ländernamen \n",
    "2. die Länder-ID \n",
    "3. die geografische Region \n",
    "4. Die Länder-ID \n",
    "3. die geographische Region \n",
    "4. Das Jahr 5. Der Polyarchie-Index \n",
    "6. Der Index der liberalen Demokratie\n",
    "7. Der Index der partizipativen Demokratie \n",
    "8. Der Index der deliberativen Demokratie \n",
    "9. Der Index der egalitären Demokratie \n",
    "10. Ob die Privatsphäre der Internetnutzer und ihre Daten rechtlich geschützt sind \n",
    "11. Wie polarisiert das Land in politischen Fragen ist \n",
    "12. Ausmaß der politischen Gewalt \n",
    "13. Ob das Land eine Demokratie ist oder nicht \n"
   ]
  },
  {
   "cell_type": "code",
   "execution_count": null,
   "id": "f531eed1-ca07-478c-8480-99e060d9de09",
   "metadata": {},
   "outputs": [],
   "source": [
    "subset_vars = ['country_name', 'country_text_id', 'e_regiongeo', \n",
    "               'year', 'v2x_polyarchy', 'v2x_libdem', 'v2x_partipdem', \n",
    "               'v2x_delibdem', 'v2x_egaldem', 'v2smprivex', 'v2smpolsoc', \n",
    "               'v2caviol', 'e_boix_regime']\n",
    "\n"
   ]
  },
  {
   "cell_type": "code",
   "execution_count": null,
   "id": "f22650fd-08d5-4b77-b3d8-5b2410c6ae8c",
   "metadata": {},
   "outputs": [],
   "source": []
  },
  {
   "cell_type": "code",
   "execution_count": null,
   "id": "46665d88-57be-4e00-9d8e-e45f6678c175",
   "metadata": {},
   "outputs": [],
   "source": []
  },
  {
   "cell_type": "markdown",
   "id": "bb99c474-a749-46ee-993f-f51418c8f68c",
   "metadata": {},
   "source": [
    "### Was ist im DataFrame?\n",
    "\n",
    "Mit der Methode `.info()` können wir die Gesamtzahl der Beobachtungen, die Gesamtzahl der Spalten, die Namen der Spalten, die Anzahl der nicht fehlenden Beobachtungen für jede Variable, den Datentyp für jede Variable, die Anzahl der Variablen, die Daten jedes Typs enthalten (z. B. Ganzzahlen und Fließkommazahlen), und die Gesamtmenge des vom DataFrame verwendeten Speichers anzeigen:"
   ]
  },
  {
   "cell_type": "code",
   "execution_count": null,
   "id": "8f03981e-3079-4985-a9b6-929373f9daf9",
   "metadata": {},
   "outputs": [],
   "source": []
  },
  {
   "cell_type": "markdown",
   "id": "2fcfbf4b-72c9-4cc1-8031-13419052cae6",
   "metadata": {},
   "source": [
    "Die Datentypen in diesem Datenrahmen sind float64 (Zahlen mit Nachkommastellen), int64 (Ganzzahlen) und object. In Pandas bezieht sich object auf Spalten, die Strings oder gemischte Typen wie Strings und Integers enthalten (object umfasst auch viele andere Dinge: es ist eine Sammelkategorie). Pandas kann auch mit Booleans (Wahr oder Falsch), kategorischen Variablen und einigen speziellen Datetime-Objekten arbeiten. Erinnern Sie sich daran, wie wir die Spalten für unser Dataset ausgewählt haben. Im folgenden Code verwende ich dieselbe Idee, um nur einige wenige Variablen anzuzeigen. Wir werden dies später in diesem Kapitel noch etwas genauer erklären."
   ]
  },
  {
   "cell_type": "markdown",
   "id": "115ca60a-a2a7-45fe-9480-3f388ce084d7",
   "metadata": {},
   "source": [
    "Wir können auch die Methode `.describe()` verwenden, um zusammenfassende Informationen über die quantitativen Variablen in unserem Datensatz zu erhalten, einschließlich der Anzahl der nicht fehlenden Informationen, des Mittelwerts und der Standardabweichung.\n"
   ]
  },
  {
   "cell_type": "code",
   "execution_count": null,
   "id": "e53107fc-34e6-49fd-91da-870eb03bcecd",
   "metadata": {},
   "outputs": [],
   "source": []
  },
  {
   "cell_type": "markdown",
   "id": "69176d08-57e0-46ba-a59e-3382e6eac81b",
   "metadata": {},
   "source": [
    "### Heads, tails, and samples"
   ]
  },
  {
   "cell_type": "markdown",
   "id": "89fb425a-800f-49f5-9053-4daa6aeed105",
   "metadata": {},
   "source": [
    "Wir können auch den \"Kopf\" oder das \"Ende\" unseres Datenrahmens mit den Methoden `.head() ` und `.tail()` untersuchen, die standardmäßig die ersten oder letzten fünf Zeilen in einem DataFrame verwenden, es sei denn, Sie geben eine andere Zahl als Argument an, wie z. B. `.head(10)`:"
   ]
  },
  {
   "cell_type": "code",
   "execution_count": null,
   "id": "ebce73cf-4a18-480c-8998-1e17703a276d",
   "metadata": {},
   "outputs": [],
   "source": []
  },
  {
   "cell_type": "code",
   "execution_count": null,
   "id": "b3b58c99-a99c-4c56-acf6-34a3d64bab23",
   "metadata": {},
   "outputs": [],
   "source": []
  },
  {
   "cell_type": "markdown",
   "id": "2e392366-c98c-4c33-81bc-78efa65f4270",
   "metadata": {},
   "source": [
    "Wenn Sie eine Zufallsstichprobe von Zeilen bevorzugen, können Sie die Methode `.sample()` verwenden, bei der Sie die Anzahl der Zeilen angeben müssen, die Sie abfragen möchten:"
   ]
  },
  {
   "cell_type": "code",
   "execution_count": null,
   "id": "c866c43b-0f6e-4baf-a7e6-d777026f4eb0",
   "metadata": {},
   "outputs": [],
   "source": []
  },
  {
   "cell_type": "markdown",
   "id": "416db6a2-de43-4f60-869d-27a53bf378be",
   "metadata": {},
   "source": [
    "### Zeilen filtern"
   ]
  },
  {
   "cell_type": "markdown",
   "id": "94a8d2ae-d93d-4dda-b58d-6b82ac5e8040",
   "metadata": {},
   "source": [
    "Bei der Ausführung der Methode `.describe()` haben Sie vielleicht bemerkt, dass der Bereich für die Jahresvariable 1789-2019 ist. Angenommen, wir haben einen guten Grund, uns auf die Jahre von 1900 bis 2019 zu konzentrieren. Dann müssen wir die Daten filtern, um nur die Zeilen zu erhalten, die unseren Anforderungen entsprechen. Es gibt mehrere Möglichkeiten, Zeilen zu filtern, einschließlich Slices (z. B. alle Beobachtungen zwischen Index i und Index j) oder nach einer expliziten Bedingung, wie z. B. \"Zeilen, in denen das Jahr >= 1900\". Beachten Sie, dass, wenn wir einen DataFrame filtern oder zerschneiden, das neue Objekt nur eine Ansicht des Originals ist und sich immer noch auf die gleichen Daten bezieht. Pandas warnt uns, wenn wir versuchen, das gefilterte Objekt zu verändern, so dass es in den meisten Fällen einfacher ist, eine neue Kopie zu erstellen."
   ]
  },
  {
   "cell_type": "code",
   "execution_count": null,
   "id": "03f114c9-94c6-468c-bd1b-f63087672d48",
   "metadata": {},
   "outputs": [],
   "source": []
  },
  {
   "cell_type": "markdown",
   "id": "b736466e-450f-4d27-a87a-e089540432df",
   "metadata": {},
   "source": [
    "### Schreiben von Dateien"
   ]
  },
  {
   "cell_type": "markdown",
   "id": "522d29d1-4ab0-4c10-a9bd-a237b2a8c439",
   "metadata": {},
   "source": [
    "So wie wir unsere ursprüngliche CSV-Datei mit der Funktion `read_csv()` in Pandas eingelesen habe, können wir diesen neuen Dataframe mit der Methode `to_csv()` auch wieder schreiben:"
   ]
  },
  {
   "cell_type": "code",
   "execution_count": null,
   "id": "6e4904a9-6cd4-4a98-a596-40e555b9cedb",
   "metadata": {},
   "outputs": [],
   "source": []
  },
  {
   "cell_type": "markdown",
   "id": "080de2b6-7bf8-4136-bcf2-19539666c3f6",
   "metadata": {},
   "source": [
    "<div class='alert alert-block alert-success'>\n",
    "\n",
    "### Aufgabe 3\n",
    "\n",
    "--> session_03_excercise_3.ipynb\n",
    "\n",
    "</div>"
   ]
  }
 ],
 "metadata": {
  "kernelspec": {
   "display_name": "Python [conda env:python_course]",
   "language": "python",
   "name": "conda-env-python_course-py"
  },
  "language_info": {
   "codemirror_mode": {
    "name": "ipython",
    "version": 3
   },
   "file_extension": ".py",
   "mimetype": "text/x-python",
   "name": "python",
   "nbconvert_exporter": "python",
   "pygments_lexer": "ipython3",
   "version": "3.9.19"
  }
 },
 "nbformat": 4,
 "nbformat_minor": 5
}
